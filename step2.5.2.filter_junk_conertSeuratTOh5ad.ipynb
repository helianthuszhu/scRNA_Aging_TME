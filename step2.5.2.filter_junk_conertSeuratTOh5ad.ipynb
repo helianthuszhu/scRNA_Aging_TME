{
 "cells": [
  {
   "cell_type": "code",
   "execution_count": 2,
   "id": "immune-dialogue",
   "metadata": {},
   "outputs": [],
   "source": [
    "suppressPackageStartupMessages({\n",
    "    library(\"reticulate\")\n",
    "    library(\"ggplot2\")\n",
    "    #library(\"scater\")\n",
    "    library(\"Seurat\")\n",
    "})\n",
    "sc <- import(\"scanpy\")"
   ]
  },
  {
   "cell_type": "code",
   "execution_count": 3,
   "id": "referenced-presence",
   "metadata": {},
   "outputs": [],
   "source": [
    "#sce=readRDS('output2_step2.5.filter_junk/')\n",
    "load('output2_step2.5.filter_junk/TotalTissue.combined_fil.RData')"
   ]
  },
  {
   "cell_type": "code",
   "execution_count": 4,
   "id": "impressive-religion",
   "metadata": {},
   "outputs": [],
   "source": [
    "sce=TotalTissue.combined_fil"
   ]
  },
  {
   "cell_type": "code",
   "execution_count": 11,
   "id": "pleasant-cradle",
   "metadata": {},
   "outputs": [],
   "source": [
    "exprs <- GetAssayData(sce)\n",
    "meta <- sce[[]]\n",
    "feature_meta <- GetAssay(sce)[[]]\n",
    "#embedding <- Embeddings(sce, \"umap\")\n",
    "\n",
    "aa=as.data.frame(as.matrix(exprs))\n",
    "aa=t(aa)"
   ]
  },
  {
   "cell_type": "code",
   "execution_count": 12,
   "id": "cardiovascular-holocaust",
   "metadata": {
    "scrolled": true
   },
   "outputs": [
    {
     "data": {
      "text/html": [
       "<table class=\"dataframe\">\n",
       "<caption>A data.frame: 6 × 28</caption>\n",
       "<thead>\n",
       "\t<tr><th></th><th scope=col>orig_ident</th><th scope=col>nCount_RNA</th><th scope=col>nFeature_RNA</th><th scope=col>Index</th><th scope=col>Sample</th><th scope=col>percent_mt</th><th scope=col>percent_rb</th><th scope=col>Cell_type</th><th scope=col>Cell_type_refined</th><th scope=col>Cell_subtype</th><th scope=col>⋯</th><th scope=col>Phase</th><th scope=col>old_ident</th><th scope=col>CC_Difference</th><th scope=col>Cell_subtype_unimodel</th><th scope=col>Cell_type_unimodel</th><th scope=col>UMAP_Clusters_harmony_overclustered</th><th scope=col>scrubletScore_default</th><th scope=col>scrublet_predict_default</th><th scope=col>scrubletScore_n30</th><th scope=col>scrublet_predict_n30</th></tr>\n",
       "\t<tr><th></th><th scope=col>&lt;chr&gt;</th><th scope=col>&lt;dbl&gt;</th><th scope=col>&lt;int&gt;</th><th scope=col>&lt;chr&gt;</th><th scope=col>&lt;chr&gt;</th><th scope=col>&lt;dbl&gt;</th><th scope=col>&lt;dbl&gt;</th><th scope=col>&lt;chr&gt;</th><th scope=col>&lt;chr&gt;</th><th scope=col>&lt;chr&gt;</th><th scope=col>⋯</th><th scope=col>&lt;chr&gt;</th><th scope=col>&lt;fct&gt;</th><th scope=col>&lt;dbl&gt;</th><th scope=col>&lt;chr&gt;</th><th scope=col>&lt;chr&gt;</th><th scope=col>&lt;fct&gt;</th><th scope=col>&lt;dbl&gt;</th><th scope=col>&lt;chr&gt;</th><th scope=col>&lt;dbl&gt;</th><th scope=col>&lt;chr&gt;</th></tr>\n",
       "</thead>\n",
       "<tbody>\n",
       "\t<tr><th scope=row>AAACCTGAGACGACGT_LUNG_T34</th><td>pubsce</td><td>4413</td><td>1259</td><td>AAACCTGAGACGACGT_LUNG_T34</td><td>LUNG_T34</td><td> 5.3472376</td><td>42.289771</td><td>B lymphocytes   </td><td>B lymphocytes   </td><td>Follicular B cells</td><td>⋯</td><td>G2M</td><td>LUNG_T34</td><td>-0.044121300</td><td>Follicular B cells</td><td>B lymphocytes   </td><td>363</td><td>0.05050505</td><td>False</td><td>0.06187625</td><td>False</td></tr>\n",
       "\t<tr><th scope=row>AAACCTGAGACGCTTT_LUNG_T18</th><td>pubsce</td><td>5243</td><td> 867</td><td>AAACCTGAGACGCTTT_LUNG_T18</td><td>LUNG_T18</td><td> 0.1883594</td><td> 1.130156</td><td>Epithelial cells</td><td>Epithelial cells</td><td>tS2               </td><td>⋯</td><td>G1 </td><td>LUNG_T18</td><td>-0.004011074</td><td>tS2               </td><td>Epithelial cells</td><td>454</td><td>0.06560636</td><td>False</td><td>0.05908944</td><td>False</td></tr>\n",
       "\t<tr><th scope=row>AAACCTGAGATATGCA_LUNG_T25</th><td>pubsce</td><td>2608</td><td> 950</td><td>AAACCTGAGATATGCA_LUNG_T25</td><td>LUNG_T25</td><td> 4.9549550</td><td>33.108108</td><td>T lymphocytes   </td><td>T/NK cells      </td><td>CD4+ Th           </td><td>⋯</td><td>G1 </td><td>LUNG_T25</td><td> 0.027125065</td><td>CD4+ Th           </td><td>T/NK cells      </td><td>271</td><td>0.10521042</td><td>False</td><td>0.09739369</td><td>False</td></tr>\n",
       "\t<tr><th scope=row>AAACCTGAGATGTCGG_LUNG_T31</th><td>pubsce</td><td>2977</td><td>1145</td><td>AAACCTGAGATGTCGG_LUNG_T31</td><td>LUNG_T31</td><td> 7.1781363</td><td>15.739216</td><td>Epithelial cells</td><td>Epithelial cells</td><td>tS1               </td><td>⋯</td><td>G1 </td><td>LUNG_T31</td><td>-0.050294872</td><td>tS1               </td><td>Epithelial cells</td><td>12 </td><td>0.08457201</td><td>False</td><td>0.10922693</td><td>False</td></tr>\n",
       "\t<tr><th scope=row>AAACCTGAGCGCTTAT_LUNG_T19</th><td>pubsce</td><td>4953</td><td>1470</td><td>AAACCTGAGCGCTTAT_LUNG_T19</td><td>LUNG_T19</td><td> 4.8828510</td><td>18.921047</td><td>Myeloid cells   </td><td>Myeloid cells   </td><td>Monocytes         </td><td>⋯</td><td>G2M</td><td>LUNG_T19</td><td>-0.002484711</td><td>Monocytes         </td><td>Myeloid cells   </td><td>263</td><td>0.06500888</td><td>False</td><td>0.06798867</td><td>False</td></tr>\n",
       "\t<tr><th scope=row>AAACCTGAGCTACCTA_LUNG_T34</th><td>pubsce</td><td>5211</td><td>1466</td><td>AAACCTGAGCTACCTA_LUNG_T34</td><td>LUNG_T34</td><td>14.2373519</td><td>21.177356</td><td>Epithelial cells</td><td>Epithelial cells</td><td>tS2               </td><td>⋯</td><td>G1 </td><td>LUNG_T34</td><td> 0.001749123</td><td>tS2               </td><td>Epithelial cells</td><td>143</td><td>0.01979144</td><td>False</td><td>0.02196532</td><td>False</td></tr>\n",
       "</tbody>\n",
       "</table>\n"
      ],
      "text/latex": [
       "A data.frame: 6 × 28\n",
       "\\begin{tabular}{r|lllllllllllllllllllll}\n",
       "  & orig\\_ident & nCount\\_RNA & nFeature\\_RNA & Index & Sample & percent\\_mt & percent\\_rb & Cell\\_type & Cell\\_type\\_refined & Cell\\_subtype & ⋯ & Phase & old\\_ident & CC\\_Difference & Cell\\_subtype\\_unimodel & Cell\\_type\\_unimodel & UMAP\\_Clusters\\_harmony\\_overclustered & scrubletScore\\_default & scrublet\\_predict\\_default & scrubletScore\\_n30 & scrublet\\_predict\\_n30\\\\\n",
       "  & <chr> & <dbl> & <int> & <chr> & <chr> & <dbl> & <dbl> & <chr> & <chr> & <chr> & ⋯ & <chr> & <fct> & <dbl> & <chr> & <chr> & <fct> & <dbl> & <chr> & <dbl> & <chr>\\\\\n",
       "\\hline\n",
       "\tAAACCTGAGACGACGT\\_LUNG\\_T34 & pubsce & 4413 & 1259 & AAACCTGAGACGACGT\\_LUNG\\_T34 & LUNG\\_T34 &  5.3472376 & 42.289771 & B lymphocytes    & B lymphocytes    & Follicular B cells & ⋯ & G2M & LUNG\\_T34 & -0.044121300 & Follicular B cells & B lymphocytes    & 363 & 0.05050505 & False & 0.06187625 & False\\\\\n",
       "\tAAACCTGAGACGCTTT\\_LUNG\\_T18 & pubsce & 5243 &  867 & AAACCTGAGACGCTTT\\_LUNG\\_T18 & LUNG\\_T18 &  0.1883594 &  1.130156 & Epithelial cells & Epithelial cells & tS2                & ⋯ & G1  & LUNG\\_T18 & -0.004011074 & tS2                & Epithelial cells & 454 & 0.06560636 & False & 0.05908944 & False\\\\\n",
       "\tAAACCTGAGATATGCA\\_LUNG\\_T25 & pubsce & 2608 &  950 & AAACCTGAGATATGCA\\_LUNG\\_T25 & LUNG\\_T25 &  4.9549550 & 33.108108 & T lymphocytes    & T/NK cells       & CD4+ Th            & ⋯ & G1  & LUNG\\_T25 &  0.027125065 & CD4+ Th            & T/NK cells       & 271 & 0.10521042 & False & 0.09739369 & False\\\\\n",
       "\tAAACCTGAGATGTCGG\\_LUNG\\_T31 & pubsce & 2977 & 1145 & AAACCTGAGATGTCGG\\_LUNG\\_T31 & LUNG\\_T31 &  7.1781363 & 15.739216 & Epithelial cells & Epithelial cells & tS1                & ⋯ & G1  & LUNG\\_T31 & -0.050294872 & tS1                & Epithelial cells & 12  & 0.08457201 & False & 0.10922693 & False\\\\\n",
       "\tAAACCTGAGCGCTTAT\\_LUNG\\_T19 & pubsce & 4953 & 1470 & AAACCTGAGCGCTTAT\\_LUNG\\_T19 & LUNG\\_T19 &  4.8828510 & 18.921047 & Myeloid cells    & Myeloid cells    & Monocytes          & ⋯ & G2M & LUNG\\_T19 & -0.002484711 & Monocytes          & Myeloid cells    & 263 & 0.06500888 & False & 0.06798867 & False\\\\\n",
       "\tAAACCTGAGCTACCTA\\_LUNG\\_T34 & pubsce & 5211 & 1466 & AAACCTGAGCTACCTA\\_LUNG\\_T34 & LUNG\\_T34 & 14.2373519 & 21.177356 & Epithelial cells & Epithelial cells & tS2                & ⋯ & G1  & LUNG\\_T34 &  0.001749123 & tS2                & Epithelial cells & 143 & 0.01979144 & False & 0.02196532 & False\\\\\n",
       "\\end{tabular}\n"
      ],
      "text/markdown": [
       "\n",
       "A data.frame: 6 × 28\n",
       "\n",
       "| <!--/--> | orig_ident &lt;chr&gt; | nCount_RNA &lt;dbl&gt; | nFeature_RNA &lt;int&gt; | Index &lt;chr&gt; | Sample &lt;chr&gt; | percent_mt &lt;dbl&gt; | percent_rb &lt;dbl&gt; | Cell_type &lt;chr&gt; | Cell_type_refined &lt;chr&gt; | Cell_subtype &lt;chr&gt; | ⋯ ⋯ | Phase &lt;chr&gt; | old_ident &lt;fct&gt; | CC_Difference &lt;dbl&gt; | Cell_subtype_unimodel &lt;chr&gt; | Cell_type_unimodel &lt;chr&gt; | UMAP_Clusters_harmony_overclustered &lt;fct&gt; | scrubletScore_default &lt;dbl&gt; | scrublet_predict_default &lt;chr&gt; | scrubletScore_n30 &lt;dbl&gt; | scrublet_predict_n30 &lt;chr&gt; |\n",
       "|---|---|---|---|---|---|---|---|---|---|---|---|---|---|---|---|---|---|---|---|---|---|\n",
       "| AAACCTGAGACGACGT_LUNG_T34 | pubsce | 4413 | 1259 | AAACCTGAGACGACGT_LUNG_T34 | LUNG_T34 |  5.3472376 | 42.289771 | B lymphocytes    | B lymphocytes    | Follicular B cells | ⋯ | G2M | LUNG_T34 | -0.044121300 | Follicular B cells | B lymphocytes    | 363 | 0.05050505 | False | 0.06187625 | False |\n",
       "| AAACCTGAGACGCTTT_LUNG_T18 | pubsce | 5243 |  867 | AAACCTGAGACGCTTT_LUNG_T18 | LUNG_T18 |  0.1883594 |  1.130156 | Epithelial cells | Epithelial cells | tS2                | ⋯ | G1  | LUNG_T18 | -0.004011074 | tS2                | Epithelial cells | 454 | 0.06560636 | False | 0.05908944 | False |\n",
       "| AAACCTGAGATATGCA_LUNG_T25 | pubsce | 2608 |  950 | AAACCTGAGATATGCA_LUNG_T25 | LUNG_T25 |  4.9549550 | 33.108108 | T lymphocytes    | T/NK cells       | CD4+ Th            | ⋯ | G1  | LUNG_T25 |  0.027125065 | CD4+ Th            | T/NK cells       | 271 | 0.10521042 | False | 0.09739369 | False |\n",
       "| AAACCTGAGATGTCGG_LUNG_T31 | pubsce | 2977 | 1145 | AAACCTGAGATGTCGG_LUNG_T31 | LUNG_T31 |  7.1781363 | 15.739216 | Epithelial cells | Epithelial cells | tS1                | ⋯ | G1  | LUNG_T31 | -0.050294872 | tS1                | Epithelial cells | 12  | 0.08457201 | False | 0.10922693 | False |\n",
       "| AAACCTGAGCGCTTAT_LUNG_T19 | pubsce | 4953 | 1470 | AAACCTGAGCGCTTAT_LUNG_T19 | LUNG_T19 |  4.8828510 | 18.921047 | Myeloid cells    | Myeloid cells    | Monocytes          | ⋯ | G2M | LUNG_T19 | -0.002484711 | Monocytes          | Myeloid cells    | 263 | 0.06500888 | False | 0.06798867 | False |\n",
       "| AAACCTGAGCTACCTA_LUNG_T34 | pubsce | 5211 | 1466 | AAACCTGAGCTACCTA_LUNG_T34 | LUNG_T34 | 14.2373519 | 21.177356 | Epithelial cells | Epithelial cells | tS2                | ⋯ | G1  | LUNG_T34 |  0.001749123 | tS2                | Epithelial cells | 143 | 0.01979144 | False | 0.02196532 | False |\n",
       "\n"
      ],
      "text/plain": [
       "                          orig_ident nCount_RNA nFeature_RNA\n",
       "AAACCTGAGACGACGT_LUNG_T34 pubsce     4413       1259        \n",
       "AAACCTGAGACGCTTT_LUNG_T18 pubsce     5243        867        \n",
       "AAACCTGAGATATGCA_LUNG_T25 pubsce     2608        950        \n",
       "AAACCTGAGATGTCGG_LUNG_T31 pubsce     2977       1145        \n",
       "AAACCTGAGCGCTTAT_LUNG_T19 pubsce     4953       1470        \n",
       "AAACCTGAGCTACCTA_LUNG_T34 pubsce     5211       1466        \n",
       "                          Index                     Sample   percent_mt\n",
       "AAACCTGAGACGACGT_LUNG_T34 AAACCTGAGACGACGT_LUNG_T34 LUNG_T34  5.3472376\n",
       "AAACCTGAGACGCTTT_LUNG_T18 AAACCTGAGACGCTTT_LUNG_T18 LUNG_T18  0.1883594\n",
       "AAACCTGAGATATGCA_LUNG_T25 AAACCTGAGATATGCA_LUNG_T25 LUNG_T25  4.9549550\n",
       "AAACCTGAGATGTCGG_LUNG_T31 AAACCTGAGATGTCGG_LUNG_T31 LUNG_T31  7.1781363\n",
       "AAACCTGAGCGCTTAT_LUNG_T19 AAACCTGAGCGCTTAT_LUNG_T19 LUNG_T19  4.8828510\n",
       "AAACCTGAGCTACCTA_LUNG_T34 AAACCTGAGCTACCTA_LUNG_T34 LUNG_T34 14.2373519\n",
       "                          percent_rb Cell_type        Cell_type_refined\n",
       "AAACCTGAGACGACGT_LUNG_T34 42.289771  B lymphocytes    B lymphocytes    \n",
       "AAACCTGAGACGCTTT_LUNG_T18  1.130156  Epithelial cells Epithelial cells \n",
       "AAACCTGAGATATGCA_LUNG_T25 33.108108  T lymphocytes    T/NK cells       \n",
       "AAACCTGAGATGTCGG_LUNG_T31 15.739216  Epithelial cells Epithelial cells \n",
       "AAACCTGAGCGCTTAT_LUNG_T19 18.921047  Myeloid cells    Myeloid cells    \n",
       "AAACCTGAGCTACCTA_LUNG_T34 21.177356  Epithelial cells Epithelial cells \n",
       "                          Cell_subtype       <U+22EF>   Phase old_ident\n",
       "AAACCTGAGACGACGT_LUNG_T34 Follicular B cells <U+22EF> G2M   LUNG_T34 \n",
       "AAACCTGAGACGCTTT_LUNG_T18 tS2                <U+22EF> G1    LUNG_T18 \n",
       "AAACCTGAGATATGCA_LUNG_T25 CD4+ Th            <U+22EF> G1    LUNG_T25 \n",
       "AAACCTGAGATGTCGG_LUNG_T31 tS1                <U+22EF> G1    LUNG_T31 \n",
       "AAACCTGAGCGCTTAT_LUNG_T19 Monocytes          <U+22EF> G2M   LUNG_T19 \n",
       "AAACCTGAGCTACCTA_LUNG_T34 tS2                <U+22EF> G1    LUNG_T34 \n",
       "                          CC_Difference Cell_subtype_unimodel\n",
       "AAACCTGAGACGACGT_LUNG_T34 -0.044121300  Follicular B cells   \n",
       "AAACCTGAGACGCTTT_LUNG_T18 -0.004011074  tS2                  \n",
       "AAACCTGAGATATGCA_LUNG_T25  0.027125065  CD4+ Th              \n",
       "AAACCTGAGATGTCGG_LUNG_T31 -0.050294872  tS1                  \n",
       "AAACCTGAGCGCTTAT_LUNG_T19 -0.002484711  Monocytes            \n",
       "AAACCTGAGCTACCTA_LUNG_T34  0.001749123  tS2                  \n",
       "                          Cell_type_unimodel\n",
       "AAACCTGAGACGACGT_LUNG_T34 B lymphocytes     \n",
       "AAACCTGAGACGCTTT_LUNG_T18 Epithelial cells  \n",
       "AAACCTGAGATATGCA_LUNG_T25 T/NK cells        \n",
       "AAACCTGAGATGTCGG_LUNG_T31 Epithelial cells  \n",
       "AAACCTGAGCGCTTAT_LUNG_T19 Myeloid cells     \n",
       "AAACCTGAGCTACCTA_LUNG_T34 Epithelial cells  \n",
       "                          UMAP_Clusters_harmony_overclustered\n",
       "AAACCTGAGACGACGT_LUNG_T34 363                                \n",
       "AAACCTGAGACGCTTT_LUNG_T18 454                                \n",
       "AAACCTGAGATATGCA_LUNG_T25 271                                \n",
       "AAACCTGAGATGTCGG_LUNG_T31 12                                 \n",
       "AAACCTGAGCGCTTAT_LUNG_T19 263                                \n",
       "AAACCTGAGCTACCTA_LUNG_T34 143                                \n",
       "                          scrubletScore_default scrublet_predict_default\n",
       "AAACCTGAGACGACGT_LUNG_T34 0.05050505            False                   \n",
       "AAACCTGAGACGCTTT_LUNG_T18 0.06560636            False                   \n",
       "AAACCTGAGATATGCA_LUNG_T25 0.10521042            False                   \n",
       "AAACCTGAGATGTCGG_LUNG_T31 0.08457201            False                   \n",
       "AAACCTGAGCGCTTAT_LUNG_T19 0.06500888            False                   \n",
       "AAACCTGAGCTACCTA_LUNG_T34 0.01979144            False                   \n",
       "                          scrubletScore_n30 scrublet_predict_n30\n",
       "AAACCTGAGACGACGT_LUNG_T34 0.06187625        False               \n",
       "AAACCTGAGACGCTTT_LUNG_T18 0.05908944        False               \n",
       "AAACCTGAGATATGCA_LUNG_T25 0.09739369        False               \n",
       "AAACCTGAGATGTCGG_LUNG_T31 0.10922693        False               \n",
       "AAACCTGAGCGCTTAT_LUNG_T19 0.06798867        False               \n",
       "AAACCTGAGCTACCTA_LUNG_T34 0.02196532        False               "
      ]
     },
     "metadata": {},
     "output_type": "display_data"
    }
   ],
   "source": [
    "colnames(meta)=gsub('[.]', \"_\", colnames(meta))\n",
    "head(meta)"
   ]
  },
  {
   "cell_type": "code",
   "execution_count": 13,
   "id": "velvet-matter",
   "metadata": {},
   "outputs": [
    {
     "data": {
      "text/html": [
       "<table class=\"dataframe\">\n",
       "<caption>A data.frame: 6 × 5</caption>\n",
       "<thead>\n",
       "\t<tr><th></th><th scope=col>vst.mean</th><th scope=col>vst.variance</th><th scope=col>vst.variance.expected</th><th scope=col>vst.variance.standardized</th><th scope=col>vst.variable</th></tr>\n",
       "\t<tr><th></th><th scope=col>&lt;dbl&gt;</th><th scope=col>&lt;dbl&gt;</th><th scope=col>&lt;dbl&gt;</th><th scope=col>&lt;dbl&gt;</th><th scope=col>&lt;lgl&gt;</th></tr>\n",
       "</thead>\n",
       "<tbody>\n",
       "\t<tr><th scope=row>A1BG</th><td>0.2811526099</td><td> 0.440989123</td><td>0.52577147</td><td>0.8387468</td><td>FALSE</td></tr>\n",
       "\t<tr><th scope=row>A1BG-AS1</th><td>0.0302184803</td><td> 0.032406021</td><td>0.04294161</td><td>0.7546531</td><td>FALSE</td></tr>\n",
       "\t<tr><th scope=row>A1CF</th><td>0.0000000000</td><td> 0.000000000</td><td>0.00000000</td><td>0.0000000</td><td>FALSE</td></tr>\n",
       "\t<tr><th scope=row>A2M</th><td>1.1541273027</td><td>33.616162150</td><td>5.11981082</td><td>6.5658993</td><td> TRUE</td></tr>\n",
       "\t<tr><th scope=row>A2M-AS1</th><td>0.0108995382</td><td> 0.011759931</td><td>0.01616697</td><td>0.7274046</td><td>FALSE</td></tr>\n",
       "\t<tr><th scope=row>A2ML1</th><td>0.0005058169</td><td> 0.001288782</td><td>0.00059652</td><td>1.8203876</td><td> TRUE</td></tr>\n",
       "</tbody>\n",
       "</table>\n"
      ],
      "text/latex": [
       "A data.frame: 6 × 5\n",
       "\\begin{tabular}{r|lllll}\n",
       "  & vst.mean & vst.variance & vst.variance.expected & vst.variance.standardized & vst.variable\\\\\n",
       "  & <dbl> & <dbl> & <dbl> & <dbl> & <lgl>\\\\\n",
       "\\hline\n",
       "\tA1BG & 0.2811526099 &  0.440989123 & 0.52577147 & 0.8387468 & FALSE\\\\\n",
       "\tA1BG-AS1 & 0.0302184803 &  0.032406021 & 0.04294161 & 0.7546531 & FALSE\\\\\n",
       "\tA1CF & 0.0000000000 &  0.000000000 & 0.00000000 & 0.0000000 & FALSE\\\\\n",
       "\tA2M & 1.1541273027 & 33.616162150 & 5.11981082 & 6.5658993 &  TRUE\\\\\n",
       "\tA2M-AS1 & 0.0108995382 &  0.011759931 & 0.01616697 & 0.7274046 & FALSE\\\\\n",
       "\tA2ML1 & 0.0005058169 &  0.001288782 & 0.00059652 & 1.8203876 &  TRUE\\\\\n",
       "\\end{tabular}\n"
      ],
      "text/markdown": [
       "\n",
       "A data.frame: 6 × 5\n",
       "\n",
       "| <!--/--> | vst.mean &lt;dbl&gt; | vst.variance &lt;dbl&gt; | vst.variance.expected &lt;dbl&gt; | vst.variance.standardized &lt;dbl&gt; | vst.variable &lt;lgl&gt; |\n",
       "|---|---|---|---|---|---|\n",
       "| A1BG | 0.2811526099 |  0.440989123 | 0.52577147 | 0.8387468 | FALSE |\n",
       "| A1BG-AS1 | 0.0302184803 |  0.032406021 | 0.04294161 | 0.7546531 | FALSE |\n",
       "| A1CF | 0.0000000000 |  0.000000000 | 0.00000000 | 0.0000000 | FALSE |\n",
       "| A2M | 1.1541273027 | 33.616162150 | 5.11981082 | 6.5658993 |  TRUE |\n",
       "| A2M-AS1 | 0.0108995382 |  0.011759931 | 0.01616697 | 0.7274046 | FALSE |\n",
       "| A2ML1 | 0.0005058169 |  0.001288782 | 0.00059652 | 1.8203876 |  TRUE |\n",
       "\n"
      ],
      "text/plain": [
       "         vst.mean     vst.variance vst.variance.expected\n",
       "A1BG     0.2811526099  0.440989123 0.52577147           \n",
       "A1BG-AS1 0.0302184803  0.032406021 0.04294161           \n",
       "A1CF     0.0000000000  0.000000000 0.00000000           \n",
       "A2M      1.1541273027 33.616162150 5.11981082           \n",
       "A2M-AS1  0.0108995382  0.011759931 0.01616697           \n",
       "A2ML1    0.0005058169  0.001288782 0.00059652           \n",
       "         vst.variance.standardized vst.variable\n",
       "A1BG     0.8387468                 FALSE       \n",
       "A1BG-AS1 0.7546531                 FALSE       \n",
       "A1CF     0.0000000                 FALSE       \n",
       "A2M      6.5658993                  TRUE       \n",
       "A2M-AS1  0.7274046                 FALSE       \n",
       "A2ML1    1.8203876                  TRUE       "
      ]
     },
     "metadata": {},
     "output_type": "display_data"
    }
   ],
   "source": [
    "head(feature_meta)"
   ]
  },
  {
   "cell_type": "code",
   "execution_count": 14,
   "id": "straight-forwarding",
   "metadata": {},
   "outputs": [],
   "source": [
    "adata_seurat = sc$AnnData(X = aa, obs = meta, var = feature_meta)"
   ]
  },
  {
   "cell_type": "code",
   "execution_count": 15,
   "id": "athletic-newsletter",
   "metadata": {},
   "outputs": [
    {
     "data": {
      "text/plain": [
       "AnnData object with n_obs <U+00D7> n_vars = 59372 <U+00D7> 20532\n",
       "    obs: 'orig_ident', 'nCount_RNA', 'nFeature_RNA', 'Index', 'Sample', 'percent_mt', 'percent_rb', 'Cell_type', 'Cell_type_refined', 'Cell_subtype', 'age', 'Sex', 'Smoking', 'Stages', 'percent_mt_merge', 'percent_rb_merge', 'S_Score', 'G2M_Score', 'Phase', 'old_ident', 'CC_Difference', 'Cell_subtype_unimodel', 'Cell_type_unimodel', 'UMAP_Clusters_harmony_overclustered', 'scrubletScore_default', 'scrublet_predict_default', 'scrubletScore_n30', 'scrublet_predict_n30'\n",
       "    var: 'vst.mean', 'vst.variance', 'vst.variance.expected', 'vst.variance.standardized', 'vst.variable'"
      ]
     },
     "metadata": {},
     "output_type": "display_data"
    }
   ],
   "source": [
    "adata_seurat"
   ]
  },
  {
   "cell_type": "code",
   "execution_count": 16,
   "id": "involved-correlation",
   "metadata": {},
   "outputs": [],
   "source": [
    "adata_seurat$write('output2_step2.5.filter_junk/TotalTissue.combined_fil.h5ad')"
   ]
  },
  {
   "cell_type": "code",
   "execution_count": 3,
   "id": "swedish-affect",
   "metadata": {},
   "outputs": [],
   "source": [
    "#convet not filtered one\n",
    "load('output2_step2.5.filter_junk/TotalTissue.combined.not.doubletFiltered.RData')"
   ]
  },
  {
   "cell_type": "code",
   "execution_count": 4,
   "id": "stylish-words",
   "metadata": {},
   "outputs": [
    {
     "data": {
      "text/html": [
       "<style>\n",
       ".list-inline {list-style: none; margin:0; padding: 0}\n",
       ".list-inline>li {display: inline-block}\n",
       ".list-inline>li:not(:last-child)::after {content: \"\\00b7\"; padding: 0 .5ex}\n",
       "</style>\n",
       "<ol class=list-inline><li>'sc'</li><li>'TotalTissue.combined'</li></ol>\n"
      ],
      "text/latex": [
       "\\begin{enumerate*}\n",
       "\\item 'sc'\n",
       "\\item 'TotalTissue.combined'\n",
       "\\end{enumerate*}\n"
      ],
      "text/markdown": [
       "1. 'sc'\n",
       "2. 'TotalTissue.combined'\n",
       "\n",
       "\n"
      ],
      "text/plain": [
       "[1] \"sc\"                   \"TotalTissue.combined\""
      ]
     },
     "metadata": {},
     "output_type": "display_data"
    }
   ],
   "source": [
    "ls()"
   ]
  },
  {
   "cell_type": "code",
   "execution_count": 5,
   "id": "different-stereo",
   "metadata": {},
   "outputs": [
    {
     "name": "stderr",
     "output_type": "stream",
     "text": [
      "Warning message:\n",
      "\"The following arguments are not used: assay.type\"\n"
     ]
    },
    {
     "data": {
      "text/html": [
       "<table class=\"dataframe\">\n",
       "<caption>A data.frame: 6 × 28</caption>\n",
       "<thead>\n",
       "\t<tr><th></th><th scope=col>orig_ident</th><th scope=col>nCount_RNA</th><th scope=col>nFeature_RNA</th><th scope=col>Index</th><th scope=col>Sample</th><th scope=col>percent_mt</th><th scope=col>percent_rb</th><th scope=col>Cell_type</th><th scope=col>Cell_type_refined</th><th scope=col>Cell_subtype</th><th scope=col>⋯</th><th scope=col>Phase</th><th scope=col>old_ident</th><th scope=col>CC_Difference</th><th scope=col>Cell_subtype_unimodel</th><th scope=col>Cell_type_unimodel</th><th scope=col>UMAP_Clusters_harmony_overclustered</th><th scope=col>scrubletScore_default</th><th scope=col>scrublet_predict_default</th><th scope=col>scrubletScore_n30</th><th scope=col>scrublet_predict_n30</th></tr>\n",
       "\t<tr><th></th><th scope=col>&lt;chr&gt;</th><th scope=col>&lt;dbl&gt;</th><th scope=col>&lt;int&gt;</th><th scope=col>&lt;chr&gt;</th><th scope=col>&lt;chr&gt;</th><th scope=col>&lt;dbl&gt;</th><th scope=col>&lt;dbl&gt;</th><th scope=col>&lt;chr&gt;</th><th scope=col>&lt;chr&gt;</th><th scope=col>&lt;chr&gt;</th><th scope=col>⋯</th><th scope=col>&lt;chr&gt;</th><th scope=col>&lt;fct&gt;</th><th scope=col>&lt;dbl&gt;</th><th scope=col>&lt;chr&gt;</th><th scope=col>&lt;chr&gt;</th><th scope=col>&lt;fct&gt;</th><th scope=col>&lt;dbl&gt;</th><th scope=col>&lt;chr&gt;</th><th scope=col>&lt;dbl&gt;</th><th scope=col>&lt;chr&gt;</th></tr>\n",
       "</thead>\n",
       "<tbody>\n",
       "\t<tr><th scope=row>AAACCTGAGACGACGT_LUNG_T09</th><td>pubsce</td><td>10526</td><td>2245</td><td>AAACCTGAGACGACGT_LUNG_T09</td><td>LUNG_T09</td><td>3.7753308</td><td>30.563524</td><td>Myeloid cells   </td><td>Myeloid cells   </td><td>CD1c+ DCs         </td><td>⋯</td><td>G1 </td><td>LUNG_T09</td><td>-0.025521688</td><td>CD1c+ DCs         </td><td>Myeloid cells   </td><td>428</td><td>0.25733634</td><td>False</td><td>0.27929901</td><td>False</td></tr>\n",
       "\t<tr><th scope=row>AAACCTGAGACGACGT_LUNG_T34</th><td>pubsce</td><td> 4413</td><td>1259</td><td>AAACCTGAGACGACGT_LUNG_T34</td><td>LUNG_T34</td><td>5.3472376</td><td>42.289771</td><td>B lymphocytes   </td><td>B lymphocytes   </td><td>Follicular B cells</td><td>⋯</td><td>G2M</td><td>LUNG_T34</td><td>-0.044121300</td><td>Follicular B cells</td><td>B lymphocytes   </td><td>363</td><td>0.05050505</td><td>False</td><td>0.06187625</td><td>False</td></tr>\n",
       "\t<tr><th scope=row>AAACCTGAGACGCTTT_LUNG_T18</th><td>pubsce</td><td> 5243</td><td> 867</td><td>AAACCTGAGACGCTTT_LUNG_T18</td><td>LUNG_T18</td><td>0.1883594</td><td> 1.130156</td><td>Epithelial cells</td><td>Epithelial cells</td><td>tS2               </td><td>⋯</td><td>G1 </td><td>LUNG_T18</td><td>-0.004011074</td><td>tS2               </td><td>Epithelial cells</td><td>454</td><td>0.06560636</td><td>False</td><td>0.05908944</td><td>False</td></tr>\n",
       "\t<tr><th scope=row>AAACCTGAGATATGCA_LUNG_T25</th><td>pubsce</td><td> 2608</td><td> 950</td><td>AAACCTGAGATATGCA_LUNG_T25</td><td>LUNG_T25</td><td>4.9549550</td><td>33.108108</td><td>T lymphocytes   </td><td>T/NK cells      </td><td>CD4+ Th           </td><td>⋯</td><td>G1 </td><td>LUNG_T25</td><td> 0.027125065</td><td>CD4+ Th           </td><td>T/NK cells      </td><td>271</td><td>0.10521042</td><td>False</td><td>0.09739369</td><td>False</td></tr>\n",
       "\t<tr><th scope=row>AAACCTGAGATGTCGG_LUNG_T31</th><td>pubsce</td><td> 2977</td><td>1145</td><td>AAACCTGAGATGTCGG_LUNG_T31</td><td>LUNG_T31</td><td>7.1781363</td><td>15.739216</td><td>Epithelial cells</td><td>Epithelial cells</td><td>tS1               </td><td>⋯</td><td>G1 </td><td>LUNG_T31</td><td>-0.050294872</td><td>tS1               </td><td>Epithelial cells</td><td>12 </td><td>0.08457201</td><td>False</td><td>0.10922693</td><td>False</td></tr>\n",
       "\t<tr><th scope=row>AAACCTGAGCGCTTAT_LUNG_T19</th><td>pubsce</td><td> 4953</td><td>1470</td><td>AAACCTGAGCGCTTAT_LUNG_T19</td><td>LUNG_T19</td><td>4.8828510</td><td>18.921047</td><td>Myeloid cells   </td><td>Myeloid cells   </td><td>Monocytes         </td><td>⋯</td><td>G2M</td><td>LUNG_T19</td><td>-0.002484711</td><td>Monocytes         </td><td>Myeloid cells   </td><td>263</td><td>0.06500888</td><td>False</td><td>0.06798867</td><td>False</td></tr>\n",
       "</tbody>\n",
       "</table>\n"
      ],
      "text/latex": [
       "A data.frame: 6 × 28\n",
       "\\begin{tabular}{r|lllllllllllllllllllll}\n",
       "  & orig\\_ident & nCount\\_RNA & nFeature\\_RNA & Index & Sample & percent\\_mt & percent\\_rb & Cell\\_type & Cell\\_type\\_refined & Cell\\_subtype & ⋯ & Phase & old\\_ident & CC\\_Difference & Cell\\_subtype\\_unimodel & Cell\\_type\\_unimodel & UMAP\\_Clusters\\_harmony\\_overclustered & scrubletScore\\_default & scrublet\\_predict\\_default & scrubletScore\\_n30 & scrublet\\_predict\\_n30\\\\\n",
       "  & <chr> & <dbl> & <int> & <chr> & <chr> & <dbl> & <dbl> & <chr> & <chr> & <chr> & ⋯ & <chr> & <fct> & <dbl> & <chr> & <chr> & <fct> & <dbl> & <chr> & <dbl> & <chr>\\\\\n",
       "\\hline\n",
       "\tAAACCTGAGACGACGT\\_LUNG\\_T09 & pubsce & 10526 & 2245 & AAACCTGAGACGACGT\\_LUNG\\_T09 & LUNG\\_T09 & 3.7753308 & 30.563524 & Myeloid cells    & Myeloid cells    & CD1c+ DCs          & ⋯ & G1  & LUNG\\_T09 & -0.025521688 & CD1c+ DCs          & Myeloid cells    & 428 & 0.25733634 & False & 0.27929901 & False\\\\\n",
       "\tAAACCTGAGACGACGT\\_LUNG\\_T34 & pubsce &  4413 & 1259 & AAACCTGAGACGACGT\\_LUNG\\_T34 & LUNG\\_T34 & 5.3472376 & 42.289771 & B lymphocytes    & B lymphocytes    & Follicular B cells & ⋯ & G2M & LUNG\\_T34 & -0.044121300 & Follicular B cells & B lymphocytes    & 363 & 0.05050505 & False & 0.06187625 & False\\\\\n",
       "\tAAACCTGAGACGCTTT\\_LUNG\\_T18 & pubsce &  5243 &  867 & AAACCTGAGACGCTTT\\_LUNG\\_T18 & LUNG\\_T18 & 0.1883594 &  1.130156 & Epithelial cells & Epithelial cells & tS2                & ⋯ & G1  & LUNG\\_T18 & -0.004011074 & tS2                & Epithelial cells & 454 & 0.06560636 & False & 0.05908944 & False\\\\\n",
       "\tAAACCTGAGATATGCA\\_LUNG\\_T25 & pubsce &  2608 &  950 & AAACCTGAGATATGCA\\_LUNG\\_T25 & LUNG\\_T25 & 4.9549550 & 33.108108 & T lymphocytes    & T/NK cells       & CD4+ Th            & ⋯ & G1  & LUNG\\_T25 &  0.027125065 & CD4+ Th            & T/NK cells       & 271 & 0.10521042 & False & 0.09739369 & False\\\\\n",
       "\tAAACCTGAGATGTCGG\\_LUNG\\_T31 & pubsce &  2977 & 1145 & AAACCTGAGATGTCGG\\_LUNG\\_T31 & LUNG\\_T31 & 7.1781363 & 15.739216 & Epithelial cells & Epithelial cells & tS1                & ⋯ & G1  & LUNG\\_T31 & -0.050294872 & tS1                & Epithelial cells & 12  & 0.08457201 & False & 0.10922693 & False\\\\\n",
       "\tAAACCTGAGCGCTTAT\\_LUNG\\_T19 & pubsce &  4953 & 1470 & AAACCTGAGCGCTTAT\\_LUNG\\_T19 & LUNG\\_T19 & 4.8828510 & 18.921047 & Myeloid cells    & Myeloid cells    & Monocytes          & ⋯ & G2M & LUNG\\_T19 & -0.002484711 & Monocytes          & Myeloid cells    & 263 & 0.06500888 & False & 0.06798867 & False\\\\\n",
       "\\end{tabular}\n"
      ],
      "text/markdown": [
       "\n",
       "A data.frame: 6 × 28\n",
       "\n",
       "| <!--/--> | orig_ident &lt;chr&gt; | nCount_RNA &lt;dbl&gt; | nFeature_RNA &lt;int&gt; | Index &lt;chr&gt; | Sample &lt;chr&gt; | percent_mt &lt;dbl&gt; | percent_rb &lt;dbl&gt; | Cell_type &lt;chr&gt; | Cell_type_refined &lt;chr&gt; | Cell_subtype &lt;chr&gt; | ⋯ ⋯ | Phase &lt;chr&gt; | old_ident &lt;fct&gt; | CC_Difference &lt;dbl&gt; | Cell_subtype_unimodel &lt;chr&gt; | Cell_type_unimodel &lt;chr&gt; | UMAP_Clusters_harmony_overclustered &lt;fct&gt; | scrubletScore_default &lt;dbl&gt; | scrublet_predict_default &lt;chr&gt; | scrubletScore_n30 &lt;dbl&gt; | scrublet_predict_n30 &lt;chr&gt; |\n",
       "|---|---|---|---|---|---|---|---|---|---|---|---|---|---|---|---|---|---|---|---|---|---|\n",
       "| AAACCTGAGACGACGT_LUNG_T09 | pubsce | 10526 | 2245 | AAACCTGAGACGACGT_LUNG_T09 | LUNG_T09 | 3.7753308 | 30.563524 | Myeloid cells    | Myeloid cells    | CD1c+ DCs          | ⋯ | G1  | LUNG_T09 | -0.025521688 | CD1c+ DCs          | Myeloid cells    | 428 | 0.25733634 | False | 0.27929901 | False |\n",
       "| AAACCTGAGACGACGT_LUNG_T34 | pubsce |  4413 | 1259 | AAACCTGAGACGACGT_LUNG_T34 | LUNG_T34 | 5.3472376 | 42.289771 | B lymphocytes    | B lymphocytes    | Follicular B cells | ⋯ | G2M | LUNG_T34 | -0.044121300 | Follicular B cells | B lymphocytes    | 363 | 0.05050505 | False | 0.06187625 | False |\n",
       "| AAACCTGAGACGCTTT_LUNG_T18 | pubsce |  5243 |  867 | AAACCTGAGACGCTTT_LUNG_T18 | LUNG_T18 | 0.1883594 |  1.130156 | Epithelial cells | Epithelial cells | tS2                | ⋯ | G1  | LUNG_T18 | -0.004011074 | tS2                | Epithelial cells | 454 | 0.06560636 | False | 0.05908944 | False |\n",
       "| AAACCTGAGATATGCA_LUNG_T25 | pubsce |  2608 |  950 | AAACCTGAGATATGCA_LUNG_T25 | LUNG_T25 | 4.9549550 | 33.108108 | T lymphocytes    | T/NK cells       | CD4+ Th            | ⋯ | G1  | LUNG_T25 |  0.027125065 | CD4+ Th            | T/NK cells       | 271 | 0.10521042 | False | 0.09739369 | False |\n",
       "| AAACCTGAGATGTCGG_LUNG_T31 | pubsce |  2977 | 1145 | AAACCTGAGATGTCGG_LUNG_T31 | LUNG_T31 | 7.1781363 | 15.739216 | Epithelial cells | Epithelial cells | tS1                | ⋯ | G1  | LUNG_T31 | -0.050294872 | tS1                | Epithelial cells | 12  | 0.08457201 | False | 0.10922693 | False |\n",
       "| AAACCTGAGCGCTTAT_LUNG_T19 | pubsce |  4953 | 1470 | AAACCTGAGCGCTTAT_LUNG_T19 | LUNG_T19 | 4.8828510 | 18.921047 | Myeloid cells    | Myeloid cells    | Monocytes          | ⋯ | G2M | LUNG_T19 | -0.002484711 | Monocytes          | Myeloid cells    | 263 | 0.06500888 | False | 0.06798867 | False |\n",
       "\n"
      ],
      "text/plain": [
       "                          orig_ident nCount_RNA nFeature_RNA\n",
       "AAACCTGAGACGACGT_LUNG_T09 pubsce     10526      2245        \n",
       "AAACCTGAGACGACGT_LUNG_T34 pubsce      4413      1259        \n",
       "AAACCTGAGACGCTTT_LUNG_T18 pubsce      5243       867        \n",
       "AAACCTGAGATATGCA_LUNG_T25 pubsce      2608       950        \n",
       "AAACCTGAGATGTCGG_LUNG_T31 pubsce      2977      1145        \n",
       "AAACCTGAGCGCTTAT_LUNG_T19 pubsce      4953      1470        \n",
       "                          Index                     Sample   percent_mt\n",
       "AAACCTGAGACGACGT_LUNG_T09 AAACCTGAGACGACGT_LUNG_T09 LUNG_T09 3.7753308 \n",
       "AAACCTGAGACGACGT_LUNG_T34 AAACCTGAGACGACGT_LUNG_T34 LUNG_T34 5.3472376 \n",
       "AAACCTGAGACGCTTT_LUNG_T18 AAACCTGAGACGCTTT_LUNG_T18 LUNG_T18 0.1883594 \n",
       "AAACCTGAGATATGCA_LUNG_T25 AAACCTGAGATATGCA_LUNG_T25 LUNG_T25 4.9549550 \n",
       "AAACCTGAGATGTCGG_LUNG_T31 AAACCTGAGATGTCGG_LUNG_T31 LUNG_T31 7.1781363 \n",
       "AAACCTGAGCGCTTAT_LUNG_T19 AAACCTGAGCGCTTAT_LUNG_T19 LUNG_T19 4.8828510 \n",
       "                          percent_rb Cell_type        Cell_type_refined\n",
       "AAACCTGAGACGACGT_LUNG_T09 30.563524  Myeloid cells    Myeloid cells    \n",
       "AAACCTGAGACGACGT_LUNG_T34 42.289771  B lymphocytes    B lymphocytes    \n",
       "AAACCTGAGACGCTTT_LUNG_T18  1.130156  Epithelial cells Epithelial cells \n",
       "AAACCTGAGATATGCA_LUNG_T25 33.108108  T lymphocytes    T/NK cells       \n",
       "AAACCTGAGATGTCGG_LUNG_T31 15.739216  Epithelial cells Epithelial cells \n",
       "AAACCTGAGCGCTTAT_LUNG_T19 18.921047  Myeloid cells    Myeloid cells    \n",
       "                          Cell_subtype       <U+22EF>   Phase old_ident\n",
       "AAACCTGAGACGACGT_LUNG_T09 CD1c+ DCs          <U+22EF> G1    LUNG_T09 \n",
       "AAACCTGAGACGACGT_LUNG_T34 Follicular B cells <U+22EF> G2M   LUNG_T34 \n",
       "AAACCTGAGACGCTTT_LUNG_T18 tS2                <U+22EF> G1    LUNG_T18 \n",
       "AAACCTGAGATATGCA_LUNG_T25 CD4+ Th            <U+22EF> G1    LUNG_T25 \n",
       "AAACCTGAGATGTCGG_LUNG_T31 tS1                <U+22EF> G1    LUNG_T31 \n",
       "AAACCTGAGCGCTTAT_LUNG_T19 Monocytes          <U+22EF> G2M   LUNG_T19 \n",
       "                          CC_Difference Cell_subtype_unimodel\n",
       "AAACCTGAGACGACGT_LUNG_T09 -0.025521688  CD1c+ DCs            \n",
       "AAACCTGAGACGACGT_LUNG_T34 -0.044121300  Follicular B cells   \n",
       "AAACCTGAGACGCTTT_LUNG_T18 -0.004011074  tS2                  \n",
       "AAACCTGAGATATGCA_LUNG_T25  0.027125065  CD4+ Th              \n",
       "AAACCTGAGATGTCGG_LUNG_T31 -0.050294872  tS1                  \n",
       "AAACCTGAGCGCTTAT_LUNG_T19 -0.002484711  Monocytes            \n",
       "                          Cell_type_unimodel\n",
       "AAACCTGAGACGACGT_LUNG_T09 Myeloid cells     \n",
       "AAACCTGAGACGACGT_LUNG_T34 B lymphocytes     \n",
       "AAACCTGAGACGCTTT_LUNG_T18 Epithelial cells  \n",
       "AAACCTGAGATATGCA_LUNG_T25 T/NK cells        \n",
       "AAACCTGAGATGTCGG_LUNG_T31 Epithelial cells  \n",
       "AAACCTGAGCGCTTAT_LUNG_T19 Myeloid cells     \n",
       "                          UMAP_Clusters_harmony_overclustered\n",
       "AAACCTGAGACGACGT_LUNG_T09 428                                \n",
       "AAACCTGAGACGACGT_LUNG_T34 363                                \n",
       "AAACCTGAGACGCTTT_LUNG_T18 454                                \n",
       "AAACCTGAGATATGCA_LUNG_T25 271                                \n",
       "AAACCTGAGATGTCGG_LUNG_T31 12                                 \n",
       "AAACCTGAGCGCTTAT_LUNG_T19 263                                \n",
       "                          scrubletScore_default scrublet_predict_default\n",
       "AAACCTGAGACGACGT_LUNG_T09 0.25733634            False                   \n",
       "AAACCTGAGACGACGT_LUNG_T34 0.05050505            False                   \n",
       "AAACCTGAGACGCTTT_LUNG_T18 0.06560636            False                   \n",
       "AAACCTGAGATATGCA_LUNG_T25 0.10521042            False                   \n",
       "AAACCTGAGATGTCGG_LUNG_T31 0.08457201            False                   \n",
       "AAACCTGAGCGCTTAT_LUNG_T19 0.06500888            False                   \n",
       "                          scrubletScore_n30 scrublet_predict_n30\n",
       "AAACCTGAGACGACGT_LUNG_T09 0.27929901        False               \n",
       "AAACCTGAGACGACGT_LUNG_T34 0.06187625        False               \n",
       "AAACCTGAGACGCTTT_LUNG_T18 0.05908944        False               \n",
       "AAACCTGAGATATGCA_LUNG_T25 0.09739369        False               \n",
       "AAACCTGAGATGTCGG_LUNG_T31 0.10922693        False               \n",
       "AAACCTGAGCGCTTAT_LUNG_T19 0.06798867        False               "
      ]
     },
     "metadata": {},
     "output_type": "display_data"
    }
   ],
   "source": [
    "sce=TotalTissue.combined\n",
    "exprs <- GetAssayData(sce,assay.type = \"RNA\", slot = \"counts\")\n",
    "meta <- sce[[]]\n",
    "feature_meta <- GetAssay(sce)[[]]\n",
    "#embedding <- Embeddings(sce, \"umap\")\n",
    "\n",
    "aa=as.data.frame(as.matrix(exprs))\n",
    "aa=t(aa)\n",
    "\n",
    "colnames(meta)=gsub('[.]', \"_\", colnames(meta))\n",
    "head(meta)\n",
    "\n",
    "adata_seurat = sc$AnnData(X = aa, obs = meta, var = feature_meta)"
   ]
  },
  {
   "cell_type": "code",
   "execution_count": 6,
   "id": "chicken-piece",
   "metadata": {
    "scrolled": true
   },
   "outputs": [
    {
     "data": {
      "text/plain": [
       "AnnData object with n_obs <U+00D7> n_vars = 61287 <U+00D7> 20532\n",
       "    obs: 'orig_ident', 'nCount_RNA', 'nFeature_RNA', 'Index', 'Sample', 'percent_mt', 'percent_rb', 'Cell_type', 'Cell_type_refined', 'Cell_subtype', 'age', 'Sex', 'Smoking', 'Stages', 'percent_mt_merge', 'percent_rb_merge', 'S_Score', 'G2M_Score', 'Phase', 'old_ident', 'CC_Difference', 'Cell_subtype_unimodel', 'Cell_type_unimodel', 'UMAP_Clusters_harmony_overclustered', 'scrubletScore_default', 'scrublet_predict_default', 'scrubletScore_n30', 'scrublet_predict_n30'\n",
       "    var: 'vst.mean', 'vst.variance', 'vst.variance.expected', 'vst.variance.standardized', 'vst.variable'"
      ]
     },
     "metadata": {},
     "output_type": "display_data"
    }
   ],
   "source": [
    "adata_seurat"
   ]
  },
  {
   "cell_type": "code",
   "execution_count": 9,
   "id": "compound-craft",
   "metadata": {},
   "outputs": [],
   "source": [
    "adata_seurat$write('output2_step2.5.filter_junk/TotalTissue.combined.not.doubletFiltered.h5ad')"
   ]
  },
  {
   "cell_type": "code",
   "execution_count": null,
   "id": "generic-czech",
   "metadata": {},
   "outputs": [],
   "source": []
  }
 ],
 "metadata": {
  "kernelspec": {
   "display_name": "R.4.0.3",
   "language": "R",
   "name": "ir"
  },
  "language_info": {
   "codemirror_mode": "r",
   "file_extension": ".r",
   "mimetype": "text/x-r-source",
   "name": "R",
   "pygments_lexer": "r",
   "version": "4.0.3"
  }
 },
 "nbformat": 4,
 "nbformat_minor": 5
}
