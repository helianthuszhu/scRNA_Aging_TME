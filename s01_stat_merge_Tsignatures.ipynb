{
 "cells": [
  {
   "cell_type": "code",
   "execution_count": null,
   "id": "768b2ddd",
   "metadata": {},
   "outputs": [],
   "source": []
  },
  {
   "cell_type": "code",
   "execution_count": 49,
   "id": "a1ca46ef",
   "metadata": {},
   "outputs": [],
   "source": [
    "obs= read.csv('merged_obs_Tcell_sigscore_5_cohorts.csv',header=T)"
   ]
  },
  {
   "cell_type": "code",
   "execution_count": 50,
   "id": "8ad577e0",
   "metadata": {},
   "outputs": [
    {
     "data": {
      "text/html": [
       "<style>\n",
       ".list-inline {list-style: none; margin:0; padding: 0}\n",
       ".list-inline>li {display: inline-block}\n",
       ".list-inline>li:not(:last-child)::after {content: \"\\00b7\"; padding: 0 .5ex}\n",
       "</style>\n",
       "<ol class=list-inline><li>'C3-CD4-CXCR6'</li><li>'C11-CD8-LAYN'</li><li>'C8-CD8-GZMK'</li><li>'C15-CD4/CD8-ISG15'</li><li>'C6-CD4-RORC'</li><li>'C10-CD8-ZNF683'</li><li>'C1-CD4-CCR7'</li><li>'C9-CD8-CX3CR1'</li><li>'C4-CD4-CXCL13'</li><li>'C2-CD4-HSPA1A'</li><li>'C12-CD8-TRDV1'</li><li>'C13-NK-FCGR3A'</li><li>'C5-CD4-FOXP3'</li><li>'C7-CD8-SLC4A10'</li><li>'C14-NK-XCL1'</li><li>'C16-CD4/CD8-MKI67'</li><li>'CD4T'</li><li>'CD8T'</li><li>'NK'</li><li>'cycling'</li><li>'Bcell'</li><li>'Epithelial'</li><li>'Fibroblasts'</li><li>'Myeloid'</li><li>'Endothelial'</li><li>'Mast'</li><li>'Plasma'</li><li>'CD8-CXCL13'</li><li>'CD8-GZMK'</li><li>'CD4-FOXP3'</li><li>'CD8-GZMH'</li><li>'CD8-STMN1'</li><li>'CD8-ZNF683'</li><li>'CD4-CCR7'</li><li>'CD4-CXCL13'</li><li>'CD4-ANXA1'</li><li>'CD4-PRF1'</li><li>'TNK_others'</li><li>'CD8-ISG15'</li><li>'CD8-FTH1'</li><li>'CD8-CD52'</li><li>'CD8-FOS'</li></ol>\n"
      ],
      "text/latex": [
       "\\begin{enumerate*}\n",
       "\\item 'C3-CD4-CXCR6'\n",
       "\\item 'C11-CD8-LAYN'\n",
       "\\item 'C8-CD8-GZMK'\n",
       "\\item 'C15-CD4/CD8-ISG15'\n",
       "\\item 'C6-CD4-RORC'\n",
       "\\item 'C10-CD8-ZNF683'\n",
       "\\item 'C1-CD4-CCR7'\n",
       "\\item 'C9-CD8-CX3CR1'\n",
       "\\item 'C4-CD4-CXCL13'\n",
       "\\item 'C2-CD4-HSPA1A'\n",
       "\\item 'C12-CD8-TRDV1'\n",
       "\\item 'C13-NK-FCGR3A'\n",
       "\\item 'C5-CD4-FOXP3'\n",
       "\\item 'C7-CD8-SLC4A10'\n",
       "\\item 'C14-NK-XCL1'\n",
       "\\item 'C16-CD4/CD8-MKI67'\n",
       "\\item 'CD4T'\n",
       "\\item 'CD8T'\n",
       "\\item 'NK'\n",
       "\\item 'cycling'\n",
       "\\item 'Bcell'\n",
       "\\item 'Epithelial'\n",
       "\\item 'Fibroblasts'\n",
       "\\item 'Myeloid'\n",
       "\\item 'Endothelial'\n",
       "\\item 'Mast'\n",
       "\\item 'Plasma'\n",
       "\\item 'CD8-CXCL13'\n",
       "\\item 'CD8-GZMK'\n",
       "\\item 'CD4-FOXP3'\n",
       "\\item 'CD8-GZMH'\n",
       "\\item 'CD8-STMN1'\n",
       "\\item 'CD8-ZNF683'\n",
       "\\item 'CD4-CCR7'\n",
       "\\item 'CD4-CXCL13'\n",
       "\\item 'CD4-ANXA1'\n",
       "\\item 'CD4-PRF1'\n",
       "\\item 'TNK\\_others'\n",
       "\\item 'CD8-ISG15'\n",
       "\\item 'CD8-FTH1'\n",
       "\\item 'CD8-CD52'\n",
       "\\item 'CD8-FOS'\n",
       "\\end{enumerate*}\n"
      ],
      "text/markdown": [
       "1. 'C3-CD4-CXCR6'\n",
       "2. 'C11-CD8-LAYN'\n",
       "3. 'C8-CD8-GZMK'\n",
       "4. 'C15-CD4/CD8-ISG15'\n",
       "5. 'C6-CD4-RORC'\n",
       "6. 'C10-CD8-ZNF683'\n",
       "7. 'C1-CD4-CCR7'\n",
       "8. 'C9-CD8-CX3CR1'\n",
       "9. 'C4-CD4-CXCL13'\n",
       "10. 'C2-CD4-HSPA1A'\n",
       "11. 'C12-CD8-TRDV1'\n",
       "12. 'C13-NK-FCGR3A'\n",
       "13. 'C5-CD4-FOXP3'\n",
       "14. 'C7-CD8-SLC4A10'\n",
       "15. 'C14-NK-XCL1'\n",
       "16. 'C16-CD4/CD8-MKI67'\n",
       "17. 'CD4T'\n",
       "18. 'CD8T'\n",
       "19. 'NK'\n",
       "20. 'cycling'\n",
       "21. 'Bcell'\n",
       "22. 'Epithelial'\n",
       "23. 'Fibroblasts'\n",
       "24. 'Myeloid'\n",
       "25. 'Endothelial'\n",
       "26. 'Mast'\n",
       "27. 'Plasma'\n",
       "28. 'CD8-CXCL13'\n",
       "29. 'CD8-GZMK'\n",
       "30. 'CD4-FOXP3'\n",
       "31. 'CD8-GZMH'\n",
       "32. 'CD8-STMN1'\n",
       "33. 'CD8-ZNF683'\n",
       "34. 'CD4-CCR7'\n",
       "35. 'CD4-CXCL13'\n",
       "36. 'CD4-ANXA1'\n",
       "37. 'CD4-PRF1'\n",
       "38. 'TNK_others'\n",
       "39. 'CD8-ISG15'\n",
       "40. 'CD8-FTH1'\n",
       "41. 'CD8-CD52'\n",
       "42. 'CD8-FOS'\n",
       "\n",
       "\n"
      ],
      "text/plain": [
       " [1] \"C3-CD4-CXCR6\"      \"C11-CD8-LAYN\"      \"C8-CD8-GZMK\"      \n",
       " [4] \"C15-CD4/CD8-ISG15\" \"C6-CD4-RORC\"       \"C10-CD8-ZNF683\"   \n",
       " [7] \"C1-CD4-CCR7\"       \"C9-CD8-CX3CR1\"     \"C4-CD4-CXCL13\"    \n",
       "[10] \"C2-CD4-HSPA1A\"     \"C12-CD8-TRDV1\"     \"C13-NK-FCGR3A\"    \n",
       "[13] \"C5-CD4-FOXP3\"      \"C7-CD8-SLC4A10\"    \"C14-NK-XCL1\"      \n",
       "[16] \"C16-CD4/CD8-MKI67\" \"CD4T\"              \"CD8T\"             \n",
       "[19] \"NK\"                \"cycling\"           \"Bcell\"            \n",
       "[22] \"Epithelial\"        \"Fibroblasts\"       \"Myeloid\"          \n",
       "[25] \"Endothelial\"       \"Mast\"              \"Plasma\"           \n",
       "[28] \"CD8-CXCL13\"        \"CD8-GZMK\"          \"CD4-FOXP3\"        \n",
       "[31] \"CD8-GZMH\"          \"CD8-STMN1\"         \"CD8-ZNF683\"       \n",
       "[34] \"CD4-CCR7\"          \"CD4-CXCL13\"        \"CD4-ANXA1\"        \n",
       "[37] \"CD4-PRF1\"          \"TNK_others\"        \"CD8-ISG15\"        \n",
       "[40] \"CD8-FTH1\"          \"CD8-CD52\"          \"CD8-FOS\"          "
      ]
     },
     "metadata": {},
     "output_type": "display_data"
    }
   ],
   "source": [
    "unique(obs$celltype)"
   ]
  },
  {
   "cell_type": "code",
   "execution_count": 51,
   "id": "106fdbcd",
   "metadata": {},
   "outputs": [],
   "source": [
    "obs = subset(obs, celltype %in% c('C3-CD4-CXCR6','C11-CD8-LAYN','C8-CD8-GZMK','C15-CD4/CD8-ISG15',\n",
    "                                  'C6-CD4-RORC','C10-CD8-ZNF683','C1-CD4-CCR7','C9-CD8-CX3CR1',\n",
    "                                  'C4-CD4-CXCL13','C2-CD4-HSPA1A','C12-CD8-TRDV1','C13-NK-FCGR3A',\n",
    "                                  'C5-CD4-FOXP3','C7-CD8-SLC4A10','C14-NK-XCL1','C16-CD4/CD8-MKI67',\n",
    "                                  'CD4T','CD8T','CD8-CXCL13','CD8-GZMK','CD4-FOXP3','CD8-GZMH',\n",
    "                                  'CD8-STMN1','CD8-ZNF683','CD4-CCR7','CD4-CXCL13','CD4-ANXA1','CD4-PRF1',\n",
    "                                  'CD8-ISG15','CD8-FTH1','CD8-CD52','CD8-FOS'))\n"
   ]
  },
  {
   "cell_type": "code",
   "execution_count": 52,
   "id": "4ac4347f",
   "metadata": {},
   "outputs": [
    {
     "data": {
      "text/html": [
       "<table class=\"dataframe\">\n",
       "<caption>A data.frame: 2 × 7</caption>\n",
       "<thead>\n",
       "\t<tr><th></th><th scope=col>X</th><th scope=col>celltype</th><th scope=col>cytotoxic_score</th><th scope=col>exhausted_score</th><th scope=col>age</th><th scope=col>Sample</th><th scope=col>study</th></tr>\n",
       "\t<tr><th></th><th scope=col>&lt;chr&gt;</th><th scope=col>&lt;chr&gt;</th><th scope=col>&lt;dbl&gt;</th><th scope=col>&lt;dbl&gt;</th><th scope=col>&lt;int&gt;</th><th scope=col>&lt;chr&gt;</th><th scope=col>&lt;chr&gt;</th></tr>\n",
       "</thead>\n",
       "<tbody>\n",
       "\t<tr><th scope=row>1</th><td>AAACCTGAGATATGCA_LUNG_T25</td><td>C3-CD4-CXCR6</td><td>-0.3608342</td><td>-0.2154291</td><td>69</td><td>LUNG_T25</td><td>nsclc_inhouse_kim_etal</td></tr>\n",
       "\t<tr><th scope=row>2</th><td>AAACCTGAGGATCGCA_LUNG_T28</td><td>C11-CD8-LAYN</td><td> 1.5525668</td><td> 0.3933895</td><td>73</td><td>LUNG_T28</td><td>nsclc_inhouse_kim_etal</td></tr>\n",
       "</tbody>\n",
       "</table>\n"
      ],
      "text/latex": [
       "A data.frame: 2 × 7\n",
       "\\begin{tabular}{r|lllllll}\n",
       "  & X & celltype & cytotoxic\\_score & exhausted\\_score & age & Sample & study\\\\\n",
       "  & <chr> & <chr> & <dbl> & <dbl> & <int> & <chr> & <chr>\\\\\n",
       "\\hline\n",
       "\t1 & AAACCTGAGATATGCA\\_LUNG\\_T25 & C3-CD4-CXCR6 & -0.3608342 & -0.2154291 & 69 & LUNG\\_T25 & nsclc\\_inhouse\\_kim\\_etal\\\\\n",
       "\t2 & AAACCTGAGGATCGCA\\_LUNG\\_T28 & C11-CD8-LAYN &  1.5525668 &  0.3933895 & 73 & LUNG\\_T28 & nsclc\\_inhouse\\_kim\\_etal\\\\\n",
       "\\end{tabular}\n"
      ],
      "text/markdown": [
       "\n",
       "A data.frame: 2 × 7\n",
       "\n",
       "| <!--/--> | X &lt;chr&gt; | celltype &lt;chr&gt; | cytotoxic_score &lt;dbl&gt; | exhausted_score &lt;dbl&gt; | age &lt;int&gt; | Sample &lt;chr&gt; | study &lt;chr&gt; |\n",
       "|---|---|---|---|---|---|---|---|\n",
       "| 1 | AAACCTGAGATATGCA_LUNG_T25 | C3-CD4-CXCR6 | -0.3608342 | -0.2154291 | 69 | LUNG_T25 | nsclc_inhouse_kim_etal |\n",
       "| 2 | AAACCTGAGGATCGCA_LUNG_T28 | C11-CD8-LAYN |  1.5525668 |  0.3933895 | 73 | LUNG_T28 | nsclc_inhouse_kim_etal |\n",
       "\n"
      ],
      "text/plain": [
       "  X                         celltype     cytotoxic_score exhausted_score age\n",
       "1 AAACCTGAGATATGCA_LUNG_T25 C3-CD4-CXCR6 -0.3608342      -0.2154291      69 \n",
       "2 AAACCTGAGGATCGCA_LUNG_T28 C11-CD8-LAYN  1.5525668       0.3933895      73 \n",
       "  Sample   study                 \n",
       "1 LUNG_T25 nsclc_inhouse_kim_etal\n",
       "2 LUNG_T28 nsclc_inhouse_kim_etal"
      ]
     },
     "metadata": {},
     "output_type": "display_data"
    }
   ],
   "source": [
    "head(obs,n=2)"
   ]
  },
  {
   "cell_type": "code",
   "execution_count": 53,
   "id": "da5d921e",
   "metadata": {},
   "outputs": [
    {
     "data": {
      "text/plain": [
       "   Min. 1st Qu.  Median    Mean 3rd Qu.    Max. \n",
       "  25.00   61.00   68.00   66.49   74.00   91.00 "
      ]
     },
     "metadata": {},
     "output_type": "display_data"
    }
   ],
   "source": [
    "summary(obs$age)"
   ]
  },
  {
   "cell_type": "code",
   "execution_count": 54,
   "id": "fcdd4440",
   "metadata": {},
   "outputs": [],
   "source": [
    "obs$age_bin4<- cut(obs$age,  breaks = c(min(obs$age),40,60,80,max(obs$age)),\n",
    "                                     labels = c(\"<40\",\"40-60\",\"60-80\",\">80\"), include.lowest = TRUE)\n",
    "obs$age_bin3<- cut(obs$age,  breaks = c(min(obs$age),40,60,max(obs$age)),\n",
    "                                     labels = c(\"<40\",\"40-60\",\">60\"), include.lowest = TRUE)\n",
    "obs$age_bin5<- cut(obs$age,  breaks = c(min(obs$age),40,50,60,70,80,max(obs$age)),\n",
    "                                     labels = c(\"<40\",\"40-50\",'50-60',\"60-70\",'70-80','>80'), include.lowest = TRUE)\n",
    "\n",
    "obs$age_bin2=  ifelse(obs$age > 60, '>60','<=60')"
   ]
  },
  {
   "cell_type": "code",
   "execution_count": 55,
   "id": "ac42a9f4",
   "metadata": {},
   "outputs": [
    {
     "data": {
      "text/html": [
       "<table class=\"dataframe\">\n",
       "<caption>A data.frame: 2 × 11</caption>\n",
       "<thead>\n",
       "\t<tr><th></th><th scope=col>X</th><th scope=col>celltype</th><th scope=col>cytotoxic_score</th><th scope=col>exhausted_score</th><th scope=col>age</th><th scope=col>Sample</th><th scope=col>study</th><th scope=col>age_bin4</th><th scope=col>age_bin3</th><th scope=col>age_bin5</th><th scope=col>age_bin2</th></tr>\n",
       "\t<tr><th></th><th scope=col>&lt;chr&gt;</th><th scope=col>&lt;chr&gt;</th><th scope=col>&lt;dbl&gt;</th><th scope=col>&lt;dbl&gt;</th><th scope=col>&lt;int&gt;</th><th scope=col>&lt;chr&gt;</th><th scope=col>&lt;chr&gt;</th><th scope=col>&lt;fct&gt;</th><th scope=col>&lt;fct&gt;</th><th scope=col>&lt;fct&gt;</th><th scope=col>&lt;chr&gt;</th></tr>\n",
       "</thead>\n",
       "<tbody>\n",
       "\t<tr><th scope=row>1</th><td>AAACCTGAGATATGCA_LUNG_T25</td><td>C3-CD4-CXCR6</td><td>-0.3608342</td><td>-0.2154291</td><td>69</td><td>LUNG_T25</td><td>nsclc_inhouse_kim_etal</td><td>60-80</td><td>&gt;60</td><td>60-70</td><td>&gt;60</td></tr>\n",
       "\t<tr><th scope=row>2</th><td>AAACCTGAGGATCGCA_LUNG_T28</td><td>C11-CD8-LAYN</td><td> 1.5525668</td><td> 0.3933895</td><td>73</td><td>LUNG_T28</td><td>nsclc_inhouse_kim_etal</td><td>60-80</td><td>&gt;60</td><td>70-80</td><td>&gt;60</td></tr>\n",
       "</tbody>\n",
       "</table>\n"
      ],
      "text/latex": [
       "A data.frame: 2 × 11\n",
       "\\begin{tabular}{r|lllllllllll}\n",
       "  & X & celltype & cytotoxic\\_score & exhausted\\_score & age & Sample & study & age\\_bin4 & age\\_bin3 & age\\_bin5 & age\\_bin2\\\\\n",
       "  & <chr> & <chr> & <dbl> & <dbl> & <int> & <chr> & <chr> & <fct> & <fct> & <fct> & <chr>\\\\\n",
       "\\hline\n",
       "\t1 & AAACCTGAGATATGCA\\_LUNG\\_T25 & C3-CD4-CXCR6 & -0.3608342 & -0.2154291 & 69 & LUNG\\_T25 & nsclc\\_inhouse\\_kim\\_etal & 60-80 & >60 & 60-70 & >60\\\\\n",
       "\t2 & AAACCTGAGGATCGCA\\_LUNG\\_T28 & C11-CD8-LAYN &  1.5525668 &  0.3933895 & 73 & LUNG\\_T28 & nsclc\\_inhouse\\_kim\\_etal & 60-80 & >60 & 70-80 & >60\\\\\n",
       "\\end{tabular}\n"
      ],
      "text/markdown": [
       "\n",
       "A data.frame: 2 × 11\n",
       "\n",
       "| <!--/--> | X &lt;chr&gt; | celltype &lt;chr&gt; | cytotoxic_score &lt;dbl&gt; | exhausted_score &lt;dbl&gt; | age &lt;int&gt; | Sample &lt;chr&gt; | study &lt;chr&gt; | age_bin4 &lt;fct&gt; | age_bin3 &lt;fct&gt; | age_bin5 &lt;fct&gt; | age_bin2 &lt;chr&gt; |\n",
       "|---|---|---|---|---|---|---|---|---|---|---|---|\n",
       "| 1 | AAACCTGAGATATGCA_LUNG_T25 | C3-CD4-CXCR6 | -0.3608342 | -0.2154291 | 69 | LUNG_T25 | nsclc_inhouse_kim_etal | 60-80 | &gt;60 | 60-70 | &gt;60 |\n",
       "| 2 | AAACCTGAGGATCGCA_LUNG_T28 | C11-CD8-LAYN |  1.5525668 |  0.3933895 | 73 | LUNG_T28 | nsclc_inhouse_kim_etal | 60-80 | &gt;60 | 70-80 | &gt;60 |\n",
       "\n"
      ],
      "text/plain": [
       "  X                         celltype     cytotoxic_score exhausted_score age\n",
       "1 AAACCTGAGATATGCA_LUNG_T25 C3-CD4-CXCR6 -0.3608342      -0.2154291      69 \n",
       "2 AAACCTGAGGATCGCA_LUNG_T28 C11-CD8-LAYN  1.5525668       0.3933895      73 \n",
       "  Sample   study                  age_bin4 age_bin3 age_bin5 age_bin2\n",
       "1 LUNG_T25 nsclc_inhouse_kim_etal 60-80    >60      60-70    >60     \n",
       "2 LUNG_T28 nsclc_inhouse_kim_etal 60-80    >60      70-80    >60     "
      ]
     },
     "metadata": {},
     "output_type": "display_data"
    }
   ],
   "source": [
    "head(obs,n=2)"
   ]
  },
  {
   "cell_type": "code",
   "execution_count": 56,
   "id": "0272e560",
   "metadata": {},
   "outputs": [
    {
     "data": {
      "text/html": [
       "<style>\n",
       ".list-inline {list-style: none; margin:0; padding: 0}\n",
       ".list-inline>li {display: inline-block}\n",
       ".list-inline>li:not(:last-child)::after {content: \"\\00b7\"; padding: 0 .5ex}\n",
       "</style>\n",
       "<ol class=list-inline><li>'nsclc_inhouse_kim_etal'</li><li>'nsclc_leader_etal'</li><li>'CRC_GSE178341'</li><li>'HCC_GSE140228'</li><li>'GC_GSE183904'</li></ol>\n"
      ],
      "text/latex": [
       "\\begin{enumerate*}\n",
       "\\item 'nsclc\\_inhouse\\_kim\\_etal'\n",
       "\\item 'nsclc\\_leader\\_etal'\n",
       "\\item 'CRC\\_GSE178341'\n",
       "\\item 'HCC\\_GSE140228'\n",
       "\\item 'GC\\_GSE183904'\n",
       "\\end{enumerate*}\n"
      ],
      "text/markdown": [
       "1. 'nsclc_inhouse_kim_etal'\n",
       "2. 'nsclc_leader_etal'\n",
       "3. 'CRC_GSE178341'\n",
       "4. 'HCC_GSE140228'\n",
       "5. 'GC_GSE183904'\n",
       "\n",
       "\n"
      ],
      "text/plain": [
       "[1] \"nsclc_inhouse_kim_etal\" \"nsclc_leader_etal\"      \"CRC_GSE178341\"         \n",
       "[4] \"HCC_GSE140228\"          \"GC_GSE183904\"          "
      ]
     },
     "metadata": {},
     "output_type": "display_data"
    }
   ],
   "source": [
    "unique(obs$study)"
   ]
  },
  {
   "cell_type": "code",
   "execution_count": 57,
   "id": "5167dd47",
   "metadata": {},
   "outputs": [
    {
     "data": {
      "text/plain": [
       "                        \n",
       "                         <40 40-50 50-60 60-70 70-80 >80\n",
       "  CRC_GSE178341            3     8    16    11    15   9\n",
       "  GC_GSE183904             1     0     3    10     6   6\n",
       "  HCC_GSE140228            1     2     3     3     0   1\n",
       "  nsclc_inhouse_kim_etal   5     0     8     5     1   0\n",
       "  nsclc_leader_etal        0     0     3    17    27   5"
      ]
     },
     "metadata": {},
     "output_type": "display_data"
    }
   ],
   "source": [
    "meta= obs[!duplicated(obs$Sample),]\n",
    "table(meta$study, meta$age_bin5)"
   ]
  },
  {
   "cell_type": "code",
   "execution_count": 115,
   "id": "8b795439",
   "metadata": {},
   "outputs": [
    {
     "data": {
      "text/html": [
       "<strong>png:</strong> 2"
      ],
      "text/latex": [
       "\\textbf{png:} 2"
      ],
      "text/markdown": [
       "**png:** 2"
      ],
      "text/plain": [
       "png \n",
       "  2 "
      ]
     },
     "metadata": {},
     "output_type": "display_data"
    },
    {
     "data": {
      "text/html": [
       "<strong>png:</strong> 2"
      ],
      "text/latex": [
       "\\textbf{png:} 2"
      ],
      "text/markdown": [
       "**png:** 2"
      ],
      "text/plain": [
       "png \n",
       "  2 "
      ]
     },
     "metadata": {},
     "output_type": "display_data"
    },
    {
     "data": {
      "text/html": [
       "<strong>png:</strong> 2"
      ],
      "text/latex": [
       "\\textbf{png:} 2"
      ],
      "text/markdown": [
       "**png:** 2"
      ],
      "text/plain": [
       "png \n",
       "  2 "
      ]
     },
     "metadata": {},
     "output_type": "display_data"
    },
    {
     "data": {
      "text/html": [
       "<strong>png:</strong> 2"
      ],
      "text/latex": [
       "\\textbf{png:} 2"
      ],
      "text/markdown": [
       "**png:** 2"
      ],
      "text/plain": [
       "png \n",
       "  2 "
      ]
     },
     "metadata": {},
     "output_type": "display_data"
    },
    {
     "data": {
      "text/html": [
       "<strong>png:</strong> 2"
      ],
      "text/latex": [
       "\\textbf{png:} 2"
      ],
      "text/markdown": [
       "**png:** 2"
      ],
      "text/plain": [
       "png \n",
       "  2 "
      ]
     },
     "metadata": {},
     "output_type": "display_data"
    }
   ],
   "source": [
    "library(ggpubr)\n",
    "library(khroma)\n",
    "library(ggpubr)\n",
    "themeDivClust2 <-\n",
    "  list(\n",
    "    geom_boxplot(color = 'black',  width = 0.3, size = 0.3, fill = NA,outlier.shape = NA),\n",
    "    geom_violin(color = 'black', scale = 'width',  linewidth = 0.5,trim = TRUE,alpha = 0.8),\n",
    "    #geom_jitter(shape = 21, color = \"gray\", fill = \"white\", width = 0.1, size = 2, lwd = 0.05),\n",
    "    #stat_compare_means(aes(group = response_bin),label.x.npc = c(\"middle\"),label.y.npc=c(\"top\"),label = \"p.signif\",vjust = 1),\n",
    "    #geom_violin(color = \"black\", draw_quantiles = 0.5, lwd = 0.5),\n",
    "    #geom_jitter(shape = 21, color = \"gray\", fill = \"white\", width = 0.1, size = 1, lwd = 0.05),\n",
    "    xlab(\"\"),\n",
    "    #scale_fill_muted(),\n",
    "    #scale_color_muted(), \n",
    "    \n",
    "    #scale_fill_manual(values = c(\"#E69F00\",\"#56B4E9\")),\n",
    "    scale_fill_manual(values = rev(c(\"#E69F00\",\"#56B4E9\",\"#009E73\",'#EEDD88'))),\n",
    "    theme_minimal(),\n",
    "    theme(legend.position = \"none\",\n",
    "          #legend.justification = c(0,1),\n",
    "          #legend.title = element_blank(),\n",
    "          legend.text = element_text(size=8),\n",
    "          legend.title = element_text(size=8),\n",
    "          aspect.ratio = 1.2,\n",
    "          #plot.margin = margin(t=5,r=20,b=5,l=20,unit=\"pt\"),\n",
    "          axis.title.y = element_text(size=8,colour=\"black\"),\n",
    "          axis.title.x = element_text(size=8,colour=\"black\"),\n",
    "          #axis.title.x = element_blank(),\n",
    "          axis.text = element_text(size=8,colour=\"black\",angle=0),\n",
    "          axis.text.x = element_text(size=8,colour=\"black\",angle=45,hjust=1),\n",
    "          #axis.text.x = element_blank(),\n",
    "          plot.title = element_text(size=8,face=\"bold\",hjust = 0.5),\n",
    "          panel.grid.major = element_blank(),\n",
    "          panel.grid.minor = element_blank(),\n",
    "          panel.border = element_rect(colour = \"black\", fill=NA, size=0.5),\n",
    "          axis.line = element_line(colour = \"black\"),\n",
    "          axis.ticks.length=unit(.1, \"cm\"),\n",
    "          axis.ticks = element_line(colour = \"black\", size = 0.5)\n",
    "    )\n",
    "  )\n",
    "###-----\n",
    "### for nsclc 1\n",
    "###-----\n",
    "gg1_nsclc1= obs  %>% filter(study== 'nsclc_inhouse_kim_etal') %>%\n",
    "mutate(age_group= cut(age,  breaks = c(min(age),40,60,max(age)),\n",
    "                                     labels = c(\"<40\",\"40-60\",\">60\"), include.lowest = TRUE)) %>%\n",
    "ggplot(aes(x = age_group, y = exhausted_score, fill = age_group) ) +\n",
    "  ylab(\"exhausted_score\") +\n",
    "  #facet_wrap(.~study,scales = \"free\",nrow = 1)+\n",
    "  themeDivClust2+\n",
    "  stat_compare_means(aes(group = age_group),label.x.npc = c(\"middle\"),\n",
    "                     label.y.npc=c(\"top\"), label = \"p.signif\",vjust = 1)+\n",
    "ggtitle('NSCLC_inhouse+kim')\n",
    "  \n",
    "#\n",
    "gg2_nsclc1= obs  %>% filter(study== 'nsclc_inhouse_kim_etal') %>%\n",
    "mutate(age_group= cut(age,  breaks = c(min(age),40,60,max(age)),\n",
    "                                     labels = c(\"<40\",\"40-60\",\">60\"), include.lowest = TRUE)) %>%\n",
    "  ggplot(aes(x = age_group, y = cytotoxic_score, fill = age_group) ) +\n",
    "  ylab(\"cytotoxic_score\") +\n",
    "#facet_wrap(.~study,scales = \"free\",nrow = 1)+\n",
    "  themeDivClust2+\n",
    "  stat_compare_means(aes(group = age_group),label.x.npc = c(\"middle\"),\n",
    "                     label.y.npc=c(\"top\"), label = \"p.signif\",vjust = 1)+\n",
    "ggtitle('NSCLC_inhouse+kim')\n",
    "#\n",
    "pdf('boxplot_pan_signature_kiminhouse.pdf',width = 8,height = 5)\n",
    "cowplot::plot_grid(gg1_nsclc1,gg2_nsclc1, ncol=2)\n",
    "dev.off()\n",
    "###-----\n",
    "### for nsclc_leader_etal\n",
    "###-----\n",
    "gg1_nsclc2= obs  %>% filter(study== 'nsclc_leader_etal') %>%\n",
    "mutate(age_group= cut(age,  breaks = c(min(age),60,80,max(age)),\n",
    "                                     labels = c(\"<60\",\"60-80\",\">80\"), include.lowest = TRUE)) %>%\n",
    "ggplot(aes(x = age_group, y = exhausted_score, fill = age_group) ) +\n",
    "  ylab(\"exhausted_score\") +\n",
    "  #facet_wrap(.~study,scales = \"free\",nrow = 1)+\n",
    "  themeDivClust2+\n",
    "  stat_compare_means(aes(group = age_group),label.x.npc = c(\"middle\"),\n",
    "                     label.y.npc=c(\"top\"), label = \"p.signif\",vjust = 1)+\n",
    "ggtitle('NSCLC_Leader et al')\n",
    "#\n",
    "gg2_nsclc2= obs  %>% filter(study== 'nsclc_leader_etal') %>%\n",
    "mutate(age_group= cut(age,  breaks = c(min(age),60,80,max(age)),\n",
    "                                     labels = c(\"<40\",\"60-80\",\">80\"), include.lowest = TRUE)) %>%\n",
    "  ggplot(aes(x = age_group, y = cytotoxic_score, fill = age_group) ) +\n",
    "  ylab(\"cytotoxic_score\") +\n",
    "#facet_wrap(.~study,scales = \"free\",nrow = 1)+\n",
    "  themeDivClust2+\n",
    "  stat_compare_means(aes(group = age_group),label.x.npc = c(\"middle\"),\n",
    "                     label.y.npc=c(\"top\"), label = \"p.signif\",vjust = 1)+\n",
    "ggtitle('NSCLC_Leader et al')\n",
    "#\n",
    "pdf('boxplot_pan_signature_nsclc_leader_etal.pdf',width = 8,height = 5)\n",
    "cowplot::plot_grid(gg1_nsclc2,gg2_nsclc2, ncol=2)\n",
    "dev.off()\n",
    "###-----\n",
    "### for CRC\n",
    "###-----\n",
    "gg1_crc= obs  %>% filter(study== 'CRC_GSE178341') %>%\n",
    "mutate(age_group= cut(age,  breaks = c(min(age),40,60,80,max(age)),\n",
    "                                     labels = c(\"<40\",\"40-60\",'60-80',\">80\"), include.lowest = TRUE)) %>%\n",
    "ggplot(aes(x = age_group, y = exhausted_score, fill = age_group) ) +\n",
    "  ylab(\"exhausted_score\") +\n",
    "  #facet_wrap(.~study,scales = \"free\",nrow = 1)+\n",
    "  themeDivClust2+\n",
    "  stat_compare_means(aes(group = age_group),label.x.npc = c(\"middle\"),\n",
    "                     label.y.npc=c(\"top\"), label = \"p.signif\",vjust = 1)+\n",
    "ggtitle('CRC_GSE178341')\n",
    "#\n",
    "gg2_crc= obs  %>% filter(study== 'CRC_GSE178341') %>%\n",
    "mutate(age_group= cut(age,  breaks = c(min(age),40,60,80,max(age)),\n",
    "                                     labels = c(\"<40\",\"40-60\",'60-80',\">80\"), include.lowest = TRUE)) %>%\n",
    "  ggplot(aes(x = age_group, y = cytotoxic_score, fill = age_group) ) +\n",
    "  ylab(\"cytotoxic_score\") +\n",
    "#facet_wrap(.~study,scales = \"free\",nrow = 1)+\n",
    "  themeDivClust2+\n",
    "  stat_compare_means(aes(group = age_group),label.x.npc = c(\"middle\"),\n",
    "                     label.y.npc=c(\"top\"), label = \"p.signif\",vjust = 1)+\n",
    "ggtitle('CRC_GSE178341')\n",
    "#\n",
    "pdf('boxplot_pan_signature_CRC_GSE178341.pdf',width = 8,height = 5)\n",
    "cowplot::plot_grid(gg1_crc,gg2_crc, ncol=2)\n",
    "dev.off()\n",
    "###-----\n",
    "### for GC\n",
    "###-----\n",
    "gg1_gc= obs  %>% filter(study== 'GC_GSE183904') %>%\n",
    "mutate(age_group= cut(age,  breaks = c(min(age),40,60,80,max(age)),\n",
    "                                     labels = c(\"<40\",\"40-60\",'60-80',\">80\"), include.lowest = TRUE)) %>%\n",
    "ggplot(aes(x = age_group, y = exhausted_score, fill = age_group) ) +\n",
    "  ylab(\"exhausted_score\") +\n",
    "  #facet_wrap(.~study,scales = \"free\",nrow = 1)+\n",
    "  themeDivClust2+\n",
    "  stat_compare_means(aes(group = age_group),label.x.npc = c(\"middle\"),\n",
    "                     label.y.npc=c(\"top\"), label = \"p.signif\",vjust = 1)+\n",
    "ggtitle('GC_GSE183904')\n",
    "#\n",
    "gg2_gc= obs  %>% filter(study== 'GC_GSE183904') %>%\n",
    "mutate(age_group= cut(age,  breaks = c(min(age),40,60,80,max(age)),\n",
    "                                     labels = c(\"<40\",\"40-60\",'60-80',\">80\"), include.lowest = TRUE)) %>%\n",
    "  ggplot(aes(x = age_group, y = cytotoxic_score, fill = age_group) ) +\n",
    "  ylab(\"cytotoxic_score\") +\n",
    "#facet_wrap(.~study,scales = \"free\",nrow = 1)+\n",
    "  themeDivClust2+\n",
    "  stat_compare_means(aes(group = age_group),label.x.npc = c(\"middle\"),\n",
    "                     label.y.npc=c(\"top\"), label = \"p.signif\",vjust = 1)+\n",
    "ggtitle('GC_GSE183904')\n",
    "#\n",
    "pdf('boxplot_pan_signature_GC_GSE183904.pdf',width = 8,height = 5)\n",
    "cowplot::plot_grid(gg1_gc,gg2_gc, ncol=2)\n",
    "dev.off()\n",
    "\n",
    "###-----\n",
    "### for HCC\n",
    "###-----\n",
    "gg1_hcc= obs  %>% filter(study== 'HCC_GSE140228') %>%\n",
    "mutate(age_group= cut(age,  breaks = c(min(age),40,60,80,max(age)),\n",
    "                                     labels = c(\"<40\",\"40-60\",'60-80',\">80\"), include.lowest = TRUE)) %>%\n",
    "ggplot(aes(x = age_group, y = exhausted_score, fill = age_group) ) +\n",
    "  ylab(\"exhausted_score\") +\n",
    "  #facet_wrap(.~study,scales = \"free\",nrow = 1)+\n",
    "  themeDivClust2+\n",
    "  stat_compare_means(aes(group = age_group),label.x.npc = c(\"middle\"),\n",
    "                     label.y.npc=c(\"top\"), label = \"p.signif\",vjust = 1)+\n",
    "ggtitle('HCC_GSE140228')\n",
    "#\n",
    "gg2_hcc= obs  %>% filter(study== 'HCC_GSE140228') %>%\n",
    "mutate(age_group= cut(age,  breaks = c(min(age),40,60,80,max(age)),\n",
    "                                     labels = c(\"<40\",\"40-60\",'60-80',\">80\"), include.lowest = TRUE)) %>%\n",
    "  ggplot(aes(x = age_group, y = cytotoxic_score, fill = age_group) ) +\n",
    "  ylab(\"cytotoxic_score\") +\n",
    "#facet_wrap(.~study,scales = \"free\",nrow = 1)+\n",
    "  themeDivClust2+\n",
    "  stat_compare_means(aes(group = age_group),label.x.npc = c(\"middle\"),\n",
    "                     label.y.npc=c(\"top\"), label = \"p.signif\",vjust = 1)+\n",
    "ggtitle('HCC_GSE140228')\n",
    "#\n",
    "pdf('boxplot_pan_signature_HCC_GSE140228.pdf',width = 8,height = 5)\n",
    "cowplot::plot_grid(gg1_gc,gg2_gc, ncol=2)\n",
    "dev.off()"
   ]
  },
  {
   "cell_type": "code",
   "execution_count": 116,
   "id": "088c2815",
   "metadata": {},
   "outputs": [
    {
     "data": {
      "text/html": [
       "<strong>png:</strong> 2"
      ],
      "text/latex": [
       "\\textbf{png:} 2"
      ],
      "text/markdown": [
       "**png:** 2"
      ],
      "text/plain": [
       "png \n",
       "  2 "
      ]
     },
     "metadata": {},
     "output_type": "display_data"
    }
   ],
   "source": [
    "pdf('boxplot_pan_signature_merge.pdf',width = 8,height = 10)\n",
    "cowplot::plot_grid(gg1_nsclc1,gg2_nsclc1, \n",
    "                   gg1_nsclc2, gg2_nsclc2, \n",
    "                   gg1_crc,gg2_crc,\n",
    "                   gg1_gc,gg2_gc,\n",
    "                   gg1_hcc, gg2_hcc,ncol=2\n",
    "                \n",
    "                  )\n",
    "dev.off()"
   ]
  },
  {
   "cell_type": "code",
   "execution_count": 118,
   "id": "c8c7d8c8",
   "metadata": {},
   "outputs": [
    {
     "data": {
      "text/plain": [
       "                   \n",
       "                    CRC_GSE178341 GC_GSE183904 HCC_GSE140228\n",
       "  C1-CD4-CCR7                   0            0             0\n",
       "  C10-CD8-ZNF683                0            0             0\n",
       "  C11-CD8-LAYN                  0            0             0\n",
       "  C12-CD8-TRDV1                 0            0             0\n",
       "  C13-NK-FCGR3A                 0            0             0\n",
       "  C14-NK-XCL1                   0            0             0\n",
       "  C15-CD4/CD8-ISG15             0            0             0\n",
       "  C16-CD4/CD8-MKI67             0            0             0\n",
       "  C2-CD4-HSPA1A                 0            0             0\n",
       "  C3-CD4-CXCR6                  0            0             0\n",
       "  C4-CD4-CXCL13                 0            0             0\n",
       "  C5-CD4-FOXP3                  0            0             0\n",
       "  C6-CD4-RORC                   0            0             0\n",
       "  C7-CD8-SLC4A10                0            0             0\n",
       "  C8-CD8-GZMK                   0            0             0\n",
       "  C9-CD8-CX3CR1                 0            0             0\n",
       "  CD4-ANXA1                     0         2795             0\n",
       "  CD4-CCR7                      0         3004             0\n",
       "  CD4-CXCL13                    0         1485             0\n",
       "  CD4-FOXP3                     0         3836             0\n",
       "  CD4-PRF1                      0         1845             0\n",
       "  CD4T                      22077            0          5783\n",
       "  CD8-CD52                      0         2114             0\n",
       "  CD8-CXCL13                    0         1469             0\n",
       "  CD8-FOS                       0         1282             0\n",
       "  CD8-FTH1                      0         3670             0\n",
       "  CD8-GZMH                      0         2434             0\n",
       "  CD8-GZMK                      0         3944             0\n",
       "  CD8-ISG15                     0          334             0\n",
       "  CD8-STMN1                     0         1209             0\n",
       "  CD8-ZNF683                    0         2990             0\n",
       "  CD8T                      16008            0          4596\n",
       "                   \n",
       "                    nsclc_inhouse_kim_etal nsclc_leader_etal\n",
       "  C1-CD4-CCR7                         3246                 0\n",
       "  C10-CD8-ZNF683                      1944                 0\n",
       "  C11-CD8-LAYN                         364                 0\n",
       "  C12-CD8-TRDV1                        126                 0\n",
       "  C13-NK-FCGR3A                       1552                 0\n",
       "  C14-NK-XCL1                          271                 0\n",
       "  C15-CD4/CD8-ISG15                    134                 0\n",
       "  C16-CD4/CD8-MKI67                    191                 0\n",
       "  C2-CD4-HSPA1A                       1909                 0\n",
       "  C3-CD4-CXCR6                        1122                 0\n",
       "  C4-CD4-CXCL13                        766                 0\n",
       "  C5-CD4-FOXP3                        1554                 0\n",
       "  C6-CD4-RORC                          692                 0\n",
       "  C7-CD8-SLC4A10                       237                 0\n",
       "  C8-CD8-GZMK                         1442                 0\n",
       "  C9-CD8-CX3CR1                        527                 0\n",
       "  CD4-ANXA1                              0                 0\n",
       "  CD4-CCR7                               0                 0\n",
       "  CD4-CXCL13                             0                 0\n",
       "  CD4-FOXP3                              0                 0\n",
       "  CD4-PRF1                               0                 0\n",
       "  CD4T                                   0             64031\n",
       "  CD8-CD52                               0                 0\n",
       "  CD8-CXCL13                             0                 0\n",
       "  CD8-FOS                                0                 0\n",
       "  CD8-FTH1                               0                 0\n",
       "  CD8-GZMH                               0                 0\n",
       "  CD8-GZMK                               0                 0\n",
       "  CD8-ISG15                              0                 0\n",
       "  CD8-STMN1                              0                 0\n",
       "  CD8-ZNF683                             0                 0\n",
       "  CD8T                                   0             26332"
      ]
     },
     "metadata": {},
     "output_type": "display_data"
    }
   ],
   "source": [
    "table(obs$celltype,obs$study)"
   ]
  },
  {
   "cell_type": "code",
   "execution_count": 119,
   "id": "4125662c",
   "metadata": {},
   "outputs": [
    {
     "data": {
      "text/html": [
       "<strong>png:</strong> 2"
      ],
      "text/latex": [
       "\\textbf{png:} 2"
      ],
      "text/markdown": [
       "**png:** 2"
      ],
      "text/plain": [
       "png \n",
       "  2 "
      ]
     },
     "metadata": {},
     "output_type": "display_data"
    },
    {
     "data": {
      "text/html": [
       "<strong>png:</strong> 2"
      ],
      "text/latex": [
       "\\textbf{png:} 2"
      ],
      "text/markdown": [
       "**png:** 2"
      ],
      "text/plain": [
       "png \n",
       "  2 "
      ]
     },
     "metadata": {},
     "output_type": "display_data"
    },
    {
     "data": {
      "text/html": [
       "<strong>png:</strong> 2"
      ],
      "text/latex": [
       "\\textbf{png:} 2"
      ],
      "text/markdown": [
       "**png:** 2"
      ],
      "text/plain": [
       "png \n",
       "  2 "
      ]
     },
     "metadata": {},
     "output_type": "display_data"
    },
    {
     "data": {
      "text/html": [
       "<strong>png:</strong> 2"
      ],
      "text/latex": [
       "\\textbf{png:} 2"
      ],
      "text/markdown": [
       "**png:** 2"
      ],
      "text/plain": [
       "png \n",
       "  2 "
      ]
     },
     "metadata": {},
     "output_type": "display_data"
    },
    {
     "data": {
      "text/html": [
       "<strong>png:</strong> 2"
      ],
      "text/latex": [
       "\\textbf{png:} 2"
      ],
      "text/markdown": [
       "**png:** 2"
      ],
      "text/plain": [
       "png \n",
       "  2 "
      ]
     },
     "metadata": {},
     "output_type": "display_data"
    }
   ],
   "source": [
    "###\n",
    "### only CD8 T cell\n",
    "###\n",
    "\n",
    "###-----\n",
    "### for nsclc 1\n",
    "###-----\n",
    "tarid = 'kiminhouse_CD8_'\n",
    "\n",
    "gg1_nsclc1= obs  %>% filter(study== 'nsclc_inhouse_kim_etal') %>% filter(grepl('CD8', celltype)) %>%\n",
    "mutate(age_group= cut(age,  breaks = c(min(age),40,60,max(age)),\n",
    "                                     labels = c(\"<40\",\"40-60\",\">60\"), include.lowest = TRUE)) %>%\n",
    "ggplot(aes(x = age_group, y = exhausted_score, fill = age_group) ) +\n",
    "  ylab(\"exhausted_score\") +\n",
    "  #facet_wrap(.~study,scales = \"free\",nrow = 1)+\n",
    "  themeDivClust2+\n",
    "  stat_compare_means(aes(group = age_group),label.x.npc = c(\"middle\"),\n",
    "                     label.y.npc=c(\"top\"), label = \"p.signif\",vjust = 1)+\n",
    "ggtitle('NSCLC_inhouse+kim')\n",
    "  \n",
    "#\n",
    "gg2_nsclc1= obs  %>% filter(study== 'nsclc_inhouse_kim_etal') %>% filter(grepl('CD8', celltype)) %>%\n",
    "mutate(age_group= cut(age,  breaks = c(min(age),40,60,max(age)),\n",
    "                                     labels = c(\"<40\",\"40-60\",\">60\"), include.lowest = TRUE)) %>%\n",
    "  ggplot(aes(x = age_group, y = cytotoxic_score, fill = age_group) ) +\n",
    "  ylab(\"cytotoxic_score\") +\n",
    "#facet_wrap(.~study,scales = \"free\",nrow = 1)+\n",
    "  themeDivClust2+\n",
    "  stat_compare_means(aes(group = age_group),label.x.npc = c(\"middle\"),\n",
    "                     label.y.npc=c(\"top\"), label = \"p.signif\",vjust = 1)+\n",
    "ggtitle('NSCLC_inhouse+kim')\n",
    "#\n",
    "pdf(paste0(tarid,'boxplot_pan_signature.pdf'),width = 8,height = 5)\n",
    "cowplot::plot_grid(gg1_nsclc1,gg2_nsclc1, ncol=2)\n",
    "dev.off()\n",
    "###-----\n",
    "### for nsclc_leader_etal\n",
    "###-----\n",
    "tarid= 'nsclc_leader_etal_CD8_'\n",
    "\n",
    "gg1_nsclc2= obs  %>% filter(study== 'nsclc_leader_etal') %>% filter(grepl('CD8', celltype)) %>%\n",
    "mutate(age_group= cut(age,  breaks = c(min(age),60,80,max(age)),\n",
    "                                     labels = c(\"<60\",\"60-80\",\">80\"), include.lowest = TRUE)) %>%\n",
    "ggplot(aes(x = age_group, y = exhausted_score, fill = age_group) ) +\n",
    "  ylab(\"exhausted_score\") +\n",
    "  #facet_wrap(.~study,scales = \"free\",nrow = 1)+\n",
    "  themeDivClust2+\n",
    "  stat_compare_means(aes(group = age_group),label.x.npc = c(\"middle\"),\n",
    "                     label.y.npc=c(\"top\"), label = \"p.signif\",vjust = 1)+\n",
    "ggtitle('NSCLC_Leader et al')\n",
    "#\n",
    "gg2_nsclc2= obs  %>% filter(study== 'nsclc_leader_etal') %>% filter(grepl('CD8', celltype)) %>%\n",
    "mutate(age_group= cut(age,  breaks = c(min(age),60,80,max(age)),\n",
    "                                     labels = c(\"<40\",\"60-80\",\">80\"), include.lowest = TRUE)) %>%\n",
    "  ggplot(aes(x = age_group, y = cytotoxic_score, fill = age_group) ) +\n",
    "  ylab(\"cytotoxic_score\") +\n",
    "#facet_wrap(.~study,scales = \"free\",nrow = 1)+\n",
    "  themeDivClust2+\n",
    "  stat_compare_means(aes(group = age_group),label.x.npc = c(\"middle\"),\n",
    "                     label.y.npc=c(\"top\"), label = \"p.signif\",vjust = 1)+\n",
    "ggtitle('NSCLC_Leader et al')\n",
    "#\n",
    "pdf(paste0(tarid, 'boxplot_pan_signature.pdf'),width = 8,height = 5)\n",
    "cowplot::plot_grid(gg1_nsclc2,gg2_nsclc2, ncol=2)\n",
    "dev.off()\n",
    "###-----\n",
    "### for CRC\n",
    "###-----\n",
    "tarid= 'CRC_GSE178341_CD8_'\n",
    "gg1_crc= obs  %>% filter(study== 'CRC_GSE178341') %>% filter(grepl('CD8', celltype)) %>%\n",
    "mutate(age_group= cut(age,  breaks = c(min(age),40,60,80,max(age)),\n",
    "                                     labels = c(\"<40\",\"40-60\",'60-80',\">80\"), include.lowest = TRUE)) %>%\n",
    "ggplot(aes(x = age_group, y = exhausted_score, fill = age_group) ) +\n",
    "  ylab(\"exhausted_score\") +\n",
    "  #facet_wrap(.~study,scales = \"free\",nrow = 1)+\n",
    "  themeDivClust2+\n",
    "  stat_compare_means(aes(group = age_group),label.x.npc = c(\"middle\"),\n",
    "                     label.y.npc=c(\"top\"), label = \"p.signif\",vjust = 1)+\n",
    "ggtitle('CRC_GSE178341')\n",
    "#\n",
    "gg2_crc= obs  %>% filter(study== 'CRC_GSE178341') %>% filter(grepl('CD8', celltype)) %>%\n",
    "mutate(age_group= cut(age,  breaks = c(min(age),40,60,80,max(age)),\n",
    "                                     labels = c(\"<40\",\"40-60\",'60-80',\">80\"), include.lowest = TRUE)) %>%\n",
    "  ggplot(aes(x = age_group, y = cytotoxic_score, fill = age_group) ) +\n",
    "  ylab(\"cytotoxic_score\") +\n",
    "#facet_wrap(.~study,scales = \"free\",nrow = 1)+\n",
    "  themeDivClust2+\n",
    "  stat_compare_means(aes(group = age_group),label.x.npc = c(\"middle\"),\n",
    "                     label.y.npc=c(\"top\"), label = \"p.signif\",vjust = 1)+\n",
    "ggtitle('CRC_GSE178341')\n",
    "#\n",
    "pdf(paste0(tarid, 'boxplot_pan_signature.pdf'),width = 8,height = 5)\n",
    "cowplot::plot_grid(gg1_crc,gg2_crc, ncol=2)\n",
    "dev.off()\n",
    "###-----\n",
    "### for GC\n",
    "###-----\n",
    "tarid= 'GC_GSE183904_CD8_'\n",
    "gg1_gc= obs  %>% filter(study== 'GC_GSE183904') %>% filter(grepl('CD8', celltype)) %>%\n",
    "mutate(age_group= cut(age,  breaks = c(min(age),40,60,80,max(age)),\n",
    "                                     labels = c(\"<40\",\"40-60\",'60-80',\">80\"), include.lowest = TRUE)) %>%\n",
    "ggplot(aes(x = age_group, y = exhausted_score, fill = age_group) ) +\n",
    "  ylab(\"exhausted_score\") +\n",
    "  #facet_wrap(.~study,scales = \"free\",nrow = 1)+\n",
    "  themeDivClust2+\n",
    "  stat_compare_means(aes(group = age_group),label.x.npc = c(\"middle\"),\n",
    "                     label.y.npc=c(\"top\"), label = \"p.signif\",vjust = 1)+\n",
    "ggtitle('GC_GSE183904')\n",
    "#\n",
    "gg2_gc= obs  %>% filter(study== 'GC_GSE183904') %>% filter(grepl('CD8', celltype)) %>%\n",
    "mutate(age_group= cut(age,  breaks = c(min(age),40,60,80,max(age)),\n",
    "                                     labels = c(\"<40\",\"40-60\",'60-80',\">80\"), include.lowest = TRUE)) %>%\n",
    "  ggplot(aes(x = age_group, y = cytotoxic_score, fill = age_group) ) +\n",
    "  ylab(\"cytotoxic_score\") +\n",
    "#facet_wrap(.~study,scales = \"free\",nrow = 1)+\n",
    "  themeDivClust2+\n",
    "  stat_compare_means(aes(group = age_group),label.x.npc = c(\"middle\"),\n",
    "                     label.y.npc=c(\"top\"), label = \"p.signif\",vjust = 1)+\n",
    "ggtitle('GC_GSE183904')\n",
    "#\n",
    "pdf(paste0(tarid, 'boxplot_pan_signature.pdf'),width = 8,height = 5)\n",
    "cowplot::plot_grid(gg1_gc,gg2_gc, ncol=2)\n",
    "dev.off()\n",
    "\n",
    "###-----\n",
    "### for HCC\n",
    "###-----\n",
    "tarid = 'HCC_GSE140228_CD8_'\n",
    "\n",
    "gg1_hcc= obs  %>% filter(study== 'HCC_GSE140228') %>% filter(grepl('CD8', celltype)) %>%\n",
    "mutate(age_group= cut(age,  breaks = c(min(age),40,60,80,max(age)),\n",
    "                                     labels = c(\"<40\",\"40-60\",'60-80',\">80\"), include.lowest = TRUE)) %>%\n",
    "ggplot(aes(x = age_group, y = exhausted_score, fill = age_group) ) +\n",
    "  ylab(\"exhausted_score\") +\n",
    "  #facet_wrap(.~study,scales = \"free\",nrow = 1)+\n",
    "  themeDivClust2+\n",
    "  stat_compare_means(aes(group = age_group),label.x.npc = c(\"middle\"),\n",
    "                     label.y.npc=c(\"top\"), label = \"p.signif\",vjust = 1)+\n",
    "ggtitle('HCC_GSE140228')\n",
    "#\n",
    "gg2_hcc= obs  %>% filter(study== 'HCC_GSE140228') %>% filter(grepl('CD8', celltype)) %>%\n",
    "mutate(age_group= cut(age,  breaks = c(min(age),40,60,80,max(age)),\n",
    "                                     labels = c(\"<40\",\"40-60\",'60-80',\">80\"), include.lowest = TRUE)) %>%\n",
    "  ggplot(aes(x = age_group, y = cytotoxic_score, fill = age_group) ) +\n",
    "  ylab(\"cytotoxic_score\") +\n",
    "#facet_wrap(.~study,scales = \"free\",nrow = 1)+\n",
    "  themeDivClust2+\n",
    "  stat_compare_means(aes(group = age_group),label.x.npc = c(\"middle\"),\n",
    "                     label.y.npc=c(\"top\"), label = \"p.signif\",vjust = 1)+\n",
    "ggtitle('HCC_GSE140228')\n",
    "#\n",
    "pdf(paste0(tarid, 'boxplot_pan_signature.pdf'),width = 8,height = 5)\n",
    "cowplot::plot_grid(gg1_gc,gg2_gc, ncol=2)\n",
    "dev.off()"
   ]
  },
  {
   "cell_type": "code",
   "execution_count": 120,
   "id": "2b8ac9d6",
   "metadata": {},
   "outputs": [
    {
     "data": {
      "text/html": [
       "<strong>png:</strong> 2"
      ],
      "text/latex": [
       "\\textbf{png:} 2"
      ],
      "text/markdown": [
       "**png:** 2"
      ],
      "text/plain": [
       "png \n",
       "  2 "
      ]
     },
     "metadata": {},
     "output_type": "display_data"
    }
   ],
   "source": [
    "pdf('CD8T_boxplot_pan_signature_merge.pdf',width = 8,height = 10)\n",
    "cowplot::plot_grid(gg1_nsclc1,gg2_nsclc1, \n",
    "                   gg1_nsclc2, gg2_nsclc2, \n",
    "                   gg1_crc,gg2_crc,\n",
    "                   gg1_gc,gg2_gc,\n",
    "                   gg1_hcc, gg2_hcc,ncol=2\n",
    "                \n",
    "                  )\n",
    "dev.off()"
   ]
  },
  {
   "cell_type": "code",
   "execution_count": 121,
   "id": "91fa0f9b",
   "metadata": {},
   "outputs": [
    {
     "data": {
      "text/html": [
       "<strong>png:</strong> 2"
      ],
      "text/latex": [
       "\\textbf{png:} 2"
      ],
      "text/markdown": [
       "**png:** 2"
      ],
      "text/plain": [
       "png \n",
       "  2 "
      ]
     },
     "metadata": {},
     "output_type": "display_data"
    },
    {
     "data": {
      "text/html": [
       "<strong>png:</strong> 2"
      ],
      "text/latex": [
       "\\textbf{png:} 2"
      ],
      "text/markdown": [
       "**png:** 2"
      ],
      "text/plain": [
       "png \n",
       "  2 "
      ]
     },
     "metadata": {},
     "output_type": "display_data"
    },
    {
     "data": {
      "text/html": [
       "<strong>png:</strong> 2"
      ],
      "text/latex": [
       "\\textbf{png:} 2"
      ],
      "text/markdown": [
       "**png:** 2"
      ],
      "text/plain": [
       "png \n",
       "  2 "
      ]
     },
     "metadata": {},
     "output_type": "display_data"
    },
    {
     "data": {
      "text/html": [
       "<strong>png:</strong> 2"
      ],
      "text/latex": [
       "\\textbf{png:} 2"
      ],
      "text/markdown": [
       "**png:** 2"
      ],
      "text/plain": [
       "png \n",
       "  2 "
      ]
     },
     "metadata": {},
     "output_type": "display_data"
    },
    {
     "data": {
      "text/html": [
       "<strong>png:</strong> 2"
      ],
      "text/latex": [
       "\\textbf{png:} 2"
      ],
      "text/markdown": [
       "**png:** 2"
      ],
      "text/plain": [
       "png \n",
       "  2 "
      ]
     },
     "metadata": {},
     "output_type": "display_data"
    },
    {
     "data": {
      "text/html": [
       "<strong>png:</strong> 2"
      ],
      "text/latex": [
       "\\textbf{png:} 2"
      ],
      "text/markdown": [
       "**png:** 2"
      ],
      "text/plain": [
       "png \n",
       "  2 "
      ]
     },
     "metadata": {},
     "output_type": "display_data"
    }
   ],
   "source": [
    "###\n",
    "### only CD4 T cell\n",
    "###\n",
    "\n",
    "###-----\n",
    "### for nsclc 1\n",
    "###-----\n",
    "tarid = 'kiminhouse_CD4_'\n",
    "\n",
    "gg1_nsclc1= obs  %>% filter(study== 'nsclc_inhouse_kim_etal') %>% filter(grepl('CD4', celltype)) %>%\n",
    "mutate(age_group= cut(age,  breaks = c(min(age),40,60,max(age)),\n",
    "                                     labels = c(\"<40\",\"40-60\",\">60\"), include.lowest = TRUE)) %>%\n",
    "ggplot(aes(x = age_group, y = exhausted_score, fill = age_group) ) +\n",
    "  ylab(\"exhausted_score\") +\n",
    "  #facet_wrap(.~study,scales = \"free\",nrow = 1)+\n",
    "  themeDivClust2+\n",
    "  stat_compare_means(aes(group = age_group),label.x.npc = c(\"middle\"),\n",
    "                     label.y.npc=c(\"top\"), label = \"p.signif\",vjust = 1)+\n",
    "ggtitle('NSCLC_inhouse+kim')\n",
    "  \n",
    "#\n",
    "gg2_nsclc1= obs  %>% filter(study== 'nsclc_inhouse_kim_etal') %>% filter(grepl('CD4', celltype)) %>%\n",
    "mutate(age_group= cut(age,  breaks = c(min(age),40,60,max(age)),\n",
    "                                     labels = c(\"<40\",\"40-60\",\">60\"), include.lowest = TRUE)) %>%\n",
    "  ggplot(aes(x = age_group, y = cytotoxic_score, fill = age_group) ) +\n",
    "  ylab(\"cytotoxic_score\") +\n",
    "#facet_wrap(.~study,scales = \"free\",nrow = 1)+\n",
    "  themeDivClust2+\n",
    "  stat_compare_means(aes(group = age_group),label.x.npc = c(\"middle\"),\n",
    "                     label.y.npc=c(\"top\"), label = \"p.signif\",vjust = 1)+\n",
    "ggtitle('NSCLC_inhouse+kim')\n",
    "#\n",
    "pdf(paste0(tarid,'boxplot_pan_signature.pdf'),width = 8,height = 5)\n",
    "cowplot::plot_grid(gg1_nsclc1,gg2_nsclc1, ncol=2)\n",
    "dev.off()\n",
    "###-----\n",
    "### for nsclc_leader_etal\n",
    "###-----\n",
    "tarid= 'nsclc_leader_etal_CD4_'\n",
    "\n",
    "gg1_nsclc2= obs  %>% filter(study== 'nsclc_leader_etal') %>% filter(grepl('CD4', celltype)) %>%\n",
    "mutate(age_group= cut(age,  breaks = c(min(age),60,80,max(age)),\n",
    "                                     labels = c(\"<60\",\"60-80\",\">80\"), include.lowest = TRUE)) %>%\n",
    "ggplot(aes(x = age_group, y = exhausted_score, fill = age_group) ) +\n",
    "  ylab(\"exhausted_score\") +\n",
    "  #facet_wrap(.~study,scales = \"free\",nrow = 1)+\n",
    "  themeDivClust2+\n",
    "  stat_compare_means(aes(group = age_group),label.x.npc = c(\"middle\"),\n",
    "                     label.y.npc=c(\"top\"), label = \"p.signif\",vjust = 1)+\n",
    "ggtitle('NSCLC_Leader et al')\n",
    "#\n",
    "gg2_nsclc2= obs  %>% filter(study== 'nsclc_leader_etal') %>% filter(grepl('CD4', celltype)) %>%\n",
    "mutate(age_group= cut(age,  breaks = c(min(age),60,80,max(age)),\n",
    "                                     labels = c(\"<40\",\"60-80\",\">80\"), include.lowest = TRUE)) %>%\n",
    "  ggplot(aes(x = age_group, y = cytotoxic_score, fill = age_group) ) +\n",
    "  ylab(\"cytotoxic_score\") +\n",
    "#facet_wrap(.~study,scales = \"free\",nrow = 1)+\n",
    "  themeDivClust2+\n",
    "  stat_compare_means(aes(group = age_group),label.x.npc = c(\"middle\"),\n",
    "                     label.y.npc=c(\"top\"), label = \"p.signif\",vjust = 1)+\n",
    "ggtitle('NSCLC_Leader et al')\n",
    "#\n",
    "pdf(paste0(tarid, 'boxplot_pan_signature.pdf'),width = 8,height = 5)\n",
    "cowplot::plot_grid(gg1_nsclc2,gg2_nsclc2, ncol=2)\n",
    "dev.off()\n",
    "###-----\n",
    "### for CRC\n",
    "###-----\n",
    "tarid= 'CRC_GSE178341_CD4_'\n",
    "gg1_crc= obs  %>% filter(study== 'CRC_GSE178341') %>% filter(grepl('CD4', celltype)) %>%\n",
    "mutate(age_group= cut(age,  breaks = c(min(age),40,60,80,max(age)),\n",
    "                                     labels = c(\"<40\",\"40-60\",'60-80',\">80\"), include.lowest = TRUE)) %>%\n",
    "ggplot(aes(x = age_group, y = exhausted_score, fill = age_group) ) +\n",
    "  ylab(\"exhausted_score\") +\n",
    "  #facet_wrap(.~study,scales = \"free\",nrow = 1)+\n",
    "  themeDivClust2+\n",
    "  stat_compare_means(aes(group = age_group),label.x.npc = c(\"middle\"),\n",
    "                     label.y.npc=c(\"top\"), label = \"p.signif\",vjust = 1)+\n",
    "ggtitle('CRC_GSE178341')\n",
    "#\n",
    "gg2_crc= obs  %>% filter(study== 'CRC_GSE178341') %>% filter(grepl('CD4', celltype)) %>%\n",
    "mutate(age_group= cut(age,  breaks = c(min(age),40,60,80,max(age)),\n",
    "                                     labels = c(\"<40\",\"40-60\",'60-80',\">80\"), include.lowest = TRUE)) %>%\n",
    "  ggplot(aes(x = age_group, y = cytotoxic_score, fill = age_group) ) +\n",
    "  ylab(\"cytotoxic_score\") +\n",
    "#facet_wrap(.~study,scales = \"free\",nrow = 1)+\n",
    "  themeDivClust2+\n",
    "  stat_compare_means(aes(group = age_group),label.x.npc = c(\"middle\"),\n",
    "                     label.y.npc=c(\"top\"), label = \"p.signif\",vjust = 1)+\n",
    "ggtitle('CRC_GSE178341')\n",
    "#\n",
    "pdf(paste0(tarid, 'boxplot_pan_signature.pdf'),width = 8,height = 5)\n",
    "cowplot::plot_grid(gg1_crc,gg2_crc, ncol=2)\n",
    "dev.off()\n",
    "###-----\n",
    "### for GC\n",
    "###-----\n",
    "tarid= 'GC_GSE183904_CD4_'\n",
    "gg1_gc= obs  %>% filter(study== 'GC_GSE183904') %>% filter(grepl('CD4', celltype)) %>%\n",
    "mutate(age_group= cut(age,  breaks = c(min(age),40,60,80,max(age)),\n",
    "                                     labels = c(\"<40\",\"40-60\",'60-80',\">80\"), include.lowest = TRUE)) %>%\n",
    "ggplot(aes(x = age_group, y = exhausted_score, fill = age_group) ) +\n",
    "  ylab(\"exhausted_score\") +\n",
    "  #facet_wrap(.~study,scales = \"free\",nrow = 1)+\n",
    "  themeDivClust2+\n",
    "  stat_compare_means(aes(group = age_group),label.x.npc = c(\"middle\"),\n",
    "                     label.y.npc=c(\"top\"), label = \"p.signif\",vjust = 1)+\n",
    "ggtitle('GC_GSE183904')\n",
    "#\n",
    "gg2_gc= obs  %>% filter(study== 'GC_GSE183904') %>% filter(grepl('CD4', celltype)) %>%\n",
    "mutate(age_group= cut(age,  breaks = c(min(age),40,60,80,max(age)),\n",
    "                                     labels = c(\"<40\",\"40-60\",'60-80',\">80\"), include.lowest = TRUE)) %>%\n",
    "  ggplot(aes(x = age_group, y = cytotoxic_score, fill = age_group) ) +\n",
    "  ylab(\"cytotoxic_score\") +\n",
    "#facet_wrap(.~study,scales = \"free\",nrow = 1)+\n",
    "  themeDivClust2+\n",
    "  stat_compare_means(aes(group = age_group),label.x.npc = c(\"middle\"),\n",
    "                     label.y.npc=c(\"top\"), label = \"p.signif\",vjust = 1)+\n",
    "ggtitle('GC_GSE183904')\n",
    "#\n",
    "pdf(paste0(tarid, 'boxplot_pan_signature.pdf'),width = 8,height = 5)\n",
    "cowplot::plot_grid(gg1_gc,gg2_gc, ncol=2)\n",
    "dev.off()\n",
    "\n",
    "###-----\n",
    "### for HCC\n",
    "###-----\n",
    "tarid = 'HCC_GSE140228_CD4_'\n",
    "\n",
    "gg1_hcc= obs  %>% filter(study== 'HCC_GSE140228') %>% filter(grepl('CD4', celltype)) %>%\n",
    "mutate(age_group= cut(age,  breaks = c(min(age),40,60,80,max(age)),\n",
    "                                     labels = c(\"<40\",\"40-60\",'60-80',\">80\"), include.lowest = TRUE)) %>%\n",
    "ggplot(aes(x = age_group, y = exhausted_score, fill = age_group) ) +\n",
    "  ylab(\"exhausted_score\") +\n",
    "  #facet_wrap(.~study,scales = \"free\",nrow = 1)+\n",
    "  themeDivClust2+\n",
    "  stat_compare_means(aes(group = age_group),label.x.npc = c(\"middle\"),\n",
    "                     label.y.npc=c(\"top\"), label = \"p.signif\",vjust = 1)+\n",
    "ggtitle('HCC_GSE140228')\n",
    "#\n",
    "gg2_hcc= obs  %>% filter(study== 'HCC_GSE140228') %>% filter(grepl('CD4', celltype)) %>%\n",
    "mutate(age_group= cut(age,  breaks = c(min(age),40,60,80,max(age)),\n",
    "                                     labels = c(\"<40\",\"40-60\",'60-80',\">80\"), include.lowest = TRUE)) %>%\n",
    "  ggplot(aes(x = age_group, y = cytotoxic_score, fill = age_group) ) +\n",
    "  ylab(\"cytotoxic_score\") +\n",
    "#facet_wrap(.~study,scales = \"free\",nrow = 1)+\n",
    "  themeDivClust2+\n",
    "  stat_compare_means(aes(group = age_group),label.x.npc = c(\"middle\"),\n",
    "                     label.y.npc=c(\"top\"), label = \"p.signif\",vjust = 1)+\n",
    "ggtitle('HCC_GSE140228')\n",
    "#\n",
    "pdf(paste0(tarid, 'boxplot_pan_signature.pdf'),width = 8,height = 5)\n",
    "cowplot::plot_grid(gg1_gc,gg2_gc, ncol=2)\n",
    "dev.off()\n",
    "#\n",
    "pdf('CD4T_boxplot_pan_signature_merge.pdf',width = 8,height = 10)\n",
    "cowplot::plot_grid(gg1_nsclc1,gg2_nsclc1, \n",
    "                   gg1_nsclc2, gg2_nsclc2, \n",
    "                   gg1_crc,gg2_crc,\n",
    "                   gg1_gc,gg2_gc,\n",
    "                   gg1_hcc, gg2_hcc,ncol=2\n",
    "                \n",
    "                  )\n",
    "dev.off()\n"
   ]
  },
  {
   "cell_type": "code",
   "execution_count": 161,
   "id": "aafde519",
   "metadata": {},
   "outputs": [],
   "source": [
    "library(tidyverse)\n",
    "stat_samplelevel= obs %>% filter(grepl('CD', celltype)) %>%  \n",
    "              select(c(cytotoxic_score,exhausted_score,Sample)) %>% \n",
    "              group_by(Sample) %>% \n",
    "              summarise_all(median) %>% left_join(meta[,-c(1:4)], by= 'Sample') %>%\n",
    "mutate(age_group= cut(age,  breaks = c(min(age),61,80,max(age)),\n",
    "                                     labels = c(\"<60\",'60-80',\">80\"), include.lowest = TRUE))\n"
   ]
  },
  {
   "cell_type": "code",
   "execution_count": 162,
   "id": "e566e840",
   "metadata": {},
   "outputs": [
    {
     "data": {
      "text/html": [
       "<table class=\"dataframe\">\n",
       "<caption>A tibble: 6 × 10</caption>\n",
       "<thead>\n",
       "\t<tr><th scope=col>Sample</th><th scope=col>cytotoxic_score</th><th scope=col>exhausted_score</th><th scope=col>age</th><th scope=col>study</th><th scope=col>age_bin4</th><th scope=col>age_bin2</th><th scope=col>age_bin3</th><th scope=col>age_bin5</th><th scope=col>age_group</th></tr>\n",
       "\t<tr><th scope=col>&lt;chr&gt;</th><th scope=col>&lt;dbl&gt;</th><th scope=col>&lt;dbl&gt;</th><th scope=col>&lt;int&gt;</th><th scope=col>&lt;chr&gt;</th><th scope=col>&lt;fct&gt;</th><th scope=col>&lt;chr&gt;</th><th scope=col>&lt;fct&gt;</th><th scope=col>&lt;fct&gt;</th><th scope=col>&lt;fct&gt;</th></tr>\n",
       "</thead>\n",
       "<tbody>\n",
       "\t<tr><td>103</td><td>-0.159596667</td><td>-0.2864165</td><td>73</td><td>nsclc_leader_etal</td><td>60-80</td><td>&gt;60</td><td>&gt;60</td><td>70-80</td><td>60-80</td></tr>\n",
       "\t<tr><td>107</td><td>-0.086908626</td><td>-0.3004352</td><td>73</td><td>nsclc_leader_etal</td><td>60-80</td><td>&gt;60</td><td>&gt;60</td><td>70-80</td><td>60-80</td></tr>\n",
       "\t<tr><td>111</td><td>-0.132065395</td><td>-0.2942867</td><td>73</td><td>nsclc_leader_etal</td><td>60-80</td><td>&gt;60</td><td>&gt;60</td><td>70-80</td><td>60-80</td></tr>\n",
       "\t<tr><td>116</td><td>-0.153818355</td><td>-0.3390188</td><td>73</td><td>nsclc_leader_etal</td><td>60-80</td><td>&gt;60</td><td>&gt;60</td><td>70-80</td><td>60-80</td></tr>\n",
       "\t<tr><td>297</td><td> 0.028700207</td><td>-0.2136616</td><td>66</td><td>nsclc_leader_etal</td><td>60-80</td><td>&gt;60</td><td>&gt;60</td><td>60-70</td><td>60-80</td></tr>\n",
       "\t<tr><td>298</td><td> 0.001139521</td><td>-0.1735778</td><td>66</td><td>nsclc_leader_etal</td><td>60-80</td><td>&gt;60</td><td>&gt;60</td><td>60-70</td><td>60-80</td></tr>\n",
       "</tbody>\n",
       "</table>\n"
      ],
      "text/latex": [
       "A tibble: 6 × 10\n",
       "\\begin{tabular}{llllllllll}\n",
       " Sample & cytotoxic\\_score & exhausted\\_score & age & study & age\\_bin4 & age\\_bin2 & age\\_bin3 & age\\_bin5 & age\\_group\\\\\n",
       " <chr> & <dbl> & <dbl> & <int> & <chr> & <fct> & <chr> & <fct> & <fct> & <fct>\\\\\n",
       "\\hline\n",
       "\t 103 & -0.159596667 & -0.2864165 & 73 & nsclc\\_leader\\_etal & 60-80 & >60 & >60 & 70-80 & 60-80\\\\\n",
       "\t 107 & -0.086908626 & -0.3004352 & 73 & nsclc\\_leader\\_etal & 60-80 & >60 & >60 & 70-80 & 60-80\\\\\n",
       "\t 111 & -0.132065395 & -0.2942867 & 73 & nsclc\\_leader\\_etal & 60-80 & >60 & >60 & 70-80 & 60-80\\\\\n",
       "\t 116 & -0.153818355 & -0.3390188 & 73 & nsclc\\_leader\\_etal & 60-80 & >60 & >60 & 70-80 & 60-80\\\\\n",
       "\t 297 &  0.028700207 & -0.2136616 & 66 & nsclc\\_leader\\_etal & 60-80 & >60 & >60 & 60-70 & 60-80\\\\\n",
       "\t 298 &  0.001139521 & -0.1735778 & 66 & nsclc\\_leader\\_etal & 60-80 & >60 & >60 & 60-70 & 60-80\\\\\n",
       "\\end{tabular}\n"
      ],
      "text/markdown": [
       "\n",
       "A tibble: 6 × 10\n",
       "\n",
       "| Sample &lt;chr&gt; | cytotoxic_score &lt;dbl&gt; | exhausted_score &lt;dbl&gt; | age &lt;int&gt; | study &lt;chr&gt; | age_bin4 &lt;fct&gt; | age_bin2 &lt;chr&gt; | age_bin3 &lt;fct&gt; | age_bin5 &lt;fct&gt; | age_group &lt;fct&gt; |\n",
       "|---|---|---|---|---|---|---|---|---|---|\n",
       "| 103 | -0.159596667 | -0.2864165 | 73 | nsclc_leader_etal | 60-80 | &gt;60 | &gt;60 | 70-80 | 60-80 |\n",
       "| 107 | -0.086908626 | -0.3004352 | 73 | nsclc_leader_etal | 60-80 | &gt;60 | &gt;60 | 70-80 | 60-80 |\n",
       "| 111 | -0.132065395 | -0.2942867 | 73 | nsclc_leader_etal | 60-80 | &gt;60 | &gt;60 | 70-80 | 60-80 |\n",
       "| 116 | -0.153818355 | -0.3390188 | 73 | nsclc_leader_etal | 60-80 | &gt;60 | &gt;60 | 70-80 | 60-80 |\n",
       "| 297 |  0.028700207 | -0.2136616 | 66 | nsclc_leader_etal | 60-80 | &gt;60 | &gt;60 | 60-70 | 60-80 |\n",
       "| 298 |  0.001139521 | -0.1735778 | 66 | nsclc_leader_etal | 60-80 | &gt;60 | &gt;60 | 60-70 | 60-80 |\n",
       "\n"
      ],
      "text/plain": [
       "  Sample cytotoxic_score exhausted_score age study             age_bin4\n",
       "1 103    -0.159596667    -0.2864165      73  nsclc_leader_etal 60-80   \n",
       "2 107    -0.086908626    -0.3004352      73  nsclc_leader_etal 60-80   \n",
       "3 111    -0.132065395    -0.2942867      73  nsclc_leader_etal 60-80   \n",
       "4 116    -0.153818355    -0.3390188      73  nsclc_leader_etal 60-80   \n",
       "5 297     0.028700207    -0.2136616      66  nsclc_leader_etal 60-80   \n",
       "6 298     0.001139521    -0.1735778      66  nsclc_leader_etal 60-80   \n",
       "  age_bin2 age_bin3 age_bin5 age_group\n",
       "1 >60      >60      70-80    60-80    \n",
       "2 >60      >60      70-80    60-80    \n",
       "3 >60      >60      70-80    60-80    \n",
       "4 >60      >60      70-80    60-80    \n",
       "5 >60      >60      60-70    60-80    \n",
       "6 >60      >60      60-70    60-80    "
      ]
     },
     "metadata": {},
     "output_type": "display_data"
    }
   ],
   "source": [
    "head(stat_samplelevel)"
   ]
  },
  {
   "cell_type": "code",
   "execution_count": 163,
   "id": "5b77a3f6",
   "metadata": {},
   "outputs": [
    {
     "name": "stderr",
     "output_type": "stream",
     "text": [
      "\u001b[1m\u001b[22m`geom_smooth()` using formula = 'y ~ x'\n",
      "\u001b[1m\u001b[22m`geom_smooth()` using formula = 'y ~ x'\n"
     ]
    },
    {
     "data": {
      "image/png": "[encoded data removed]",
      "text/plain": [
       "plot without title"
      ]
     },
     "metadata": {
      "image/png": {
       "height": 420,
       "width": 420
      }
     },
     "output_type": "display_data"
    },
    {
     "data": {
      "image/png": "[encoded data removed]",
      "text/plain": [
       "plot without title"
      ]
     },
     "metadata": {
      "image/png": {
       "height": 420,
       "width": 420
      }
     },
     "output_type": "display_data"
    }
   ],
   "source": [
    "ggscatter(stat_samplelevel, x = \"age\", y = \"cytotoxic_score\",  color = \"steelblue\", #shape = 21, \n",
    "          size = 3,alpha = 0.4,\n",
    "          add = \"reg.line\", conf.int = F, add.params = list(color = \"red\"),\n",
    "          cor.coef = T, cor.method = \"spearman\",\n",
    "          xlab = \"Age\", ylab = \"cytotoxic_score\")+\n",
    "  ggtitle(\"T cell sample level\")\n",
    "\n",
    "ggscatter(stat_samplelevel, x = \"age\", y = \"exhausted_score\",  color = \"steelblue\", #shape = 21, \n",
    "          size = 3,alpha = 0.4,\n",
    "          add = \"reg.line\", conf.int = F, add.params = list(color = \"red\"),\n",
    "          cor.coef = T, cor.method = \"spearman\",\n",
    "          xlab = \"Age\", ylab = \"exhausted_score\")+\n",
    "  ggtitle(\"T cell sample level\")"
   ]
  },
  {
   "cell_type": "code",
   "execution_count": 171,
   "id": "449af2e6",
   "metadata": {},
   "outputs": [
    {
     "name": "stderr",
     "output_type": "stream",
     "text": [
      "Warning message:\n",
      "\"\u001b[1m\u001b[22mDuplicated aesthetics after name standardisation: \u001b[32msize\u001b[39m\"\n"
     ]
    },
    {
     "data": {
      "text/html": [
       "<strong>png:</strong> 2"
      ],
      "text/latex": [
       "\\textbf{png:} 2"
      ],
      "text/markdown": [
       "**png:** 2"
      ],
      "text/plain": [
       "png \n",
       "  2 "
      ]
     },
     "metadata": {},
     "output_type": "display_data"
    }
   ],
   "source": [
    "themeDivClust3 <-\n",
    "  list(\n",
    "    geom_boxplot(color = 'black',  width = 0.3, size = 0.3, fill = NA,outlier.shape = NA),\n",
    "    geom_violin(color = 'black', scale = 'width',  linewidth = 0.5,trim = TRUE,alpha = 0.8),\n",
    "    geom_jitter(shape = 21, color = \"gray\", fill = \"white\", width = 0.07, size = 1, lwd = 0.05),\n",
    "    #stat_compare_means(aes(group = response_bin),label.x.npc = c(\"middle\"),label.y.npc=c(\"top\"),label = \"p.signif\",vjust = 1),\n",
    "    #geom_violin(color = \"black\", draw_quantiles = 0.5, lwd = 0.5),\n",
    "    #geom_jitter(shape = 21, color = \"gray\", fill = \"white\", width = 0.1, size = 1, lwd = 0.05),\n",
    "    xlab(\"\"),\n",
    "    #scale_fill_muted(),\n",
    "    #scale_color_muted(), \n",
    "    \n",
    "    #scale_fill_manual(values = c(\"#E69F00\",\"#56B4E9\")),\n",
    "    scale_fill_manual(values = rev(c(\"#E69F00\",\"#56B4E9\",\"#009E73\",\"#F0E442\",\"#0072B2\",\"#D55E00\"))),\n",
    "    theme_minimal(),\n",
    "    theme(legend.position = \"none\",\n",
    "          #legend.justification = c(0,1),\n",
    "          #legend.title = element_blank(),\n",
    "          legend.text = element_text(size=8),\n",
    "          legend.title = element_text(size=8),\n",
    "          aspect.ratio = 1.2,\n",
    "          #plot.margin = margin(t=5,r=20,b=5,l=20,unit=\"pt\"),\n",
    "          axis.title.y = element_text(size=8,colour=\"black\"),\n",
    "          axis.title.x = element_text(size=8,colour=\"black\"),\n",
    "          #axis.title.x = element_blank(),\n",
    "          axis.text = element_text(size=8,colour=\"black\",angle=0),\n",
    "          axis.text.x = element_text(size=8,colour=\"black\",angle=45,hjust=1),\n",
    "          #axis.text.x = element_blank(),\n",
    "          plot.title = element_text(size=8,face=\"bold\",hjust = 0.5),\n",
    "          panel.grid.major = element_blank(),\n",
    "          panel.grid.minor = element_blank(),\n",
    "          panel.border = element_rect(colour = \"black\", fill=NA, size=0.5),\n",
    "          axis.line = element_line(colour = \"black\"),\n",
    "          axis.ticks.length=unit(.1, \"cm\"),\n",
    "          axis.ticks = element_line(colour = \"black\", size = 0.5)\n",
    "    )\n",
    "  )\n",
    "gg1= stat_samplelevel  %>%  filter(study== 'nsclc_inhouse_kim_etal') %>%\n",
    "  ggplot(aes(x = age_group, y = exhausted_score, fill = age_group) ) +\n",
    "  ylab(\"exhausted_score\") +\n",
    "  #facet_wrap(.~study,scales = \"free\",nrow = 1)+\n",
    "  themeDivClust3+\n",
    "  stat_compare_means(aes(group = age_group),label.x.npc = c(\"middle\"),\n",
    "                     label.y.npc=c(\"top\"), label = \"p.signif\",vjust = 1)\n",
    "gg2= stat_samplelevel  %>% filter(study== 'nsclc_inhouse_kim_etal') %>%\n",
    "  ggplot(aes(x = age_group, y = cytotoxic_score, fill = age_group) ) +\n",
    "  ylab(\"cytotoxic_score\") +\n",
    "#facet_wrap(.~study,scales = \"free\",nrow = 1)+\n",
    "  themeDivClust3+\n",
    "  stat_compare_means(aes(group = age_group),label.x.npc = c(\"middle\"),\n",
    "                     label.y.npc=c(\"top\"), label = \"p.signif\",vjust = 1)\n",
    "pdf('Tcell_sample_level_signature.pdf',width = 4,height = 5)\n",
    "cowplot::plot_grid(gg1, gg2,ncol = 2)\n",
    "dev.off()"
   ]
  },
  {
   "cell_type": "code",
   "execution_count": 172,
   "id": "a4ca10eb",
   "metadata": {},
   "outputs": [
    {
     "data": {
      "text/html": [
       "<table class=\"dataframe\">\n",
       "<caption>A data.frame: 6 × 11</caption>\n",
       "<thead>\n",
       "\t<tr><th></th><th scope=col>X</th><th scope=col>celltype</th><th scope=col>cytotoxic_score</th><th scope=col>exhausted_score</th><th scope=col>age</th><th scope=col>Sample</th><th scope=col>study</th><th scope=col>age_bin4</th><th scope=col>age_bin2</th><th scope=col>age_bin3</th><th scope=col>age_bin5</th></tr>\n",
       "\t<tr><th></th><th scope=col>&lt;chr&gt;</th><th scope=col>&lt;chr&gt;</th><th scope=col>&lt;dbl&gt;</th><th scope=col>&lt;dbl&gt;</th><th scope=col>&lt;int&gt;</th><th scope=col>&lt;chr&gt;</th><th scope=col>&lt;chr&gt;</th><th scope=col>&lt;fct&gt;</th><th scope=col>&lt;chr&gt;</th><th scope=col>&lt;fct&gt;</th><th scope=col>&lt;fct&gt;</th></tr>\n",
       "</thead>\n",
       "<tbody>\n",
       "\t<tr><th scope=row>1</th><td>AAACCTGAGATATGCA_LUNG_T25</td><td><span style=white-space:pre-wrap>C3-CD4-CXCR6     </span></td><td>-0.3608342</td><td>-0.2154291</td><td>69</td><td>LUNG_T25</td><td>nsclc_inhouse_kim_etal</td><td>60-80</td><td>&gt;60 </td><td><span style=white-space:pre-wrap>&gt;60  </span></td><td>60-70</td></tr>\n",
       "\t<tr><th scope=row>2</th><td>AAACCTGAGGATCGCA_LUNG_T28</td><td><span style=white-space:pre-wrap>C11-CD8-LAYN     </span></td><td> 1.5525668</td><td> 0.3933895</td><td>73</td><td>LUNG_T28</td><td>nsclc_inhouse_kim_etal</td><td>60-80</td><td>&gt;60 </td><td><span style=white-space:pre-wrap>&gt;60  </span></td><td>70-80</td></tr>\n",
       "\t<tr><th scope=row>3</th><td>AAACCTGAGGATGGAA_LUNG_T31</td><td><span style=white-space:pre-wrap>C8-CD8-GZMK      </span></td><td> 0.6819429</td><td> 0.2088584</td><td>65</td><td>LUNG_T31</td><td>nsclc_inhouse_kim_etal</td><td>60-80</td><td>&gt;60 </td><td><span style=white-space:pre-wrap>&gt;60  </span></td><td>60-70</td></tr>\n",
       "\t<tr><th scope=row>4</th><td>AAACCTGAGGCAAAGA_LUNG_T06</td><td>C15-CD4/CD8-ISG15</td><td> 0.5962756</td><td>-0.2379256</td><td>54</td><td>LUNG_T06</td><td>nsclc_inhouse_kim_etal</td><td>40-60</td><td>&lt;=60</td><td>40-60</td><td>50-60</td></tr>\n",
       "\t<tr><th scope=row>5</th><td>AAACCTGAGGCGACAT_LUNG_T18</td><td><span style=white-space:pre-wrap>C8-CD8-GZMK      </span></td><td> 0.9907712</td><td>-0.1917627</td><td>62</td><td>LUNG_T18</td><td>nsclc_inhouse_kim_etal</td><td>60-80</td><td>&gt;60 </td><td><span style=white-space:pre-wrap>&gt;60  </span></td><td>60-70</td></tr>\n",
       "\t<tr><th scope=row>6</th><td>AAACCTGAGTCATCCA_LUNG_T08</td><td><span style=white-space:pre-wrap>C11-CD8-LAYN     </span></td><td> 0.2476995</td><td>-0.1179803</td><td>60</td><td>LUNG_T08</td><td>nsclc_inhouse_kim_etal</td><td>40-60</td><td>&lt;=60</td><td>40-60</td><td>50-60</td></tr>\n",
       "</tbody>\n",
       "</table>\n"
      ],
      "text/latex": [
       "A data.frame: 6 × 11\n",
       "\\begin{tabular}{r|lllllllllll}\n",
       "  & X & celltype & cytotoxic\\_score & exhausted\\_score & age & Sample & study & age\\_bin4 & age\\_bin2 & age\\_bin3 & age\\_bin5\\\\\n",
       "  & <chr> & <chr> & <dbl> & <dbl> & <int> & <chr> & <chr> & <fct> & <chr> & <fct> & <fct>\\\\\n",
       "\\hline\n",
       "\t1 & AAACCTGAGATATGCA\\_LUNG\\_T25 & C3-CD4-CXCR6      & -0.3608342 & -0.2154291 & 69 & LUNG\\_T25 & nsclc\\_inhouse\\_kim\\_etal & 60-80 & >60  & >60   & 60-70\\\\\n",
       "\t2 & AAACCTGAGGATCGCA\\_LUNG\\_T28 & C11-CD8-LAYN      &  1.5525668 &  0.3933895 & 73 & LUNG\\_T28 & nsclc\\_inhouse\\_kim\\_etal & 60-80 & >60  & >60   & 70-80\\\\\n",
       "\t3 & AAACCTGAGGATGGAA\\_LUNG\\_T31 & C8-CD8-GZMK       &  0.6819429 &  0.2088584 & 65 & LUNG\\_T31 & nsclc\\_inhouse\\_kim\\_etal & 60-80 & >60  & >60   & 60-70\\\\\n",
       "\t4 & AAACCTGAGGCAAAGA\\_LUNG\\_T06 & C15-CD4/CD8-ISG15 &  0.5962756 & -0.2379256 & 54 & LUNG\\_T06 & nsclc\\_inhouse\\_kim\\_etal & 40-60 & <=60 & 40-60 & 50-60\\\\\n",
       "\t5 & AAACCTGAGGCGACAT\\_LUNG\\_T18 & C8-CD8-GZMK       &  0.9907712 & -0.1917627 & 62 & LUNG\\_T18 & nsclc\\_inhouse\\_kim\\_etal & 60-80 & >60  & >60   & 60-70\\\\\n",
       "\t6 & AAACCTGAGTCATCCA\\_LUNG\\_T08 & C11-CD8-LAYN      &  0.2476995 & -0.1179803 & 60 & LUNG\\_T08 & nsclc\\_inhouse\\_kim\\_etal & 40-60 & <=60 & 40-60 & 50-60\\\\\n",
       "\\end{tabular}\n"
      ],
      "text/markdown": [
       "\n",
       "A data.frame: 6 × 11\n",
       "\n",
       "| <!--/--> | X &lt;chr&gt; | celltype &lt;chr&gt; | cytotoxic_score &lt;dbl&gt; | exhausted_score &lt;dbl&gt; | age &lt;int&gt; | Sample &lt;chr&gt; | study &lt;chr&gt; | age_bin4 &lt;fct&gt; | age_bin2 &lt;chr&gt; | age_bin3 &lt;fct&gt; | age_bin5 &lt;fct&gt; |\n",
       "|---|---|---|---|---|---|---|---|---|---|---|---|\n",
       "| 1 | AAACCTGAGATATGCA_LUNG_T25 | C3-CD4-CXCR6      | -0.3608342 | -0.2154291 | 69 | LUNG_T25 | nsclc_inhouse_kim_etal | 60-80 | &gt;60  | &gt;60   | 60-70 |\n",
       "| 2 | AAACCTGAGGATCGCA_LUNG_T28 | C11-CD8-LAYN      |  1.5525668 |  0.3933895 | 73 | LUNG_T28 | nsclc_inhouse_kim_etal | 60-80 | &gt;60  | &gt;60   | 70-80 |\n",
       "| 3 | AAACCTGAGGATGGAA_LUNG_T31 | C8-CD8-GZMK       |  0.6819429 |  0.2088584 | 65 | LUNG_T31 | nsclc_inhouse_kim_etal | 60-80 | &gt;60  | &gt;60   | 60-70 |\n",
       "| 4 | AAACCTGAGGCAAAGA_LUNG_T06 | C15-CD4/CD8-ISG15 |  0.5962756 | -0.2379256 | 54 | LUNG_T06 | nsclc_inhouse_kim_etal | 40-60 | &lt;=60 | 40-60 | 50-60 |\n",
       "| 5 | AAACCTGAGGCGACAT_LUNG_T18 | C8-CD8-GZMK       |  0.9907712 | -0.1917627 | 62 | LUNG_T18 | nsclc_inhouse_kim_etal | 60-80 | &gt;60  | &gt;60   | 60-70 |\n",
       "| 6 | AAACCTGAGTCATCCA_LUNG_T08 | C11-CD8-LAYN      |  0.2476995 | -0.1179803 | 60 | LUNG_T08 | nsclc_inhouse_kim_etal | 40-60 | &lt;=60 | 40-60 | 50-60 |\n",
       "\n"
      ],
      "text/plain": [
       "  X                         celltype          cytotoxic_score exhausted_score\n",
       "1 AAACCTGAGATATGCA_LUNG_T25 C3-CD4-CXCR6      -0.3608342      -0.2154291     \n",
       "2 AAACCTGAGGATCGCA_LUNG_T28 C11-CD8-LAYN       1.5525668       0.3933895     \n",
       "3 AAACCTGAGGATGGAA_LUNG_T31 C8-CD8-GZMK        0.6819429       0.2088584     \n",
       "4 AAACCTGAGGCAAAGA_LUNG_T06 C15-CD4/CD8-ISG15  0.5962756      -0.2379256     \n",
       "5 AAACCTGAGGCGACAT_LUNG_T18 C8-CD8-GZMK        0.9907712      -0.1917627     \n",
       "6 AAACCTGAGTCATCCA_LUNG_T08 C11-CD8-LAYN       0.2476995      -0.1179803     \n",
       "  age Sample   study                  age_bin4 age_bin2 age_bin3 age_bin5\n",
       "1 69  LUNG_T25 nsclc_inhouse_kim_etal 60-80    >60      >60      60-70   \n",
       "2 73  LUNG_T28 nsclc_inhouse_kim_etal 60-80    >60      >60      70-80   \n",
       "3 65  LUNG_T31 nsclc_inhouse_kim_etal 60-80    >60      >60      60-70   \n",
       "4 54  LUNG_T06 nsclc_inhouse_kim_etal 40-60    <=60     40-60    50-60   \n",
       "5 62  LUNG_T18 nsclc_inhouse_kim_etal 60-80    >60      >60      60-70   \n",
       "6 60  LUNG_T08 nsclc_inhouse_kim_etal 40-60    <=60     40-60    50-60   "
      ]
     },
     "metadata": {},
     "output_type": "display_data"
    }
   ],
   "source": [
    "head(meta)"
   ]
  },
  {
   "cell_type": "code",
   "execution_count": 58,
   "id": "4439a91d",
   "metadata": {},
   "outputs": [
    {
     "data": {
      "text/html": [
       "<style>\n",
       ".list-inline {list-style: none; margin:0; padding: 0}\n",
       ".list-inline>li {display: inline-block}\n",
       ".list-inline>li:not(:last-child)::after {content: \"\\00b7\"; padding: 0 .5ex}\n",
       "</style>\n",
       "<ol class=list-inline><li>'nsclc_inhouse_kim_etal'</li><li>'nsclc_leader_etal'</li><li>'CRC_GSE178341'</li><li>'HCC_GSE140228'</li><li>'GC_GSE183904'</li></ol>\n"
      ],
      "text/latex": [
       "\\begin{enumerate*}\n",
       "\\item 'nsclc\\_inhouse\\_kim\\_etal'\n",
       "\\item 'nsclc\\_leader\\_etal'\n",
       "\\item 'CRC\\_GSE178341'\n",
       "\\item 'HCC\\_GSE140228'\n",
       "\\item 'GC\\_GSE183904'\n",
       "\\end{enumerate*}\n"
      ],
      "text/markdown": [
       "1. 'nsclc_inhouse_kim_etal'\n",
       "2. 'nsclc_leader_etal'\n",
       "3. 'CRC_GSE178341'\n",
       "4. 'HCC_GSE140228'\n",
       "5. 'GC_GSE183904'\n",
       "\n",
       "\n"
      ],
      "text/plain": [
       "[1] \"nsclc_inhouse_kim_etal\" \"nsclc_leader_etal\"      \"CRC_GSE178341\"         \n",
       "[4] \"HCC_GSE140228\"          \"GC_GSE183904\"          "
      ]
     },
     "metadata": {},
     "output_type": "display_data"
    }
   ],
   "source": [
    "unique(meta$study)"
   ]
  },
  {
   "cell_type": "code",
   "execution_count": 61,
   "id": "5ff95c31",
   "metadata": {},
   "outputs": [
    {
     "data": {
      "text/plain": [
       "\n",
       "         CRC_GSE178341           GC_GSE183904          HCC_GSE140228 \n",
       "                    62                     26                     10 \n",
       "nsclc_inhouse_kim_etal      nsclc_leader_etal \n",
       "                    19                     52 "
      ]
     },
     "metadata": {},
     "output_type": "display_data"
    }
   ],
   "source": [
    "table(meta$study)"
   ]
  },
  {
   "cell_type": "code",
   "execution_count": 60,
   "id": "0112bda6",
   "metadata": {},
   "outputs": [
    {
     "name": "stderr",
     "output_type": "stream",
     "text": [
      "Picking joint bandwidth of 6.89\n",
      "\n",
      "Picking joint bandwidth of 4.73\n",
      "\n",
      "Picking joint bandwidth of 5.4\n",
      "\n",
      "Picking joint bandwidth of 2.51\n",
      "\n",
      "Picking joint bandwidth of 6.71\n",
      "\n"
     ]
    },
    {
     "data": {
      "text/html": [
       "<strong>png:</strong> 2"
      ],
      "text/latex": [
       "\\textbf{png:} 2"
      ],
      "text/markdown": [
       "**png:** 2"
      ],
      "text/plain": [
       "png \n",
       "  2 "
      ]
     },
     "metadata": {},
     "output_type": "display_data"
    }
   ],
   "source": [
    "library(ggridges)\n",
    "ga= ggplot(data = meta %>% mutate(study=  \n",
    "                                  factor(study, levels= rev(c('nsclc_inhouse_kim_etal',\n",
    "                                                          'nsclc_leader_etal','CRC_GSE178341',\n",
    "                                                          'GC_GSE183904','HCC_GSE140228'))\n",
    "                                        )) ,\n",
    "             aes(x = age, y = study, fill = study)) +\n",
    "  geom_density_ridges(alpha = 0.8,\n",
    "                      color = 'white',\n",
    "                      rel_min_height = 0.01, #尾部修剪，数值越大修剪程度越高\n",
    "                      scale = 200, #山脊重叠程度调整，scale = 1时刚好触及基线，数值越大重叠度越高\n",
    "                      quantile_lines = TRUE, #显示分位数线\n",
    "                      quantiles = 2 #仅显示中位数线\n",
    "  ) +\n",
    "  facet_wrap(.~study,scales = \"free\",ncol=1)+\n",
    "  theme_classic() +\n",
    "  theme(legend.position = 'none')+\n",
    "  #scale_x_continuous(limits = c(4, 8),breaks = seq(4, 8, by = 2))+ #x轴限制\n",
    "  geom_vline(xintercept = c(min(meta$age), max(meta$age)),\n",
    "             size = 0.5,\n",
    "             color = 'grey',\n",
    "             lty = 'dashed')+\n",
    "  scale_fill_manual(values = c(\"#E69F00\",\"#56B4E9\",\"#009E73\",\"#F0E442\",\"#0072B2\"))\n",
    "pdf('age_distribution.pdf',width = 5,height = 25)\n",
    "cowplot::plot_grid(ga,ncol = 1)\n",
    "dev.off()"
   ]
  },
  {
   "cell_type": "code",
   "execution_count": 67,
   "id": "eb8a013d",
   "metadata": {},
   "outputs": [
    {
     "name": "stderr",
     "output_type": "stream",
     "text": [
      "Warning message:\n",
      "\"\u001b[1m\u001b[22mThe `size` argument of `element_line()` is deprecated as of ggplot2 3.4.0.\n",
      "\u001b[36mi\u001b[39m Please use the `linewidth` argument instead.\"\n",
      "Warning message:\n",
      "\"\u001b[1m\u001b[22mThe `size` argument of `element_rect()` is deprecated as of ggplot2 3.4.0.\n",
      "\u001b[36mi\u001b[39m Please use the `linewidth` argument instead.\"\n",
      "Picking joint bandwidth of 6.89\n",
      "\n",
      "Picking joint bandwidth of 4.73\n",
      "\n",
      "Picking joint bandwidth of 5.4\n",
      "\n",
      "Picking joint bandwidth of 2.51\n",
      "\n",
      "Picking joint bandwidth of 6.71\n",
      "\n"
     ]
    },
    {
     "data": {
      "text/html": [
       "<strong>png:</strong> 2"
      ],
      "text/latex": [
       "\\textbf{png:} 2"
      ],
      "text/markdown": [
       "**png:** 2"
      ],
      "text/plain": [
       "png \n",
       "  2 "
      ]
     },
     "metadata": {},
     "output_type": "display_data"
    }
   ],
   "source": [
    "ga2=ggplot(meta %>% mutate(study=  \n",
    "                                  factor(study, levels= rev(c('nsclc_inhouse_kim_etal',\n",
    "                                                          'nsclc_leader_etal','CRC_GSE178341',\n",
    "                                                          'GC_GSE183904','HCC_GSE140228'))\n",
    "                                        )), \n",
    "           aes(age, y = study,\n",
    "               fill = 0.5 - abs(0.5 - stat(ecdf)))) +\n",
    "  stat_density_ridges(geom = \"density_ridges_gradient\", calc_ecdf = TRUE,\n",
    "                      scale = 200, #山脊重叠程度调整，scale = 1时刚好触及基线，数值越大重叠度越高\n",
    "                      quantile_lines = TRUE, #显示分位数线\n",
    "                      quantiles = 2) +\n",
    "  scale_fill_gradient(low = \"white\", high = \"#E69F00\",\n",
    "                      name = \"Tail prob.\") +\n",
    "facet_wrap(.~study,scales = \"free\",ncol=1)+\n",
    "  theme_classic() +\n",
    "  theme(legend.position = \"right\",\n",
    "        #legend.justification = c(0,1),\n",
    "        #legend.title = element_blank(),\n",
    "        legend.text = element_text(size=8),\n",
    "        legend.title = element_text(size=8),\n",
    "        aspect.ratio = 1.5,\n",
    "        plot.margin = margin(t=5,r=20,b=5,l=20,unit=\"pt\"),\n",
    "        axis.title.y = element_text(size=8,colour=\"black\"),\n",
    "        axis.title.x = element_text(size=8,colour=\"black\"),\n",
    "        #axis.title.x = element_blank(),\n",
    "        axis.text = element_text(size=8,colour=\"black\",angle=0),\n",
    "        axis.text.x = element_text(size=8,colour=\"black\",angle=45,hjust=1),\n",
    "        #axis.text.x = element_blank(),\n",
    "        plot.title = element_text(size=8,face=\"bold\",hjust = 0.5),\n",
    "        panel.grid.major = element_blank(),\n",
    "        panel.grid.minor = element_blank(),\n",
    "        panel.border = element_rect(colour = \"black\", fill=NA, size=0.5),\n",
    "        axis.line = element_line(colour = \"black\"),\n",
    "        axis.ticks.length=unit(.1, \"cm\"),\n",
    "        axis.ticks = element_line(colour = \"black\", size = 0.5)\n",
    "  )\n",
    "\n",
    "pdf('age_distribution2.pdf',width = 5,height = 25)\n",
    "cowplot::plot_grid(ga2,ncol = 1)\n",
    "dev.off()"
   ]
  },
  {
   "cell_type": "code",
   "execution_count": 84,
   "id": "4dd94b89",
   "metadata": {},
   "outputs": [],
   "source": [
    "studylist= table(meta$study) %>% names\n",
    "collist= c(\"#E69F00\",\"#56B4E9\",\"#009E73\",\"#F0E442\",\"#0072B2\")\n",
    "samplenum= table(meta$study) %>% as.numeric\n",
    "glist=list()\n",
    "for(i in 1:5){\n",
    "    glist[[i]]=ggplot(meta %>%  filter(study== studylist[i]), \n",
    "           aes(age, y = study,\n",
    "               fill = 0.5 - abs(0.5 - stat(ecdf)))) +\n",
    "  stat_density_ridges(geom = \"density_ridges_gradient\", calc_ecdf = TRUE,\n",
    "                      scale = 200, #山脊重叠程度调整，scale = 1时刚好触及基线，数值越大重叠度越高\n",
    "                      quantile_lines = TRUE, #显示分位数线\n",
    "                      quantiles = 2) +\n",
    "    ggtitle(paste0(studylist[i],': # sample: ',samplenum[i]))+\n",
    "  scale_fill_gradient(low = \"white\", high = collist[i],\n",
    "                      name = \"Tail prob.\") +\n",
    "  #facet_wrap(.~study,scales = \"free\",ncol=1)+\n",
    "  theme_classic() +\n",
    "  theme(legend.position = \"right\",\n",
    "        #legend.justification = c(0,1),\n",
    "        #legend.title = element_blank(),\n",
    "        legend.text = element_text(size=8),\n",
    "        legend.title = element_text(size=8),\n",
    "        aspect.ratio = 1.5,\n",
    "        plot.margin = margin(t=5,r=20,b=5,l=20,unit=\"pt\"),\n",
    "        axis.title.y = element_text(size=8,colour=\"black\"),\n",
    "        axis.title.x = element_text(size=8,colour=\"black\"),\n",
    "        #axis.title.x = element_blank(),\n",
    "        axis.text = element_text(size=8,colour=\"black\",angle=0),\n",
    "        axis.text.x = element_text(size=8,colour=\"black\",angle=45,hjust=1),\n",
    "        #axis.text.x = element_blank(),\n",
    "        plot.title = element_text(size=8,face=\"bold\",hjust = 0.5),\n",
    "        panel.grid.major = element_blank(),\n",
    "        panel.grid.minor = element_blank(),\n",
    "        panel.border = element_rect(colour = \"black\", fill=NA, size=0.5),\n",
    "        axis.line = element_line(colour = \"black\"),\n",
    "        axis.ticks.length=unit(.1, \"cm\"),\n",
    "        axis.ticks = element_line(colour = \"black\", size = 0.5)\n",
    "  )\n",
    "    \n",
    "}\n"
   ]
  },
  {
   "cell_type": "code",
   "execution_count": 85,
   "id": "f8d07bd0",
   "metadata": {},
   "outputs": [
    {
     "name": "stderr",
     "output_type": "stream",
     "text": [
      "Picking joint bandwidth of 5.4\n",
      "\n",
      "Picking joint bandwidth of 4.73\n",
      "\n",
      "Picking joint bandwidth of 6.89\n",
      "\n",
      "Picking joint bandwidth of 6.71\n",
      "\n",
      "Picking joint bandwidth of 2.51\n",
      "\n"
     ]
    },
    {
     "data": {
      "text/html": [
       "<strong>png:</strong> 2"
      ],
      "text/latex": [
       "\\textbf{png:} 2"
      ],
      "text/markdown": [
       "**png:** 2"
      ],
      "text/plain": [
       "png \n",
       "  2 "
      ]
     },
     "metadata": {},
     "output_type": "display_data"
    }
   ],
   "source": [
    "pdf('age_distribution3.pdf',width = 5,height = 25)\n",
    "cowplot::plot_grid(glist[[1]],glist[[2]],glist[[3]],glist[[4]],glist[[5]],ncol = 1)\n",
    "dev.off()"
   ]
  },
  {
   "cell_type": "code",
   "execution_count": 80,
   "id": "85afbe0d",
   "metadata": {},
   "outputs": [
    {
     "data": {
      "text/html": [
       "<style>\n",
       ".list-inline {list-style: none; margin:0; padding: 0}\n",
       ".list-inline>li {display: inline-block}\n",
       ".list-inline>li:not(:last-child)::after {content: \"\\00b7\"; padding: 0 .5ex}\n",
       "</style>\n",
       "<ol class=list-inline><li>62</li><li>26</li><li>10</li><li>19</li><li>52</li></ol>\n"
      ],
      "text/latex": [
       "\\begin{enumerate*}\n",
       "\\item 62\n",
       "\\item 26\n",
       "\\item 10\n",
       "\\item 19\n",
       "\\item 52\n",
       "\\end{enumerate*}\n"
      ],
      "text/markdown": [
       "1. 62\n",
       "2. 26\n",
       "3. 10\n",
       "4. 19\n",
       "5. 52\n",
       "\n",
       "\n"
      ],
      "text/plain": [
       "[1] 62 26 10 19 52"
      ]
     },
     "metadata": {},
     "output_type": "display_data"
    }
   ],
   "source": [
    "table(meta$study) %>% as.numeric"
   ]
  },
  {
   "cell_type": "code",
   "execution_count": 68,
   "id": "efae518d",
   "metadata": {},
   "outputs": [
    {
     "data": {
      "text/html": [
       "<style>\n",
       ".list-inline {list-style: none; margin:0; padding: 0}\n",
       ".list-inline>li {display: inline-block}\n",
       ".list-inline>li:not(:last-child)::after {content: \"\\00b7\"; padding: 0 .5ex}\n",
       "</style>\n",
       "<ol class=list-inline><li>'C3-CD4-CXCR6'</li><li>'C11-CD8-LAYN'</li><li>'C8-CD8-GZMK'</li><li>'C15-CD4/CD8-ISG15'</li><li>'C6-CD4-RORC'</li><li>'C10-CD8-ZNF683'</li><li>'C1-CD4-CCR7'</li><li>'C9-CD8-CX3CR1'</li><li>'C4-CD4-CXCL13'</li><li>'C2-CD4-HSPA1A'</li><li>'C12-CD8-TRDV1'</li><li>'C13-NK-FCGR3A'</li><li>'C5-CD4-FOXP3'</li><li>'C7-CD8-SLC4A10'</li><li>'C14-NK-XCL1'</li><li>'C16-CD4/CD8-MKI67'</li><li>'CD4T'</li><li>'CD8T'</li><li>'CD8-CXCL13'</li><li>'CD8-GZMK'</li><li>'CD4-FOXP3'</li><li>'CD8-GZMH'</li><li>'CD8-STMN1'</li><li>'CD8-ZNF683'</li><li>'CD4-CCR7'</li><li>'CD4-CXCL13'</li><li>'CD4-ANXA1'</li><li>'CD4-PRF1'</li><li>'CD8-ISG15'</li><li>'CD8-FTH1'</li><li>'CD8-CD52'</li><li>'CD8-FOS'</li></ol>\n"
      ],
      "text/latex": [
       "\\begin{enumerate*}\n",
       "\\item 'C3-CD4-CXCR6'\n",
       "\\item 'C11-CD8-LAYN'\n",
       "\\item 'C8-CD8-GZMK'\n",
       "\\item 'C15-CD4/CD8-ISG15'\n",
       "\\item 'C6-CD4-RORC'\n",
       "\\item 'C10-CD8-ZNF683'\n",
       "\\item 'C1-CD4-CCR7'\n",
       "\\item 'C9-CD8-CX3CR1'\n",
       "\\item 'C4-CD4-CXCL13'\n",
       "\\item 'C2-CD4-HSPA1A'\n",
       "\\item 'C12-CD8-TRDV1'\n",
       "\\item 'C13-NK-FCGR3A'\n",
       "\\item 'C5-CD4-FOXP3'\n",
       "\\item 'C7-CD8-SLC4A10'\n",
       "\\item 'C14-NK-XCL1'\n",
       "\\item 'C16-CD4/CD8-MKI67'\n",
       "\\item 'CD4T'\n",
       "\\item 'CD8T'\n",
       "\\item 'CD8-CXCL13'\n",
       "\\item 'CD8-GZMK'\n",
       "\\item 'CD4-FOXP3'\n",
       "\\item 'CD8-GZMH'\n",
       "\\item 'CD8-STMN1'\n",
       "\\item 'CD8-ZNF683'\n",
       "\\item 'CD4-CCR7'\n",
       "\\item 'CD4-CXCL13'\n",
       "\\item 'CD4-ANXA1'\n",
       "\\item 'CD4-PRF1'\n",
       "\\item 'CD8-ISG15'\n",
       "\\item 'CD8-FTH1'\n",
       "\\item 'CD8-CD52'\n",
       "\\item 'CD8-FOS'\n",
       "\\end{enumerate*}\n"
      ],
      "text/markdown": [
       "1. 'C3-CD4-CXCR6'\n",
       "2. 'C11-CD8-LAYN'\n",
       "3. 'C8-CD8-GZMK'\n",
       "4. 'C15-CD4/CD8-ISG15'\n",
       "5. 'C6-CD4-RORC'\n",
       "6. 'C10-CD8-ZNF683'\n",
       "7. 'C1-CD4-CCR7'\n",
       "8. 'C9-CD8-CX3CR1'\n",
       "9. 'C4-CD4-CXCL13'\n",
       "10. 'C2-CD4-HSPA1A'\n",
       "11. 'C12-CD8-TRDV1'\n",
       "12. 'C13-NK-FCGR3A'\n",
       "13. 'C5-CD4-FOXP3'\n",
       "14. 'C7-CD8-SLC4A10'\n",
       "15. 'C14-NK-XCL1'\n",
       "16. 'C16-CD4/CD8-MKI67'\n",
       "17. 'CD4T'\n",
       "18. 'CD8T'\n",
       "19. 'CD8-CXCL13'\n",
       "20. 'CD8-GZMK'\n",
       "21. 'CD4-FOXP3'\n",
       "22. 'CD8-GZMH'\n",
       "23. 'CD8-STMN1'\n",
       "24. 'CD8-ZNF683'\n",
       "25. 'CD4-CCR7'\n",
       "26. 'CD4-CXCL13'\n",
       "27. 'CD4-ANXA1'\n",
       "28. 'CD4-PRF1'\n",
       "29. 'CD8-ISG15'\n",
       "30. 'CD8-FTH1'\n",
       "31. 'CD8-CD52'\n",
       "32. 'CD8-FOS'\n",
       "\n",
       "\n"
      ],
      "text/plain": [
       " [1] \"C3-CD4-CXCR6\"      \"C11-CD8-LAYN\"      \"C8-CD8-GZMK\"      \n",
       " [4] \"C15-CD4/CD8-ISG15\" \"C6-CD4-RORC\"       \"C10-CD8-ZNF683\"   \n",
       " [7] \"C1-CD4-CCR7\"       \"C9-CD8-CX3CR1\"     \"C4-CD4-CXCL13\"    \n",
       "[10] \"C2-CD4-HSPA1A\"     \"C12-CD8-TRDV1\"     \"C13-NK-FCGR3A\"    \n",
       "[13] \"C5-CD4-FOXP3\"      \"C7-CD8-SLC4A10\"    \"C14-NK-XCL1\"      \n",
       "[16] \"C16-CD4/CD8-MKI67\" \"CD4T\"              \"CD8T\"             \n",
       "[19] \"CD8-CXCL13\"        \"CD8-GZMK\"          \"CD4-FOXP3\"        \n",
       "[22] \"CD8-GZMH\"          \"CD8-STMN1\"         \"CD8-ZNF683\"       \n",
       "[25] \"CD4-CCR7\"          \"CD4-CXCL13\"        \"CD4-ANXA1\"        \n",
       "[28] \"CD4-PRF1\"          \"CD8-ISG15\"         \"CD8-FTH1\"         \n",
       "[31] \"CD8-CD52\"          \"CD8-FOS\"          "
      ]
     },
     "metadata": {},
     "output_type": "display_data"
    }
   ],
   "source": [
    "unique(obs$celltype)"
   ]
  },
  {
   "cell_type": "code",
   "execution_count": null,
   "id": "4d25b7c2",
   "metadata": {},
   "outputs": [],
   "source": []
  },
  {
   "cell_type": "code",
   "execution_count": 29,
   "id": "c90856df",
   "metadata": {},
   "outputs": [
    {
     "data": {
      "text/html": [
       "<table class=\"dataframe\">\n",
       "<caption>A data.frame: 2 × 11</caption>\n",
       "<thead>\n",
       "\t<tr><th></th><th scope=col>X</th><th scope=col>celltype</th><th scope=col>cytotoxic_score</th><th scope=col>exhausted_score</th><th scope=col>age</th><th scope=col>Sample</th><th scope=col>study</th><th scope=col>age_bin4</th><th scope=col>age_bin3</th><th scope=col>age_bin5</th><th scope=col>age_bin2</th></tr>\n",
       "\t<tr><th></th><th scope=col>&lt;chr&gt;</th><th scope=col>&lt;chr&gt;</th><th scope=col>&lt;dbl&gt;</th><th scope=col>&lt;dbl&gt;</th><th scope=col>&lt;int&gt;</th><th scope=col>&lt;chr&gt;</th><th scope=col>&lt;chr&gt;</th><th scope=col>&lt;fct&gt;</th><th scope=col>&lt;fct&gt;</th><th scope=col>&lt;fct&gt;</th><th scope=col>&lt;chr&gt;</th></tr>\n",
       "</thead>\n",
       "<tbody>\n",
       "\t<tr><th scope=row>1</th><td>AAACCTGAGATATGCA_LUNG_T25</td><td>C3-CD4-CXCR6</td><td>-0.3608342</td><td>-0.2154291</td><td>69</td><td>LUNG_T25</td><td>nsclc_inhouse_kim_etal</td><td>60-80</td><td>&gt;60</td><td>60-70</td><td>&gt;60</td></tr>\n",
       "\t<tr><th scope=row>2</th><td>AAACCTGAGGATCGCA_LUNG_T28</td><td>C11-CD8-LAYN</td><td> 1.5525668</td><td> 0.3933895</td><td>73</td><td>LUNG_T28</td><td>nsclc_inhouse_kim_etal</td><td>60-80</td><td>&gt;60</td><td>70-80</td><td>&gt;60</td></tr>\n",
       "</tbody>\n",
       "</table>\n"
      ],
      "text/latex": [
       "A data.frame: 2 × 11\n",
       "\\begin{tabular}{r|lllllllllll}\n",
       "  & X & celltype & cytotoxic\\_score & exhausted\\_score & age & Sample & study & age\\_bin4 & age\\_bin3 & age\\_bin5 & age\\_bin2\\\\\n",
       "  & <chr> & <chr> & <dbl> & <dbl> & <int> & <chr> & <chr> & <fct> & <fct> & <fct> & <chr>\\\\\n",
       "\\hline\n",
       "\t1 & AAACCTGAGATATGCA\\_LUNG\\_T25 & C3-CD4-CXCR6 & -0.3608342 & -0.2154291 & 69 & LUNG\\_T25 & nsclc\\_inhouse\\_kim\\_etal & 60-80 & >60 & 60-70 & >60\\\\\n",
       "\t2 & AAACCTGAGGATCGCA\\_LUNG\\_T28 & C11-CD8-LAYN &  1.5525668 &  0.3933895 & 73 & LUNG\\_T28 & nsclc\\_inhouse\\_kim\\_etal & 60-80 & >60 & 70-80 & >60\\\\\n",
       "\\end{tabular}\n"
      ],
      "text/markdown": [
       "\n",
       "A data.frame: 2 × 11\n",
       "\n",
       "| <!--/--> | X &lt;chr&gt; | celltype &lt;chr&gt; | cytotoxic_score &lt;dbl&gt; | exhausted_score &lt;dbl&gt; | age &lt;int&gt; | Sample &lt;chr&gt; | study &lt;chr&gt; | age_bin4 &lt;fct&gt; | age_bin3 &lt;fct&gt; | age_bin5 &lt;fct&gt; | age_bin2 &lt;chr&gt; |\n",
       "|---|---|---|---|---|---|---|---|---|---|---|---|\n",
       "| 1 | AAACCTGAGATATGCA_LUNG_T25 | C3-CD4-CXCR6 | -0.3608342 | -0.2154291 | 69 | LUNG_T25 | nsclc_inhouse_kim_etal | 60-80 | &gt;60 | 60-70 | &gt;60 |\n",
       "| 2 | AAACCTGAGGATCGCA_LUNG_T28 | C11-CD8-LAYN |  1.5525668 |  0.3933895 | 73 | LUNG_T28 | nsclc_inhouse_kim_etal | 60-80 | &gt;60 | 70-80 | &gt;60 |\n",
       "\n"
      ],
      "text/plain": [
       "  X                         celltype     cytotoxic_score exhausted_score age\n",
       "1 AAACCTGAGATATGCA_LUNG_T25 C3-CD4-CXCR6 -0.3608342      -0.2154291      69 \n",
       "2 AAACCTGAGGATCGCA_LUNG_T28 C11-CD8-LAYN  1.5525668       0.3933895      73 \n",
       "  Sample   study                  age_bin4 age_bin3 age_bin5 age_bin2\n",
       "1 LUNG_T25 nsclc_inhouse_kim_etal 60-80    >60      60-70    >60     \n",
       "2 LUNG_T28 nsclc_inhouse_kim_etal 60-80    >60      70-80    >60     "
      ]
     },
     "metadata": {},
     "output_type": "display_data"
    },
    {
     "data": {
      "text/html": [
       "<table class=\"dataframe\">\n",
       "<caption>A tibble: 2 × 5</caption>\n",
       "<thead>\n",
       "\t<tr><th scope=col>group</th><th scope=col>study</th><th scope=col>age_group</th><th scope=col>signature</th><th scope=col>score</th></tr>\n",
       "\t<tr><th scope=col>&lt;chr&gt;</th><th scope=col>&lt;chr&gt;</th><th scope=col>&lt;fct&gt;</th><th scope=col>&lt;chr&gt;</th><th scope=col>&lt;dbl&gt;</th></tr>\n",
       "</thead>\n",
       "<tbody>\n",
       "\t<tr><td>CRC_GSE178341.40-60</td><td>CRC_GSE178341</td><td>40-60</td><td>cytotoxic_score</td><td>0.4513135</td></tr>\n",
       "\t<tr><td>CRC_GSE178341.40-60</td><td>CRC_GSE178341</td><td>40-60</td><td>exhausted_score</td><td>0.3604756</td></tr>\n",
       "</tbody>\n",
       "</table>\n"
      ],
      "text/latex": [
       "A tibble: 2 × 5\n",
       "\\begin{tabular}{lllll}\n",
       " group & study & age\\_group & signature & score\\\\\n",
       " <chr> & <chr> & <fct> & <chr> & <dbl>\\\\\n",
       "\\hline\n",
       "\t CRC\\_GSE178341.40-60 & CRC\\_GSE178341 & 40-60 & cytotoxic\\_score & 0.4513135\\\\\n",
       "\t CRC\\_GSE178341.40-60 & CRC\\_GSE178341 & 40-60 & exhausted\\_score & 0.3604756\\\\\n",
       "\\end{tabular}\n"
      ],
      "text/markdown": [
       "\n",
       "A tibble: 2 × 5\n",
       "\n",
       "| group &lt;chr&gt; | study &lt;chr&gt; | age_group &lt;fct&gt; | signature &lt;chr&gt; | score &lt;dbl&gt; |\n",
       "|---|---|---|---|---|\n",
       "| CRC_GSE178341.40-60 | CRC_GSE178341 | 40-60 | cytotoxic_score | 0.4513135 |\n",
       "| CRC_GSE178341.40-60 | CRC_GSE178341 | 40-60 | exhausted_score | 0.3604756 |\n",
       "\n"
      ],
      "text/plain": [
       "  group               study         age_group signature       score    \n",
       "1 CRC_GSE178341.40-60 CRC_GSE178341 40-60     cytotoxic_score 0.4513135\n",
       "2 CRC_GSE178341.40-60 CRC_GSE178341 40-60     exhausted_score 0.3604756"
      ]
     },
     "metadata": {},
     "output_type": "display_data"
    }
   ],
   "source": [
    "###------------\n",
    "### median heatmap\n",
    "###------------\n",
    "library(ggplot2)\n",
    "\n",
    "library(dplyr)\n",
    "head(obs,n=2)\n",
    "ht_data_cyto  =  obs %>% filter(grepl('CD', celltype)) %>% \n",
    "mutate(age_group= cut(age,  breaks = c(min(age),40,60,80,max(age)),\n",
    "                                     labels = c(\"<40\",\"40-60\",'60-80',\">80\"), include.lowest = TRUE)) %>%\n",
    "mutate(group= paste(study, age_group,sep='.')) %>%\n",
    "select(c(cytotoxic_score,exhausted_score,group)) %>%\n",
    "group_by(group) %>% summarise_all(median) %>% \n",
    "mutate(study= sapply(stringr::str_split(group, \"[.]\"), `[`, 1)) %>%\n",
    "mutate(age_group= sapply(stringr::str_split(group, \"[.]\"), `[`, 2))\n",
    "\n",
    "htlong <- ht_data_cyto %>% tidyr::pivot_longer(cols=c('cytotoxic_score','exhausted_score'),\n",
    "                                                                     names_to= \"signature\",\n",
    "                                                                values_to = \"score\")\n",
    "htlong$age_group= factor(htlong$age_group,  levels= c('<40', '40-60','60-80','>80'))\n",
    "htlong %>% head(n=2)"
   ]
  },
  {
   "cell_type": "code",
   "execution_count": 30,
   "id": "56ef2e21",
   "metadata": {},
   "outputs": [
    {
     "data": {
      "text/html": [
       "<style>\n",
       ".list-inline {list-style: none; margin:0; padding: 0}\n",
       ".list-inline>li {display: inline-block}\n",
       ".list-inline>li:not(:last-child)::after {content: \"\\00b7\"; padding: 0 .5ex}\n",
       "</style>\n",
       "<ol class=list-inline><li>40-60</li><li>60-80</li><li>&lt;40</li><li>&gt;80</li></ol>\n",
       "\n",
       "<details>\n",
       "\t<summary style=display:list-item;cursor:pointer>\n",
       "\t\t<strong>Levels</strong>:\n",
       "\t</summary>\n",
       "\t<style>\n",
       "\t.list-inline {list-style: none; margin:0; padding: 0}\n",
       "\t.list-inline>li {display: inline-block}\n",
       "\t.list-inline>li:not(:last-child)::after {content: \"\\00b7\"; padding: 0 .5ex}\n",
       "\t</style>\n",
       "\t<ol class=list-inline><li>'&lt;40'</li><li>'40-60'</li><li>'60-80'</li><li>'&gt;80'</li></ol>\n",
       "</details>"
      ],
      "text/latex": [
       "\\begin{enumerate*}\n",
       "\\item 40-60\n",
       "\\item 60-80\n",
       "\\item <40\n",
       "\\item >80\n",
       "\\end{enumerate*}\n",
       "\n",
       "\\emph{Levels}: \\begin{enumerate*}\n",
       "\\item '<40'\n",
       "\\item '40-60'\n",
       "\\item '60-80'\n",
       "\\item '>80'\n",
       "\\end{enumerate*}\n"
      ],
      "text/markdown": [
       "1. 40-60\n",
       "2. 60-80\n",
       "3. &lt;40\n",
       "4. &gt;80\n",
       "\n",
       "\n",
       "\n",
       "**Levels**: 1. '&lt;40'\n",
       "2. '40-60'\n",
       "3. '60-80'\n",
       "4. '&gt;80'\n",
       "\n",
       "\n"
      ],
      "text/plain": [
       "[1] 40-60 60-80 <40   >80  \n",
       "Levels: <40 40-60 60-80 >80"
      ]
     },
     "metadata": {},
     "output_type": "display_data"
    }
   ],
   "source": [
    "unique(htlong$age_group)"
   ]
  },
  {
   "cell_type": "code",
   "execution_count": 48,
   "id": "ecfbc056",
   "metadata": {},
   "outputs": [
    {
     "data": {
      "text/html": [
       "<strong>png:</strong> 2"
      ],
      "text/latex": [
       "\\textbf{png:} 2"
      ],
      "text/markdown": [
       "**png:** 2"
      ],
      "text/plain": [
       "png \n",
       "  2 "
      ]
     },
     "metadata": {},
     "output_type": "display_data"
    }
   ],
   "source": [
    "ggd= htlong %>%\n",
    "ggplot(aes(x = age_group, y = signature, \n",
    "           size = score,\n",
    "           #fill=  score,\n",
    "           color = score)) +\n",
    "    geom_point() +\n",
    "    facet_wrap(.~study,scales = \"free\",ncol = 1)+\n",
    "    theme_minimal() +\n",
    "    theme(axis.title = element_blank(),\n",
    "          axis.text = element_text(color = \"black\"),\n",
    "          axis.text.x = element_text(angle = 45, hjust = 1)) +\n",
    "\n",
    "scale_color_gradientn(colours = rainbow(10))\n",
    "\n",
    "#scale_fill_distiller(palette = \"Lajolla\") +\n",
    "#scale_color_distiller(palette = \"Lajolla\")\n",
    "\n",
    "pdf('_dot_signature_median.pdf',width = 4,height = 6)\n",
    "cowplot::plot_grid(ggd,ncol = 1)\n",
    "dev.off()"
   ]
  },
  {
   "cell_type": "code",
   "execution_count": 69,
   "id": "f365fa1d",
   "metadata": {},
   "outputs": [
    {
     "data": {
      "text/html": [
       "<table class=\"dataframe\">\n",
       "<caption>A tibble: 2 × 5</caption>\n",
       "<thead>\n",
       "\t<tr><th scope=col>group</th><th scope=col>study</th><th scope=col>age_group</th><th scope=col>signature</th><th scope=col>score</th></tr>\n",
       "\t<tr><th scope=col>&lt;chr&gt;</th><th scope=col>&lt;chr&gt;</th><th scope=col>&lt;fct&gt;</th><th scope=col>&lt;chr&gt;</th><th scope=col>&lt;dbl&gt;</th></tr>\n",
       "</thead>\n",
       "<tbody>\n",
       "\t<tr><td>CRC_GSE178341.40-60</td><td>CRC_GSE178341</td><td>40-60</td><td>cytotoxic_score</td><td>0.06800693</td></tr>\n",
       "\t<tr><td>CRC_GSE178341.40-60</td><td>CRC_GSE178341</td><td>40-60</td><td>exhausted_score</td><td>0.26882644</td></tr>\n",
       "</tbody>\n",
       "</table>\n"
      ],
      "text/latex": [
       "A tibble: 2 × 5\n",
       "\\begin{tabular}{lllll}\n",
       " group & study & age\\_group & signature & score\\\\\n",
       " <chr> & <chr> & <fct> & <chr> & <dbl>\\\\\n",
       "\\hline\n",
       "\t CRC\\_GSE178341.40-60 & CRC\\_GSE178341 & 40-60 & cytotoxic\\_score & 0.06800693\\\\\n",
       "\t CRC\\_GSE178341.40-60 & CRC\\_GSE178341 & 40-60 & exhausted\\_score & 0.26882644\\\\\n",
       "\\end{tabular}\n"
      ],
      "text/markdown": [
       "\n",
       "A tibble: 2 × 5\n",
       "\n",
       "| group &lt;chr&gt; | study &lt;chr&gt; | age_group &lt;fct&gt; | signature &lt;chr&gt; | score &lt;dbl&gt; |\n",
       "|---|---|---|---|---|\n",
       "| CRC_GSE178341.40-60 | CRC_GSE178341 | 40-60 | cytotoxic_score | 0.06800693 |\n",
       "| CRC_GSE178341.40-60 | CRC_GSE178341 | 40-60 | exhausted_score | 0.26882644 |\n",
       "\n"
      ],
      "text/plain": [
       "  group               study         age_group signature       score     \n",
       "1 CRC_GSE178341.40-60 CRC_GSE178341 40-60     cytotoxic_score 0.06800693\n",
       "2 CRC_GSE178341.40-60 CRC_GSE178341 40-60     exhausted_score 0.26882644"
      ]
     },
     "metadata": {},
     "output_type": "display_data"
    },
    {
     "data": {
      "text/html": [
       "<strong>png:</strong> 2"
      ],
      "text/latex": [
       "\\textbf{png:} 2"
      ],
      "text/markdown": [
       "**png:** 2"
      ],
      "text/plain": [
       "png \n",
       "  2 "
      ]
     },
     "metadata": {},
     "output_type": "display_data"
    }
   ],
   "source": [
    "###----------\n",
    "### for CD4 T\n",
    "###----------\n",
    "ht_data_cyto  =  obs %>% filter(grepl('CD4', celltype)) %>% \n",
    "mutate(age_group= cut(age,  breaks = c(min(age),40,60,80,max(age)),\n",
    "                                     labels = c(\"<40\",\"40-60\",'60-80',\">80\"), include.lowest = TRUE)) %>%\n",
    "mutate(group= paste(study, age_group,sep='.')) %>%\n",
    "select(c(cytotoxic_score,exhausted_score,group)) %>%\n",
    "group_by(group) %>% summarise_all(median) %>% \n",
    "mutate(study= sapply(stringr::str_split(group, \"[.]\"), `[`, 1)) %>%\n",
    "mutate(age_group= sapply(stringr::str_split(group, \"[.]\"), `[`, 2))\n",
    "\n",
    "htlong <- ht_data_cyto %>% tidyr::pivot_longer(cols=c('cytotoxic_score','exhausted_score'),\n",
    "                                                                     names_to= \"signature\",\n",
    "                                                                values_to = \"score\")\n",
    "htlong$age_group= factor(htlong$age_group,  levels= c('<40', '40-60','60-80','>80'))\n",
    "htlong %>% head(n=2)\n",
    "\n",
    "ggd= htlong %>%\n",
    "ggplot(aes(x = age_group, y = signature, \n",
    "           size = score,\n",
    "           #fill=  score,\n",
    "           color = score)) +\n",
    "    geom_point() +\n",
    "    facet_wrap(.~study,scales = \"free\",ncol = 1)+\n",
    "    theme_minimal() +\n",
    "    theme(axis.title = element_blank(),\n",
    "          axis.text = element_text(color = \"black\"),\n",
    "          axis.text.x = element_text(angle = 45, hjust = 1)) +\n",
    "\n",
    "scale_color_gradientn(colours = rainbow(10))\n",
    "\n",
    "#scale_fill_distiller(palette = \"Lajolla\") +\n",
    "#scale_color_distiller(palette = \"Lajolla\")\n",
    "\n",
    "pdf('_dot_signature_median_CD4Tonly.pdf',width = 4,height = 6)\n",
    "cowplot::plot_grid(ggd,ncol = 1)\n",
    "dev.off()"
   ]
  },
  {
   "cell_type": "code",
   "execution_count": 70,
   "id": "6257d071",
   "metadata": {},
   "outputs": [
    {
     "data": {
      "text/html": [
       "<table class=\"dataframe\">\n",
       "<caption>A tibble: 2 × 5</caption>\n",
       "<thead>\n",
       "\t<tr><th scope=col>group</th><th scope=col>study</th><th scope=col>age_group</th><th scope=col>signature</th><th scope=col>score</th></tr>\n",
       "\t<tr><th scope=col>&lt;chr&gt;</th><th scope=col>&lt;chr&gt;</th><th scope=col>&lt;fct&gt;</th><th scope=col>&lt;chr&gt;</th><th scope=col>&lt;dbl&gt;</th></tr>\n",
       "</thead>\n",
       "<tbody>\n",
       "\t<tr><td>CRC_GSE178341.40-60</td><td>CRC_GSE178341</td><td>40-60</td><td>cytotoxic_score</td><td>1.3925031</td></tr>\n",
       "\t<tr><td>CRC_GSE178341.40-60</td><td>CRC_GSE178341</td><td>40-60</td><td>exhausted_score</td><td>0.5624433</td></tr>\n",
       "</tbody>\n",
       "</table>\n"
      ],
      "text/latex": [
       "A tibble: 2 × 5\n",
       "\\begin{tabular}{lllll}\n",
       " group & study & age\\_group & signature & score\\\\\n",
       " <chr> & <chr> & <fct> & <chr> & <dbl>\\\\\n",
       "\\hline\n",
       "\t CRC\\_GSE178341.40-60 & CRC\\_GSE178341 & 40-60 & cytotoxic\\_score & 1.3925031\\\\\n",
       "\t CRC\\_GSE178341.40-60 & CRC\\_GSE178341 & 40-60 & exhausted\\_score & 0.5624433\\\\\n",
       "\\end{tabular}\n"
      ],
      "text/markdown": [
       "\n",
       "A tibble: 2 × 5\n",
       "\n",
       "| group &lt;chr&gt; | study &lt;chr&gt; | age_group &lt;fct&gt; | signature &lt;chr&gt; | score &lt;dbl&gt; |\n",
       "|---|---|---|---|---|\n",
       "| CRC_GSE178341.40-60 | CRC_GSE178341 | 40-60 | cytotoxic_score | 1.3925031 |\n",
       "| CRC_GSE178341.40-60 | CRC_GSE178341 | 40-60 | exhausted_score | 0.5624433 |\n",
       "\n"
      ],
      "text/plain": [
       "  group               study         age_group signature       score    \n",
       "1 CRC_GSE178341.40-60 CRC_GSE178341 40-60     cytotoxic_score 1.3925031\n",
       "2 CRC_GSE178341.40-60 CRC_GSE178341 40-60     exhausted_score 0.5624433"
      ]
     },
     "metadata": {},
     "output_type": "display_data"
    },
    {
     "data": {
      "text/html": [
       "<strong>png:</strong> 2"
      ],
      "text/latex": [
       "\\textbf{png:} 2"
      ],
      "text/markdown": [
       "**png:** 2"
      ],
      "text/plain": [
       "png \n",
       "  2 "
      ]
     },
     "metadata": {},
     "output_type": "display_data"
    }
   ],
   "source": [
    "###----------\n",
    "### for CD8 T\n",
    "###----------\n",
    "ht_data_cyto  =  obs %>% filter(grepl('CD8', celltype)) %>% \n",
    "mutate(age_group= cut(age,  breaks = c(min(age),40,60,80,max(age)),\n",
    "                                     labels = c(\"<40\",\"40-60\",'60-80',\">80\"), include.lowest = TRUE)) %>%\n",
    "mutate(group= paste(study, age_group,sep='.')) %>%\n",
    "select(c(cytotoxic_score,exhausted_score,group)) %>%\n",
    "group_by(group) %>% summarise_all(median) %>% \n",
    "mutate(study= sapply(stringr::str_split(group, \"[.]\"), `[`, 1)) %>%\n",
    "mutate(age_group= sapply(stringr::str_split(group, \"[.]\"), `[`, 2))\n",
    "\n",
    "htlong <- ht_data_cyto %>% tidyr::pivot_longer(cols=c('cytotoxic_score','exhausted_score'),\n",
    "                                                                     names_to= \"signature\",\n",
    "                                                                values_to = \"score\")\n",
    "htlong$age_group= factor(htlong$age_group,  levels= c('<40', '40-60','60-80','>80'))\n",
    "htlong %>% head(n=2)\n",
    "\n",
    "ggd= htlong %>%\n",
    "ggplot(aes(x = age_group, y = signature, \n",
    "           size = score,\n",
    "           #fill=  score,\n",
    "           color = score)) +\n",
    "    geom_point() +\n",
    "    facet_wrap(.~study,scales = \"free\",ncol = 1)+\n",
    "    theme_minimal() +\n",
    "    theme(axis.title = element_blank(),\n",
    "          axis.text = element_text(color = \"black\"),\n",
    "          axis.text.x = element_text(angle = 45, hjust = 1)) +\n",
    "\n",
    "scale_color_gradientn(colours = rainbow(10))\n",
    "\n",
    "#scale_fill_distiller(palette = \"Lajolla\") +\n",
    "#scale_color_distiller(palette = \"Lajolla\")\n",
    "\n",
    "pdf('_dot_signature_median_CD8Tonly.pdf',width = 4,height = 6)\n",
    "cowplot::plot_grid(ggd,ncol = 1)\n",
    "dev.off()"
   ]
  },
  {
   "cell_type": "code",
   "execution_count": 71,
   "id": "a11d050e",
   "metadata": {},
   "outputs": [
    {
     "data": {
      "text/html": [
       "<style>\n",
       ".list-inline {list-style: none; margin:0; padding: 0}\n",
       ".list-inline>li {display: inline-block}\n",
       ".list-inline>li:not(:last-child)::after {content: \"\\00b7\"; padding: 0 .5ex}\n",
       "</style>\n",
       "<ol class=list-inline><li>'CRC_GSE178341'</li><li>'GC_GSE183904'</li><li>'HCC_GSE140228'</li><li>'nsclc_inhouse_kim_etal'</li><li>'nsclc_leader_etal'</li></ol>\n"
      ],
      "text/latex": [
       "\\begin{enumerate*}\n",
       "\\item 'CRC\\_GSE178341'\n",
       "\\item 'GC\\_GSE183904'\n",
       "\\item 'HCC\\_GSE140228'\n",
       "\\item 'nsclc\\_inhouse\\_kim\\_etal'\n",
       "\\item 'nsclc\\_leader\\_etal'\n",
       "\\end{enumerate*}\n"
      ],
      "text/markdown": [
       "1. 'CRC_GSE178341'\n",
       "2. 'GC_GSE183904'\n",
       "3. 'HCC_GSE140228'\n",
       "4. 'nsclc_inhouse_kim_etal'\n",
       "5. 'nsclc_leader_etal'\n",
       "\n",
       "\n"
      ],
      "text/plain": [
       "[1] \"CRC_GSE178341\"          \"GC_GSE183904\"           \"HCC_GSE140228\"         \n",
       "[4] \"nsclc_inhouse_kim_etal\" \"nsclc_leader_etal\"     "
      ]
     },
     "metadata": {},
     "output_type": "display_data"
    }
   ],
   "source": [
    "unique(htlong$study)"
   ]
  },
  {
   "cell_type": "code",
   "execution_count": 74,
   "id": "bb8588ee",
   "metadata": {},
   "outputs": [
    {
     "data": {
      "image/png": "[encoded data removed]",
      "text/plain": [
       "plot without title"
      ]
     },
     "metadata": {
      "image/png": {
       "height": 420,
       "width": 420
      }
     },
     "output_type": "display_data"
    }
   ],
   "source": [
    "htlong %>% filter(study== 'CRC_GSE178341') %>% \n",
    "filter(signature== 'cytotoxic_score') %>%\n",
    "ggplot(aes(x = age_group, y = signature, \n",
    "           size = score,\n",
    "           #fill=  score,\n",
    "           color = score)) +\n",
    "    geom_point() +\n",
    "    facet_wrap(.~study,scales = \"free\",ncol = 1)+\n",
    "    theme_minimal() +\n",
    "    theme(axis.title = element_blank(),\n",
    "          axis.text = element_text(color = \"black\"),\n",
    "          axis.text.x = element_text(angle = 45, hjust = 1)) +\n",
    "\n",
    "scale_color_gradientn(colours = rainbow(10))"
   ]
  },
  {
   "cell_type": "markdown",
   "id": "0cdb592e",
   "metadata": {},
   "source": [
    "##------------------------------------------------------\n",
    "## signature of response data\n",
    "##------------------------------------------------------"
   ]
  },
  {
   "cell_type": "code",
   "execution_count": 124,
   "id": "8bdf347b",
   "metadata": {},
   "outputs": [
    {
     "name": "stderr",
     "output_type": "stream",
     "text": [
      "Note: Using stored X_name value 'counts'\n",
      "\n"
     ]
    }
   ],
   "source": [
    "library(zellkonverter)\n",
    "library(Seurat)\n",
    "library(SingleCellExperiment)\n",
    "sce2=readH5AD('/data/Zhuxq/pub_sc_data/ccRCC_Krishna_etal_CancerCell_2021/out/Totaldata//adata_tumourTissue.h5ad') ## already singlecellexperiment"
   ]
  },
  {
   "cell_type": "code",
   "execution_count": 125,
   "id": "267fea20",
   "metadata": {},
   "outputs": [
    {
     "data": {
      "text/html": [
       "<style>\n",
       ".list-inline {list-style: none; margin:0; padding: 0}\n",
       ".list-inline>li {display: inline-block}\n",
       ".list-inline>li:not(:last-child)::after {content: \"\\00b7\"; padding: 0 .5ex}\n",
       "</style>\n",
       "<ol class=list-inline><li>10034</li><li>56</li></ol>\n"
      ],
      "text/latex": [
       "\\begin{enumerate*}\n",
       "\\item 10034\n",
       "\\item 56\n",
       "\\end{enumerate*}\n"
      ],
      "text/markdown": [
       "1. 10034\n",
       "2. 56\n",
       "\n",
       "\n"
      ],
      "text/plain": [
       "[1] 10034    56"
      ]
     },
     "metadata": {},
     "output_type": "display_data"
    }
   ],
   "source": [
    "##-- draw T cell signature\n",
    "##\n",
    "library(dplyr)\n",
    "stat= colData(sce2) %>% as.data.frame\n",
    "\n",
    "stat= stat[stat$cluster_name %in% c( 'CD8A+ Exhausted','CD8A+ Tissue-resident','CD8A+ Exhausted IEG',\n",
    "                                                 'CD8A+ Proliferating','CD4+ Activated IEG','CD4+ Treg', 'CD8A+ NK-like',\n",
    "                                                 'CD4+ Effector','CD4+ Proliferating','CD4+ Naive'\n",
    "                                   ),]\n",
    "\n",
    "\n",
    "stat$treatment= gsub(' ', '',stat$treatment)\n",
    "stat= stat[stat$treatment %in% c('Ipi.Nivoresistant','Ipi.Nivomixedresponse','Ipi.Nivocompleteresponse'),]\n",
    "stat$group = ifelse(stat$treatment== 'Ipi.Nivoresistant','nonResponse','Response')\n",
    "\n",
    "#\n",
    "stat= stat[stat$region %in% c('Center'),]\n",
    "dim(stat)"
   ]
  },
  {
   "cell_type": "code",
   "execution_count": 126,
   "id": "3947192d",
   "metadata": {},
   "outputs": [],
   "source": [
    "stat$group= factor(stat$group, levels=c('nonResponse','Response'))"
   ]
  },
  {
   "cell_type": "code",
   "execution_count": 107,
   "id": "ab3738c5",
   "metadata": {},
   "outputs": [
    {
     "data": {
      "text/html": [
       "<strong>png:</strong> 2"
      ],
      "text/latex": [
       "\\textbf{png:} 2"
      ],
      "text/markdown": [
       "**png:** 2"
      ],
      "text/plain": [
       "png \n",
       "  2 "
      ]
     },
     "metadata": {},
     "output_type": "display_data"
    }
   ],
   "source": [
    "library(ggpubr)\n",
    "library(khroma)\n",
    "library(ggpubr)\n",
    "themeDivClust2 <-\n",
    "  list(\n",
    "    geom_boxplot(color = 'black',  width = 0.3, size = 0.3, fill = NA,outlier.shape = NA),\n",
    "    geom_violin(color = 'black', scale = 'width',  linewidth = 0.5,trim = TRUE,alpha = 0.8),\n",
    "    #geom_jitter(shape = 21, color = \"gray\", fill = \"white\", width = 0.04, size = 0.5, lwd = 0.05),\n",
    "    #stat_compare_means(aes(group = response_bin),label.x.npc = c(\"middle\"),label.y.npc=c(\"top\"),label = \"p.signif\",vjust = 1),\n",
    "    #geom_violin(color = \"black\", draw_quantiles = 0.5, lwd = 0.5),\n",
    "    #geom_jitter(shape = 21, color = \"gray\", fill = \"white\", width = 0.1, size = 1, lwd = 0.05),\n",
    "    xlab(\"\"),\n",
    "    #scale_fill_muted(),\n",
    "    #scale_color_muted(), \n",
    "    \n",
    "    scale_fill_manual(values = c(\"#E69F00\",\"#56B4E9\")),\n",
    "    #scale_fill_manual(values = rev(c(\"#E69F00\",\"#56B4E9\",\"#009E73\",'#EEDD88'))),\n",
    "    theme_minimal(),\n",
    "    theme(legend.position = \"none\",\n",
    "          #legend.justification = c(0,1),\n",
    "          #legend.title = element_blank(),\n",
    "          legend.text = element_text(size=8),\n",
    "          legend.title = element_text(size=8),\n",
    "          aspect.ratio = 1.2,\n",
    "          #plot.margin = margin(t=5,r=20,b=5,l=20,unit=\"pt\"),\n",
    "          axis.title.y = element_text(size=8,colour=\"black\"),\n",
    "          axis.title.x = element_text(size=8,colour=\"black\"),\n",
    "          #axis.title.x = element_blank(),\n",
    "          axis.text = element_text(size=8,colour=\"black\",angle=0),\n",
    "          axis.text.x = element_text(size=8,colour=\"black\",angle=45,hjust=1),\n",
    "          #axis.text.x = element_blank(),\n",
    "          plot.title = element_text(size=8,face=\"bold\",hjust = 0.5),\n",
    "          panel.grid.major = element_blank(),\n",
    "          panel.grid.minor = element_blank(),\n",
    "          panel.border = element_rect(colour = \"black\", fill=NA, size=0.5),\n",
    "          axis.line = element_line(colour = \"black\"),\n",
    "          axis.ticks.length=unit(.1, \"cm\"),\n",
    "          axis.ticks = element_line(colour = \"black\", size = 0.5)\n",
    "    )\n",
    "  )\n",
    "###-----\n",
    "### for ccRCC\n",
    "###-----\n",
    "gg1= stat  %>% \n",
    "ggplot(aes(x = group, y = cytotoxic_score..T.cell., fill = group) ) +\n",
    "  ylab(\"cytotoxic_score\") +\n",
    "  #facet_wrap(.~study,scales = \"free\",nrow = 1)+\n",
    "  themeDivClust2+\n",
    "  stat_compare_means(aes(group = group),label.x.npc = c(\"middle\"),\n",
    "                     label.y.npc=c(\"top\"), label = \"p.signif\",vjust = 1)+\n",
    "ggtitle('ccRCC')\n",
    "  \n",
    "#\n",
    "gg2= stat  %>% \n",
    "  ggplot(aes(x = group, y = exhausted_score..T.cell., fill = group) ) +\n",
    "  ylab(\"exhausted_score\") +\n",
    "#facet_wrap(.~study,scales = \"free\",nrow = 1)+\n",
    "  themeDivClust2+\n",
    "  stat_compare_means(aes(group = group),label.x.npc = c(\"middle\"),\n",
    "                     label.y.npc=c(\"top\"), label = \"p.signif\",vjust = 1)+\n",
    "ggtitle('ccRCC')\n",
    "#\n",
    "pdf('boxplot_pan_signature_ccRCC_response.pdf',width = 4,height = 5)\n",
    "cowplot::plot_grid(gg1,gg2, ncol=2)\n",
    "dev.off()"
   ]
  },
  {
   "cell_type": "code",
   "execution_count": 127,
   "id": "94b1f36a",
   "metadata": {},
   "outputs": [
    {
     "data": {
      "text/html": [
       "<table class=\"dataframe\">\n",
       "<caption>A tibble: 2 × 3</caption>\n",
       "<thead>\n",
       "\t<tr><th scope=col>group</th><th scope=col>signature</th><th scope=col>score</th></tr>\n",
       "\t<tr><th scope=col>&lt;fct&gt;</th><th scope=col>&lt;chr&gt;</th><th scope=col>&lt;dbl&gt;</th></tr>\n",
       "</thead>\n",
       "<tbody>\n",
       "\t<tr><td>nonResponse</td><td>cytotoxic_score</td><td> 0.64937010</td></tr>\n",
       "\t<tr><td>nonResponse</td><td>exhausted_score</td><td>-0.05223826</td></tr>\n",
       "</tbody>\n",
       "</table>\n"
      ],
      "text/latex": [
       "A tibble: 2 × 3\n",
       "\\begin{tabular}{lll}\n",
       " group & signature & score\\\\\n",
       " <fct> & <chr> & <dbl>\\\\\n",
       "\\hline\n",
       "\t nonResponse & cytotoxic\\_score &  0.64937010\\\\\n",
       "\t nonResponse & exhausted\\_score & -0.05223826\\\\\n",
       "\\end{tabular}\n"
      ],
      "text/markdown": [
       "\n",
       "A tibble: 2 × 3\n",
       "\n",
       "| group &lt;fct&gt; | signature &lt;chr&gt; | score &lt;dbl&gt; |\n",
       "|---|---|---|\n",
       "| nonResponse | cytotoxic_score |  0.64937010 |\n",
       "| nonResponse | exhausted_score | -0.05223826 |\n",
       "\n"
      ],
      "text/plain": [
       "  group       signature       score      \n",
       "1 nonResponse cytotoxic_score  0.64937010\n",
       "2 nonResponse exhausted_score -0.05223826"
      ]
     },
     "metadata": {},
     "output_type": "display_data"
    }
   ],
   "source": [
    "###----------\n",
    "### median dot plot\n",
    "###----------\n",
    "ht_data_cyto  =  stat %>% \n",
    "select(c(cytotoxic_score..T.cell.,exhausted_score..T.cell.,group)) %>%\n",
    "group_by(group) %>% summarise_all(median) %>% \n",
    "setNames(c('group', 'cytotoxic_score','exhausted_score'))\n",
    "\n",
    "htlong <- ht_data_cyto %>% tidyr::pivot_longer(cols=c('cytotoxic_score','exhausted_score'),\n",
    "                                                                     names_to= \"signature\",\n",
    "                                                                values_to = \"score\")\n",
    "htlong$group= factor(htlong$group, levels=c('nonResponse','Response'))\n",
    "htlong %>% head(n=2)\n"
   ]
  },
  {
   "cell_type": "code",
   "execution_count": 128,
   "id": "7d771ef6",
   "metadata": {},
   "outputs": [
    {
     "data": {
      "text/html": [
       "<strong>png:</strong> 2"
      ],
      "text/latex": [
       "\\textbf{png:} 2"
      ],
      "text/markdown": [
       "**png:** 2"
      ],
      "text/plain": [
       "png \n",
       "  2 "
      ]
     },
     "metadata": {},
     "output_type": "display_data"
    }
   ],
   "source": [
    "ggd= htlong %>%\n",
    "ggplot(aes(x = group, y = signature, \n",
    "           size = score,\n",
    "           #fill=  score,\n",
    "           color = score)) +\n",
    "    geom_point() +\n",
    "    #facet_wrap(.~study,scales = \"free\",ncol = 1)+\n",
    "    theme_minimal() +\n",
    "    theme(axis.title = element_blank(),\n",
    "          axis.text = element_text(color = \"black\"),\n",
    "          axis.text.x = element_text(angle = 45, hjust = 1)) +\n",
    "\n",
    "scale_color_gradientn(colours = rainbow(10))\n",
    "\n",
    "#scale_fill_distiller(palette = \"Lajolla\") +\n",
    "#scale_color_distiller(palette = \"Lajolla\")\n",
    "\n",
    "pdf('_dot_signature_median_response_group_ccRCC.pdf',width = 4,height = 4)\n",
    "cowplot::plot_grid(ggd,ncol = 1)\n",
    "dev.off()"
   ]
  },
  {
   "cell_type": "code",
   "execution_count": null,
   "id": "f093aa1a",
   "metadata": {},
   "outputs": [],
   "source": []
  },
  {
   "cell_type": "code",
   "execution_count": null,
   "id": "1252c1b8",
   "metadata": {},
   "outputs": [],
   "source": []
  },
  {
   "cell_type": "code",
   "execution_count": null,
   "id": "4670c649",
   "metadata": {},
   "outputs": [],
   "source": []
  },
  {
   "cell_type": "code",
   "execution_count": 108,
   "id": "2cfc5102",
   "metadata": {},
   "outputs": [
    {
     "name": "stderr",
     "output_type": "stream",
     "text": [
      "Note: Using stored X_name value 'counts'\n",
      "\n"
     ]
    },
    {
     "data": {
      "text/plain": [
       "class: SingleCellExperiment \n",
       "dim: 23309 53030 \n",
       "metadata(8): cluster_colors hvg ... pca umap\n",
       "assays(2): counts logcounts\n",
       "rownames(23309): FO538757.2 AP006222.2 ... XXbac-B135H6.18 GGTLC2\n",
       "rowData names(13): mt ribo ... std varm\n",
       "colnames(53030): bcc.su001.pre.tcell_AAACCTGCAGATCGGA\n",
       "  bcc.su001.pre.tcell_AAACCTGCAGGGATTG ...\n",
       "  bcc.su012.post.tcell_TTTGTCAAGTGAACGC\n",
       "  bcc.su012.post.tcell_TTTGTCAGTCCCTTGT\n",
       "colData names(34): orig.ident nCount_RNA ...\n",
       "  KEGG_ETHER_LIPID_METABOLISM (endos) HALLMARK_FATTY_ACID_METABOLISM\n",
       "  (endos)\n",
       "reducedDimNames(3): X_pca X_pca_harmonized X_umap\n",
       "altExpNames(0):"
      ]
     },
     "metadata": {},
     "output_type": "display_data"
    }
   ],
   "source": [
    "##----\n",
    "## BCC\n",
    "##----\n",
    "library(zellkonverter)\n",
    "library(Seurat)\n",
    "library(SingleCellExperiment)\n",
    "sce=readH5AD('/data/Zhuxq/pub_sc_data/melanoma_Yost_etal_GSE123813_NM_2019/out/Totaldata/adataall_bcc_signatured.h5ad') ## already singlecellexperiment\n",
    "sce"
   ]
  },
  {
   "cell_type": "code",
   "execution_count": 109,
   "id": "42be4cea",
   "metadata": {},
   "outputs": [
    {
     "data": {
      "text/html": [
       "<style>\n",
       ".list-inline {list-style: none; margin:0; padding: 0}\n",
       ".list-inline>li {display: inline-block}\n",
       ".list-inline>li:not(:last-child)::after {content: \"\\00b7\"; padding: 0 .5ex}\n",
       "</style>\n",
       "<ol class=list-inline><li>'orig.ident'</li><li>'nCount_RNA'</li><li>'nFeature_RNA'</li><li>'patient'</li><li>'treatment'</li><li>'sort'</li><li>'cluster'</li><li>'UMAP1'</li><li>'UMAP2'</li><li>'Response'</li><li>'ident'</li><li>'n_genes_by_counts'</li><li>'total_counts'</li><li>'total_counts_mt'</li><li>'pct_counts_mt'</li><li>'total_counts_ribo'</li><li>'pct_counts_ribo'</li><li>'louvain'</li><li>'cytotoxic_score..T.cell.'</li><li>'exhausted_score..T.cell.'</li><li>'ActivatedDC'</li><li>'MigratoryDC'</li><li>'M1'</li><li>'M2'</li><li>'Angiogenesis..Mac.'</li><li>'Phagocytosis..Mac.'</li><li>'HALLMARK_INFLAMMATORY_RESPONSE..Fibs.endo.'</li><li>'KEGG_ANTIGEN_PROCESSING_AND_PRESENTATION..Fibs.'</li><li>'KEGG_VASCULAR_SMOOTH_MUSCLE_CONTRACTION.Fibs.'</li><li>'HALLMARK_ANGIOGENESIS.Fibs.endos.'</li><li>'REACTOME_COLLAGEN_FORMATION.Fibs.endos.'</li><li>'HEMOSTASIS..endos.'</li><li>'KEGG_ETHER_LIPID_METABOLISM..endos.'</li><li>'HALLMARK_FATTY_ACID_METABOLISM..endos.'</li></ol>\n"
      ],
      "text/latex": [
       "\\begin{enumerate*}\n",
       "\\item 'orig.ident'\n",
       "\\item 'nCount\\_RNA'\n",
       "\\item 'nFeature\\_RNA'\n",
       "\\item 'patient'\n",
       "\\item 'treatment'\n",
       "\\item 'sort'\n",
       "\\item 'cluster'\n",
       "\\item 'UMAP1'\n",
       "\\item 'UMAP2'\n",
       "\\item 'Response'\n",
       "\\item 'ident'\n",
       "\\item 'n\\_genes\\_by\\_counts'\n",
       "\\item 'total\\_counts'\n",
       "\\item 'total\\_counts\\_mt'\n",
       "\\item 'pct\\_counts\\_mt'\n",
       "\\item 'total\\_counts\\_ribo'\n",
       "\\item 'pct\\_counts\\_ribo'\n",
       "\\item 'louvain'\n",
       "\\item 'cytotoxic\\_score..T.cell.'\n",
       "\\item 'exhausted\\_score..T.cell.'\n",
       "\\item 'ActivatedDC'\n",
       "\\item 'MigratoryDC'\n",
       "\\item 'M1'\n",
       "\\item 'M2'\n",
       "\\item 'Angiogenesis..Mac.'\n",
       "\\item 'Phagocytosis..Mac.'\n",
       "\\item 'HALLMARK\\_INFLAMMATORY\\_RESPONSE..Fibs.endo.'\n",
       "\\item 'KEGG\\_ANTIGEN\\_PROCESSING\\_AND\\_PRESENTATION..Fibs.'\n",
       "\\item 'KEGG\\_VASCULAR\\_SMOOTH\\_MUSCLE\\_CONTRACTION.Fibs.'\n",
       "\\item 'HALLMARK\\_ANGIOGENESIS.Fibs.endos.'\n",
       "\\item 'REACTOME\\_COLLAGEN\\_FORMATION.Fibs.endos.'\n",
       "\\item 'HEMOSTASIS..endos.'\n",
       "\\item 'KEGG\\_ETHER\\_LIPID\\_METABOLISM..endos.'\n",
       "\\item 'HALLMARK\\_FATTY\\_ACID\\_METABOLISM..endos.'\n",
       "\\end{enumerate*}\n"
      ],
      "text/markdown": [
       "1. 'orig.ident'\n",
       "2. 'nCount_RNA'\n",
       "3. 'nFeature_RNA'\n",
       "4. 'patient'\n",
       "5. 'treatment'\n",
       "6. 'sort'\n",
       "7. 'cluster'\n",
       "8. 'UMAP1'\n",
       "9. 'UMAP2'\n",
       "10. 'Response'\n",
       "11. 'ident'\n",
       "12. 'n_genes_by_counts'\n",
       "13. 'total_counts'\n",
       "14. 'total_counts_mt'\n",
       "15. 'pct_counts_mt'\n",
       "16. 'total_counts_ribo'\n",
       "17. 'pct_counts_ribo'\n",
       "18. 'louvain'\n",
       "19. 'cytotoxic_score..T.cell.'\n",
       "20. 'exhausted_score..T.cell.'\n",
       "21. 'ActivatedDC'\n",
       "22. 'MigratoryDC'\n",
       "23. 'M1'\n",
       "24. 'M2'\n",
       "25. 'Angiogenesis..Mac.'\n",
       "26. 'Phagocytosis..Mac.'\n",
       "27. 'HALLMARK_INFLAMMATORY_RESPONSE..Fibs.endo.'\n",
       "28. 'KEGG_ANTIGEN_PROCESSING_AND_PRESENTATION..Fibs.'\n",
       "29. 'KEGG_VASCULAR_SMOOTH_MUSCLE_CONTRACTION.Fibs.'\n",
       "30. 'HALLMARK_ANGIOGENESIS.Fibs.endos.'\n",
       "31. 'REACTOME_COLLAGEN_FORMATION.Fibs.endos.'\n",
       "32. 'HEMOSTASIS..endos.'\n",
       "33. 'KEGG_ETHER_LIPID_METABOLISM..endos.'\n",
       "34. 'HALLMARK_FATTY_ACID_METABOLISM..endos.'\n",
       "\n",
       "\n"
      ],
      "text/plain": [
       " [1] \"orig.ident\"                                     \n",
       " [2] \"nCount_RNA\"                                     \n",
       " [3] \"nFeature_RNA\"                                   \n",
       " [4] \"patient\"                                        \n",
       " [5] \"treatment\"                                      \n",
       " [6] \"sort\"                                           \n",
       " [7] \"cluster\"                                        \n",
       " [8] \"UMAP1\"                                          \n",
       " [9] \"UMAP2\"                                          \n",
       "[10] \"Response\"                                       \n",
       "[11] \"ident\"                                          \n",
       "[12] \"n_genes_by_counts\"                              \n",
       "[13] \"total_counts\"                                   \n",
       "[14] \"total_counts_mt\"                                \n",
       "[15] \"pct_counts_mt\"                                  \n",
       "[16] \"total_counts_ribo\"                              \n",
       "[17] \"pct_counts_ribo\"                                \n",
       "[18] \"louvain\"                                        \n",
       "[19] \"cytotoxic_score..T.cell.\"                       \n",
       "[20] \"exhausted_score..T.cell.\"                       \n",
       "[21] \"ActivatedDC\"                                    \n",
       "[22] \"MigratoryDC\"                                    \n",
       "[23] \"M1\"                                             \n",
       "[24] \"M2\"                                             \n",
       "[25] \"Angiogenesis..Mac.\"                             \n",
       "[26] \"Phagocytosis..Mac.\"                             \n",
       "[27] \"HALLMARK_INFLAMMATORY_RESPONSE..Fibs.endo.\"     \n",
       "[28] \"KEGG_ANTIGEN_PROCESSING_AND_PRESENTATION..Fibs.\"\n",
       "[29] \"KEGG_VASCULAR_SMOOTH_MUSCLE_CONTRACTION.Fibs.\"  \n",
       "[30] \"HALLMARK_ANGIOGENESIS.Fibs.endos.\"              \n",
       "[31] \"REACTOME_COLLAGEN_FORMATION.Fibs.endos.\"        \n",
       "[32] \"HEMOSTASIS..endos.\"                             \n",
       "[33] \"KEGG_ETHER_LIPID_METABOLISM..endos.\"            \n",
       "[34] \"HALLMARK_FATTY_ACID_METABOLISM..endos.\"         "
      ]
     },
     "metadata": {},
     "output_type": "display_data"
    }
   ],
   "source": [
    "library(dplyr)\n",
    "stat= colData(sce) %>% as.data.frame\n",
    "colnames(stat)= gsub(' ', '', colnames(stat))\n",
    "colnames(stat)= gsub('[(]', '', colnames(stat))\n",
    "colnames(stat)= gsub('[)]', '', colnames(stat))\n",
    "colnames(stat)\n",
    "\n",
    "stat= stat[stat$cluster %in% c('CD8_mem_T_cells','CD4_T_cells','Tregs','CD8_act_T_cells','CD8_ex_T_cells',\n",
    "                                            #'NK_cells',\n",
    "                                            'Tcell_prolif'),\n",
    "          ]\n",
    "stat=stat[stat$treatment %in% c('pre'),]\n",
    "stat$group= ifelse(stat$Response=='Yes','Response','nonResponse')"
   ]
  },
  {
   "cell_type": "code",
   "execution_count": 110,
   "id": "ab805084",
   "metadata": {},
   "outputs": [],
   "source": [
    "stat$group= factor(stat$group, levels=c('nonResponse','Response'))"
   ]
  },
  {
   "cell_type": "code",
   "execution_count": 111,
   "id": "03c63515",
   "metadata": {},
   "outputs": [
    {
     "data": {
      "text/html": [
       "<strong>png:</strong> 2"
      ],
      "text/latex": [
       "\\textbf{png:} 2"
      ],
      "text/markdown": [
       "**png:** 2"
      ],
      "text/plain": [
       "png \n",
       "  2 "
      ]
     },
     "metadata": {},
     "output_type": "display_data"
    }
   ],
   "source": [
    "themeDivClust2 <-\n",
    "  list(\n",
    "    geom_boxplot(color = 'black',  width = 0.3, size = 0.3, fill = NA,outlier.shape = NA),\n",
    "    geom_violin(color = 'black', scale = 'width',  linewidth = 0.5,trim = TRUE,alpha = 0.8),\n",
    "    #geom_jitter(shape = 21, color = \"gray\", fill = \"white\", width = 0.04, size = 0.5, lwd = 0.05),\n",
    "    #stat_compare_means(aes(group = response_bin),label.x.npc = c(\"middle\"),label.y.npc=c(\"top\"),label = \"p.signif\",vjust = 1),\n",
    "    #geom_violin(color = \"black\", draw_quantiles = 0.5, lwd = 0.5),\n",
    "    #geom_jitter(shape = 21, color = \"gray\", fill = \"white\", width = 0.1, size = 1, lwd = 0.05),\n",
    "    xlab(\"\"),\n",
    "    #scale_fill_muted(),\n",
    "    #scale_color_muted(), \n",
    "    \n",
    "    scale_fill_manual(values = c(\"#E69F00\",\"#56B4E9\")),\n",
    "    #scale_fill_manual(values = rev(c(\"#E69F00\",\"#56B4E9\",\"#009E73\",'#EEDD88'))),\n",
    "    theme_minimal(),\n",
    "    theme(legend.position = \"none\",\n",
    "          #legend.justification = c(0,1),\n",
    "          #legend.title = element_blank(),\n",
    "          legend.text = element_text(size=8),\n",
    "          legend.title = element_text(size=8),\n",
    "          aspect.ratio = 1.2,\n",
    "          #plot.margin = margin(t=5,r=20,b=5,l=20,unit=\"pt\"),\n",
    "          axis.title.y = element_text(size=8,colour=\"black\"),\n",
    "          axis.title.x = element_text(size=8,colour=\"black\"),\n",
    "          #axis.title.x = element_blank(),\n",
    "          axis.text = element_text(size=8,colour=\"black\",angle=0),\n",
    "          axis.text.x = element_text(size=8,colour=\"black\",angle=45,hjust=1),\n",
    "          #axis.text.x = element_blank(),\n",
    "          plot.title = element_text(size=8,face=\"bold\",hjust = 0.5),\n",
    "          panel.grid.major = element_blank(),\n",
    "          panel.grid.minor = element_blank(),\n",
    "          panel.border = element_rect(colour = \"black\", fill=NA, size=0.5),\n",
    "          axis.line = element_line(colour = \"black\"),\n",
    "          axis.ticks.length=unit(.1, \"cm\"),\n",
    "          axis.ticks = element_line(colour = \"black\", size = 0.5)\n",
    "    )\n",
    "  )\n",
    "\n",
    "gg1= stat  %>% \n",
    "ggplot(aes(x = group, y = cytotoxic_score..T.cell., fill = group) ) +\n",
    "  ylab(\"cytotoxic_score\") +\n",
    "  #facet_wrap(.~study,scales = \"free\",nrow = 1)+\n",
    "  themeDivClust2+\n",
    "  stat_compare_means(aes(group = group),label.x.npc = c(\"middle\"),\n",
    "                     label.y.npc=c(\"top\"), label = \"p.signif\",vjust = 1)+\n",
    "ggtitle('BCC')\n",
    "  \n",
    "#\n",
    "gg2= stat  %>% \n",
    "  ggplot(aes(x = group, y = exhausted_score..T.cell., fill = group) ) +\n",
    "  ylab(\"exhausted_score\") +\n",
    "#facet_wrap(.~study,scales = \"free\",nrow = 1)+\n",
    "  themeDivClust2+\n",
    "  stat_compare_means(aes(group = group),label.x.npc = c(\"middle\"),\n",
    "                     label.y.npc=c(\"top\"), label = \"p.signif\",vjust = 1)+\n",
    "ggtitle('BCC')\n",
    "#\n",
    "pdf('boxplot_pan_signature_BCC_response.pdf',width = 4,height = 5)\n",
    "cowplot::plot_grid(gg1,gg2, ncol=2)\n",
    "dev.off()"
   ]
  },
  {
   "cell_type": "code",
   "execution_count": 118,
   "id": "fcbf498c",
   "metadata": {},
   "outputs": [
    {
     "data": {
      "text/html": [
       "<table class=\"dataframe\">\n",
       "<caption>A tibble: 2 × 3</caption>\n",
       "<thead>\n",
       "\t<tr><th scope=col>group</th><th scope=col>signature</th><th scope=col>score</th></tr>\n",
       "\t<tr><th scope=col>&lt;fct&gt;</th><th scope=col>&lt;chr&gt;</th><th scope=col>&lt;dbl&gt;</th></tr>\n",
       "</thead>\n",
       "<tbody>\n",
       "\t<tr><td>nonResponse</td><td>cytotoxic_score</td><td>-0.10486028</td></tr>\n",
       "\t<tr><td>nonResponse</td><td>exhausted_score</td><td>-0.06708952</td></tr>\n",
       "</tbody>\n",
       "</table>\n"
      ],
      "text/latex": [
       "A tibble: 2 × 3\n",
       "\\begin{tabular}{lll}\n",
       " group & signature & score\\\\\n",
       " <fct> & <chr> & <dbl>\\\\\n",
       "\\hline\n",
       "\t nonResponse & cytotoxic\\_score & -0.10486028\\\\\n",
       "\t nonResponse & exhausted\\_score & -0.06708952\\\\\n",
       "\\end{tabular}\n"
      ],
      "text/markdown": [
       "\n",
       "A tibble: 2 × 3\n",
       "\n",
       "| group &lt;fct&gt; | signature &lt;chr&gt; | score &lt;dbl&gt; |\n",
       "|---|---|---|\n",
       "| nonResponse | cytotoxic_score | -0.10486028 |\n",
       "| nonResponse | exhausted_score | -0.06708952 |\n",
       "\n"
      ],
      "text/plain": [
       "  group       signature       score      \n",
       "1 nonResponse cytotoxic_score -0.10486028\n",
       "2 nonResponse exhausted_score -0.06708952"
      ]
     },
     "metadata": {},
     "output_type": "display_data"
    }
   ],
   "source": [
    "###----------\n",
    "### median dot plot\n",
    "###----------\n",
    "ht_data_cyto  =  stat %>% \n",
    "select(c(cytotoxic_score..T.cell.,exhausted_score..T.cell.,group)) %>%\n",
    "group_by(group) %>% summarise_all(median) %>% \n",
    "setNames(c('group', 'cytotoxic_score','exhausted_score'))\n",
    "\n",
    "htlong <- ht_data_cyto %>% tidyr::pivot_longer(cols=c('cytotoxic_score','exhausted_score'),\n",
    "                                                                     names_to= \"signature\",\n",
    "                                                                values_to = \"score\")\n",
    "htlong$group= factor(htlong$group, levels=c('nonResponse','Response'))\n",
    "htlong %>% head(n=2)\n"
   ]
  },
  {
   "cell_type": "code",
   "execution_count": 123,
   "id": "ddef899e",
   "metadata": {},
   "outputs": [
    {
     "data": {
      "text/html": [
       "<strong>png:</strong> 2"
      ],
      "text/latex": [
       "\\textbf{png:} 2"
      ],
      "text/markdown": [
       "**png:** 2"
      ],
      "text/plain": [
       "png \n",
       "  2 "
      ]
     },
     "metadata": {},
     "output_type": "display_data"
    }
   ],
   "source": [
    "ggd= htlong %>%\n",
    "ggplot(aes(x = group, y = signature, \n",
    "           size = score,\n",
    "           #fill=  score,\n",
    "           color = score)) +\n",
    "    geom_point() +\n",
    "    #facet_wrap(.~study,scales = \"free\",ncol = 1)+\n",
    "    theme_minimal() +\n",
    "    theme(axis.title = element_blank(),\n",
    "          axis.text = element_text(color = \"black\"),\n",
    "          axis.text.x = element_text(angle = 45, hjust = 1)) +\n",
    "\n",
    "scale_color_gradientn(colours = rainbow(10))\n",
    "\n",
    "#scale_fill_distiller(palette = \"Lajolla\") +\n",
    "#scale_color_distiller(palette = \"Lajolla\")\n",
    "\n",
    "pdf('_dot_signature_median_response_group_BCC.pdf',width = 4,height = 4)\n",
    "cowplot::plot_grid(ggd,ncol = 1)\n",
    "dev.off()"
   ]
  },
  {
   "cell_type": "code",
   "execution_count": null,
   "id": "71f3cdcb",
   "metadata": {},
   "outputs": [],
   "source": [
    "###\n",
    "###\n",
    "###\n",
    "###"
   ]
  },
  {
   "cell_type": "code",
   "execution_count": 1,
   "id": "ae63d972",
   "metadata": {},
   "outputs": [],
   "source": [
    "obs= read.csv('scanpy_out/adata.obs.pooledCalculated.signature.csv',header=T)"
   ]
  },
  {
   "cell_type": "code",
   "execution_count": 2,
   "id": "0f3ba4e1",
   "metadata": {},
   "outputs": [
    {
     "data": {
      "text/plain": [
       "   Min. 1st Qu.  Median    Mean 3rd Qu.    Max. \n",
       "  25.00   61.00   68.00   66.72   74.00   91.00 "
      ]
     },
     "metadata": {},
     "output_type": "display_data"
    }
   ],
   "source": [
    "summary(obs$Age)"
   ]
  },
  {
   "cell_type": "code",
   "execution_count": 31,
   "id": "325d62ce",
   "metadata": {},
   "outputs": [],
   "source": [
    "obs$age_bin4<- cut(obs$Age,  breaks = c(min(obs$Age),40,60,80,max(obs$Age)),\n",
    "                                     labels = c(\"<40\",\"40-60\",\"60-80\",\">80\"), include.lowest = TRUE)\n",
    "obs$age_bin3<- cut(obs$Age,  breaks = c(min(obs$Age),40,60,max(obs$Age)),\n",
    "                                     labels = c(\"<40\",\"40-60\",\">60\"), include.lowest = TRUE)\n",
    "obs$age_bin5<- cut(obs$Age,  breaks = c(min(obs$Age),40,50,60,70,80,max(obs$Age)),\n",
    "                                     labels = c(\"<40\",\"40-50\",'50-60',\"60-70\",'70-80','>80'), include.lowest = TRUE)\n",
    "\n",
    "obs$age_bin2=  ifelse(obs$Age > 60, '>60','<=60')\n",
    "\n",
    "\n",
    "obs$age_bin8<- cut(obs$Age,  breaks = c(min(obs$Age),60,80,max(obs$Age)),\n",
    "                                     labels = c(\"<60\",\"60-80\",'>80'), include.lowest = TRUE)\n",
    "\n"
   ]
  },
  {
   "cell_type": "code",
   "execution_count": 23,
   "id": "ef610f70",
   "metadata": {},
   "outputs": [
    {
     "data": {
      "text/html": [
       "<strong>png:</strong> 2"
      ],
      "text/latex": [
       "\\textbf{png:} 2"
      ],
      "text/markdown": [
       "**png:** 2"
      ],
      "text/plain": [
       "png \n",
       "  2 "
      ]
     },
     "metadata": {},
     "output_type": "display_data"
    }
   ],
   "source": [
    "library(ggpubr)\n",
    "library(khroma)\n",
    "library(ggpubr)\n",
    "themeDivClust2 <-\n",
    "  list(\n",
    "    geom_boxplot(color = 'black',  width = 0.3, size = 0.3, fill = NA,outlier.shape = NA),\n",
    "    geom_violin(color = 'black', scale = 'width',  linewidth = 0.5,trim = TRUE,alpha = 0.8),\n",
    "    #geom_jitter(shape = 21, color = \"gray\", fill = \"white\", width = 0.1, size = 2, lwd = 0.05),\n",
    "    #stat_compare_means(aes(group = response_bin),label.x.npc = c(\"middle\"),label.y.npc=c(\"top\"),label = \"p.signif\",vjust = 1),\n",
    "    #geom_violin(color = \"black\", draw_quantiles = 0.5, lwd = 0.5),\n",
    "    #geom_jitter(shape = 21, color = \"gray\", fill = \"white\", width = 0.1, size = 1, lwd = 0.05),\n",
    "    xlab(\"\"),\n",
    "    #scale_fill_muted(),\n",
    "    #scale_color_muted(), \n",
    "    \n",
    "    #scale_fill_manual(values = c(\"#E69F00\",\"#56B4E9\")),\n",
    "    scale_fill_manual(values = rev(c('#EF6F6A','#8CC2CA',\"#E69F00\",\"#56B4E9\",\"#009E73\",'#EEDD88'))),\n",
    "    theme_minimal(),\n",
    "    theme(legend.position = \"none\",\n",
    "          #legend.justification = c(0,1),\n",
    "          #legend.title = element_blank(),\n",
    "          legend.text = element_text(size=8),\n",
    "          legend.title = element_text(size=8),\n",
    "          aspect.ratio = 1.2,\n",
    "          #plot.margin = margin(t=5,r=20,b=5,l=20,unit=\"pt\"),\n",
    "          axis.title.y = element_text(size=8,colour=\"black\"),\n",
    "          axis.title.x = element_text(size=8,colour=\"black\"),\n",
    "          #axis.title.x = element_blank(),\n",
    "          axis.text = element_text(size=8,colour=\"black\",angle=0),\n",
    "          axis.text.x = element_text(size=8,colour=\"black\",angle=45,hjust=1),\n",
    "          #axis.text.x = element_blank(),\n",
    "          plot.title = element_text(size=8,face=\"bold\",hjust = 0.5),\n",
    "          panel.grid.major = element_blank(),\n",
    "          panel.grid.minor = element_blank(),\n",
    "          panel.border = element_rect(colour = \"black\", fill=NA, size=0.5),\n",
    "          axis.line = element_line(colour = \"black\"),\n",
    "          axis.ticks.length=unit(.1, \"cm\"),\n",
    "          axis.ticks = element_line(colour = \"black\", size = 0.5)\n",
    "    )\n",
    "  )\n",
    "###-----\n",
    "### \n",
    "###-----\n",
    "gg1_nsclc1= obs  %>%\n",
    "ggplot(aes(x = age_bin2, y = exhausted_score, fill = age_bin2) ) +\n",
    "  ylab(\"exhausted_score\") +\n",
    "  #facet_wrap(.~study,scales = \"free\",nrow = 1)+\n",
    "  themeDivClust2+\n",
    "  stat_compare_means(aes(group = age_bin2),label.x.npc = c(\"middle\"),\n",
    "                     label.y.npc=c(\"top\"), label = \"p.signif\",vjust = 1)+\n",
    "ggtitle('pan-cancer pool')\n",
    "  \n",
    "#\n",
    "gg2_nsclc1= obs %>%\n",
    "  ggplot(aes(x = age_bin2, y = cytotoxic_score, fill = age_bin2) ) +\n",
    "  ylab(\"cytotoxic_score\") +\n",
    "#facet_wrap(.~study,scales = \"free\",nrow = 1)+\n",
    "  themeDivClust2+\n",
    "  stat_compare_means(aes(group = age_bin2),label.x.npc = c(\"middle\"),\n",
    "                     label.y.npc=c(\"top\"), label = \"p.signif\",vjust = 1)+\n",
    "ggtitle('pan-cancer pool')\n",
    "#\n",
    "pdf('boxplot_pan_signature_mergeCalculated_bin2.pdf',width = 8,height = 5)\n",
    "cowplot::plot_grid(gg1_nsclc1,gg2_nsclc1, ncol=2)\n",
    "dev.off()"
   ]
  },
  {
   "cell_type": "code",
   "execution_count": 24,
   "id": "2e3fd29d",
   "metadata": {},
   "outputs": [
    {
     "data": {
      "text/html": [
       "<strong>png:</strong> 2"
      ],
      "text/latex": [
       "\\textbf{png:} 2"
      ],
      "text/markdown": [
       "**png:** 2"
      ],
      "text/plain": [
       "png \n",
       "  2 "
      ]
     },
     "metadata": {},
     "output_type": "display_data"
    }
   ],
   "source": [
    "gg1_nsclc1= obs  %>%\n",
    "ggplot(aes(x = age_bin3, y = exhausted_score, fill = age_bin3) ) +\n",
    "  ylab(\"exhausted_score\") +\n",
    "  #facet_wrap(.~study,scales = \"free\",nrow = 1)+\n",
    "  themeDivClust2+\n",
    "  stat_compare_means(aes(group = age_bin3),label.x.npc = c(\"middle\"),\n",
    "                     label.y.npc=c(\"top\"), label = \"p.signif\",vjust = 1)+\n",
    "ggtitle('pan-cancer pool')\n",
    "  \n",
    "#\n",
    "gg2_nsclc1= obs %>%\n",
    "  ggplot(aes(x = age_bin3, y = cytotoxic_score, fill = age_bin3) ) +\n",
    "  ylab(\"cytotoxic_score\") +\n",
    "#facet_wrap(.~study,scales = \"free\",nrow = 1)+\n",
    "  themeDivClust2+\n",
    "  stat_compare_means(aes(group = age_bin3),label.x.npc = c(\"middle\"),\n",
    "                     label.y.npc=c(\"top\"), label = \"p.signif\",vjust = 1)+\n",
    "ggtitle('pan-cancer pool')\n",
    "#\n",
    "pdf('boxplot_pan_signature_mergeCalculated_bin3.pdf',width = 8,height = 5)\n",
    "cowplot::plot_grid(gg1_nsclc1,gg2_nsclc1, ncol=2)\n",
    "dev.off()"
   ]
  },
  {
   "cell_type": "code",
   "execution_count": 25,
   "id": "e1039895",
   "metadata": {},
   "outputs": [
    {
     "data": {
      "text/html": [
       "<strong>png:</strong> 2"
      ],
      "text/latex": [
       "\\textbf{png:} 2"
      ],
      "text/markdown": [
       "**png:** 2"
      ],
      "text/plain": [
       "png \n",
       "  2 "
      ]
     },
     "metadata": {},
     "output_type": "display_data"
    }
   ],
   "source": [
    "meanvalue <- obs %>% #dplyr::filter(grepl('CD4', celltype)) %>% \n",
    "  group_by(age_bin4) %>% \n",
    "  summarize(median = median(exhausted_score)) %>%\n",
    "  ungroup()\n",
    "\n",
    "gg1_nsclc1= obs  %>%\n",
    "ggplot(aes(x = age_bin4, y = exhausted_score, fill = age_bin4) ) +\n",
    "  ylab(\"exhausted_score\") +\n",
    "  #facet_wrap(.~study,scales = \"free\",nrow = 1)+\n",
    "  themeDivClust2+\n",
    "  stat_compare_means(aes(group = age_bin4),label.x.npc = c(\"middle\"),\n",
    "                     label.y.npc=c(\"top\"), label = \"p.signif\",vjust = 1)+\n",
    "ggtitle('pan-cancer pool')+\n",
    "geom_line(data = meanvalue, \n",
    "            mapping = aes(x = age_bin4, y = median, group=1),color=\"red\")\n",
    "\n",
    "  \n",
    "#\n",
    "meanvalue <- obs %>% #dplyr::filter(grepl('CD4', celltype)) %>% \n",
    "  group_by(age_bin4) %>% \n",
    "  summarize(median = median(cytotoxic_score)) %>%\n",
    "  ungroup()\n",
    "\n",
    "gg2_nsclc1= obs %>%\n",
    "  ggplot(aes(x = age_bin4, y = cytotoxic_score, fill = age_bin4) ) +\n",
    "  ylab(\"cytotoxic_score\") +\n",
    "#facet_wrap(.~study,scales = \"free\",nrow = 1)+\n",
    "  themeDivClust2+\n",
    "  stat_compare_means(aes(group = age_bin4),label.x.npc = c(\"middle\"),\n",
    "                     label.y.npc=c(\"top\"), label = \"p.signif\",vjust = 1)+\n",
    "ggtitle('pan-cancer pool')+\n",
    "geom_line(data = meanvalue, \n",
    "            mapping = aes(x = age_bin4, y = median, group=1),color=\"red\")\n",
    "\n",
    "#\n",
    "pdf('boxplot_pan_signature_mergeCalculated_bin4.pdf',width = 4,height = 5)\n",
    "cowplot::plot_grid(gg1_nsclc1,gg2_nsclc1, ncol=2)\n",
    "dev.off()"
   ]
  },
  {
   "cell_type": "code",
   "execution_count": 26,
   "id": "ef10f89e",
   "metadata": {},
   "outputs": [
    {
     "data": {
      "text/html": [
       "<strong>png:</strong> 2"
      ],
      "text/latex": [
       "\\textbf{png:} 2"
      ],
      "text/markdown": [
       "**png:** 2"
      ],
      "text/plain": [
       "png \n",
       "  2 "
      ]
     },
     "metadata": {},
     "output_type": "display_data"
    }
   ],
   "source": [
    "gg1_nsclc1= obs  %>%\n",
    "ggplot(aes(x = age_bin5, y = exhausted_score, fill = age_bin5) ) +\n",
    "  ylab(\"exhausted_score\") +\n",
    "  #facet_wrap(.~study,scales = \"free\",nrow = 1)+\n",
    "  themeDivClust2+\n",
    "  stat_compare_means(aes(group = age_bin5),label.x.npc = c(\"middle\"),\n",
    "                     label.y.npc=c(\"top\"), label = \"p.signif\",vjust = 1)+\n",
    "ggtitle('pan-cancer pool')\n",
    "  \n",
    "#\n",
    "gg2_nsclc1= obs %>%\n",
    "  ggplot(aes(x = age_bin5, y = cytotoxic_score, fill = age_bin5) ) +\n",
    "  ylab(\"cytotoxic_score\") +\n",
    "#facet_wrap(.~study,scales = \"free\",nrow = 1)+\n",
    "  themeDivClust2+\n",
    "  stat_compare_means(aes(group = age_bin5),label.x.npc = c(\"middle\"),\n",
    "                     label.y.npc=c(\"top\"), label = \"p.signif\",vjust = 1)+\n",
    "ggtitle('pan-cancer pool')\n",
    "#\n",
    "pdf('boxplot_pan_signature_mergeCalculated_bin5.pdf',width = 8,height = 5)\n",
    "cowplot::plot_grid(gg1_nsclc1,gg2_nsclc1, ncol=2)\n",
    "dev.off()"
   ]
  },
  {
   "cell_type": "code",
   "execution_count": 27,
   "id": "1bc40d7a",
   "metadata": {},
   "outputs": [
    {
     "data": {
      "text/html": [
       "<strong>png:</strong> 2"
      ],
      "text/latex": [
       "\\textbf{png:} 2"
      ],
      "text/markdown": [
       "**png:** 2"
      ],
      "text/plain": [
       "png \n",
       "  2 "
      ]
     },
     "metadata": {},
     "output_type": "display_data"
    }
   ],
   "source": [
    "meanvalue <- obs %>% dplyr::filter(grepl('CD4', celltype)) %>% \n",
    "  group_by(age_bin4) %>% \n",
    "  summarize(median = median(exhausted_score)) %>%\n",
    "  ungroup()\n",
    "\n",
    "gg1_nsclc1= obs  %>% dplyr::filter(grepl('CD4', celltype)) %>% \n",
    "ggplot(aes(x = age_bin4, y = exhausted_score, fill = age_bin4) ) +\n",
    "  ylab(\"exhausted_score\") +\n",
    "  #facet_wrap(.~study,scales = \"free\",nrow = 1)+\n",
    "  themeDivClust2+\n",
    "  stat_compare_means(aes(group = age_bin4),label.x.npc = c(\"middle\"),\n",
    "                     label.y.npc=c(\"top\"), label = \"p.signif\",vjust = 1)+\n",
    "ggtitle('pan-cancer pool CD4')+\n",
    "geom_line(data = meanvalue, \n",
    "            mapping = aes(x = age_bin4, y = median, group=1),color=\"red\")\n",
    "\n",
    "\n",
    "  \n",
    "#\n",
    "meanvalue <- obs %>% dplyr::filter(grepl('CD4', celltype)) %>% \n",
    "  group_by(age_bin4) %>% \n",
    "  summarize(median = median(cytotoxic_score)) %>%\n",
    "  ungroup()\n",
    "\n",
    "gg2_nsclc1= obs %>% dplyr::filter(grepl('CD4', celltype)) %>% \n",
    "  ggplot(aes(x = age_bin4, y = cytotoxic_score, fill = age_bin4) ) +\n",
    "  ylab(\"cytotoxic_score\") +\n",
    "#facet_wrap(.~study,scales = \"free\",nrow = 1)+\n",
    "  themeDivClust2+\n",
    "  stat_compare_means(aes(group = age_bin4),label.x.npc = c(\"middle\"),\n",
    "                     label.y.npc=c(\"top\"), label = \"p.signif\",vjust = 1)+\n",
    "ggtitle('pan-cancer pool CD4')+\n",
    "geom_line(data = meanvalue, \n",
    "            mapping = aes(x = age_bin4, y = median, group=1),color=\"red\")\n",
    "\n",
    "#\n",
    "pdf('boxplot_pan_signature_mergeCalculated_bin4_CD4.pdf',width = 4,height = 5)\n",
    "cowplot::plot_grid(gg1_nsclc1,gg2_nsclc1, ncol=2)\n",
    "dev.off()"
   ]
  },
  {
   "cell_type": "code",
   "execution_count": 28,
   "id": "6e66fbb6",
   "metadata": {},
   "outputs": [
    {
     "data": {
      "text/html": [
       "<strong>png:</strong> 2"
      ],
      "text/latex": [
       "\\textbf{png:} 2"
      ],
      "text/markdown": [
       "**png:** 2"
      ],
      "text/plain": [
       "png \n",
       "  2 "
      ]
     },
     "metadata": {},
     "output_type": "display_data"
    }
   ],
   "source": [
    "meanvalue <- obs %>% dplyr::filter(grepl('CD8', celltype)) %>% \n",
    "  group_by(age_bin4) %>% \n",
    "  summarize(median = median(exhausted_score)) %>%\n",
    "  ungroup()\n",
    "\n",
    "gg1_nsclc1= obs  %>% dplyr::filter(grepl('CD8', celltype)) %>% \n",
    "ggplot(aes(x = age_bin4, y = exhausted_score, fill = age_bin4) ) +\n",
    "  ylab(\"exhausted_score\") +\n",
    "  #facet_wrap(.~study,scales = \"free\",nrow = 1)+\n",
    "  themeDivClust2+\n",
    "  stat_compare_means(aes(group = age_bin4),label.x.npc = c(\"middle\"),\n",
    "                     label.y.npc=c(\"top\"), label = \"p.signif\",vjust = 1)+\n",
    "ggtitle('pan-cancer pool CD8')+\n",
    "geom_line(data = meanvalue, \n",
    "            mapping = aes(x = age_bin4, y = median, group=1),color=\"red\")\n",
    "\n",
    "  \n",
    "#\n",
    "meanvalue <- obs %>% dplyr::filter(grepl('CD8', celltype)) %>% \n",
    "  group_by(age_bin4) %>% \n",
    "  summarize(median = median(cytotoxic_score)) %>%\n",
    "  ungroup()\n",
    "\n",
    "gg2_nsclc1= obs %>% dplyr::filter(grepl('CD8', celltype)) %>% \n",
    "  ggplot(aes(x = age_bin4, y = cytotoxic_score, fill = age_bin4) ) +\n",
    "  ylab(\"cytotoxic_score\") +\n",
    "#facet_wrap(.~study,scales = \"free\",nrow = 1)+\n",
    "  themeDivClust2+\n",
    "  stat_compare_means(aes(group = age_bin4),label.x.npc = c(\"middle\"),\n",
    "                     label.y.npc=c(\"top\"), label = \"p.signif\",vjust = 1)+\n",
    "ggtitle('pan-cancer pool CD8')+\n",
    "geom_line(data = meanvalue, \n",
    "            mapping = aes(x = age_bin4, y = median, group=1),color=\"red\")\n",
    "\n",
    "#\n",
    "pdf('boxplot_pan_signature_mergeCalculated_bin4_CD8.pdf',width = 4,height = 5)\n",
    "cowplot::plot_grid(gg1_nsclc1,gg2_nsclc1, ncol=2)\n",
    "dev.off()"
   ]
  },
  {
   "cell_type": "code",
   "execution_count": 29,
   "id": "f8541387",
   "metadata": {},
   "outputs": [
    {
     "data": {
      "text/html": [
       "<strong>png:</strong> 2"
      ],
      "text/latex": [
       "\\textbf{png:} 2"
      ],
      "text/markdown": [
       "**png:** 2"
      ],
      "text/plain": [
       "png \n",
       "  2 "
      ]
     },
     "metadata": {},
     "output_type": "display_data"
    }
   ],
   "source": [
    "gg1_nsclc1= obs  %>% dplyr::filter(grepl('CD8', celltype)) %>% \n",
    "ggplot(aes(x = age_bin2, y = exhausted_score, fill = age_bin2) ) +\n",
    "  ylab(\"exhausted_score\") +\n",
    "  #facet_wrap(.~study,scales = \"free\",nrow = 1)+\n",
    "  themeDivClust2+\n",
    "  stat_compare_means(aes(group = age_bin2),label.x.npc = c(\"middle\"),\n",
    "                     label.y.npc=c(\"top\"), label = \"p.signif\",vjust = 1)+\n",
    "ggtitle('pan-cancer pool CD8')\n",
    "  \n",
    "#\n",
    "gg2_nsclc1= obs %>% dplyr::filter(grepl('CD8', celltype)) %>% \n",
    "  ggplot(aes(x = age_bin2, y = cytotoxic_score, fill = age_bin2) ) +\n",
    "  ylab(\"cytotoxic_score\") +\n",
    "#facet_wrap(.~study,scales = \"free\",nrow = 1)+\n",
    "  themeDivClust2+\n",
    "  stat_compare_means(aes(group = age_bin2),label.x.npc = c(\"middle\"),\n",
    "                     label.y.npc=c(\"top\"), label = \"p.signif\",vjust = 1)+\n",
    "ggtitle('pan-cancer pool CD8')\n",
    "#\n",
    "pdf('boxplot_pan_signature_mergeCalculated_bin2_CD8.pdf',width = 6,height = 5)\n",
    "cowplot::plot_grid(gg1_nsclc1,gg2_nsclc1, ncol=2)\n",
    "dev.off()\n"
   ]
  },
  {
   "cell_type": "code",
   "execution_count": 30,
   "id": "44c68c7d",
   "metadata": {},
   "outputs": [
    {
     "data": {
      "text/html": [
       "<strong>png:</strong> 2"
      ],
      "text/latex": [
       "\\textbf{png:} 2"
      ],
      "text/markdown": [
       "**png:** 2"
      ],
      "text/plain": [
       "png \n",
       "  2 "
      ]
     },
     "metadata": {},
     "output_type": "display_data"
    }
   ],
   "source": [
    "gg1_nsclc1= obs  %>% dplyr::filter(grepl('CD4', celltype)) %>% \n",
    "ggplot(aes(x = age_bin2, y = exhausted_score, fill = age_bin2) ) +\n",
    "  ylab(\"exhausted_score\") +\n",
    "  #facet_wrap(.~study,scales = \"free\",nrow = 1)+\n",
    "  themeDivClust2+\n",
    "  stat_compare_means(aes(group = age_bin2),label.x.npc = c(\"middle\"),\n",
    "                     label.y.npc=c(\"top\"), label = \"p.signif\",vjust = 1)+\n",
    "ggtitle('pan-cancer pool CD4')\n",
    "  \n",
    "#\n",
    "gg2_nsclc1= obs %>% dplyr::filter(grepl('CD4', celltype)) %>% \n",
    "  ggplot(aes(x = age_bin2, y = cytotoxic_score, fill = age_bin2) ) +\n",
    "  ylab(\"cytotoxic_score\") +\n",
    "#facet_wrap(.~study,scales = \"free\",nrow = 1)+\n",
    "  themeDivClust2+\n",
    "  stat_compare_means(aes(group = age_bin2),label.x.npc = c(\"middle\"),\n",
    "                     label.y.npc=c(\"top\"), label = \"p.signif\",vjust = 1)+\n",
    "ggtitle('pan-cancer pool CD4')\n",
    "#\n",
    "pdf('boxplot_pan_signature_mergeCalculated_bin2_CD4.pdf',width = 6,height = 5)\n",
    "cowplot::plot_grid(gg1_nsclc1,gg2_nsclc1, ncol=2)\n",
    "dev.off()"
   ]
  },
  {
   "cell_type": "code",
   "execution_count": 41,
   "id": "a0d9aae4",
   "metadata": {},
   "outputs": [
    {
     "data": {
      "text/html": [
       "<strong>png:</strong> 2"
      ],
      "text/latex": [
       "\\textbf{png:} 2"
      ],
      "text/markdown": [
       "**png:** 2"
      ],
      "text/plain": [
       "png \n",
       "  2 "
      ]
     },
     "metadata": {},
     "output_type": "display_data"
    }
   ],
   "source": [
    "meanvalue <- obs %>% #dplyr::filter(grepl('CD4', celltype)) %>% \n",
    "  group_by(age_bin8) %>% \n",
    "  summarize(median = median(exhausted_score)) %>%\n",
    "  ungroup()\n",
    "\n",
    "gg1_nsclc1= obs  %>%\n",
    "ggplot(aes(x = age_bin8, y = exhausted_score, fill = age_bin8) ) +\n",
    " geom_point(data = meanvalue, \n",
    "             mapping = aes(x = age_bin8, y = median),\n",
    "             color=\"red\")+\n",
    "\n",
    "  ylab(\"exhausted_score\") +\n",
    "  #facet_wrap(.~study,scales = \"free\",nrow = 1)+\n",
    "  themeDivClust2+\n",
    "  stat_compare_means(aes(group = age_bin8),label.x.npc = c(\"middle\"),\n",
    "                     label.y.npc=c(\"top\"), label = \"p.signif\",vjust = 1)+\n",
    "ggtitle('pan-cancer pool')+\n",
    "geom_line(data = meanvalue, \n",
    "            mapping = aes(x = age_bin8, y = median, group=1),color=\"red\")\n",
    "\n",
    "  \n",
    "#\n",
    "meanvalue <- obs %>% #dplyr::filter(grepl('CD4', celltype)) %>% \n",
    "  group_by(age_bin8) %>% \n",
    "  summarize(median = median(cytotoxic_score)) %>%\n",
    "  ungroup()\n",
    "\n",
    "gg2_nsclc1= obs %>%\n",
    "  ggplot(aes(x = age_bin8, y = cytotoxic_score, fill = age_bin8) ) +\n",
    "geom_point(data = meanvalue, \n",
    "             mapping = aes(x = age_bin8, y = median),\n",
    "             color=\"red\")+\n",
    "  ylab(\"cytotoxic_score\") +\n",
    "#facet_wrap(.~study,scales = \"free\",nrow = 1)+\n",
    "  themeDivClust2+\n",
    "  stat_compare_means(aes(group = age_bin8),label.x.npc = c(\"middle\"),\n",
    "                     label.y.npc=c(\"top\"), label = \"p.signif\",vjust = 1)+\n",
    "ggtitle('pan-cancer pool')+\n",
    "geom_line(data = meanvalue, \n",
    "            mapping = aes(x = age_bin8, y = median, group=1),color=\"red\")\n",
    "\n",
    "#\n",
    "pdf('boxplot_pan_signature_mergeCalculated_bin8.pdf',width = 4,height = 5)\n",
    "cowplot::plot_grid(gg1_nsclc1,gg2_nsclc1, ncol=2)\n",
    "dev.off()"
   ]
  },
  {
   "cell_type": "code",
   "execution_count": 38,
   "id": "d34950b7",
   "metadata": {},
   "outputs": [
    {
     "data": {
      "text/html": [
       "<strong>png:</strong> 2"
      ],
      "text/latex": [
       "\\textbf{png:} 2"
      ],
      "text/markdown": [
       "**png:** 2"
      ],
      "text/plain": [
       "png \n",
       "  2 "
      ]
     },
     "metadata": {},
     "output_type": "display_data"
    }
   ],
   "source": [
    "meanvalue <- obs %>% dplyr::filter(grepl('CD4', celltype)) %>% \n",
    "  group_by(age_bin8) %>% \n",
    "  summarize(median = median(exhausted_score)) %>%\n",
    "  ungroup()\n",
    "\n",
    "gg1_nsclc1= obs  %>% dplyr::filter(grepl('CD4', celltype)) %>% \n",
    "ggplot(aes(x = age_bin8, y = exhausted_score, fill = age_bin8) ) +\n",
    "geom_point(data = meanvalue, \n",
    "             mapping = aes(x = age_bin8, y = median),\n",
    "             color=\"red\")+\n",
    "  ylab(\"exhausted_score\") +\n",
    "  #facet_wrap(.~study,scales = \"free\",nrow = 1)+\n",
    "  themeDivClust2+\n",
    "  stat_compare_means(aes(group = age_bin8),label.x.npc = c(\"middle\"),\n",
    "                     label.y.npc=c(\"top\"), label = \"p.signif\",vjust = 1)+\n",
    "ggtitle('pan-cancer pool CD4')+\n",
    "geom_line(data = meanvalue, \n",
    "            mapping = aes(x = age_bin8, y = median, group=1),color=\"red\")\n",
    "\n",
    "  \n",
    "#\n",
    "meanvalue <- obs %>% dplyr::filter(grepl('CD4', celltype)) %>% \n",
    "  group_by(age_bin8) %>% \n",
    "  summarize(median = median(cytotoxic_score)) %>%\n",
    "  ungroup()\n",
    "\n",
    "gg2_nsclc1= obs %>% dplyr::filter(grepl('CD4', celltype)) %>% \n",
    "  ggplot(aes(x = age_bin8, y = cytotoxic_score, fill = age_bin8) ) +\n",
    "geom_point(data = meanvalue, \n",
    "             mapping = aes(x = age_bin8, y = median),\n",
    "             color=\"red\")+\n",
    "  ylab(\"cytotoxic_score\") +\n",
    "#facet_wrap(.~study,scales = \"free\",nrow = 1)+\n",
    "  themeDivClust2+\n",
    "  stat_compare_means(aes(group = age_bin8),label.x.npc = c(\"middle\"),\n",
    "                     label.y.npc=c(\"top\"), label = \"p.signif\",vjust = 1)+\n",
    "ggtitle('pan-cancer pool CD4')+\n",
    "geom_line(data = meanvalue, \n",
    "            mapping = aes(x = age_bin8, y = median, group=1),color=\"red\")\n",
    "\n",
    "#\n",
    "pdf('boxplot_pan_signature_mergeCalculated_bin8_CD4.pdf',width = 4,height = 5)\n",
    "cowplot::plot_grid(gg1_nsclc1,gg2_nsclc1, ncol=2)\n",
    "dev.off()"
   ]
  },
  {
   "cell_type": "code",
   "execution_count": 39,
   "id": "7a108efb",
   "metadata": {},
   "outputs": [
    {
     "data": {
      "text/html": [
       "<strong>png:</strong> 2"
      ],
      "text/latex": [
       "\\textbf{png:} 2"
      ],
      "text/markdown": [
       "**png:** 2"
      ],
      "text/plain": [
       "png \n",
       "  2 "
      ]
     },
     "metadata": {},
     "output_type": "display_data"
    }
   ],
   "source": [
    "meanvalue <- obs %>% dplyr::filter(grepl('CD8', celltype)) %>% \n",
    "  group_by(age_bin8) %>% \n",
    "  summarize(median = median(exhausted_score)) %>%\n",
    "  ungroup()\n",
    "\n",
    "gg1_nsclc1= obs  %>% dplyr::filter(grepl('CD8', celltype)) %>% \n",
    "ggplot(aes(x = age_bin8, y = exhausted_score, fill = age_bin8) ) +\n",
    "geom_point(data = meanvalue, \n",
    "             mapping = aes(x = age_bin8, y = median),\n",
    "             color=\"red\")+\n",
    "  ylab(\"exhausted_score\") +\n",
    "  #facet_wrap(.~study,scales = \"free\",nrow = 1)+\n",
    "  themeDivClust2+\n",
    "  stat_compare_means(aes(group = age_bin8),label.x.npc = c(\"middle\"),\n",
    "                     label.y.npc=c(\"top\"), label = \"p.signif\",vjust = 1)+\n",
    "ggtitle('pan-cancer pool CD8')+\n",
    "geom_line(data = meanvalue, \n",
    "            mapping = aes(x = age_bin8, y = median, group=1),color=\"red\")\n",
    "\n",
    "  \n",
    "#\n",
    "meanvalue <- obs %>% dplyr::filter(grepl('CD8', celltype)) %>% \n",
    "  group_by(age_bin8) %>% \n",
    "  summarize(median = median(cytotoxic_score)) %>%\n",
    "  ungroup()\n",
    "\n",
    "gg2_nsclc1= obs %>% dplyr::filter(grepl('CD8', celltype)) %>% \n",
    "  ggplot(aes(x = age_bin8, y = cytotoxic_score, fill = age_bin8) ) +\n",
    "geom_point(data = meanvalue, \n",
    "             mapping = aes(x = age_bin8, y = median),\n",
    "             color=\"red\")+\n",
    "  ylab(\"cytotoxic_score\") +\n",
    "#facet_wrap(.~study,scales = \"free\",nrow = 1)+\n",
    "  themeDivClust2+\n",
    "  stat_compare_means(aes(group = age_bin8),label.x.npc = c(\"middle\"),\n",
    "                     label.y.npc=c(\"top\"), label = \"p.signif\",vjust = 1)+\n",
    "ggtitle('pan-cancer pool CD8')+\n",
    "geom_line(data = meanvalue, \n",
    "            mapping = aes(x = age_bin8, y = median, group=1),color=\"red\")\n",
    "\n",
    "#\n",
    "pdf('boxplot_pan_signature_mergeCalculated_bin8_CD8.pdf',width = 4,height = 5)\n",
    "cowplot::plot_grid(gg1_nsclc1,gg2_nsclc1, ncol=2)\n",
    "dev.off()"
   ]
  },
  {
   "cell_type": "code",
   "execution_count": 51,
   "id": "b763204e",
   "metadata": {},
   "outputs": [
    {
     "data": {
      "text/html": [
       "<strong>png:</strong> 2"
      ],
      "text/latex": [
       "\\textbf{png:} 2"
      ],
      "text/markdown": [
       "**png:** 2"
      ],
      "text/plain": [
       "png \n",
       "  2 "
      ]
     },
     "metadata": {},
     "output_type": "display_data"
    }
   ],
   "source": [
    "themeDivClust2 <-\n",
    "  list(\n",
    "    geom_boxplot(color = 'black',  width = 0.3, size = 0.3, fill = NA,outlier.shape = NA),\n",
    "    geom_violin(color = 'black', scale = 'width',  linewidth = 0.5,trim = TRUE,alpha = 0.8),\n",
    "    #geom_jitter(shape = 21, color = \"gray\", fill = \"white\", width = 0.1, size = 2, lwd = 0.05),\n",
    "    #stat_compare_means(aes(group = response_bin),label.x.npc = c(\"middle\"),label.y.npc=c(\"top\"),label = \"p.signif\",vjust = 1),\n",
    "    #geom_violin(color = \"black\", draw_quantiles = 0.5, lwd = 0.5),\n",
    "    #geom_jitter(shape = 21, color = \"gray\", fill = \"white\", width = 0.1, size = 1, lwd = 0.05),\n",
    "    xlab(\"\"),\n",
    "    #scale_fill_muted(),\n",
    "    #scale_color_muted(), \n",
    "    \n",
    "    #scale_fill_manual(values = c(\"#E69F00\",\"#56B4E9\")),\n",
    "    scale_fill_manual(values = rev(c('#EF6F6A','#8CC2CA',\"#E69F00\",\"#56B4E9\",\"#009E73\",'#EEDD88'))),\n",
    "    theme_minimal(),\n",
    "    theme(legend.position = \"none\",\n",
    "          #legend.justification = c(0,1),\n",
    "          #legend.title = element_blank(),\n",
    "          legend.text = element_text(size=8),\n",
    "          legend.title = element_text(size=8),\n",
    "          aspect.ratio = 0.5,\n",
    "          #plot.margin = margin(t=5,r=20,b=5,l=20,unit=\"pt\"),\n",
    "          axis.title.y = element_text(size=8,colour=\"black\"),\n",
    "          axis.title.x = element_text(size=8,colour=\"black\"),\n",
    "          #axis.title.x = element_blank(),\n",
    "          axis.text = element_text(size=8,colour=\"black\",angle=0),\n",
    "          axis.text.x = element_text(size=8,colour=\"black\",angle=45,hjust=1),\n",
    "          #axis.text.x = element_blank(),\n",
    "          plot.title = element_text(size=8,face=\"bold\",hjust = 0.5),\n",
    "          panel.grid.major = element_blank(),\n",
    "          panel.grid.minor = element_blank(),\n",
    "          panel.border = element_rect(colour = \"black\", fill=NA, size=0.5),\n",
    "          axis.line = element_line(colour = \"black\"),\n",
    "          axis.ticks.length=unit(.1, \"cm\"),\n",
    "          axis.ticks = element_line(colour = \"black\", size = 0.5)\n",
    "    )\n",
    "  )\n",
    "\n",
    "\n",
    "\n",
    "\n",
    "\n",
    "\n",
    "meanvalue <- obs %>% #dplyr::filter(grepl('CD4', celltype)) %>% \n",
    "  group_by(age_bin8) %>% \n",
    "  summarize(median = median(exhausted_score)) %>%\n",
    "  ungroup()\n",
    "\n",
    "gg1_nsclc1= obs  %>%\n",
    "ggplot(aes(x = age_bin8, y = exhausted_score, fill = age_bin8) ) +\n",
    " geom_point(data = meanvalue, \n",
    "             mapping = aes(x = age_bin8, y = median),\n",
    "             color=\"red\")+\n",
    "\n",
    "  ylab(\"exhausted_score\") +\n",
    "  #facet_wrap(.~study,scales = \"free\",nrow = 1)+\n",
    "  themeDivClust2+\n",
    "  stat_compare_means(aes(group = age_bin8),label.x.npc = c(\"middle\"),\n",
    "                     label.y.npc=c(\"top\"), label = \"p.signif\",vjust = 1)+\n",
    "ggtitle('pan-cancer pool')+\n",
    "geom_line(data = meanvalue, \n",
    "            mapping = aes(x = age_bin8, y = median, group=1),color=\"red\")+\n",
    "coord_flip()\n",
    "\n",
    "  \n",
    "#\n",
    "meanvalue <- obs %>% #dplyr::filter(grepl('CD4', celltype)) %>% \n",
    "  group_by(age_bin8) %>% \n",
    "  summarize(median = median(cytotoxic_score)) %>%\n",
    "  ungroup()\n",
    "\n",
    "gg2_nsclc1= obs %>%\n",
    "  ggplot(aes(x = age_bin8, y = cytotoxic_score, fill = age_bin8) ) +\n",
    "geom_point(data = meanvalue, \n",
    "             mapping = aes(x = age_bin8, y = median),\n",
    "             color=\"red\")+\n",
    "  ylab(\"cytotoxic_score\") +\n",
    "#facet_wrap(.~study,scales = \"free\",nrow = 1)+\n",
    "  themeDivClust2+\n",
    "  stat_compare_means(aes(group = age_bin8),label.x.npc = c(\"middle\"),\n",
    "                     label.y.npc=c(\"top\"), label = \"p.signif\",vjust = 1)+\n",
    "ggtitle('pan-cancer pool')+\n",
    "geom_line(data = meanvalue, \n",
    "            mapping = aes(x = age_bin8, y = median, group=1),color=\"red\")+\n",
    "coord_flip()\n",
    "\n",
    "#\n",
    "pdf('boxplot_pan_signature_mergeCalculated_bin8_thin_h.pdf',width = 8,height = 3)\n",
    "cowplot::plot_grid(gg1_nsclc1,gg2_nsclc1, ncol=2)\n",
    "dev.off()"
   ]
  },
  {
   "cell_type": "code",
   "execution_count": null,
   "id": "15bdaf82",
   "metadata": {},
   "outputs": [],
   "source": []
  }
 ],
 "metadata": {
  "kernelspec": {
   "display_name": "R4.0.3",
   "language": "R",
   "name": "r_4.0.3"
  },
  "language_info": {
   "codemirror_mode": "r",
   "file_extension": ".r",
   "mimetype": "text/x-r-source",
   "name": "R",
   "pygments_lexer": "r",
   "version": "4.0.3"
  }
 },
 "nbformat": 4,
 "nbformat_minor": 5
}
