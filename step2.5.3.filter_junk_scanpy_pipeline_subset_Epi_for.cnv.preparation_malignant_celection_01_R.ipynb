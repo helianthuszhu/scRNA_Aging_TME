{
 "cells": [
  {
   "cell_type": "code",
   "execution_count": 1,
   "id": "conventional-satisfaction",
   "metadata": {
    "collapsed": true
   },
   "outputs": [
    {
     "name": "stderr",
     "output_type": "stream",
     "text": [
      "Attaching SeuratObject\n",
      "\n",
      "Loading required package: SingleCellExperiment\n",
      "\n",
      "Loading required package: SummarizedExperiment\n",
      "\n",
      "Loading required package: MatrixGenerics\n",
      "\n",
      "Loading required package: matrixStats\n",
      "\n",
      "\n",
      "Attaching package: 'MatrixGenerics'\n",
      "\n",
      "\n",
      "The following objects are masked from 'package:matrixStats':\n",
      "\n",
      "    colAlls, colAnyNAs, colAnys, colAvgsPerRowSet, colCollapse,\n",
      "    colCounts, colCummaxs, colCummins, colCumprods, colCumsums,\n",
      "    colDiffs, colIQRDiffs, colIQRs, colLogSumExps, colMadDiffs,\n",
      "    colMads, colMaxs, colMeans2, colMedians, colMins, colOrderStats,\n",
      "    colProds, colQuantiles, colRanges, colRanks, colSdDiffs, colSds,\n",
      "    colSums2, colTabulates, colVarDiffs, colVars, colWeightedMads,\n",
      "    colWeightedMeans, colWeightedMedians, colWeightedSds,\n",
      "    colWeightedVars, rowAlls, rowAnyNAs, rowAnys, rowAvgsPerColSet,\n",
      "    rowCollapse, rowCounts, rowCummaxs, rowCummins, rowCumprods,\n",
      "    rowCumsums, rowDiffs, rowIQRDiffs, rowIQRs, rowLogSumExps,\n",
      "    rowMadDiffs, rowMads, rowMaxs, rowMeans2, rowMedians, rowMins,\n",
      "    rowOrderStats, rowProds, rowQuantiles, rowRanges, rowRanks,\n",
      "    rowSdDiffs, rowSds, rowSums2, rowTabulates, rowVarDiffs, rowVars,\n",
      "    rowWeightedMads, rowWeightedMeans, rowWeightedMedians,\n",
      "    rowWeightedSds, rowWeightedVars\n",
      "\n",
      "\n",
      "Loading required package: GenomicRanges\n",
      "\n",
      "Loading required package: stats4\n",
      "\n",
      "Loading required package: BiocGenerics\n",
      "\n",
      "Loading required package: parallel\n",
      "\n",
      "\n",
      "Attaching package: 'BiocGenerics'\n",
      "\n",
      "\n",
      "The following objects are masked from 'package:parallel':\n",
      "\n",
      "    clusterApply, clusterApplyLB, clusterCall, clusterEvalQ,\n",
      "    clusterExport, clusterMap, parApply, parCapply, parLapply,\n",
      "    parLapplyLB, parRapply, parSapply, parSapplyLB\n",
      "\n",
      "\n",
      "The following objects are masked from 'package:stats':\n",
      "\n",
      "    IQR, mad, sd, var, xtabs\n",
      "\n",
      "\n",
      "The following objects are masked from 'package:base':\n",
      "\n",
      "    anyDuplicated, append, as.data.frame, basename, cbind, colnames,\n",
      "    dirname, do.call, duplicated, eval, evalq, Filter, Find, get, grep,\n",
      "    grepl, intersect, is.unsorted, lapply, Map, mapply, match, mget,\n",
      "    order, paste, pmax, pmax.int, pmin, pmin.int, Position, rank,\n",
      "    rbind, Reduce, rownames, sapply, setdiff, sort, table, tapply,\n",
      "    union, unique, unsplit, which.max, which.min\n",
      "\n",
      "\n",
      "Loading required package: S4Vectors\n",
      "\n",
      "\n",
      "Attaching package: 'S4Vectors'\n",
      "\n",
      "\n",
      "The following object is masked from 'package:base':\n",
      "\n",
      "    expand.grid\n",
      "\n",
      "\n",
      "Loading required package: IRanges\n",
      "\n",
      "Loading required package: GenomeInfoDb\n",
      "\n",
      "Loading required package: Biobase\n",
      "\n",
      "Welcome to Bioconductor\n",
      "\n",
      "    Vignettes contain introductory material; view with\n",
      "    'browseVignettes()'. To cite Bioconductor, see\n",
      "    'citation(\"Biobase\")', and for packages 'citation(\"pkgname\")'.\n",
      "\n",
      "\n",
      "\n",
      "Attaching package: 'Biobase'\n",
      "\n",
      "\n",
      "The following object is masked from 'package:MatrixGenerics':\n",
      "\n",
      "    rowMedians\n",
      "\n",
      "\n",
      "The following objects are masked from 'package:matrixStats':\n",
      "\n",
      "    anyMissing, rowMedians\n",
      "\n",
      "\n",
      "\n",
      "Attaching package: 'SummarizedExperiment'\n",
      "\n",
      "\n",
      "The following object is masked from 'package:SeuratObject':\n",
      "\n",
      "    Assays\n",
      "\n",
      "\n",
      "The following object is masked from 'package:Seurat':\n",
      "\n",
      "    Assays\n",
      "\n",
      "\n",
      "Loading required package: ggplot2\n",
      "\n"
     ]
    }
   ],
   "source": [
    "library(Seurat)\n",
    "library(scater)"
   ]
  },
  {
   "cell_type": "code",
   "execution_count": 21,
   "id": "banner-employment",
   "metadata": {},
   "outputs": [],
   "source": [
    "source('../my_colors.R')"
   ]
  },
  {
   "cell_type": "code",
   "execution_count": 2,
   "id": "earned-conservation",
   "metadata": {},
   "outputs": [],
   "source": [
    "load('output2_step2.5.filter_junk/TotalTissue.combined.not.doubletFiltered.RData')"
   ]
  },
  {
   "cell_type": "code",
   "execution_count": 3,
   "id": "mysterious-slide",
   "metadata": {},
   "outputs": [],
   "source": [
    "metaobs=read.csv('output2_step2.5.3.filter_junk_scanpy_pipeline/data_Epithelial/output_infercnv/cnv.summary.all.cells.combined.pubdata.csv',\n",
    "                header=T, row.names=1)"
   ]
  },
  {
   "cell_type": "code",
   "execution_count": 4,
   "id": "binary-sunset",
   "metadata": {
    "scrolled": true
   },
   "outputs": [
    {
     "data": {
      "text/html": [
       "<style>\n",
       ".list-inline {list-style: none; margin:0; padding: 0}\n",
       ".list-inline>li {display: inline-block}\n",
       ".list-inline>li:not(:last-child)::after {content: \"\\00b7\"; padding: 0 .5ex}\n",
       "</style>\n",
       "<ol class=list-inline><li>'metaobs'</li><li>'TotalTissue.combined'</li></ol>\n"
      ],
      "text/latex": [
       "\\begin{enumerate*}\n",
       "\\item 'metaobs'\n",
       "\\item 'TotalTissue.combined'\n",
       "\\end{enumerate*}\n"
      ],
      "text/markdown": [
       "1. 'metaobs'\n",
       "2. 'TotalTissue.combined'\n",
       "\n",
       "\n"
      ],
      "text/plain": [
       "[1] \"metaobs\"              \"TotalTissue.combined\""
      ]
     },
     "metadata": {},
     "output_type": "display_data"
    }
   ],
   "source": [
    "ls()"
   ]
  },
  {
   "cell_type": "code",
   "execution_count": 7,
   "id": "hourly-moldova",
   "metadata": {},
   "outputs": [],
   "source": [
    "rownames(metaobs)=metaobs$id"
   ]
  },
  {
   "cell_type": "code",
   "execution_count": 8,
   "id": "identified-disabled",
   "metadata": {},
   "outputs": [
    {
     "data": {
      "text/html": [
       "<table class=\"dataframe\">\n",
       "<caption>A data.frame: 6 × 8</caption>\n",
       "<thead>\n",
       "\t<tr><th></th><th scope=col>id</th><th scope=col>cnv</th><th scope=col>cnv.cor</th><th scope=col>Sample</th><th scope=col>Defined_Cell_Type</th><th scope=col>type</th><th scope=col>malignant</th><th scope=col>cell_assignment</th></tr>\n",
       "\t<tr><th></th><th scope=col>&lt;chr&gt;</th><th scope=col>&lt;dbl&gt;</th><th scope=col>&lt;dbl&gt;</th><th scope=col>&lt;chr&gt;</th><th scope=col>&lt;chr&gt;</th><th scope=col>&lt;chr&gt;</th><th scope=col>&lt;chr&gt;</th><th scope=col>&lt;chr&gt;</th></tr>\n",
       "</thead>\n",
       "<tbody>\n",
       "\t<tr><th scope=row>AAACCTGAGACGACGT_LUNG_T09</th><td>AAACCTGAGACGACGT_LUNG_T09</td><td>        NA</td><td>          NA</td><td>LUNG_T09</td><td>Myeloid cells</td><td>immu.stroma</td><td>NA           </td><td>immu.stroma</td></tr>\n",
       "\t<tr><th scope=row>AAACCTGAGACGACGT_LUNG_T34</th><td>AAACCTGAGACGACGT_LUNG_T34</td><td>0.02902300</td><td>-0.047078370</td><td>LUNG_T34</td><td>B cells      </td><td>immu.stroma</td><td>non-malignant</td><td>immu.stroma</td></tr>\n",
       "\t<tr><th scope=row>AAACCTGAGACGCTTT_LUNG_T18</th><td>AAACCTGAGACGCTTT_LUNG_T18</td><td>0.06901403</td><td> 0.384063139</td><td>LUNG_T18</td><td>Epithelial   </td><td>Epi        </td><td>malignant    </td><td>malignant  </td></tr>\n",
       "\t<tr><th scope=row>AAACCTGAGACTGGGT-1-6</th><td>AAACCTGAGACTGGGT-1-6     </td><td>0.07265431</td><td> 0.713340585</td><td>E3      </td><td>Epithelial   </td><td>Epi        </td><td>malignant    </td><td>malignant  </td></tr>\n",
       "\t<tr><th scope=row>AAACCTGAGAGGGCTT-1-6</th><td>AAACCTGAGAGGGCTT-1-6     </td><td>0.01025899</td><td>-0.017148673</td><td>E3      </td><td>Myeloid cells</td><td>immu.stroma</td><td>non-malignant</td><td>immu.stroma</td></tr>\n",
       "\t<tr><th scope=row>AAACCTGAGATATGCA_LUNG_T25</th><td>AAACCTGAGATATGCA_LUNG_T25</td><td>0.05198921</td><td> 0.004436815</td><td>LUNG_T25</td><td>T cells      </td><td>immu.stroma</td><td>non-malignant</td><td>immu.stroma</td></tr>\n",
       "</tbody>\n",
       "</table>\n"
      ],
      "text/latex": [
       "A data.frame: 6 × 8\n",
       "\\begin{tabular}{r|llllllll}\n",
       "  & id & cnv & cnv.cor & Sample & Defined\\_Cell\\_Type & type & malignant & cell\\_assignment\\\\\n",
       "  & <chr> & <dbl> & <dbl> & <chr> & <chr> & <chr> & <chr> & <chr>\\\\\n",
       "\\hline\n",
       "\tAAACCTGAGACGACGT\\_LUNG\\_T09 & AAACCTGAGACGACGT\\_LUNG\\_T09 &         NA &           NA & LUNG\\_T09 & Myeloid cells & immu.stroma & NA            & immu.stroma\\\\\n",
       "\tAAACCTGAGACGACGT\\_LUNG\\_T34 & AAACCTGAGACGACGT\\_LUNG\\_T34 & 0.02902300 & -0.047078370 & LUNG\\_T34 & B cells       & immu.stroma & non-malignant & immu.stroma\\\\\n",
       "\tAAACCTGAGACGCTTT\\_LUNG\\_T18 & AAACCTGAGACGCTTT\\_LUNG\\_T18 & 0.06901403 &  0.384063139 & LUNG\\_T18 & Epithelial    & Epi         & malignant     & malignant  \\\\\n",
       "\tAAACCTGAGACTGGGT-1-6 & AAACCTGAGACTGGGT-1-6      & 0.07265431 &  0.713340585 & E3       & Epithelial    & Epi         & malignant     & malignant  \\\\\n",
       "\tAAACCTGAGAGGGCTT-1-6 & AAACCTGAGAGGGCTT-1-6      & 0.01025899 & -0.017148673 & E3       & Myeloid cells & immu.stroma & non-malignant & immu.stroma\\\\\n",
       "\tAAACCTGAGATATGCA\\_LUNG\\_T25 & AAACCTGAGATATGCA\\_LUNG\\_T25 & 0.05198921 &  0.004436815 & LUNG\\_T25 & T cells       & immu.stroma & non-malignant & immu.stroma\\\\\n",
       "\\end{tabular}\n"
      ],
      "text/markdown": [
       "\n",
       "A data.frame: 6 × 8\n",
       "\n",
       "| <!--/--> | id &lt;chr&gt; | cnv &lt;dbl&gt; | cnv.cor &lt;dbl&gt; | Sample &lt;chr&gt; | Defined_Cell_Type &lt;chr&gt; | type &lt;chr&gt; | malignant &lt;chr&gt; | cell_assignment &lt;chr&gt; |\n",
       "|---|---|---|---|---|---|---|---|---|\n",
       "| AAACCTGAGACGACGT_LUNG_T09 | AAACCTGAGACGACGT_LUNG_T09 |         NA |           NA | LUNG_T09 | Myeloid cells | immu.stroma | NA            | immu.stroma |\n",
       "| AAACCTGAGACGACGT_LUNG_T34 | AAACCTGAGACGACGT_LUNG_T34 | 0.02902300 | -0.047078370 | LUNG_T34 | B cells       | immu.stroma | non-malignant | immu.stroma |\n",
       "| AAACCTGAGACGCTTT_LUNG_T18 | AAACCTGAGACGCTTT_LUNG_T18 | 0.06901403 |  0.384063139 | LUNG_T18 | Epithelial    | Epi         | malignant     | malignant   |\n",
       "| AAACCTGAGACTGGGT-1-6 | AAACCTGAGACTGGGT-1-6      | 0.07265431 |  0.713340585 | E3       | Epithelial    | Epi         | malignant     | malignant   |\n",
       "| AAACCTGAGAGGGCTT-1-6 | AAACCTGAGAGGGCTT-1-6      | 0.01025899 | -0.017148673 | E3       | Myeloid cells | immu.stroma | non-malignant | immu.stroma |\n",
       "| AAACCTGAGATATGCA_LUNG_T25 | AAACCTGAGATATGCA_LUNG_T25 | 0.05198921 |  0.004436815 | LUNG_T25 | T cells       | immu.stroma | non-malignant | immu.stroma |\n",
       "\n"
      ],
      "text/plain": [
       "                          id                        cnv        cnv.cor     \n",
       "AAACCTGAGACGACGT_LUNG_T09 AAACCTGAGACGACGT_LUNG_T09         NA           NA\n",
       "AAACCTGAGACGACGT_LUNG_T34 AAACCTGAGACGACGT_LUNG_T34 0.02902300 -0.047078370\n",
       "AAACCTGAGACGCTTT_LUNG_T18 AAACCTGAGACGCTTT_LUNG_T18 0.06901403  0.384063139\n",
       "AAACCTGAGACTGGGT-1-6      AAACCTGAGACTGGGT-1-6      0.07265431  0.713340585\n",
       "AAACCTGAGAGGGCTT-1-6      AAACCTGAGAGGGCTT-1-6      0.01025899 -0.017148673\n",
       "AAACCTGAGATATGCA_LUNG_T25 AAACCTGAGATATGCA_LUNG_T25 0.05198921  0.004436815\n",
       "                          Sample   Defined_Cell_Type type        malignant    \n",
       "AAACCTGAGACGACGT_LUNG_T09 LUNG_T09 Myeloid cells     immu.stroma NA           \n",
       "AAACCTGAGACGACGT_LUNG_T34 LUNG_T34 B cells           immu.stroma non-malignant\n",
       "AAACCTGAGACGCTTT_LUNG_T18 LUNG_T18 Epithelial        Epi         malignant    \n",
       "AAACCTGAGACTGGGT-1-6      E3       Epithelial        Epi         malignant    \n",
       "AAACCTGAGAGGGCTT-1-6      E3       Myeloid cells     immu.stroma non-malignant\n",
       "AAACCTGAGATATGCA_LUNG_T25 LUNG_T25 T cells           immu.stroma non-malignant\n",
       "                          cell_assignment\n",
       "AAACCTGAGACGACGT_LUNG_T09 immu.stroma    \n",
       "AAACCTGAGACGACGT_LUNG_T34 immu.stroma    \n",
       "AAACCTGAGACGCTTT_LUNG_T18 malignant      \n",
       "AAACCTGAGACTGGGT-1-6      malignant      \n",
       "AAACCTGAGAGGGCTT-1-6      immu.stroma    \n",
       "AAACCTGAGATATGCA_LUNG_T25 immu.stroma    "
      ]
     },
     "metadata": {},
     "output_type": "display_data"
    }
   ],
   "source": [
    "head(metaobs)"
   ]
  },
  {
   "cell_type": "code",
   "execution_count": 9,
   "id": "optional-marathon",
   "metadata": {},
   "outputs": [
    {
     "data": {
      "text/html": [
       "TRUE"
      ],
      "text/latex": [
       "TRUE"
      ],
      "text/markdown": [
       "TRUE"
      ],
      "text/plain": [
       "[1] TRUE"
      ]
     },
     "metadata": {},
     "output_type": "display_data"
    }
   ],
   "source": [
    "all(rownames(metaobs) %in% colnames(TotalTissue.combined))"
   ]
  },
  {
   "cell_type": "code",
   "execution_count": 11,
   "id": "opposed-ivory",
   "metadata": {
    "scrolled": true
   },
   "outputs": [
    {
     "data": {
      "text/plain": [
       "          \n",
       "            Epi immu.stroma malignant\n",
       "  E1        328        2982       670\n",
       "  E2         19        2568      1945\n",
       "  E3        148        1098      3088\n",
       "  E4        120        3379       172\n",
       "  LUNG_T06   12        2529        71\n",
       "  LUNG_T08    8        2863        21\n",
       "  LUNG_T09    0        2883         0\n",
       "  LUNG_T18    0        1881       611\n",
       "  LUNG_T19   21        3149       154\n",
       "  LUNG_T20    1        2138       262\n",
       "  LUNG_T25   15        3039       177\n",
       "  LUNG_T28    4        1846       689\n",
       "  LUNG_T30   21        1686       638\n",
       "  LUNG_T31   25        2178        61\n",
       "  LUNG_T34  292         472      1823\n",
       "  Y1        174        2847        62\n",
       "  Y2         84        2608       412\n",
       "  Y3        696        1322       668\n",
       "  Y4        165        2156       746"
      ]
     },
     "metadata": {},
     "output_type": "display_data"
    }
   ],
   "source": [
    "table(metaobs$Sample, metaobs$cell_assignment)"
   ]
  },
  {
   "cell_type": "code",
   "execution_count": 14,
   "id": "detected-smile",
   "metadata": {},
   "outputs": [],
   "source": [
    "#select only malignant cells with cells numbers at least 50\n",
    "#delete LUNG_T08 LUNG_T09\n",
    "#\n",
    "metaobs_sel=subset(metaobs, cell_assignment== 'malignant')\n",
    "metaobs_sel=subset(metaobs_sel, !(Sample %in% c('LUNG_T08', 'LUNG_T09')))\n"
   ]
  },
  {
   "cell_type": "code",
   "execution_count": 15,
   "id": "working-investing",
   "metadata": {
    "scrolled": true
   },
   "outputs": [
    {
     "data": {
      "text/plain": [
       "          \n",
       "           malignant\n",
       "  E1             670\n",
       "  E2            1945\n",
       "  E3            3088\n",
       "  E4             172\n",
       "  LUNG_T06        71\n",
       "  LUNG_T18       611\n",
       "  LUNG_T19       154\n",
       "  LUNG_T20       262\n",
       "  LUNG_T25       177\n",
       "  LUNG_T28       689\n",
       "  LUNG_T30       638\n",
       "  LUNG_T31        61\n",
       "  LUNG_T34      1823\n",
       "  Y1              62\n",
       "  Y2             412\n",
       "  Y3             668\n",
       "  Y4             746"
      ]
     },
     "metadata": {},
     "output_type": "display_data"
    }
   ],
   "source": [
    "table(metaobs_sel$Sample, metaobs_sel$cell_assignment)"
   ]
  },
  {
   "cell_type": "code",
   "execution_count": 16,
   "id": "liable-aquatic",
   "metadata": {},
   "outputs": [
    {
     "data": {
      "text/html": [
       "TRUE"
      ],
      "text/latex": [
       "TRUE"
      ],
      "text/markdown": [
       "TRUE"
      ],
      "text/plain": [
       "[1] TRUE"
      ]
     },
     "metadata": {},
     "output_type": "display_data"
    }
   ],
   "source": [
    "all(rownames(metaobs_sel) %in% colnames(TotalTissue.combined))"
   ]
  },
  {
   "cell_type": "code",
   "execution_count": 17,
   "id": "working-bicycle",
   "metadata": {},
   "outputs": [],
   "source": [
    "sce=subset(TotalTissue.combined, cells = rownames(metaobs_sel))"
   ]
  },
  {
   "cell_type": "code",
   "execution_count": 18,
   "id": "fitting-progressive",
   "metadata": {
    "scrolled": true
   },
   "outputs": [
    {
     "data": {
      "text/plain": [
       "An object of class Seurat \n",
       "20532 features across 12249 samples within 1 assay \n",
       "Active assay: RNA (20532 features, 2000 variable features)"
      ]
     },
     "metadata": {},
     "output_type": "display_data"
    }
   ],
   "source": [
    "sce"
   ]
  },
  {
   "cell_type": "code",
   "execution_count": 19,
   "id": "restricted-attraction",
   "metadata": {
    "scrolled": false
   },
   "outputs": [
    {
     "data": {
      "text/html": [
       "<table class=\"dataframe\">\n",
       "<caption>A data.frame: 6 × 28</caption>\n",
       "<thead>\n",
       "\t<tr><th></th><th scope=col>orig.ident</th><th scope=col>nCount_RNA</th><th scope=col>nFeature_RNA</th><th scope=col>Index</th><th scope=col>Sample</th><th scope=col>percent.mt</th><th scope=col>percent.rb</th><th scope=col>Cell_type</th><th scope=col>Cell_type.refined</th><th scope=col>Cell_subtype</th><th scope=col>⋯</th><th scope=col>Phase</th><th scope=col>old.ident</th><th scope=col>CC.Difference</th><th scope=col>Cell_subtype.unimodel</th><th scope=col>Cell_type.unimodel</th><th scope=col>UMAP_Clusters.harmony_overclustered</th><th scope=col>scrubletScore_default</th><th scope=col>scrublet_predict_default</th><th scope=col>scrubletScore_n30</th><th scope=col>scrublet_predict_n30</th></tr>\n",
       "\t<tr><th></th><th scope=col>&lt;chr&gt;</th><th scope=col>&lt;dbl&gt;</th><th scope=col>&lt;int&gt;</th><th scope=col>&lt;chr&gt;</th><th scope=col>&lt;chr&gt;</th><th scope=col>&lt;dbl&gt;</th><th scope=col>&lt;dbl&gt;</th><th scope=col>&lt;chr&gt;</th><th scope=col>&lt;chr&gt;</th><th scope=col>&lt;chr&gt;</th><th scope=col>⋯</th><th scope=col>&lt;chr&gt;</th><th scope=col>&lt;fct&gt;</th><th scope=col>&lt;dbl&gt;</th><th scope=col>&lt;chr&gt;</th><th scope=col>&lt;chr&gt;</th><th scope=col>&lt;fct&gt;</th><th scope=col>&lt;dbl&gt;</th><th scope=col>&lt;chr&gt;</th><th scope=col>&lt;dbl&gt;</th><th scope=col>&lt;chr&gt;</th></tr>\n",
       "</thead>\n",
       "<tbody>\n",
       "\t<tr><th scope=row>AAACCTGAGACGCTTT_LUNG_T18</th><td>pubsce</td><td> 5243</td><td> 867</td><td>AAACCTGAGACGCTTT_LUNG_T18</td><td>LUNG_T18</td><td> 0.1883594</td><td> 1.130156</td><td>Epithelial cells</td><td>Epithelial cells</td><td>tS2</td><td>⋯</td><td>G1</td><td>LUNG_T18</td><td>-0.004011074</td><td>tS2</td><td>Epithelial cells</td><td>454</td><td>0.06560636</td><td>False</td><td>0.05908944</td><td>False</td></tr>\n",
       "\t<tr><th scope=row>AAACCTGAGACTGGGT-1-6</th><td>mysce </td><td> 4431</td><td>1893</td><td>AAACCTGAGACTGGGT-1-6     </td><td>E3      </td><td> 4.5464433</td><td>21.427018</td><td>nan             </td><td>nan             </td><td>nan</td><td>⋯</td><td>G1</td><td>E3      </td><td> 0.031799612</td><td>tS1</td><td>Epithelial cells</td><td>23 </td><td>0.02200239</td><td>False</td><td>0.02101875</td><td>False</td></tr>\n",
       "\t<tr><th scope=row>AAACCTGAGCACCGTC-1-6</th><td>mysce </td><td> 6843</td><td>2399</td><td>AAACCTGAGCACCGTC-1-6     </td><td>E3      </td><td>13.8647687</td><td>14.434164</td><td>nan             </td><td>nan             </td><td>nan</td><td>⋯</td><td>G1</td><td>E3      </td><td> 0.027888148</td><td>tS1</td><td>Epithelial cells</td><td>356</td><td>0.05463441</td><td>False</td><td>0.05646173</td><td>False</td></tr>\n",
       "\t<tr><th scope=row>AAACCTGAGCTAAACA_LUNG_T34</th><td>pubsce</td><td>11144</td><td>2479</td><td>AAACCTGAGCTAAACA_LUNG_T34</td><td>LUNG_T34</td><td>10.2992958</td><td>39.278169</td><td>Epithelial cells</td><td>Epithelial cells</td><td>tS1</td><td>⋯</td><td>G1</td><td>LUNG_T34</td><td>-0.006527102</td><td>tS1</td><td>Epithelial cells</td><td>255</td><td>0.03246239</td><td>False</td><td>0.03225806</td><td>False</td></tr>\n",
       "\t<tr><th scope=row>AAACCTGAGGCTCTTA-1-6</th><td>mysce </td><td> 6904</td><td>2650</td><td>AAACCTGAGGCTCTTA-1-6     </td><td>E3      </td><td> 5.5524239</td><td>13.881060</td><td>nan             </td><td>nan             </td><td>nan</td><td>⋯</td><td>G1</td><td>E3      </td><td>-0.032054523</td><td>tS1</td><td>Epithelial cells</td><td>37 </td><td>0.03210176</td><td>False</td><td>0.02842377</td><td>False</td></tr>\n",
       "\t<tr><th scope=row>AAACCTGCAAACTGCT-1-5</th><td>mysce </td><td> 2903</td><td>1053</td><td>AAACCTGCAAACTGCT-1-5     </td><td>E2      </td><td> 0.0660066</td><td>28.283828</td><td>nan             </td><td>nan             </td><td>nan</td><td>⋯</td><td>G1</td><td>E2      </td><td> 0.028680359</td><td>tS1</td><td>Epithelial cells</td><td>332</td><td>0.03149300</td><td>False</td><td>0.03225806</td><td>False</td></tr>\n",
       "</tbody>\n",
       "</table>\n"
      ],
      "text/latex": [
       "A data.frame: 6 × 28\n",
       "\\begin{tabular}{r|lllllllllllllllllllll}\n",
       "  & orig.ident & nCount\\_RNA & nFeature\\_RNA & Index & Sample & percent.mt & percent.rb & Cell\\_type & Cell\\_type.refined & Cell\\_subtype & ⋯ & Phase & old.ident & CC.Difference & Cell\\_subtype.unimodel & Cell\\_type.unimodel & UMAP\\_Clusters.harmony\\_overclustered & scrubletScore\\_default & scrublet\\_predict\\_default & scrubletScore\\_n30 & scrublet\\_predict\\_n30\\\\\n",
       "  & <chr> & <dbl> & <int> & <chr> & <chr> & <dbl> & <dbl> & <chr> & <chr> & <chr> & ⋯ & <chr> & <fct> & <dbl> & <chr> & <chr> & <fct> & <dbl> & <chr> & <dbl> & <chr>\\\\\n",
       "\\hline\n",
       "\tAAACCTGAGACGCTTT\\_LUNG\\_T18 & pubsce &  5243 &  867 & AAACCTGAGACGCTTT\\_LUNG\\_T18 & LUNG\\_T18 &  0.1883594 &  1.130156 & Epithelial cells & Epithelial cells & tS2 & ⋯ & G1 & LUNG\\_T18 & -0.004011074 & tS2 & Epithelial cells & 454 & 0.06560636 & False & 0.05908944 & False\\\\\n",
       "\tAAACCTGAGACTGGGT-1-6 & mysce  &  4431 & 1893 & AAACCTGAGACTGGGT-1-6      & E3       &  4.5464433 & 21.427018 & nan              & nan              & nan & ⋯ & G1 & E3       &  0.031799612 & tS1 & Epithelial cells & 23  & 0.02200239 & False & 0.02101875 & False\\\\\n",
       "\tAAACCTGAGCACCGTC-1-6 & mysce  &  6843 & 2399 & AAACCTGAGCACCGTC-1-6      & E3       & 13.8647687 & 14.434164 & nan              & nan              & nan & ⋯ & G1 & E3       &  0.027888148 & tS1 & Epithelial cells & 356 & 0.05463441 & False & 0.05646173 & False\\\\\n",
       "\tAAACCTGAGCTAAACA\\_LUNG\\_T34 & pubsce & 11144 & 2479 & AAACCTGAGCTAAACA\\_LUNG\\_T34 & LUNG\\_T34 & 10.2992958 & 39.278169 & Epithelial cells & Epithelial cells & tS1 & ⋯ & G1 & LUNG\\_T34 & -0.006527102 & tS1 & Epithelial cells & 255 & 0.03246239 & False & 0.03225806 & False\\\\\n",
       "\tAAACCTGAGGCTCTTA-1-6 & mysce  &  6904 & 2650 & AAACCTGAGGCTCTTA-1-6      & E3       &  5.5524239 & 13.881060 & nan              & nan              & nan & ⋯ & G1 & E3       & -0.032054523 & tS1 & Epithelial cells & 37  & 0.03210176 & False & 0.02842377 & False\\\\\n",
       "\tAAACCTGCAAACTGCT-1-5 & mysce  &  2903 & 1053 & AAACCTGCAAACTGCT-1-5      & E2       &  0.0660066 & 28.283828 & nan              & nan              & nan & ⋯ & G1 & E2       &  0.028680359 & tS1 & Epithelial cells & 332 & 0.03149300 & False & 0.03225806 & False\\\\\n",
       "\\end{tabular}\n"
      ],
      "text/markdown": [
       "\n",
       "A data.frame: 6 × 28\n",
       "\n",
       "| <!--/--> | orig.ident &lt;chr&gt; | nCount_RNA &lt;dbl&gt; | nFeature_RNA &lt;int&gt; | Index &lt;chr&gt; | Sample &lt;chr&gt; | percent.mt &lt;dbl&gt; | percent.rb &lt;dbl&gt; | Cell_type &lt;chr&gt; | Cell_type.refined &lt;chr&gt; | Cell_subtype &lt;chr&gt; | ⋯ ⋯ | Phase &lt;chr&gt; | old.ident &lt;fct&gt; | CC.Difference &lt;dbl&gt; | Cell_subtype.unimodel &lt;chr&gt; | Cell_type.unimodel &lt;chr&gt; | UMAP_Clusters.harmony_overclustered &lt;fct&gt; | scrubletScore_default &lt;dbl&gt; | scrublet_predict_default &lt;chr&gt; | scrubletScore_n30 &lt;dbl&gt; | scrublet_predict_n30 &lt;chr&gt; |\n",
       "|---|---|---|---|---|---|---|---|---|---|---|---|---|---|---|---|---|---|---|---|---|---|\n",
       "| AAACCTGAGACGCTTT_LUNG_T18 | pubsce |  5243 |  867 | AAACCTGAGACGCTTT_LUNG_T18 | LUNG_T18 |  0.1883594 |  1.130156 | Epithelial cells | Epithelial cells | tS2 | ⋯ | G1 | LUNG_T18 | -0.004011074 | tS2 | Epithelial cells | 454 | 0.06560636 | False | 0.05908944 | False |\n",
       "| AAACCTGAGACTGGGT-1-6 | mysce  |  4431 | 1893 | AAACCTGAGACTGGGT-1-6      | E3       |  4.5464433 | 21.427018 | nan              | nan              | nan | ⋯ | G1 | E3       |  0.031799612 | tS1 | Epithelial cells | 23  | 0.02200239 | False | 0.02101875 | False |\n",
       "| AAACCTGAGCACCGTC-1-6 | mysce  |  6843 | 2399 | AAACCTGAGCACCGTC-1-6      | E3       | 13.8647687 | 14.434164 | nan              | nan              | nan | ⋯ | G1 | E3       |  0.027888148 | tS1 | Epithelial cells | 356 | 0.05463441 | False | 0.05646173 | False |\n",
       "| AAACCTGAGCTAAACA_LUNG_T34 | pubsce | 11144 | 2479 | AAACCTGAGCTAAACA_LUNG_T34 | LUNG_T34 | 10.2992958 | 39.278169 | Epithelial cells | Epithelial cells | tS1 | ⋯ | G1 | LUNG_T34 | -0.006527102 | tS1 | Epithelial cells | 255 | 0.03246239 | False | 0.03225806 | False |\n",
       "| AAACCTGAGGCTCTTA-1-6 | mysce  |  6904 | 2650 | AAACCTGAGGCTCTTA-1-6      | E3       |  5.5524239 | 13.881060 | nan              | nan              | nan | ⋯ | G1 | E3       | -0.032054523 | tS1 | Epithelial cells | 37  | 0.03210176 | False | 0.02842377 | False |\n",
       "| AAACCTGCAAACTGCT-1-5 | mysce  |  2903 | 1053 | AAACCTGCAAACTGCT-1-5      | E2       |  0.0660066 | 28.283828 | nan              | nan              | nan | ⋯ | G1 | E2       |  0.028680359 | tS1 | Epithelial cells | 332 | 0.03149300 | False | 0.03225806 | False |\n",
       "\n"
      ],
      "text/plain": [
       "                          orig.ident nCount_RNA nFeature_RNA\n",
       "AAACCTGAGACGCTTT_LUNG_T18 pubsce      5243       867        \n",
       "AAACCTGAGACTGGGT-1-6      mysce       4431      1893        \n",
       "AAACCTGAGCACCGTC-1-6      mysce       6843      2399        \n",
       "AAACCTGAGCTAAACA_LUNG_T34 pubsce     11144      2479        \n",
       "AAACCTGAGGCTCTTA-1-6      mysce       6904      2650        \n",
       "AAACCTGCAAACTGCT-1-5      mysce       2903      1053        \n",
       "                          Index                     Sample   percent.mt\n",
       "AAACCTGAGACGCTTT_LUNG_T18 AAACCTGAGACGCTTT_LUNG_T18 LUNG_T18  0.1883594\n",
       "AAACCTGAGACTGGGT-1-6      AAACCTGAGACTGGGT-1-6      E3        4.5464433\n",
       "AAACCTGAGCACCGTC-1-6      AAACCTGAGCACCGTC-1-6      E3       13.8647687\n",
       "AAACCTGAGCTAAACA_LUNG_T34 AAACCTGAGCTAAACA_LUNG_T34 LUNG_T34 10.2992958\n",
       "AAACCTGAGGCTCTTA-1-6      AAACCTGAGGCTCTTA-1-6      E3        5.5524239\n",
       "AAACCTGCAAACTGCT-1-5      AAACCTGCAAACTGCT-1-5      E2        0.0660066\n",
       "                          percent.rb Cell_type        Cell_type.refined\n",
       "AAACCTGAGACGCTTT_LUNG_T18  1.130156  Epithelial cells Epithelial cells \n",
       "AAACCTGAGACTGGGT-1-6      21.427018  nan              nan              \n",
       "AAACCTGAGCACCGTC-1-6      14.434164  nan              nan              \n",
       "AAACCTGAGCTAAACA_LUNG_T34 39.278169  Epithelial cells Epithelial cells \n",
       "AAACCTGAGGCTCTTA-1-6      13.881060  nan              nan              \n",
       "AAACCTGCAAACTGCT-1-5      28.283828  nan              nan              \n",
       "                          Cell_subtype <U+22EF>   Phase old.ident CC.Difference\n",
       "AAACCTGAGACGCTTT_LUNG_T18 tS2          <U+22EF> G1    LUNG_T18  -0.004011074 \n",
       "AAACCTGAGACTGGGT-1-6      nan          <U+22EF> G1    E3         0.031799612 \n",
       "AAACCTGAGCACCGTC-1-6      nan          <U+22EF> G1    E3         0.027888148 \n",
       "AAACCTGAGCTAAACA_LUNG_T34 tS1          <U+22EF> G1    LUNG_T34  -0.006527102 \n",
       "AAACCTGAGGCTCTTA-1-6      nan          <U+22EF> G1    E3        -0.032054523 \n",
       "AAACCTGCAAACTGCT-1-5      nan          <U+22EF> G1    E2         0.028680359 \n",
       "                          Cell_subtype.unimodel Cell_type.unimodel\n",
       "AAACCTGAGACGCTTT_LUNG_T18 tS2                   Epithelial cells  \n",
       "AAACCTGAGACTGGGT-1-6      tS1                   Epithelial cells  \n",
       "AAACCTGAGCACCGTC-1-6      tS1                   Epithelial cells  \n",
       "AAACCTGAGCTAAACA_LUNG_T34 tS1                   Epithelial cells  \n",
       "AAACCTGAGGCTCTTA-1-6      tS1                   Epithelial cells  \n",
       "AAACCTGCAAACTGCT-1-5      tS1                   Epithelial cells  \n",
       "                          UMAP_Clusters.harmony_overclustered\n",
       "AAACCTGAGACGCTTT_LUNG_T18 454                                \n",
       "AAACCTGAGACTGGGT-1-6      23                                 \n",
       "AAACCTGAGCACCGTC-1-6      356                                \n",
       "AAACCTGAGCTAAACA_LUNG_T34 255                                \n",
       "AAACCTGAGGCTCTTA-1-6      37                                 \n",
       "AAACCTGCAAACTGCT-1-5      332                                \n",
       "                          scrubletScore_default scrublet_predict_default\n",
       "AAACCTGAGACGCTTT_LUNG_T18 0.06560636            False                   \n",
       "AAACCTGAGACTGGGT-1-6      0.02200239            False                   \n",
       "AAACCTGAGCACCGTC-1-6      0.05463441            False                   \n",
       "AAACCTGAGCTAAACA_LUNG_T34 0.03246239            False                   \n",
       "AAACCTGAGGCTCTTA-1-6      0.03210176            False                   \n",
       "AAACCTGCAAACTGCT-1-5      0.03149300            False                   \n",
       "                          scrubletScore_n30 scrublet_predict_n30\n",
       "AAACCTGAGACGCTTT_LUNG_T18 0.05908944        False               \n",
       "AAACCTGAGACTGGGT-1-6      0.02101875        False               \n",
       "AAACCTGAGCACCGTC-1-6      0.05646173        False               \n",
       "AAACCTGAGCTAAACA_LUNG_T34 0.03225806        False               \n",
       "AAACCTGAGGCTCTTA-1-6      0.02842377        False               \n",
       "AAACCTGCAAACTGCT-1-5      0.03225806        False               "
      ]
     },
     "metadata": {},
     "output_type": "display_data"
    }
   ],
   "source": [
    "head(sce@meta.data)"
   ]
  },
  {
   "cell_type": "code",
   "execution_count": 23,
   "id": "verified-brunei",
   "metadata": {},
   "outputs": [],
   "source": [
    "scesingleE <- as.SingleCellExperiment(sce)"
   ]
  },
  {
   "cell_type": "code",
   "execution_count": 24,
   "id": "abandoned-context",
   "metadata": {
    "scrolled": false
   },
   "outputs": [
    {
     "data": {
      "text/plain": [
       "class: SingleCellExperiment \n",
       "dim: 20532 12249 \n",
       "metadata(0):\n",
       "assays(2): counts logcounts\n",
       "rownames(20532): A1BG A1BG-AS1 ... ZYX ZZEF1\n",
       "rowData names(5): vst.mean vst.variance vst.variance.expected\n",
       "  vst.variance.standardized vst.variable\n",
       "colnames(12249): AAACCTGAGACGCTTT_LUNG_T18 AAACCTGAGACTGGGT-1-6 ...\n",
       "  TTTGTCATCCAAAGTC_LUNG_T30 TTTGTCATCTTGCCGT_LUNG_T30\n",
       "colData names(29): orig.ident nCount_RNA ... scrublet_predict_n30 ident\n",
       "reducedDimNames(0):\n",
       "altExpNames(0):"
      ]
     },
     "metadata": {},
     "output_type": "display_data"
    }
   ],
   "source": [
    "scesingleE"
   ]
  },
  {
   "cell_type": "code",
   "execution_count": 25,
   "id": "tender-shepherd",
   "metadata": {},
   "outputs": [],
   "source": [
    "outDir <- file.path(\"output2_step2.5.3.filter_junk_scanpy_pipeline/data_Epithelial/malignant\")\n",
    "if(!dir.exists(outDir)) dir.create(outDir,recursive=TRUE)"
   ]
  },
  {
   "cell_type": "code",
   "execution_count": 27,
   "id": "expanded-night",
   "metadata": {},
   "outputs": [],
   "source": [
    "save(sce, file=paste0(outDir, '/sceMalignant_cells.RData'))"
   ]
  },
  {
   "cell_type": "code",
   "execution_count": 28,
   "id": "romantic-phone",
   "metadata": {},
   "outputs": [],
   "source": [
    "save(sce, file=paste0(outDir, '/sceMalignant_cells_SingleCellExperiment.RData'))"
   ]
  },
  {
   "cell_type": "code",
   "execution_count": 30,
   "id": "loaded-workplace",
   "metadata": {},
   "outputs": [
    {
     "data": {
      "text/html": [
       "<table class=\"dataframe\">\n",
       "<caption>A matrix: 4 × 4 of type dbl</caption>\n",
       "<thead>\n",
       "\t<tr><th></th><th scope=col>AAACCTGAGACGCTTT_LUNG_T18</th><th scope=col>AAACCTGAGACTGGGT-1-6</th><th scope=col>AAACCTGAGCACCGTC-1-6</th><th scope=col>AAACCTGAGCTAAACA_LUNG_T34</th></tr>\n",
       "</thead>\n",
       "<tbody>\n",
       "\t<tr><th scope=row>A1BG</th><td>0</td><td>0</td><td>0</td><td>0</td></tr>\n",
       "\t<tr><th scope=row>A1BG-AS1</th><td>0</td><td>0</td><td>0</td><td>0</td></tr>\n",
       "\t<tr><th scope=row>A1CF</th><td>0</td><td>0</td><td>0</td><td>0</td></tr>\n",
       "\t<tr><th scope=row>A2M</th><td>0</td><td>0</td><td>0</td><td>0</td></tr>\n",
       "</tbody>\n",
       "</table>\n"
      ],
      "text/latex": [
       "A matrix: 4 × 4 of type dbl\n",
       "\\begin{tabular}{r|llll}\n",
       "  & AAACCTGAGACGCTTT\\_LUNG\\_T18 & AAACCTGAGACTGGGT-1-6 & AAACCTGAGCACCGTC-1-6 & AAACCTGAGCTAAACA\\_LUNG\\_T34\\\\\n",
       "\\hline\n",
       "\tA1BG & 0 & 0 & 0 & 0\\\\\n",
       "\tA1BG-AS1 & 0 & 0 & 0 & 0\\\\\n",
       "\tA1CF & 0 & 0 & 0 & 0\\\\\n",
       "\tA2M & 0 & 0 & 0 & 0\\\\\n",
       "\\end{tabular}\n"
      ],
      "text/markdown": [
       "\n",
       "A matrix: 4 × 4 of type dbl\n",
       "\n",
       "| <!--/--> | AAACCTGAGACGCTTT_LUNG_T18 | AAACCTGAGACTGGGT-1-6 | AAACCTGAGCACCGTC-1-6 | AAACCTGAGCTAAACA_LUNG_T34 |\n",
       "|---|---|---|---|---|\n",
       "| A1BG | 0 | 0 | 0 | 0 |\n",
       "| A1BG-AS1 | 0 | 0 | 0 | 0 |\n",
       "| A1CF | 0 | 0 | 0 | 0 |\n",
       "| A2M | 0 | 0 | 0 | 0 |\n",
       "\n"
      ],
      "text/plain": [
       "         AAACCTGAGACGCTTT_LUNG_T18 AAACCTGAGACTGGGT-1-6 AAACCTGAGCACCGTC-1-6\n",
       "A1BG     0                         0                    0                   \n",
       "A1BG-AS1 0                         0                    0                   \n",
       "A1CF     0                         0                    0                   \n",
       "A2M      0                         0                    0                   \n",
       "         AAACCTGAGCTAAACA_LUNG_T34\n",
       "A1BG     0                        \n",
       "A1BG-AS1 0                        \n",
       "A1CF     0                        \n",
       "A2M      0                        "
      ]
     },
     "metadata": {},
     "output_type": "display_data"
    }
   ],
   "source": [
    "mali_matrix=as.matrix(sce[['RNA']]@data)\n",
    "mali_matrix[1:4,1:4]"
   ]
  },
  {
   "cell_type": "code",
   "execution_count": 32,
   "id": "humanitarian-effect",
   "metadata": {
    "scrolled": true
   },
   "outputs": [
    {
     "data": {
      "text/html": [
       "<table class=\"dataframe\">\n",
       "<caption>A data.frame: 4 × 4</caption>\n",
       "<thead>\n",
       "\t<tr><th></th><th scope=col>gene_name</th><th scope=col>AAACCTGAGACGCTTT_LUNG_T18</th><th scope=col>AAACCTGAGACTGGGT.1.6</th><th scope=col>AAACCTGAGCACCGTC.1.6</th></tr>\n",
       "\t<tr><th></th><th scope=col>&lt;chr&gt;</th><th scope=col>&lt;dbl&gt;</th><th scope=col>&lt;dbl&gt;</th><th scope=col>&lt;dbl&gt;</th></tr>\n",
       "</thead>\n",
       "<tbody>\n",
       "\t<tr><th scope=row>A1BG</th><td>A1BG    </td><td>0</td><td>0</td><td>0</td></tr>\n",
       "\t<tr><th scope=row>A1BG-AS1</th><td>A1BG-AS1</td><td>0</td><td>0</td><td>0</td></tr>\n",
       "\t<tr><th scope=row>A1CF</th><td>A1CF    </td><td>0</td><td>0</td><td>0</td></tr>\n",
       "\t<tr><th scope=row>A2M</th><td>A2M     </td><td>0</td><td>0</td><td>0</td></tr>\n",
       "</tbody>\n",
       "</table>\n"
      ],
      "text/latex": [
       "A data.frame: 4 × 4\n",
       "\\begin{tabular}{r|llll}\n",
       "  & gene\\_name & AAACCTGAGACGCTTT\\_LUNG\\_T18 & AAACCTGAGACTGGGT.1.6 & AAACCTGAGCACCGTC.1.6\\\\\n",
       "  & <chr> & <dbl> & <dbl> & <dbl>\\\\\n",
       "\\hline\n",
       "\tA1BG & A1BG     & 0 & 0 & 0\\\\\n",
       "\tA1BG-AS1 & A1BG-AS1 & 0 & 0 & 0\\\\\n",
       "\tA1CF & A1CF     & 0 & 0 & 0\\\\\n",
       "\tA2M & A2M      & 0 & 0 & 0\\\\\n",
       "\\end{tabular}\n"
      ],
      "text/markdown": [
       "\n",
       "A data.frame: 4 × 4\n",
       "\n",
       "| <!--/--> | gene_name &lt;chr&gt; | AAACCTGAGACGCTTT_LUNG_T18 &lt;dbl&gt; | AAACCTGAGACTGGGT.1.6 &lt;dbl&gt; | AAACCTGAGCACCGTC.1.6 &lt;dbl&gt; |\n",
       "|---|---|---|---|---|\n",
       "| A1BG | A1BG     | 0 | 0 | 0 |\n",
       "| A1BG-AS1 | A1BG-AS1 | 0 | 0 | 0 |\n",
       "| A1CF | A1CF     | 0 | 0 | 0 |\n",
       "| A2M | A2M      | 0 | 0 | 0 |\n",
       "\n"
      ],
      "text/plain": [
       "         gene_name AAACCTGAGACGCTTT_LUNG_T18 AAACCTGAGACTGGGT.1.6\n",
       "A1BG     A1BG      0                         0                   \n",
       "A1BG-AS1 A1BG-AS1  0                         0                   \n",
       "A1CF     A1CF      0                         0                   \n",
       "A2M      A2M       0                         0                   \n",
       "         AAACCTGAGCACCGTC.1.6\n",
       "A1BG     0                   \n",
       "A1BG-AS1 0                   \n",
       "A1CF     0                   \n",
       "A2M      0                   "
      ]
     },
     "metadata": {},
     "output_type": "display_data"
    }
   ],
   "source": [
    "mali_matrix=data.frame(gene_name= rownames(mali_matrix), mali_matrix)\n",
    "mali_matrix[1:4,1:4]"
   ]
  },
  {
   "cell_type": "code",
   "execution_count": 33,
   "id": "serious-variation",
   "metadata": {},
   "outputs": [],
   "source": [
    "write.csv(mali_matrix, file=paste0(outDir, '/sceMalignant_cells_log_GEPmatrix.csv'), row.names=F)"
   ]
  },
  {
   "cell_type": "code",
   "execution_count": 36,
   "id": "affecting-hampton",
   "metadata": {},
   "outputs": [],
   "source": [
    "suppressPackageStartupMessages({\n",
    "    library(\"reticulate\")\n",
    "    library(\"ggplot2\")\n",
    "    #library(\"scater\")\n",
    "    library(\"Seurat\")\n",
    "})\n",
    "sc <- import(\"scanpy\")"
   ]
  },
  {
   "cell_type": "code",
   "execution_count": 37,
   "id": "mexican-mobility",
   "metadata": {},
   "outputs": [
    {
     "name": "stderr",
     "output_type": "stream",
     "text": [
      "Warning message:\n",
      "\"The following arguments are not used: assay.type\"\n"
     ]
    },
    {
     "data": {
      "text/html": [
       "<table class=\"dataframe\">\n",
       "<caption>A data.frame: 6 × 28</caption>\n",
       "<thead>\n",
       "\t<tr><th></th><th scope=col>orig_ident</th><th scope=col>nCount_RNA</th><th scope=col>nFeature_RNA</th><th scope=col>Index</th><th scope=col>Sample</th><th scope=col>percent_mt</th><th scope=col>percent_rb</th><th scope=col>Cell_type</th><th scope=col>Cell_type_refined</th><th scope=col>Cell_subtype</th><th scope=col>⋯</th><th scope=col>Phase</th><th scope=col>old_ident</th><th scope=col>CC_Difference</th><th scope=col>Cell_subtype_unimodel</th><th scope=col>Cell_type_unimodel</th><th scope=col>UMAP_Clusters_harmony_overclustered</th><th scope=col>scrubletScore_default</th><th scope=col>scrublet_predict_default</th><th scope=col>scrubletScore_n30</th><th scope=col>scrublet_predict_n30</th></tr>\n",
       "\t<tr><th></th><th scope=col>&lt;chr&gt;</th><th scope=col>&lt;dbl&gt;</th><th scope=col>&lt;int&gt;</th><th scope=col>&lt;chr&gt;</th><th scope=col>&lt;chr&gt;</th><th scope=col>&lt;dbl&gt;</th><th scope=col>&lt;dbl&gt;</th><th scope=col>&lt;chr&gt;</th><th scope=col>&lt;chr&gt;</th><th scope=col>&lt;chr&gt;</th><th scope=col>⋯</th><th scope=col>&lt;chr&gt;</th><th scope=col>&lt;fct&gt;</th><th scope=col>&lt;dbl&gt;</th><th scope=col>&lt;chr&gt;</th><th scope=col>&lt;chr&gt;</th><th scope=col>&lt;fct&gt;</th><th scope=col>&lt;dbl&gt;</th><th scope=col>&lt;chr&gt;</th><th scope=col>&lt;dbl&gt;</th><th scope=col>&lt;chr&gt;</th></tr>\n",
       "</thead>\n",
       "<tbody>\n",
       "\t<tr><th scope=row>AAACCTGAGACGCTTT_LUNG_T18</th><td>pubsce</td><td> 5243</td><td> 867</td><td>AAACCTGAGACGCTTT_LUNG_T18</td><td>LUNG_T18</td><td> 0.1883594</td><td> 1.130156</td><td>Epithelial cells</td><td>Epithelial cells</td><td>tS2</td><td>⋯</td><td>G1</td><td>LUNG_T18</td><td>-0.004011074</td><td>tS2</td><td>Epithelial cells</td><td>454</td><td>0.06560636</td><td>False</td><td>0.05908944</td><td>False</td></tr>\n",
       "\t<tr><th scope=row>AAACCTGAGACTGGGT-1-6</th><td>mysce </td><td> 4431</td><td>1893</td><td>AAACCTGAGACTGGGT-1-6     </td><td>E3      </td><td> 4.5464433</td><td>21.427018</td><td>nan             </td><td>nan             </td><td>nan</td><td>⋯</td><td>G1</td><td>E3      </td><td> 0.031799612</td><td>tS1</td><td>Epithelial cells</td><td>23 </td><td>0.02200239</td><td>False</td><td>0.02101875</td><td>False</td></tr>\n",
       "\t<tr><th scope=row>AAACCTGAGCACCGTC-1-6</th><td>mysce </td><td> 6843</td><td>2399</td><td>AAACCTGAGCACCGTC-1-6     </td><td>E3      </td><td>13.8647687</td><td>14.434164</td><td>nan             </td><td>nan             </td><td>nan</td><td>⋯</td><td>G1</td><td>E3      </td><td> 0.027888148</td><td>tS1</td><td>Epithelial cells</td><td>356</td><td>0.05463441</td><td>False</td><td>0.05646173</td><td>False</td></tr>\n",
       "\t<tr><th scope=row>AAACCTGAGCTAAACA_LUNG_T34</th><td>pubsce</td><td>11144</td><td>2479</td><td>AAACCTGAGCTAAACA_LUNG_T34</td><td>LUNG_T34</td><td>10.2992958</td><td>39.278169</td><td>Epithelial cells</td><td>Epithelial cells</td><td>tS1</td><td>⋯</td><td>G1</td><td>LUNG_T34</td><td>-0.006527102</td><td>tS1</td><td>Epithelial cells</td><td>255</td><td>0.03246239</td><td>False</td><td>0.03225806</td><td>False</td></tr>\n",
       "\t<tr><th scope=row>AAACCTGAGGCTCTTA-1-6</th><td>mysce </td><td> 6904</td><td>2650</td><td>AAACCTGAGGCTCTTA-1-6     </td><td>E3      </td><td> 5.5524239</td><td>13.881060</td><td>nan             </td><td>nan             </td><td>nan</td><td>⋯</td><td>G1</td><td>E3      </td><td>-0.032054523</td><td>tS1</td><td>Epithelial cells</td><td>37 </td><td>0.03210176</td><td>False</td><td>0.02842377</td><td>False</td></tr>\n",
       "\t<tr><th scope=row>AAACCTGCAAACTGCT-1-5</th><td>mysce </td><td> 2903</td><td>1053</td><td>AAACCTGCAAACTGCT-1-5     </td><td>E2      </td><td> 0.0660066</td><td>28.283828</td><td>nan             </td><td>nan             </td><td>nan</td><td>⋯</td><td>G1</td><td>E2      </td><td> 0.028680359</td><td>tS1</td><td>Epithelial cells</td><td>332</td><td>0.03149300</td><td>False</td><td>0.03225806</td><td>False</td></tr>\n",
       "</tbody>\n",
       "</table>\n"
      ],
      "text/latex": [
       "A data.frame: 6 × 28\n",
       "\\begin{tabular}{r|lllllllllllllllllllll}\n",
       "  & orig\\_ident & nCount\\_RNA & nFeature\\_RNA & Index & Sample & percent\\_mt & percent\\_rb & Cell\\_type & Cell\\_type\\_refined & Cell\\_subtype & ⋯ & Phase & old\\_ident & CC\\_Difference & Cell\\_subtype\\_unimodel & Cell\\_type\\_unimodel & UMAP\\_Clusters\\_harmony\\_overclustered & scrubletScore\\_default & scrublet\\_predict\\_default & scrubletScore\\_n30 & scrublet\\_predict\\_n30\\\\\n",
       "  & <chr> & <dbl> & <int> & <chr> & <chr> & <dbl> & <dbl> & <chr> & <chr> & <chr> & ⋯ & <chr> & <fct> & <dbl> & <chr> & <chr> & <fct> & <dbl> & <chr> & <dbl> & <chr>\\\\\n",
       "\\hline\n",
       "\tAAACCTGAGACGCTTT\\_LUNG\\_T18 & pubsce &  5243 &  867 & AAACCTGAGACGCTTT\\_LUNG\\_T18 & LUNG\\_T18 &  0.1883594 &  1.130156 & Epithelial cells & Epithelial cells & tS2 & ⋯ & G1 & LUNG\\_T18 & -0.004011074 & tS2 & Epithelial cells & 454 & 0.06560636 & False & 0.05908944 & False\\\\\n",
       "\tAAACCTGAGACTGGGT-1-6 & mysce  &  4431 & 1893 & AAACCTGAGACTGGGT-1-6      & E3       &  4.5464433 & 21.427018 & nan              & nan              & nan & ⋯ & G1 & E3       &  0.031799612 & tS1 & Epithelial cells & 23  & 0.02200239 & False & 0.02101875 & False\\\\\n",
       "\tAAACCTGAGCACCGTC-1-6 & mysce  &  6843 & 2399 & AAACCTGAGCACCGTC-1-6      & E3       & 13.8647687 & 14.434164 & nan              & nan              & nan & ⋯ & G1 & E3       &  0.027888148 & tS1 & Epithelial cells & 356 & 0.05463441 & False & 0.05646173 & False\\\\\n",
       "\tAAACCTGAGCTAAACA\\_LUNG\\_T34 & pubsce & 11144 & 2479 & AAACCTGAGCTAAACA\\_LUNG\\_T34 & LUNG\\_T34 & 10.2992958 & 39.278169 & Epithelial cells & Epithelial cells & tS1 & ⋯ & G1 & LUNG\\_T34 & -0.006527102 & tS1 & Epithelial cells & 255 & 0.03246239 & False & 0.03225806 & False\\\\\n",
       "\tAAACCTGAGGCTCTTA-1-6 & mysce  &  6904 & 2650 & AAACCTGAGGCTCTTA-1-6      & E3       &  5.5524239 & 13.881060 & nan              & nan              & nan & ⋯ & G1 & E3       & -0.032054523 & tS1 & Epithelial cells & 37  & 0.03210176 & False & 0.02842377 & False\\\\\n",
       "\tAAACCTGCAAACTGCT-1-5 & mysce  &  2903 & 1053 & AAACCTGCAAACTGCT-1-5      & E2       &  0.0660066 & 28.283828 & nan              & nan              & nan & ⋯ & G1 & E2       &  0.028680359 & tS1 & Epithelial cells & 332 & 0.03149300 & False & 0.03225806 & False\\\\\n",
       "\\end{tabular}\n"
      ],
      "text/markdown": [
       "\n",
       "A data.frame: 6 × 28\n",
       "\n",
       "| <!--/--> | orig_ident &lt;chr&gt; | nCount_RNA &lt;dbl&gt; | nFeature_RNA &lt;int&gt; | Index &lt;chr&gt; | Sample &lt;chr&gt; | percent_mt &lt;dbl&gt; | percent_rb &lt;dbl&gt; | Cell_type &lt;chr&gt; | Cell_type_refined &lt;chr&gt; | Cell_subtype &lt;chr&gt; | ⋯ ⋯ | Phase &lt;chr&gt; | old_ident &lt;fct&gt; | CC_Difference &lt;dbl&gt; | Cell_subtype_unimodel &lt;chr&gt; | Cell_type_unimodel &lt;chr&gt; | UMAP_Clusters_harmony_overclustered &lt;fct&gt; | scrubletScore_default &lt;dbl&gt; | scrublet_predict_default &lt;chr&gt; | scrubletScore_n30 &lt;dbl&gt; | scrublet_predict_n30 &lt;chr&gt; |\n",
       "|---|---|---|---|---|---|---|---|---|---|---|---|---|---|---|---|---|---|---|---|---|---|\n",
       "| AAACCTGAGACGCTTT_LUNG_T18 | pubsce |  5243 |  867 | AAACCTGAGACGCTTT_LUNG_T18 | LUNG_T18 |  0.1883594 |  1.130156 | Epithelial cells | Epithelial cells | tS2 | ⋯ | G1 | LUNG_T18 | -0.004011074 | tS2 | Epithelial cells | 454 | 0.06560636 | False | 0.05908944 | False |\n",
       "| AAACCTGAGACTGGGT-1-6 | mysce  |  4431 | 1893 | AAACCTGAGACTGGGT-1-6      | E3       |  4.5464433 | 21.427018 | nan              | nan              | nan | ⋯ | G1 | E3       |  0.031799612 | tS1 | Epithelial cells | 23  | 0.02200239 | False | 0.02101875 | False |\n",
       "| AAACCTGAGCACCGTC-1-6 | mysce  |  6843 | 2399 | AAACCTGAGCACCGTC-1-6      | E3       | 13.8647687 | 14.434164 | nan              | nan              | nan | ⋯ | G1 | E3       |  0.027888148 | tS1 | Epithelial cells | 356 | 0.05463441 | False | 0.05646173 | False |\n",
       "| AAACCTGAGCTAAACA_LUNG_T34 | pubsce | 11144 | 2479 | AAACCTGAGCTAAACA_LUNG_T34 | LUNG_T34 | 10.2992958 | 39.278169 | Epithelial cells | Epithelial cells | tS1 | ⋯ | G1 | LUNG_T34 | -0.006527102 | tS1 | Epithelial cells | 255 | 0.03246239 | False | 0.03225806 | False |\n",
       "| AAACCTGAGGCTCTTA-1-6 | mysce  |  6904 | 2650 | AAACCTGAGGCTCTTA-1-6      | E3       |  5.5524239 | 13.881060 | nan              | nan              | nan | ⋯ | G1 | E3       | -0.032054523 | tS1 | Epithelial cells | 37  | 0.03210176 | False | 0.02842377 | False |\n",
       "| AAACCTGCAAACTGCT-1-5 | mysce  |  2903 | 1053 | AAACCTGCAAACTGCT-1-5      | E2       |  0.0660066 | 28.283828 | nan              | nan              | nan | ⋯ | G1 | E2       |  0.028680359 | tS1 | Epithelial cells | 332 | 0.03149300 | False | 0.03225806 | False |\n",
       "\n"
      ],
      "text/plain": [
       "                          orig_ident nCount_RNA nFeature_RNA\n",
       "AAACCTGAGACGCTTT_LUNG_T18 pubsce      5243       867        \n",
       "AAACCTGAGACTGGGT-1-6      mysce       4431      1893        \n",
       "AAACCTGAGCACCGTC-1-6      mysce       6843      2399        \n",
       "AAACCTGAGCTAAACA_LUNG_T34 pubsce     11144      2479        \n",
       "AAACCTGAGGCTCTTA-1-6      mysce       6904      2650        \n",
       "AAACCTGCAAACTGCT-1-5      mysce       2903      1053        \n",
       "                          Index                     Sample   percent_mt\n",
       "AAACCTGAGACGCTTT_LUNG_T18 AAACCTGAGACGCTTT_LUNG_T18 LUNG_T18  0.1883594\n",
       "AAACCTGAGACTGGGT-1-6      AAACCTGAGACTGGGT-1-6      E3        4.5464433\n",
       "AAACCTGAGCACCGTC-1-6      AAACCTGAGCACCGTC-1-6      E3       13.8647687\n",
       "AAACCTGAGCTAAACA_LUNG_T34 AAACCTGAGCTAAACA_LUNG_T34 LUNG_T34 10.2992958\n",
       "AAACCTGAGGCTCTTA-1-6      AAACCTGAGGCTCTTA-1-6      E3        5.5524239\n",
       "AAACCTGCAAACTGCT-1-5      AAACCTGCAAACTGCT-1-5      E2        0.0660066\n",
       "                          percent_rb Cell_type        Cell_type_refined\n",
       "AAACCTGAGACGCTTT_LUNG_T18  1.130156  Epithelial cells Epithelial cells \n",
       "AAACCTGAGACTGGGT-1-6      21.427018  nan              nan              \n",
       "AAACCTGAGCACCGTC-1-6      14.434164  nan              nan              \n",
       "AAACCTGAGCTAAACA_LUNG_T34 39.278169  Epithelial cells Epithelial cells \n",
       "AAACCTGAGGCTCTTA-1-6      13.881060  nan              nan              \n",
       "AAACCTGCAAACTGCT-1-5      28.283828  nan              nan              \n",
       "                          Cell_subtype <U+22EF>   Phase old_ident CC_Difference\n",
       "AAACCTGAGACGCTTT_LUNG_T18 tS2          <U+22EF> G1    LUNG_T18  -0.004011074 \n",
       "AAACCTGAGACTGGGT-1-6      nan          <U+22EF> G1    E3         0.031799612 \n",
       "AAACCTGAGCACCGTC-1-6      nan          <U+22EF> G1    E3         0.027888148 \n",
       "AAACCTGAGCTAAACA_LUNG_T34 tS1          <U+22EF> G1    LUNG_T34  -0.006527102 \n",
       "AAACCTGAGGCTCTTA-1-6      nan          <U+22EF> G1    E3        -0.032054523 \n",
       "AAACCTGCAAACTGCT-1-5      nan          <U+22EF> G1    E2         0.028680359 \n",
       "                          Cell_subtype_unimodel Cell_type_unimodel\n",
       "AAACCTGAGACGCTTT_LUNG_T18 tS2                   Epithelial cells  \n",
       "AAACCTGAGACTGGGT-1-6      tS1                   Epithelial cells  \n",
       "AAACCTGAGCACCGTC-1-6      tS1                   Epithelial cells  \n",
       "AAACCTGAGCTAAACA_LUNG_T34 tS1                   Epithelial cells  \n",
       "AAACCTGAGGCTCTTA-1-6      tS1                   Epithelial cells  \n",
       "AAACCTGCAAACTGCT-1-5      tS1                   Epithelial cells  \n",
       "                          UMAP_Clusters_harmony_overclustered\n",
       "AAACCTGAGACGCTTT_LUNG_T18 454                                \n",
       "AAACCTGAGACTGGGT-1-6      23                                 \n",
       "AAACCTGAGCACCGTC-1-6      356                                \n",
       "AAACCTGAGCTAAACA_LUNG_T34 255                                \n",
       "AAACCTGAGGCTCTTA-1-6      37                                 \n",
       "AAACCTGCAAACTGCT-1-5      332                                \n",
       "                          scrubletScore_default scrublet_predict_default\n",
       "AAACCTGAGACGCTTT_LUNG_T18 0.06560636            False                   \n",
       "AAACCTGAGACTGGGT-1-6      0.02200239            False                   \n",
       "AAACCTGAGCACCGTC-1-6      0.05463441            False                   \n",
       "AAACCTGAGCTAAACA_LUNG_T34 0.03246239            False                   \n",
       "AAACCTGAGGCTCTTA-1-6      0.03210176            False                   \n",
       "AAACCTGCAAACTGCT-1-5      0.03149300            False                   \n",
       "                          scrubletScore_n30 scrublet_predict_n30\n",
       "AAACCTGAGACGCTTT_LUNG_T18 0.05908944        False               \n",
       "AAACCTGAGACTGGGT-1-6      0.02101875        False               \n",
       "AAACCTGAGCACCGTC-1-6      0.05646173        False               \n",
       "AAACCTGAGCTAAACA_LUNG_T34 0.03225806        False               \n",
       "AAACCTGAGGCTCTTA-1-6      0.02842377        False               \n",
       "AAACCTGCAAACTGCT-1-5      0.03225806        False               "
      ]
     },
     "metadata": {},
     "output_type": "display_data"
    }
   ],
   "source": [
    "####convert sce to h5ad\n",
    "####\n",
    "#sce=TotalTissue.combined\n",
    "exprs <- GetAssayData(sce,assay.type = \"RNA\", slot = \"counts\")\n",
    "meta <- sce[[]]\n",
    "feature_meta <- GetAssay(sce)[[]]\n",
    "#embedding <- Embeddings(sce, \"umap\")\n",
    "\n",
    "aa=as.data.frame(as.matrix(exprs))\n",
    "aa=t(aa)\n",
    "\n",
    "colnames(meta)=gsub('[.]', \"_\", colnames(meta))\n",
    "head(meta)\n",
    "\n",
    "adata_seurat = sc$AnnData(X = aa, obs = meta, var = feature_meta)"
   ]
  },
  {
   "cell_type": "code",
   "execution_count": 38,
   "id": "athletic-matrix",
   "metadata": {},
   "outputs": [
    {
     "data": {
      "text/plain": [
       "AnnData object with n_obs <U+00D7> n_vars = 12249 <U+00D7> 20532\n",
       "    obs: 'orig_ident', 'nCount_RNA', 'nFeature_RNA', 'Index', 'Sample', 'percent_mt', 'percent_rb', 'Cell_type', 'Cell_type_refined', 'Cell_subtype', 'age', 'Sex', 'Smoking', 'Stages', 'percent_mt_merge', 'percent_rb_merge', 'S_Score', 'G2M_Score', 'Phase', 'old_ident', 'CC_Difference', 'Cell_subtype_unimodel', 'Cell_type_unimodel', 'UMAP_Clusters_harmony_overclustered', 'scrubletScore_default', 'scrublet_predict_default', 'scrubletScore_n30', 'scrublet_predict_n30'\n",
       "    var: 'vst.mean', 'vst.variance', 'vst.variance.expected', 'vst.variance.standardized', 'vst.variable'"
      ]
     },
     "metadata": {},
     "output_type": "display_data"
    }
   ],
   "source": [
    "adata_seurat"
   ]
  },
  {
   "cell_type": "code",
   "execution_count": 39,
   "id": "uniform-marshall",
   "metadata": {},
   "outputs": [],
   "source": [
    "adata_seurat$write(paste0(outDir, '/sceMalignant_cells.h5ad'))"
   ]
  },
  {
   "cell_type": "code",
   "execution_count": null,
   "id": "streaming-adapter",
   "metadata": {},
   "outputs": [],
   "source": []
  }
 ],
 "metadata": {
  "kernelspec": {
   "display_name": "R.4.0.3",
   "language": "R",
   "name": "ir"
  },
  "language_info": {
   "codemirror_mode": "r",
   "file_extension": ".r",
   "mimetype": "text/x-r-source",
   "name": "R",
   "pygments_lexer": "r",
   "version": "4.0.3"
  }
 },
 "nbformat": 4,
 "nbformat_minor": 5
}
