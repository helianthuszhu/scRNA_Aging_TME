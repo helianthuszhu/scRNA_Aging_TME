{
 "cells": [
  {
   "cell_type": "code",
   "execution_count": 23,
   "id": "conventional-satisfaction",
   "metadata": {
    "scrolled": true
   },
   "outputs": [],
   "source": [
    "library(Seurat)\n",
    "library(scater)"
   ]
  },
  {
   "cell_type": "code",
   "execution_count": 24,
   "id": "earned-conservation",
   "metadata": {},
   "outputs": [],
   "source": [
    "load('output2_step2.5.filter_junk/TotalTissue.combined.not.doubletFiltered.RData')"
   ]
  },
  {
   "cell_type": "code",
   "execution_count": 25,
   "id": "mysterious-slide",
   "metadata": {},
   "outputs": [],
   "source": [
    "metaobs=read.csv('output2_step2.5.3.filter_junk_scanpy_pipeline/data/adata.harmony.overclustered.filtered.CelltypeDefined.meta.data.csv',\n",
    "                header=T, row.names=1)"
   ]
  },
  {
   "cell_type": "code",
   "execution_count": 26,
   "id": "binary-sunset",
   "metadata": {},
   "outputs": [
    {
     "data": {
      "text/html": [
       "<style>\n",
       ".list-inline {list-style: none; margin:0; padding: 0}\n",
       ".list-inline>li {display: inline-block}\n",
       ".list-inline>li:not(:last-child)::after {content: \"\\00b7\"; padding: 0 .5ex}\n",
       "</style>\n",
       "<ol class=list-inline><li>'metaobs'</li><li>'metaobs2'</li><li>'outDir'</li><li>'sce'</li><li>'scesingleE'</li><li>'TotalTissue.combined'</li></ol>\n"
      ],
      "text/latex": [
       "\\begin{enumerate*}\n",
       "\\item 'metaobs'\n",
       "\\item 'metaobs2'\n",
       "\\item 'outDir'\n",
       "\\item 'sce'\n",
       "\\item 'scesingleE'\n",
       "\\item 'TotalTissue.combined'\n",
       "\\end{enumerate*}\n"
      ],
      "text/markdown": [
       "1. 'metaobs'\n",
       "2. 'metaobs2'\n",
       "3. 'outDir'\n",
       "4. 'sce'\n",
       "5. 'scesingleE'\n",
       "6. 'TotalTissue.combined'\n",
       "\n",
       "\n"
      ],
      "text/plain": [
       "[1] \"metaobs\"              \"metaobs2\"             \"outDir\"              \n",
       "[4] \"sce\"                  \"scesingleE\"           \"TotalTissue.combined\""
      ]
     },
     "metadata": {},
     "output_type": "display_data"
    }
   ],
   "source": [
    "ls()"
   ]
  },
  {
   "cell_type": "code",
   "execution_count": 27,
   "id": "optional-marathon",
   "metadata": {},
   "outputs": [
    {
     "data": {
      "text/html": [
       "TRUE"
      ],
      "text/latex": [
       "TRUE"
      ],
      "text/markdown": [
       "TRUE"
      ],
      "text/plain": [
       "[1] TRUE"
      ]
     },
     "metadata": {},
     "output_type": "display_data"
    }
   ],
   "source": [
    "all(rownames(metaobs) %in% colnames(TotalTissue.combined))"
   ]
  },
  {
   "cell_type": "code",
   "execution_count": 28,
   "id": "working-bicycle",
   "metadata": {},
   "outputs": [],
   "source": [
    "sce=subset(TotalTissue.combined, cells = rownames(metaobs))"
   ]
  },
  {
   "cell_type": "code",
   "execution_count": 29,
   "id": "fitting-progressive",
   "metadata": {
    "scrolled": true
   },
   "outputs": [
    {
     "data": {
      "text/plain": [
       "An object of class Seurat \n",
       "20532 features across 58031 samples within 1 assay \n",
       "Active assay: RNA (20532 features, 2000 variable features)"
      ]
     },
     "metadata": {},
     "output_type": "display_data"
    }
   ],
   "source": [
    "sce"
   ]
  },
  {
   "cell_type": "code",
   "execution_count": 30,
   "id": "restricted-attraction",
   "metadata": {
    "scrolled": true
   },
   "outputs": [
    {
     "data": {
      "text/html": [
       "<table class=\"dataframe\">\n",
       "<caption>A data.frame: 6 × 28</caption>\n",
       "<thead>\n",
       "\t<tr><th></th><th scope=col>orig.ident</th><th scope=col>nCount_RNA</th><th scope=col>nFeature_RNA</th><th scope=col>Index</th><th scope=col>Sample</th><th scope=col>percent.mt</th><th scope=col>percent.rb</th><th scope=col>Cell_type</th><th scope=col>Cell_type.refined</th><th scope=col>Cell_subtype</th><th scope=col>⋯</th><th scope=col>Phase</th><th scope=col>old.ident</th><th scope=col>CC.Difference</th><th scope=col>Cell_subtype.unimodel</th><th scope=col>Cell_type.unimodel</th><th scope=col>UMAP_Clusters.harmony_overclustered</th><th scope=col>scrubletScore_default</th><th scope=col>scrublet_predict_default</th><th scope=col>scrubletScore_n30</th><th scope=col>scrublet_predict_n30</th></tr>\n",
       "\t<tr><th></th><th scope=col>&lt;chr&gt;</th><th scope=col>&lt;dbl&gt;</th><th scope=col>&lt;int&gt;</th><th scope=col>&lt;chr&gt;</th><th scope=col>&lt;chr&gt;</th><th scope=col>&lt;dbl&gt;</th><th scope=col>&lt;dbl&gt;</th><th scope=col>&lt;chr&gt;</th><th scope=col>&lt;chr&gt;</th><th scope=col>&lt;chr&gt;</th><th scope=col>⋯</th><th scope=col>&lt;chr&gt;</th><th scope=col>&lt;fct&gt;</th><th scope=col>&lt;dbl&gt;</th><th scope=col>&lt;chr&gt;</th><th scope=col>&lt;chr&gt;</th><th scope=col>&lt;fct&gt;</th><th scope=col>&lt;dbl&gt;</th><th scope=col>&lt;chr&gt;</th><th scope=col>&lt;dbl&gt;</th><th scope=col>&lt;chr&gt;</th></tr>\n",
       "</thead>\n",
       "<tbody>\n",
       "\t<tr><th scope=row>AAACCTGAGACGACGT_LUNG_T09</th><td>pubsce</td><td>10526</td><td>2245</td><td>AAACCTGAGACGACGT_LUNG_T09</td><td>LUNG_T09</td><td>3.7753308</td><td>30.563524</td><td>Myeloid cells   </td><td>Myeloid cells   </td><td>CD1c+ DCs         </td><td>⋯</td><td>G1 </td><td>LUNG_T09</td><td>-0.025521688</td><td>CD1c+ DCs         </td><td>Myeloid cells   </td><td>428</td><td>0.25733634</td><td>False</td><td>0.27929901</td><td>False</td></tr>\n",
       "\t<tr><th scope=row>AAACCTGAGACGACGT_LUNG_T34</th><td>pubsce</td><td> 4413</td><td>1259</td><td>AAACCTGAGACGACGT_LUNG_T34</td><td>LUNG_T34</td><td>5.3472376</td><td>42.289771</td><td>B lymphocytes   </td><td>B lymphocytes   </td><td>Follicular B cells</td><td>⋯</td><td>G2M</td><td>LUNG_T34</td><td>-0.044121300</td><td>Follicular B cells</td><td>B lymphocytes   </td><td>363</td><td>0.05050505</td><td>False</td><td>0.06187625</td><td>False</td></tr>\n",
       "\t<tr><th scope=row>AAACCTGAGACGCTTT_LUNG_T18</th><td>pubsce</td><td> 5243</td><td> 867</td><td>AAACCTGAGACGCTTT_LUNG_T18</td><td>LUNG_T18</td><td>0.1883594</td><td> 1.130156</td><td>Epithelial cells</td><td>Epithelial cells</td><td>tS2               </td><td>⋯</td><td>G1 </td><td>LUNG_T18</td><td>-0.004011074</td><td>tS2               </td><td>Epithelial cells</td><td>454</td><td>0.06560636</td><td>False</td><td>0.05908944</td><td>False</td></tr>\n",
       "\t<tr><th scope=row>AAACCTGAGATATGCA_LUNG_T25</th><td>pubsce</td><td> 2608</td><td> 950</td><td>AAACCTGAGATATGCA_LUNG_T25</td><td>LUNG_T25</td><td>4.9549550</td><td>33.108108</td><td>T lymphocytes   </td><td>T/NK cells      </td><td>CD4+ Th           </td><td>⋯</td><td>G1 </td><td>LUNG_T25</td><td> 0.027125065</td><td>CD4+ Th           </td><td>T/NK cells      </td><td>271</td><td>0.10521042</td><td>False</td><td>0.09739369</td><td>False</td></tr>\n",
       "\t<tr><th scope=row>AAACCTGAGATGTCGG_LUNG_T31</th><td>pubsce</td><td> 2977</td><td>1145</td><td>AAACCTGAGATGTCGG_LUNG_T31</td><td>LUNG_T31</td><td>7.1781363</td><td>15.739216</td><td>Epithelial cells</td><td>Epithelial cells</td><td>tS1               </td><td>⋯</td><td>G1 </td><td>LUNG_T31</td><td>-0.050294872</td><td>tS1               </td><td>Epithelial cells</td><td>12 </td><td>0.08457201</td><td>False</td><td>0.10922693</td><td>False</td></tr>\n",
       "\t<tr><th scope=row>AAACCTGAGCGCTTAT_LUNG_T19</th><td>pubsce</td><td> 4953</td><td>1470</td><td>AAACCTGAGCGCTTAT_LUNG_T19</td><td>LUNG_T19</td><td>4.8828510</td><td>18.921047</td><td>Myeloid cells   </td><td>Myeloid cells   </td><td>Monocytes         </td><td>⋯</td><td>G2M</td><td>LUNG_T19</td><td>-0.002484711</td><td>Monocytes         </td><td>Myeloid cells   </td><td>263</td><td>0.06500888</td><td>False</td><td>0.06798867</td><td>False</td></tr>\n",
       "</tbody>\n",
       "</table>\n"
      ],
      "text/latex": [
       "A data.frame: 6 × 28\n",
       "\\begin{tabular}{r|lllllllllllllllllllll}\n",
       "  & orig.ident & nCount\\_RNA & nFeature\\_RNA & Index & Sample & percent.mt & percent.rb & Cell\\_type & Cell\\_type.refined & Cell\\_subtype & ⋯ & Phase & old.ident & CC.Difference & Cell\\_subtype.unimodel & Cell\\_type.unimodel & UMAP\\_Clusters.harmony\\_overclustered & scrubletScore\\_default & scrublet\\_predict\\_default & scrubletScore\\_n30 & scrublet\\_predict\\_n30\\\\\n",
       "  & <chr> & <dbl> & <int> & <chr> & <chr> & <dbl> & <dbl> & <chr> & <chr> & <chr> & ⋯ & <chr> & <fct> & <dbl> & <chr> & <chr> & <fct> & <dbl> & <chr> & <dbl> & <chr>\\\\\n",
       "\\hline\n",
       "\tAAACCTGAGACGACGT\\_LUNG\\_T09 & pubsce & 10526 & 2245 & AAACCTGAGACGACGT\\_LUNG\\_T09 & LUNG\\_T09 & 3.7753308 & 30.563524 & Myeloid cells    & Myeloid cells    & CD1c+ DCs          & ⋯ & G1  & LUNG\\_T09 & -0.025521688 & CD1c+ DCs          & Myeloid cells    & 428 & 0.25733634 & False & 0.27929901 & False\\\\\n",
       "\tAAACCTGAGACGACGT\\_LUNG\\_T34 & pubsce &  4413 & 1259 & AAACCTGAGACGACGT\\_LUNG\\_T34 & LUNG\\_T34 & 5.3472376 & 42.289771 & B lymphocytes    & B lymphocytes    & Follicular B cells & ⋯ & G2M & LUNG\\_T34 & -0.044121300 & Follicular B cells & B lymphocytes    & 363 & 0.05050505 & False & 0.06187625 & False\\\\\n",
       "\tAAACCTGAGACGCTTT\\_LUNG\\_T18 & pubsce &  5243 &  867 & AAACCTGAGACGCTTT\\_LUNG\\_T18 & LUNG\\_T18 & 0.1883594 &  1.130156 & Epithelial cells & Epithelial cells & tS2                & ⋯ & G1  & LUNG\\_T18 & -0.004011074 & tS2                & Epithelial cells & 454 & 0.06560636 & False & 0.05908944 & False\\\\\n",
       "\tAAACCTGAGATATGCA\\_LUNG\\_T25 & pubsce &  2608 &  950 & AAACCTGAGATATGCA\\_LUNG\\_T25 & LUNG\\_T25 & 4.9549550 & 33.108108 & T lymphocytes    & T/NK cells       & CD4+ Th            & ⋯ & G1  & LUNG\\_T25 &  0.027125065 & CD4+ Th            & T/NK cells       & 271 & 0.10521042 & False & 0.09739369 & False\\\\\n",
       "\tAAACCTGAGATGTCGG\\_LUNG\\_T31 & pubsce &  2977 & 1145 & AAACCTGAGATGTCGG\\_LUNG\\_T31 & LUNG\\_T31 & 7.1781363 & 15.739216 & Epithelial cells & Epithelial cells & tS1                & ⋯ & G1  & LUNG\\_T31 & -0.050294872 & tS1                & Epithelial cells & 12  & 0.08457201 & False & 0.10922693 & False\\\\\n",
       "\tAAACCTGAGCGCTTAT\\_LUNG\\_T19 & pubsce &  4953 & 1470 & AAACCTGAGCGCTTAT\\_LUNG\\_T19 & LUNG\\_T19 & 4.8828510 & 18.921047 & Myeloid cells    & Myeloid cells    & Monocytes          & ⋯ & G2M & LUNG\\_T19 & -0.002484711 & Monocytes          & Myeloid cells    & 263 & 0.06500888 & False & 0.06798867 & False\\\\\n",
       "\\end{tabular}\n"
      ],
      "text/markdown": [
       "\n",
       "A data.frame: 6 × 28\n",
       "\n",
       "| <!--/--> | orig.ident &lt;chr&gt; | nCount_RNA &lt;dbl&gt; | nFeature_RNA &lt;int&gt; | Index &lt;chr&gt; | Sample &lt;chr&gt; | percent.mt &lt;dbl&gt; | percent.rb &lt;dbl&gt; | Cell_type &lt;chr&gt; | Cell_type.refined &lt;chr&gt; | Cell_subtype &lt;chr&gt; | ⋯ ⋯ | Phase &lt;chr&gt; | old.ident &lt;fct&gt; | CC.Difference &lt;dbl&gt; | Cell_subtype.unimodel &lt;chr&gt; | Cell_type.unimodel &lt;chr&gt; | UMAP_Clusters.harmony_overclustered &lt;fct&gt; | scrubletScore_default &lt;dbl&gt; | scrublet_predict_default &lt;chr&gt; | scrubletScore_n30 &lt;dbl&gt; | scrublet_predict_n30 &lt;chr&gt; |\n",
       "|---|---|---|---|---|---|---|---|---|---|---|---|---|---|---|---|---|---|---|---|---|---|\n",
       "| AAACCTGAGACGACGT_LUNG_T09 | pubsce | 10526 | 2245 | AAACCTGAGACGACGT_LUNG_T09 | LUNG_T09 | 3.7753308 | 30.563524 | Myeloid cells    | Myeloid cells    | CD1c+ DCs          | ⋯ | G1  | LUNG_T09 | -0.025521688 | CD1c+ DCs          | Myeloid cells    | 428 | 0.25733634 | False | 0.27929901 | False |\n",
       "| AAACCTGAGACGACGT_LUNG_T34 | pubsce |  4413 | 1259 | AAACCTGAGACGACGT_LUNG_T34 | LUNG_T34 | 5.3472376 | 42.289771 | B lymphocytes    | B lymphocytes    | Follicular B cells | ⋯ | G2M | LUNG_T34 | -0.044121300 | Follicular B cells | B lymphocytes    | 363 | 0.05050505 | False | 0.06187625 | False |\n",
       "| AAACCTGAGACGCTTT_LUNG_T18 | pubsce |  5243 |  867 | AAACCTGAGACGCTTT_LUNG_T18 | LUNG_T18 | 0.1883594 |  1.130156 | Epithelial cells | Epithelial cells | tS2                | ⋯ | G1  | LUNG_T18 | -0.004011074 | tS2                | Epithelial cells | 454 | 0.06560636 | False | 0.05908944 | False |\n",
       "| AAACCTGAGATATGCA_LUNG_T25 | pubsce |  2608 |  950 | AAACCTGAGATATGCA_LUNG_T25 | LUNG_T25 | 4.9549550 | 33.108108 | T lymphocytes    | T/NK cells       | CD4+ Th            | ⋯ | G1  | LUNG_T25 |  0.027125065 | CD4+ Th            | T/NK cells       | 271 | 0.10521042 | False | 0.09739369 | False |\n",
       "| AAACCTGAGATGTCGG_LUNG_T31 | pubsce |  2977 | 1145 | AAACCTGAGATGTCGG_LUNG_T31 | LUNG_T31 | 7.1781363 | 15.739216 | Epithelial cells | Epithelial cells | tS1                | ⋯ | G1  | LUNG_T31 | -0.050294872 | tS1                | Epithelial cells | 12  | 0.08457201 | False | 0.10922693 | False |\n",
       "| AAACCTGAGCGCTTAT_LUNG_T19 | pubsce |  4953 | 1470 | AAACCTGAGCGCTTAT_LUNG_T19 | LUNG_T19 | 4.8828510 | 18.921047 | Myeloid cells    | Myeloid cells    | Monocytes          | ⋯ | G2M | LUNG_T19 | -0.002484711 | Monocytes          | Myeloid cells    | 263 | 0.06500888 | False | 0.06798867 | False |\n",
       "\n"
      ],
      "text/plain": [
       "                          orig.ident nCount_RNA nFeature_RNA\n",
       "AAACCTGAGACGACGT_LUNG_T09 pubsce     10526      2245        \n",
       "AAACCTGAGACGACGT_LUNG_T34 pubsce      4413      1259        \n",
       "AAACCTGAGACGCTTT_LUNG_T18 pubsce      5243       867        \n",
       "AAACCTGAGATATGCA_LUNG_T25 pubsce      2608       950        \n",
       "AAACCTGAGATGTCGG_LUNG_T31 pubsce      2977      1145        \n",
       "AAACCTGAGCGCTTAT_LUNG_T19 pubsce      4953      1470        \n",
       "                          Index                     Sample   percent.mt\n",
       "AAACCTGAGACGACGT_LUNG_T09 AAACCTGAGACGACGT_LUNG_T09 LUNG_T09 3.7753308 \n",
       "AAACCTGAGACGACGT_LUNG_T34 AAACCTGAGACGACGT_LUNG_T34 LUNG_T34 5.3472376 \n",
       "AAACCTGAGACGCTTT_LUNG_T18 AAACCTGAGACGCTTT_LUNG_T18 LUNG_T18 0.1883594 \n",
       "AAACCTGAGATATGCA_LUNG_T25 AAACCTGAGATATGCA_LUNG_T25 LUNG_T25 4.9549550 \n",
       "AAACCTGAGATGTCGG_LUNG_T31 AAACCTGAGATGTCGG_LUNG_T31 LUNG_T31 7.1781363 \n",
       "AAACCTGAGCGCTTAT_LUNG_T19 AAACCTGAGCGCTTAT_LUNG_T19 LUNG_T19 4.8828510 \n",
       "                          percent.rb Cell_type        Cell_type.refined\n",
       "AAACCTGAGACGACGT_LUNG_T09 30.563524  Myeloid cells    Myeloid cells    \n",
       "AAACCTGAGACGACGT_LUNG_T34 42.289771  B lymphocytes    B lymphocytes    \n",
       "AAACCTGAGACGCTTT_LUNG_T18  1.130156  Epithelial cells Epithelial cells \n",
       "AAACCTGAGATATGCA_LUNG_T25 33.108108  T lymphocytes    T/NK cells       \n",
       "AAACCTGAGATGTCGG_LUNG_T31 15.739216  Epithelial cells Epithelial cells \n",
       "AAACCTGAGCGCTTAT_LUNG_T19 18.921047  Myeloid cells    Myeloid cells    \n",
       "                          Cell_subtype       <U+22EF>   Phase old.ident\n",
       "AAACCTGAGACGACGT_LUNG_T09 CD1c+ DCs          <U+22EF> G1    LUNG_T09 \n",
       "AAACCTGAGACGACGT_LUNG_T34 Follicular B cells <U+22EF> G2M   LUNG_T34 \n",
       "AAACCTGAGACGCTTT_LUNG_T18 tS2                <U+22EF> G1    LUNG_T18 \n",
       "AAACCTGAGATATGCA_LUNG_T25 CD4+ Th            <U+22EF> G1    LUNG_T25 \n",
       "AAACCTGAGATGTCGG_LUNG_T31 tS1                <U+22EF> G1    LUNG_T31 \n",
       "AAACCTGAGCGCTTAT_LUNG_T19 Monocytes          <U+22EF> G2M   LUNG_T19 \n",
       "                          CC.Difference Cell_subtype.unimodel\n",
       "AAACCTGAGACGACGT_LUNG_T09 -0.025521688  CD1c+ DCs            \n",
       "AAACCTGAGACGACGT_LUNG_T34 -0.044121300  Follicular B cells   \n",
       "AAACCTGAGACGCTTT_LUNG_T18 -0.004011074  tS2                  \n",
       "AAACCTGAGATATGCA_LUNG_T25  0.027125065  CD4+ Th              \n",
       "AAACCTGAGATGTCGG_LUNG_T31 -0.050294872  tS1                  \n",
       "AAACCTGAGCGCTTAT_LUNG_T19 -0.002484711  Monocytes            \n",
       "                          Cell_type.unimodel\n",
       "AAACCTGAGACGACGT_LUNG_T09 Myeloid cells     \n",
       "AAACCTGAGACGACGT_LUNG_T34 B lymphocytes     \n",
       "AAACCTGAGACGCTTT_LUNG_T18 Epithelial cells  \n",
       "AAACCTGAGATATGCA_LUNG_T25 T/NK cells        \n",
       "AAACCTGAGATGTCGG_LUNG_T31 Epithelial cells  \n",
       "AAACCTGAGCGCTTAT_LUNG_T19 Myeloid cells     \n",
       "                          UMAP_Clusters.harmony_overclustered\n",
       "AAACCTGAGACGACGT_LUNG_T09 428                                \n",
       "AAACCTGAGACGACGT_LUNG_T34 363                                \n",
       "AAACCTGAGACGCTTT_LUNG_T18 454                                \n",
       "AAACCTGAGATATGCA_LUNG_T25 271                                \n",
       "AAACCTGAGATGTCGG_LUNG_T31 12                                 \n",
       "AAACCTGAGCGCTTAT_LUNG_T19 263                                \n",
       "                          scrubletScore_default scrublet_predict_default\n",
       "AAACCTGAGACGACGT_LUNG_T09 0.25733634            False                   \n",
       "AAACCTGAGACGACGT_LUNG_T34 0.05050505            False                   \n",
       "AAACCTGAGACGCTTT_LUNG_T18 0.06560636            False                   \n",
       "AAACCTGAGATATGCA_LUNG_T25 0.10521042            False                   \n",
       "AAACCTGAGATGTCGG_LUNG_T31 0.08457201            False                   \n",
       "AAACCTGAGCGCTTAT_LUNG_T19 0.06500888            False                   \n",
       "                          scrubletScore_n30 scrublet_predict_n30\n",
       "AAACCTGAGACGACGT_LUNG_T09 0.27929901        False               \n",
       "AAACCTGAGACGACGT_LUNG_T34 0.06187625        False               \n",
       "AAACCTGAGACGCTTT_LUNG_T18 0.05908944        False               \n",
       "AAACCTGAGATATGCA_LUNG_T25 0.09739369        False               \n",
       "AAACCTGAGATGTCGG_LUNG_T31 0.10922693        False               \n",
       "AAACCTGAGCGCTTAT_LUNG_T19 0.06798867        False               "
      ]
     },
     "metadata": {},
     "output_type": "display_data"
    }
   ],
   "source": [
    "head(sce@meta.data)"
   ]
  },
  {
   "cell_type": "code",
   "execution_count": 31,
   "id": "arctic-trail",
   "metadata": {
    "scrolled": false
   },
   "outputs": [
    {
     "data": {
      "text/html": [
       "<table class=\"dataframe\">\n",
       "<caption>A data.frame: 6 × 31</caption>\n",
       "<thead>\n",
       "\t<tr><th></th><th scope=col>orig_ident</th><th scope=col>nCount_RNA</th><th scope=col>nFeature_RNA</th><th scope=col>Index</th><th scope=col>Sample</th><th scope=col>percent_mt</th><th scope=col>percent_rb</th><th scope=col>Cell_type</th><th scope=col>Cell_type_refined</th><th scope=col>Cell_subtype</th><th scope=col>⋯</th><th scope=col>Cell_subtype_unimodel</th><th scope=col>Cell_type_unimodel</th><th scope=col>UMAP_Clusters_harmony_overclustered</th><th scope=col>scrubletScore_default</th><th scope=col>scrublet_predict_default</th><th scope=col>scrubletScore_n30</th><th scope=col>scrublet_predict_n30</th><th scope=col>louvain</th><th scope=col>louvain_cluster</th><th scope=col>Defined_Cell_Type</th></tr>\n",
       "\t<tr><th></th><th scope=col>&lt;chr&gt;</th><th scope=col>&lt;int&gt;</th><th scope=col>&lt;int&gt;</th><th scope=col>&lt;chr&gt;</th><th scope=col>&lt;chr&gt;</th><th scope=col>&lt;dbl&gt;</th><th scope=col>&lt;dbl&gt;</th><th scope=col>&lt;chr&gt;</th><th scope=col>&lt;chr&gt;</th><th scope=col>&lt;chr&gt;</th><th scope=col>⋯</th><th scope=col>&lt;chr&gt;</th><th scope=col>&lt;chr&gt;</th><th scope=col>&lt;int&gt;</th><th scope=col>&lt;dbl&gt;</th><th scope=col>&lt;chr&gt;</th><th scope=col>&lt;dbl&gt;</th><th scope=col>&lt;chr&gt;</th><th scope=col>&lt;int&gt;</th><th scope=col>&lt;int&gt;</th><th scope=col>&lt;chr&gt;</th></tr>\n",
       "</thead>\n",
       "<tbody>\n",
       "\t<tr><th scope=row>AAACCTGAGACGACGT_LUNG_T09</th><td>pubsce</td><td>10526</td><td>2245</td><td>AAACCTGAGACGACGT_LUNG_T09</td><td>LUNG_T09</td><td>3.7753308</td><td>30.563524</td><td>Myeloid cells   </td><td>Myeloid cells   </td><td>CD1c+ DCs         </td><td>⋯</td><td>CD1c+ DCs         </td><td>Myeloid cells   </td><td>428</td><td>0.25733634</td><td>False</td><td>0.27929901</td><td>False</td><td> 7</td><td> 7</td><td>Myeloid cells</td></tr>\n",
       "\t<tr><th scope=row>AAACCTGAGACGACGT_LUNG_T34</th><td>pubsce</td><td> 4413</td><td>1259</td><td>AAACCTGAGACGACGT_LUNG_T34</td><td>LUNG_T34</td><td>5.3472376</td><td>42.289771</td><td>B lymphocytes   </td><td>B lymphocytes   </td><td>Follicular B cells</td><td>⋯</td><td>Follicular B cells</td><td>B lymphocytes   </td><td>363</td><td>0.05050505</td><td>False</td><td>0.06187625</td><td>False</td><td> 5</td><td> 5</td><td>B cells      </td></tr>\n",
       "\t<tr><th scope=row>AAACCTGAGACGCTTT_LUNG_T18</th><td>pubsce</td><td> 5243</td><td> 867</td><td>AAACCTGAGACGCTTT_LUNG_T18</td><td>LUNG_T18</td><td>0.1883594</td><td> 1.130156</td><td>Epithelial cells</td><td>Epithelial cells</td><td>tS2               </td><td>⋯</td><td>tS2               </td><td>Epithelial cells</td><td>454</td><td>0.06560636</td><td>False</td><td>0.05908944</td><td>False</td><td> 1</td><td> 1</td><td>Epithelial   </td></tr>\n",
       "\t<tr><th scope=row>AAACCTGAGATATGCA_LUNG_T25</th><td>pubsce</td><td> 2608</td><td> 950</td><td>AAACCTGAGATATGCA_LUNG_T25</td><td>LUNG_T25</td><td>4.9549550</td><td>33.108108</td><td>T lymphocytes   </td><td>T/NK cells      </td><td>CD4+ Th           </td><td>⋯</td><td>CD4+ Th           </td><td>T/NK cells      </td><td>271</td><td>0.10521042</td><td>False</td><td>0.09739369</td><td>False</td><td> 0</td><td> 0</td><td>T cells      </td></tr>\n",
       "\t<tr><th scope=row>AAACCTGAGATGTCGG_LUNG_T31</th><td>pubsce</td><td> 2977</td><td>1145</td><td>AAACCTGAGATGTCGG_LUNG_T31</td><td>LUNG_T31</td><td>7.1781363</td><td>15.739216</td><td>Epithelial cells</td><td>Epithelial cells</td><td>tS1               </td><td>⋯</td><td>tS1               </td><td>Epithelial cells</td><td> 12</td><td>0.08457201</td><td>False</td><td>0.10922693</td><td>False</td><td>25</td><td>25</td><td>Epithelial   </td></tr>\n",
       "\t<tr><th scope=row>AAACCTGAGCGCTTAT_LUNG_T19</th><td>pubsce</td><td> 4953</td><td>1470</td><td>AAACCTGAGCGCTTAT_LUNG_T19</td><td>LUNG_T19</td><td>4.8828510</td><td>18.921047</td><td>Myeloid cells   </td><td>Myeloid cells   </td><td>Monocytes         </td><td>⋯</td><td>Monocytes         </td><td>Myeloid cells   </td><td>263</td><td>0.06500888</td><td>False</td><td>0.06798867</td><td>False</td><td>15</td><td>15</td><td>Myeloid cells</td></tr>\n",
       "</tbody>\n",
       "</table>\n"
      ],
      "text/latex": [
       "A data.frame: 6 × 31\n",
       "\\begin{tabular}{r|lllllllllllllllllllll}\n",
       "  & orig\\_ident & nCount\\_RNA & nFeature\\_RNA & Index & Sample & percent\\_mt & percent\\_rb & Cell\\_type & Cell\\_type\\_refined & Cell\\_subtype & ⋯ & Cell\\_subtype\\_unimodel & Cell\\_type\\_unimodel & UMAP\\_Clusters\\_harmony\\_overclustered & scrubletScore\\_default & scrublet\\_predict\\_default & scrubletScore\\_n30 & scrublet\\_predict\\_n30 & louvain & louvain\\_cluster & Defined\\_Cell\\_Type\\\\\n",
       "  & <chr> & <int> & <int> & <chr> & <chr> & <dbl> & <dbl> & <chr> & <chr> & <chr> & ⋯ & <chr> & <chr> & <int> & <dbl> & <chr> & <dbl> & <chr> & <int> & <int> & <chr>\\\\\n",
       "\\hline\n",
       "\tAAACCTGAGACGACGT\\_LUNG\\_T09 & pubsce & 10526 & 2245 & AAACCTGAGACGACGT\\_LUNG\\_T09 & LUNG\\_T09 & 3.7753308 & 30.563524 & Myeloid cells    & Myeloid cells    & CD1c+ DCs          & ⋯ & CD1c+ DCs          & Myeloid cells    & 428 & 0.25733634 & False & 0.27929901 & False &  7 &  7 & Myeloid cells\\\\\n",
       "\tAAACCTGAGACGACGT\\_LUNG\\_T34 & pubsce &  4413 & 1259 & AAACCTGAGACGACGT\\_LUNG\\_T34 & LUNG\\_T34 & 5.3472376 & 42.289771 & B lymphocytes    & B lymphocytes    & Follicular B cells & ⋯ & Follicular B cells & B lymphocytes    & 363 & 0.05050505 & False & 0.06187625 & False &  5 &  5 & B cells      \\\\\n",
       "\tAAACCTGAGACGCTTT\\_LUNG\\_T18 & pubsce &  5243 &  867 & AAACCTGAGACGCTTT\\_LUNG\\_T18 & LUNG\\_T18 & 0.1883594 &  1.130156 & Epithelial cells & Epithelial cells & tS2                & ⋯ & tS2                & Epithelial cells & 454 & 0.06560636 & False & 0.05908944 & False &  1 &  1 & Epithelial   \\\\\n",
       "\tAAACCTGAGATATGCA\\_LUNG\\_T25 & pubsce &  2608 &  950 & AAACCTGAGATATGCA\\_LUNG\\_T25 & LUNG\\_T25 & 4.9549550 & 33.108108 & T lymphocytes    & T/NK cells       & CD4+ Th            & ⋯ & CD4+ Th            & T/NK cells       & 271 & 0.10521042 & False & 0.09739369 & False &  0 &  0 & T cells      \\\\\n",
       "\tAAACCTGAGATGTCGG\\_LUNG\\_T31 & pubsce &  2977 & 1145 & AAACCTGAGATGTCGG\\_LUNG\\_T31 & LUNG\\_T31 & 7.1781363 & 15.739216 & Epithelial cells & Epithelial cells & tS1                & ⋯ & tS1                & Epithelial cells &  12 & 0.08457201 & False & 0.10922693 & False & 25 & 25 & Epithelial   \\\\\n",
       "\tAAACCTGAGCGCTTAT\\_LUNG\\_T19 & pubsce &  4953 & 1470 & AAACCTGAGCGCTTAT\\_LUNG\\_T19 & LUNG\\_T19 & 4.8828510 & 18.921047 & Myeloid cells    & Myeloid cells    & Monocytes          & ⋯ & Monocytes          & Myeloid cells    & 263 & 0.06500888 & False & 0.06798867 & False & 15 & 15 & Myeloid cells\\\\\n",
       "\\end{tabular}\n"
      ],
      "text/markdown": [
       "\n",
       "A data.frame: 6 × 31\n",
       "\n",
       "| <!--/--> | orig_ident &lt;chr&gt; | nCount_RNA &lt;int&gt; | nFeature_RNA &lt;int&gt; | Index &lt;chr&gt; | Sample &lt;chr&gt; | percent_mt &lt;dbl&gt; | percent_rb &lt;dbl&gt; | Cell_type &lt;chr&gt; | Cell_type_refined &lt;chr&gt; | Cell_subtype &lt;chr&gt; | ⋯ ⋯ | Cell_subtype_unimodel &lt;chr&gt; | Cell_type_unimodel &lt;chr&gt; | UMAP_Clusters_harmony_overclustered &lt;int&gt; | scrubletScore_default &lt;dbl&gt; | scrublet_predict_default &lt;chr&gt; | scrubletScore_n30 &lt;dbl&gt; | scrublet_predict_n30 &lt;chr&gt; | louvain &lt;int&gt; | louvain_cluster &lt;int&gt; | Defined_Cell_Type &lt;chr&gt; |\n",
       "|---|---|---|---|---|---|---|---|---|---|---|---|---|---|---|---|---|---|---|---|---|---|\n",
       "| AAACCTGAGACGACGT_LUNG_T09 | pubsce | 10526 | 2245 | AAACCTGAGACGACGT_LUNG_T09 | LUNG_T09 | 3.7753308 | 30.563524 | Myeloid cells    | Myeloid cells    | CD1c+ DCs          | ⋯ | CD1c+ DCs          | Myeloid cells    | 428 | 0.25733634 | False | 0.27929901 | False |  7 |  7 | Myeloid cells |\n",
       "| AAACCTGAGACGACGT_LUNG_T34 | pubsce |  4413 | 1259 | AAACCTGAGACGACGT_LUNG_T34 | LUNG_T34 | 5.3472376 | 42.289771 | B lymphocytes    | B lymphocytes    | Follicular B cells | ⋯ | Follicular B cells | B lymphocytes    | 363 | 0.05050505 | False | 0.06187625 | False |  5 |  5 | B cells       |\n",
       "| AAACCTGAGACGCTTT_LUNG_T18 | pubsce |  5243 |  867 | AAACCTGAGACGCTTT_LUNG_T18 | LUNG_T18 | 0.1883594 |  1.130156 | Epithelial cells | Epithelial cells | tS2                | ⋯ | tS2                | Epithelial cells | 454 | 0.06560636 | False | 0.05908944 | False |  1 |  1 | Epithelial    |\n",
       "| AAACCTGAGATATGCA_LUNG_T25 | pubsce |  2608 |  950 | AAACCTGAGATATGCA_LUNG_T25 | LUNG_T25 | 4.9549550 | 33.108108 | T lymphocytes    | T/NK cells       | CD4+ Th            | ⋯ | CD4+ Th            | T/NK cells       | 271 | 0.10521042 | False | 0.09739369 | False |  0 |  0 | T cells       |\n",
       "| AAACCTGAGATGTCGG_LUNG_T31 | pubsce |  2977 | 1145 | AAACCTGAGATGTCGG_LUNG_T31 | LUNG_T31 | 7.1781363 | 15.739216 | Epithelial cells | Epithelial cells | tS1                | ⋯ | tS1                | Epithelial cells |  12 | 0.08457201 | False | 0.10922693 | False | 25 | 25 | Epithelial    |\n",
       "| AAACCTGAGCGCTTAT_LUNG_T19 | pubsce |  4953 | 1470 | AAACCTGAGCGCTTAT_LUNG_T19 | LUNG_T19 | 4.8828510 | 18.921047 | Myeloid cells    | Myeloid cells    | Monocytes          | ⋯ | Monocytes          | Myeloid cells    | 263 | 0.06500888 | False | 0.06798867 | False | 15 | 15 | Myeloid cells |\n",
       "\n"
      ],
      "text/plain": [
       "                          orig_ident nCount_RNA nFeature_RNA\n",
       "AAACCTGAGACGACGT_LUNG_T09 pubsce     10526      2245        \n",
       "AAACCTGAGACGACGT_LUNG_T34 pubsce      4413      1259        \n",
       "AAACCTGAGACGCTTT_LUNG_T18 pubsce      5243       867        \n",
       "AAACCTGAGATATGCA_LUNG_T25 pubsce      2608       950        \n",
       "AAACCTGAGATGTCGG_LUNG_T31 pubsce      2977      1145        \n",
       "AAACCTGAGCGCTTAT_LUNG_T19 pubsce      4953      1470        \n",
       "                          Index                     Sample   percent_mt\n",
       "AAACCTGAGACGACGT_LUNG_T09 AAACCTGAGACGACGT_LUNG_T09 LUNG_T09 3.7753308 \n",
       "AAACCTGAGACGACGT_LUNG_T34 AAACCTGAGACGACGT_LUNG_T34 LUNG_T34 5.3472376 \n",
       "AAACCTGAGACGCTTT_LUNG_T18 AAACCTGAGACGCTTT_LUNG_T18 LUNG_T18 0.1883594 \n",
       "AAACCTGAGATATGCA_LUNG_T25 AAACCTGAGATATGCA_LUNG_T25 LUNG_T25 4.9549550 \n",
       "AAACCTGAGATGTCGG_LUNG_T31 AAACCTGAGATGTCGG_LUNG_T31 LUNG_T31 7.1781363 \n",
       "AAACCTGAGCGCTTAT_LUNG_T19 AAACCTGAGCGCTTAT_LUNG_T19 LUNG_T19 4.8828510 \n",
       "                          percent_rb Cell_type        Cell_type_refined\n",
       "AAACCTGAGACGACGT_LUNG_T09 30.563524  Myeloid cells    Myeloid cells    \n",
       "AAACCTGAGACGACGT_LUNG_T34 42.289771  B lymphocytes    B lymphocytes    \n",
       "AAACCTGAGACGCTTT_LUNG_T18  1.130156  Epithelial cells Epithelial cells \n",
       "AAACCTGAGATATGCA_LUNG_T25 33.108108  T lymphocytes    T/NK cells       \n",
       "AAACCTGAGATGTCGG_LUNG_T31 15.739216  Epithelial cells Epithelial cells \n",
       "AAACCTGAGCGCTTAT_LUNG_T19 18.921047  Myeloid cells    Myeloid cells    \n",
       "                          Cell_subtype       <U+22EF>   Cell_subtype_unimodel\n",
       "AAACCTGAGACGACGT_LUNG_T09 CD1c+ DCs          <U+22EF> CD1c+ DCs            \n",
       "AAACCTGAGACGACGT_LUNG_T34 Follicular B cells <U+22EF> Follicular B cells   \n",
       "AAACCTGAGACGCTTT_LUNG_T18 tS2                <U+22EF> tS2                  \n",
       "AAACCTGAGATATGCA_LUNG_T25 CD4+ Th            <U+22EF> CD4+ Th              \n",
       "AAACCTGAGATGTCGG_LUNG_T31 tS1                <U+22EF> tS1                  \n",
       "AAACCTGAGCGCTTAT_LUNG_T19 Monocytes          <U+22EF> Monocytes            \n",
       "                          Cell_type_unimodel\n",
       "AAACCTGAGACGACGT_LUNG_T09 Myeloid cells     \n",
       "AAACCTGAGACGACGT_LUNG_T34 B lymphocytes     \n",
       "AAACCTGAGACGCTTT_LUNG_T18 Epithelial cells  \n",
       "AAACCTGAGATATGCA_LUNG_T25 T/NK cells        \n",
       "AAACCTGAGATGTCGG_LUNG_T31 Epithelial cells  \n",
       "AAACCTGAGCGCTTAT_LUNG_T19 Myeloid cells     \n",
       "                          UMAP_Clusters_harmony_overclustered\n",
       "AAACCTGAGACGACGT_LUNG_T09 428                                \n",
       "AAACCTGAGACGACGT_LUNG_T34 363                                \n",
       "AAACCTGAGACGCTTT_LUNG_T18 454                                \n",
       "AAACCTGAGATATGCA_LUNG_T25 271                                \n",
       "AAACCTGAGATGTCGG_LUNG_T31  12                                \n",
       "AAACCTGAGCGCTTAT_LUNG_T19 263                                \n",
       "                          scrubletScore_default scrublet_predict_default\n",
       "AAACCTGAGACGACGT_LUNG_T09 0.25733634            False                   \n",
       "AAACCTGAGACGACGT_LUNG_T34 0.05050505            False                   \n",
       "AAACCTGAGACGCTTT_LUNG_T18 0.06560636            False                   \n",
       "AAACCTGAGATATGCA_LUNG_T25 0.10521042            False                   \n",
       "AAACCTGAGATGTCGG_LUNG_T31 0.08457201            False                   \n",
       "AAACCTGAGCGCTTAT_LUNG_T19 0.06500888            False                   \n",
       "                          scrubletScore_n30 scrublet_predict_n30 louvain\n",
       "AAACCTGAGACGACGT_LUNG_T09 0.27929901        False                 7     \n",
       "AAACCTGAGACGACGT_LUNG_T34 0.06187625        False                 5     \n",
       "AAACCTGAGACGCTTT_LUNG_T18 0.05908944        False                 1     \n",
       "AAACCTGAGATATGCA_LUNG_T25 0.09739369        False                 0     \n",
       "AAACCTGAGATGTCGG_LUNG_T31 0.10922693        False                25     \n",
       "AAACCTGAGCGCTTAT_LUNG_T19 0.06798867        False                15     \n",
       "                          louvain_cluster Defined_Cell_Type\n",
       "AAACCTGAGACGACGT_LUNG_T09  7              Myeloid cells    \n",
       "AAACCTGAGACGACGT_LUNG_T34  5              B cells          \n",
       "AAACCTGAGACGCTTT_LUNG_T18  1              Epithelial       \n",
       "AAACCTGAGATATGCA_LUNG_T25  0              T cells          \n",
       "AAACCTGAGATGTCGG_LUNG_T31 25              Epithelial       \n",
       "AAACCTGAGCGCTTAT_LUNG_T19 15              Myeloid cells    "
      ]
     },
     "metadata": {},
     "output_type": "display_data"
    }
   ],
   "source": [
    "head(metaobs)"
   ]
  },
  {
   "cell_type": "code",
   "execution_count": null,
   "id": "molecular-midnight",
   "metadata": {},
   "outputs": [],
   "source": [
    "metaobs=metaobs[rownames(sce@meta.data),]\n",
    "sce <- AddMetaData(\n",
    "  object = sce,\n",
    "  metadata = metaobs$Defined_Cell_Type,\n",
    "  col.name = 'Defined_Cell_Type'\n",
    ")"
   ]
  },
  {
   "cell_type": "code",
   "execution_count": 33,
   "id": "specialized-celebrity",
   "metadata": {},
   "outputs": [
    {
     "data": {
      "text/html": [
       "<table class=\"dataframe\">\n",
       "<caption>A data.frame: 6 × 29</caption>\n",
       "<thead>\n",
       "\t<tr><th></th><th scope=col>orig.ident</th><th scope=col>nCount_RNA</th><th scope=col>nFeature_RNA</th><th scope=col>Index</th><th scope=col>Sample</th><th scope=col>percent.mt</th><th scope=col>percent.rb</th><th scope=col>Cell_type</th><th scope=col>Cell_type.refined</th><th scope=col>Cell_subtype</th><th scope=col>⋯</th><th scope=col>old.ident</th><th scope=col>CC.Difference</th><th scope=col>Cell_subtype.unimodel</th><th scope=col>Cell_type.unimodel</th><th scope=col>UMAP_Clusters.harmony_overclustered</th><th scope=col>scrubletScore_default</th><th scope=col>scrublet_predict_default</th><th scope=col>scrubletScore_n30</th><th scope=col>scrublet_predict_n30</th><th scope=col>Defined_Cell_Type</th></tr>\n",
       "\t<tr><th></th><th scope=col>&lt;chr&gt;</th><th scope=col>&lt;dbl&gt;</th><th scope=col>&lt;int&gt;</th><th scope=col>&lt;chr&gt;</th><th scope=col>&lt;chr&gt;</th><th scope=col>&lt;dbl&gt;</th><th scope=col>&lt;dbl&gt;</th><th scope=col>&lt;chr&gt;</th><th scope=col>&lt;chr&gt;</th><th scope=col>&lt;chr&gt;</th><th scope=col>⋯</th><th scope=col>&lt;fct&gt;</th><th scope=col>&lt;dbl&gt;</th><th scope=col>&lt;chr&gt;</th><th scope=col>&lt;chr&gt;</th><th scope=col>&lt;fct&gt;</th><th scope=col>&lt;dbl&gt;</th><th scope=col>&lt;chr&gt;</th><th scope=col>&lt;dbl&gt;</th><th scope=col>&lt;chr&gt;</th><th scope=col>&lt;chr&gt;</th></tr>\n",
       "</thead>\n",
       "<tbody>\n",
       "\t<tr><th scope=row>AAACCTGAGACGACGT_LUNG_T09</th><td>pubsce</td><td>10526</td><td>2245</td><td>AAACCTGAGACGACGT_LUNG_T09</td><td>LUNG_T09</td><td>3.7753308</td><td>30.563524</td><td>Myeloid cells   </td><td>Myeloid cells   </td><td>CD1c+ DCs         </td><td>⋯</td><td>LUNG_T09</td><td>-0.025521688</td><td>CD1c+ DCs         </td><td>Myeloid cells   </td><td>428</td><td>0.25733634</td><td>False</td><td>0.27929901</td><td>False</td><td>Myeloid cells</td></tr>\n",
       "\t<tr><th scope=row>AAACCTGAGACGACGT_LUNG_T34</th><td>pubsce</td><td> 4413</td><td>1259</td><td>AAACCTGAGACGACGT_LUNG_T34</td><td>LUNG_T34</td><td>5.3472376</td><td>42.289771</td><td>B lymphocytes   </td><td>B lymphocytes   </td><td>Follicular B cells</td><td>⋯</td><td>LUNG_T34</td><td>-0.044121300</td><td>Follicular B cells</td><td>B lymphocytes   </td><td>363</td><td>0.05050505</td><td>False</td><td>0.06187625</td><td>False</td><td>B cells      </td></tr>\n",
       "\t<tr><th scope=row>AAACCTGAGACGCTTT_LUNG_T18</th><td>pubsce</td><td> 5243</td><td> 867</td><td>AAACCTGAGACGCTTT_LUNG_T18</td><td>LUNG_T18</td><td>0.1883594</td><td> 1.130156</td><td>Epithelial cells</td><td>Epithelial cells</td><td>tS2               </td><td>⋯</td><td>LUNG_T18</td><td>-0.004011074</td><td>tS2               </td><td>Epithelial cells</td><td>454</td><td>0.06560636</td><td>False</td><td>0.05908944</td><td>False</td><td>Epithelial   </td></tr>\n",
       "\t<tr><th scope=row>AAACCTGAGATATGCA_LUNG_T25</th><td>pubsce</td><td> 2608</td><td> 950</td><td>AAACCTGAGATATGCA_LUNG_T25</td><td>LUNG_T25</td><td>4.9549550</td><td>33.108108</td><td>T lymphocytes   </td><td>T/NK cells      </td><td>CD4+ Th           </td><td>⋯</td><td>LUNG_T25</td><td> 0.027125065</td><td>CD4+ Th           </td><td>T/NK cells      </td><td>271</td><td>0.10521042</td><td>False</td><td>0.09739369</td><td>False</td><td>T cells      </td></tr>\n",
       "\t<tr><th scope=row>AAACCTGAGATGTCGG_LUNG_T31</th><td>pubsce</td><td> 2977</td><td>1145</td><td>AAACCTGAGATGTCGG_LUNG_T31</td><td>LUNG_T31</td><td>7.1781363</td><td>15.739216</td><td>Epithelial cells</td><td>Epithelial cells</td><td>tS1               </td><td>⋯</td><td>LUNG_T31</td><td>-0.050294872</td><td>tS1               </td><td>Epithelial cells</td><td>12 </td><td>0.08457201</td><td>False</td><td>0.10922693</td><td>False</td><td>Epithelial   </td></tr>\n",
       "\t<tr><th scope=row>AAACCTGAGCGCTTAT_LUNG_T19</th><td>pubsce</td><td> 4953</td><td>1470</td><td>AAACCTGAGCGCTTAT_LUNG_T19</td><td>LUNG_T19</td><td>4.8828510</td><td>18.921047</td><td>Myeloid cells   </td><td>Myeloid cells   </td><td>Monocytes         </td><td>⋯</td><td>LUNG_T19</td><td>-0.002484711</td><td>Monocytes         </td><td>Myeloid cells   </td><td>263</td><td>0.06500888</td><td>False</td><td>0.06798867</td><td>False</td><td>Myeloid cells</td></tr>\n",
       "</tbody>\n",
       "</table>\n"
      ],
      "text/latex": [
       "A data.frame: 6 × 29\n",
       "\\begin{tabular}{r|lllllllllllllllllllll}\n",
       "  & orig.ident & nCount\\_RNA & nFeature\\_RNA & Index & Sample & percent.mt & percent.rb & Cell\\_type & Cell\\_type.refined & Cell\\_subtype & ⋯ & old.ident & CC.Difference & Cell\\_subtype.unimodel & Cell\\_type.unimodel & UMAP\\_Clusters.harmony\\_overclustered & scrubletScore\\_default & scrublet\\_predict\\_default & scrubletScore\\_n30 & scrublet\\_predict\\_n30 & Defined\\_Cell\\_Type\\\\\n",
       "  & <chr> & <dbl> & <int> & <chr> & <chr> & <dbl> & <dbl> & <chr> & <chr> & <chr> & ⋯ & <fct> & <dbl> & <chr> & <chr> & <fct> & <dbl> & <chr> & <dbl> & <chr> & <chr>\\\\\n",
       "\\hline\n",
       "\tAAACCTGAGACGACGT\\_LUNG\\_T09 & pubsce & 10526 & 2245 & AAACCTGAGACGACGT\\_LUNG\\_T09 & LUNG\\_T09 & 3.7753308 & 30.563524 & Myeloid cells    & Myeloid cells    & CD1c+ DCs          & ⋯ & LUNG\\_T09 & -0.025521688 & CD1c+ DCs          & Myeloid cells    & 428 & 0.25733634 & False & 0.27929901 & False & Myeloid cells\\\\\n",
       "\tAAACCTGAGACGACGT\\_LUNG\\_T34 & pubsce &  4413 & 1259 & AAACCTGAGACGACGT\\_LUNG\\_T34 & LUNG\\_T34 & 5.3472376 & 42.289771 & B lymphocytes    & B lymphocytes    & Follicular B cells & ⋯ & LUNG\\_T34 & -0.044121300 & Follicular B cells & B lymphocytes    & 363 & 0.05050505 & False & 0.06187625 & False & B cells      \\\\\n",
       "\tAAACCTGAGACGCTTT\\_LUNG\\_T18 & pubsce &  5243 &  867 & AAACCTGAGACGCTTT\\_LUNG\\_T18 & LUNG\\_T18 & 0.1883594 &  1.130156 & Epithelial cells & Epithelial cells & tS2                & ⋯ & LUNG\\_T18 & -0.004011074 & tS2                & Epithelial cells & 454 & 0.06560636 & False & 0.05908944 & False & Epithelial   \\\\\n",
       "\tAAACCTGAGATATGCA\\_LUNG\\_T25 & pubsce &  2608 &  950 & AAACCTGAGATATGCA\\_LUNG\\_T25 & LUNG\\_T25 & 4.9549550 & 33.108108 & T lymphocytes    & T/NK cells       & CD4+ Th            & ⋯ & LUNG\\_T25 &  0.027125065 & CD4+ Th            & T/NK cells       & 271 & 0.10521042 & False & 0.09739369 & False & T cells      \\\\\n",
       "\tAAACCTGAGATGTCGG\\_LUNG\\_T31 & pubsce &  2977 & 1145 & AAACCTGAGATGTCGG\\_LUNG\\_T31 & LUNG\\_T31 & 7.1781363 & 15.739216 & Epithelial cells & Epithelial cells & tS1                & ⋯ & LUNG\\_T31 & -0.050294872 & tS1                & Epithelial cells & 12  & 0.08457201 & False & 0.10922693 & False & Epithelial   \\\\\n",
       "\tAAACCTGAGCGCTTAT\\_LUNG\\_T19 & pubsce &  4953 & 1470 & AAACCTGAGCGCTTAT\\_LUNG\\_T19 & LUNG\\_T19 & 4.8828510 & 18.921047 & Myeloid cells    & Myeloid cells    & Monocytes          & ⋯ & LUNG\\_T19 & -0.002484711 & Monocytes          & Myeloid cells    & 263 & 0.06500888 & False & 0.06798867 & False & Myeloid cells\\\\\n",
       "\\end{tabular}\n"
      ],
      "text/markdown": [
       "\n",
       "A data.frame: 6 × 29\n",
       "\n",
       "| <!--/--> | orig.ident &lt;chr&gt; | nCount_RNA &lt;dbl&gt; | nFeature_RNA &lt;int&gt; | Index &lt;chr&gt; | Sample &lt;chr&gt; | percent.mt &lt;dbl&gt; | percent.rb &lt;dbl&gt; | Cell_type &lt;chr&gt; | Cell_type.refined &lt;chr&gt; | Cell_subtype &lt;chr&gt; | ⋯ ⋯ | old.ident &lt;fct&gt; | CC.Difference &lt;dbl&gt; | Cell_subtype.unimodel &lt;chr&gt; | Cell_type.unimodel &lt;chr&gt; | UMAP_Clusters.harmony_overclustered &lt;fct&gt; | scrubletScore_default &lt;dbl&gt; | scrublet_predict_default &lt;chr&gt; | scrubletScore_n30 &lt;dbl&gt; | scrublet_predict_n30 &lt;chr&gt; | Defined_Cell_Type &lt;chr&gt; |\n",
       "|---|---|---|---|---|---|---|---|---|---|---|---|---|---|---|---|---|---|---|---|---|---|\n",
       "| AAACCTGAGACGACGT_LUNG_T09 | pubsce | 10526 | 2245 | AAACCTGAGACGACGT_LUNG_T09 | LUNG_T09 | 3.7753308 | 30.563524 | Myeloid cells    | Myeloid cells    | CD1c+ DCs          | ⋯ | LUNG_T09 | -0.025521688 | CD1c+ DCs          | Myeloid cells    | 428 | 0.25733634 | False | 0.27929901 | False | Myeloid cells |\n",
       "| AAACCTGAGACGACGT_LUNG_T34 | pubsce |  4413 | 1259 | AAACCTGAGACGACGT_LUNG_T34 | LUNG_T34 | 5.3472376 | 42.289771 | B lymphocytes    | B lymphocytes    | Follicular B cells | ⋯ | LUNG_T34 | -0.044121300 | Follicular B cells | B lymphocytes    | 363 | 0.05050505 | False | 0.06187625 | False | B cells       |\n",
       "| AAACCTGAGACGCTTT_LUNG_T18 | pubsce |  5243 |  867 | AAACCTGAGACGCTTT_LUNG_T18 | LUNG_T18 | 0.1883594 |  1.130156 | Epithelial cells | Epithelial cells | tS2                | ⋯ | LUNG_T18 | -0.004011074 | tS2                | Epithelial cells | 454 | 0.06560636 | False | 0.05908944 | False | Epithelial    |\n",
       "| AAACCTGAGATATGCA_LUNG_T25 | pubsce |  2608 |  950 | AAACCTGAGATATGCA_LUNG_T25 | LUNG_T25 | 4.9549550 | 33.108108 | T lymphocytes    | T/NK cells       | CD4+ Th            | ⋯ | LUNG_T25 |  0.027125065 | CD4+ Th            | T/NK cells       | 271 | 0.10521042 | False | 0.09739369 | False | T cells       |\n",
       "| AAACCTGAGATGTCGG_LUNG_T31 | pubsce |  2977 | 1145 | AAACCTGAGATGTCGG_LUNG_T31 | LUNG_T31 | 7.1781363 | 15.739216 | Epithelial cells | Epithelial cells | tS1                | ⋯ | LUNG_T31 | -0.050294872 | tS1                | Epithelial cells | 12  | 0.08457201 | False | 0.10922693 | False | Epithelial    |\n",
       "| AAACCTGAGCGCTTAT_LUNG_T19 | pubsce |  4953 | 1470 | AAACCTGAGCGCTTAT_LUNG_T19 | LUNG_T19 | 4.8828510 | 18.921047 | Myeloid cells    | Myeloid cells    | Monocytes          | ⋯ | LUNG_T19 | -0.002484711 | Monocytes          | Myeloid cells    | 263 | 0.06500888 | False | 0.06798867 | False | Myeloid cells |\n",
       "\n"
      ],
      "text/plain": [
       "                          orig.ident nCount_RNA nFeature_RNA\n",
       "AAACCTGAGACGACGT_LUNG_T09 pubsce     10526      2245        \n",
       "AAACCTGAGACGACGT_LUNG_T34 pubsce      4413      1259        \n",
       "AAACCTGAGACGCTTT_LUNG_T18 pubsce      5243       867        \n",
       "AAACCTGAGATATGCA_LUNG_T25 pubsce      2608       950        \n",
       "AAACCTGAGATGTCGG_LUNG_T31 pubsce      2977      1145        \n",
       "AAACCTGAGCGCTTAT_LUNG_T19 pubsce      4953      1470        \n",
       "                          Index                     Sample   percent.mt\n",
       "AAACCTGAGACGACGT_LUNG_T09 AAACCTGAGACGACGT_LUNG_T09 LUNG_T09 3.7753308 \n",
       "AAACCTGAGACGACGT_LUNG_T34 AAACCTGAGACGACGT_LUNG_T34 LUNG_T34 5.3472376 \n",
       "AAACCTGAGACGCTTT_LUNG_T18 AAACCTGAGACGCTTT_LUNG_T18 LUNG_T18 0.1883594 \n",
       "AAACCTGAGATATGCA_LUNG_T25 AAACCTGAGATATGCA_LUNG_T25 LUNG_T25 4.9549550 \n",
       "AAACCTGAGATGTCGG_LUNG_T31 AAACCTGAGATGTCGG_LUNG_T31 LUNG_T31 7.1781363 \n",
       "AAACCTGAGCGCTTAT_LUNG_T19 AAACCTGAGCGCTTAT_LUNG_T19 LUNG_T19 4.8828510 \n",
       "                          percent.rb Cell_type        Cell_type.refined\n",
       "AAACCTGAGACGACGT_LUNG_T09 30.563524  Myeloid cells    Myeloid cells    \n",
       "AAACCTGAGACGACGT_LUNG_T34 42.289771  B lymphocytes    B lymphocytes    \n",
       "AAACCTGAGACGCTTT_LUNG_T18  1.130156  Epithelial cells Epithelial cells \n",
       "AAACCTGAGATATGCA_LUNG_T25 33.108108  T lymphocytes    T/NK cells       \n",
       "AAACCTGAGATGTCGG_LUNG_T31 15.739216  Epithelial cells Epithelial cells \n",
       "AAACCTGAGCGCTTAT_LUNG_T19 18.921047  Myeloid cells    Myeloid cells    \n",
       "                          Cell_subtype       <U+22EF>   old.ident CC.Difference\n",
       "AAACCTGAGACGACGT_LUNG_T09 CD1c+ DCs          <U+22EF> LUNG_T09  -0.025521688 \n",
       "AAACCTGAGACGACGT_LUNG_T34 Follicular B cells <U+22EF> LUNG_T34  -0.044121300 \n",
       "AAACCTGAGACGCTTT_LUNG_T18 tS2                <U+22EF> LUNG_T18  -0.004011074 \n",
       "AAACCTGAGATATGCA_LUNG_T25 CD4+ Th            <U+22EF> LUNG_T25   0.027125065 \n",
       "AAACCTGAGATGTCGG_LUNG_T31 tS1                <U+22EF> LUNG_T31  -0.050294872 \n",
       "AAACCTGAGCGCTTAT_LUNG_T19 Monocytes          <U+22EF> LUNG_T19  -0.002484711 \n",
       "                          Cell_subtype.unimodel Cell_type.unimodel\n",
       "AAACCTGAGACGACGT_LUNG_T09 CD1c+ DCs             Myeloid cells     \n",
       "AAACCTGAGACGACGT_LUNG_T34 Follicular B cells    B lymphocytes     \n",
       "AAACCTGAGACGCTTT_LUNG_T18 tS2                   Epithelial cells  \n",
       "AAACCTGAGATATGCA_LUNG_T25 CD4+ Th               T/NK cells        \n",
       "AAACCTGAGATGTCGG_LUNG_T31 tS1                   Epithelial cells  \n",
       "AAACCTGAGCGCTTAT_LUNG_T19 Monocytes             Myeloid cells     \n",
       "                          UMAP_Clusters.harmony_overclustered\n",
       "AAACCTGAGACGACGT_LUNG_T09 428                                \n",
       "AAACCTGAGACGACGT_LUNG_T34 363                                \n",
       "AAACCTGAGACGCTTT_LUNG_T18 454                                \n",
       "AAACCTGAGATATGCA_LUNG_T25 271                                \n",
       "AAACCTGAGATGTCGG_LUNG_T31 12                                 \n",
       "AAACCTGAGCGCTTAT_LUNG_T19 263                                \n",
       "                          scrubletScore_default scrublet_predict_default\n",
       "AAACCTGAGACGACGT_LUNG_T09 0.25733634            False                   \n",
       "AAACCTGAGACGACGT_LUNG_T34 0.05050505            False                   \n",
       "AAACCTGAGACGCTTT_LUNG_T18 0.06560636            False                   \n",
       "AAACCTGAGATATGCA_LUNG_T25 0.10521042            False                   \n",
       "AAACCTGAGATGTCGG_LUNG_T31 0.08457201            False                   \n",
       "AAACCTGAGCGCTTAT_LUNG_T19 0.06500888            False                   \n",
       "                          scrubletScore_n30 scrublet_predict_n30\n",
       "AAACCTGAGACGACGT_LUNG_T09 0.27929901        False               \n",
       "AAACCTGAGACGACGT_LUNG_T34 0.06187625        False               \n",
       "AAACCTGAGACGCTTT_LUNG_T18 0.05908944        False               \n",
       "AAACCTGAGATATGCA_LUNG_T25 0.09739369        False               \n",
       "AAACCTGAGATGTCGG_LUNG_T31 0.10922693        False               \n",
       "AAACCTGAGCGCTTAT_LUNG_T19 0.06798867        False               \n",
       "                          Defined_Cell_Type\n",
       "AAACCTGAGACGACGT_LUNG_T09 Myeloid cells    \n",
       "AAACCTGAGACGACGT_LUNG_T34 B cells          \n",
       "AAACCTGAGACGCTTT_LUNG_T18 Epithelial       \n",
       "AAACCTGAGATATGCA_LUNG_T25 T cells          \n",
       "AAACCTGAGATGTCGG_LUNG_T31 Epithelial       \n",
       "AAACCTGAGCGCTTAT_LUNG_T19 Myeloid cells    "
      ]
     },
     "metadata": {},
     "output_type": "display_data"
    }
   ],
   "source": [
    "head(sce@meta.data)"
   ]
  },
  {
   "cell_type": "code",
   "execution_count": 34,
   "id": "verified-brunei",
   "metadata": {},
   "outputs": [],
   "source": [
    "scesingleE <- as.SingleCellExperiment(sce)"
   ]
  },
  {
   "cell_type": "code",
   "execution_count": 35,
   "id": "abandoned-context",
   "metadata": {
    "scrolled": true
   },
   "outputs": [
    {
     "data": {
      "text/plain": [
       "class: SingleCellExperiment \n",
       "dim: 20532 58031 \n",
       "metadata(0):\n",
       "assays(2): counts logcounts\n",
       "rownames(20532): A1BG A1BG-AS1 ... ZYX ZZEF1\n",
       "rowData names(5): vst.mean vst.variance vst.variance.expected\n",
       "  vst.variance.standardized vst.variable\n",
       "colnames(58031): AAACCTGAGACGACGT_LUNG_T09 AAACCTGAGACGACGT_LUNG_T34\n",
       "  ... TTTGTCATCGGTTCGG-1-7 TTTGTCATCTGATACG-1-7\n",
       "colData names(30): orig.ident nCount_RNA ... Defined_Cell_Type ident\n",
       "reducedDimNames(0):\n",
       "altExpNames(0):"
      ]
     },
     "metadata": {},
     "output_type": "display_data"
    }
   ],
   "source": [
    "scesingleE"
   ]
  },
  {
   "cell_type": "code",
   "execution_count": 36,
   "id": "tender-shepherd",
   "metadata": {},
   "outputs": [],
   "source": [
    "outDir <- file.path(\"output2_step2.5.3.filter_junk_scanpy_pipeline/data_Epithelial\")\n",
    "if(!dir.exists(outDir)) dir.create(outDir,recursive=TRUE)"
   ]
  },
  {
   "cell_type": "code",
   "execution_count": 37,
   "id": "expanded-night",
   "metadata": {},
   "outputs": [],
   "source": [
    "save(scesingleE, file=paste0(outDir, '/singleexperiment.object.all.cells.RData'))"
   ]
  },
  {
   "cell_type": "code",
   "execution_count": null,
   "id": "automotive-replacement",
   "metadata": {},
   "outputs": [],
   "source": []
  }
 ],
 "metadata": {
  "kernelspec": {
   "display_name": "R.4.0.3",
   "language": "R",
   "name": "ir"
  },
  "language_info": {
   "codemirror_mode": "r",
   "file_extension": ".r",
   "mimetype": "text/x-r-source",
   "name": "R",
   "pygments_lexer": "r",
   "version": "4.0.3"
  }
 },
 "nbformat": 4,
 "nbformat_minor": 5
}
